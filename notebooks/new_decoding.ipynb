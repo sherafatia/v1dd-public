{
 "cells": [
  {
   "cell_type": "markdown",
   "id": "c14adf94",
   "metadata": {},
   "source": [
    "## some new decoding analyses... "
   ]
  },
  {
   "cell_type": "markdown",
   "id": "afecbdab",
   "metadata": {},
   "source": [
    "### 1. if the same subset of images in NS1 can be decoded if train/test is just NS1"
   ]
  },
  {
   "cell_type": "markdown",
   "id": "9d90f471",
   "metadata": {},
   "source": [
    "### 2. if the first 20% of trials in NS2 is decodable"
   ]
  },
  {
   "cell_type": "markdown",
   "id": "73f75d82",
   "metadata": {},
   "source": [
    "### 3. if \"time\" or trial number is decodable from NS2"
   ]
  },
  {
   "cell_type": "code",
   "execution_count": 2,
   "id": "2ae30713",
   "metadata": {},
   "outputs": [],
   "source": [
    "import sys, os\n",
    "sys.path.insert(0, '/home/naomi/Desktop/code/v1dd-public/analysis-runner')\n",
    "import run_decoding\n",
    "from allen_v1dd.client import OPhysClient\n",
    "from pathlib import Path\n",
    "import matplotlib.pyplot as plt\n",
    "import numpy as np\n",
    "from v1dd_public import ARTIFACT_DIR\n",
    "from sklearn.model_selection import train_test_split, GridSearchCV\n",
    "from sklearn.neighbors import KNeighborsClassifier\n",
    "from sklearn import metrics\n",
    "import seaborn as sns"
   ]
  },
  {
   "cell_type": "code",
   "execution_count": 13,
   "id": "42b83782",
   "metadata": {},
   "outputs": [
    {
     "data": {
      "text/plain": [
       "array([  0,   1,   2,   3,   4,   5,   6,   7,   8,   9,  10,  11,  12,\n",
       "        13,  14,  15,  16,  17,  18,  19,  20,  21,  22,  23,  24,  25,\n",
       "        26,  27,  28,  29,  30,  31,  32,  33,  34,  35,  36,  37,  38,\n",
       "        39,  40,  41,  42,  43,  44,  45,  46,  47,  48,  49,  50,  51,\n",
       "        52,  53,  54,  55,  56,  57,  58,  59,  60,  61,  62,  63,  64,\n",
       "        65,  66,  67,  68,  69,  70,  71,  72,  73,  74,  75,  76,  77,\n",
       "        78,  79,  80,  81,  82,  83,  84,  85,  86,  87,  88,  89,  90,\n",
       "        91,  92,  93,  94,  95,  96,  97,  98,  99, 100, 101, 102, 103,\n",
       "       104, 105, 106, 107, 108, 109, 110, 111, 112, 113, 114, 115, 116,\n",
       "       117, 118, 119, 120, 121, 122, 123, 124, 125, 126, 127, 128, 129,\n",
       "       130, 131, 132, 133, 134, 135, 136, 137, 138, 139, 140, 141, 142,\n",
       "       143, 144, 145, 146, 147, 148, 149, 150, 151, 152, 153, 154, 155,\n",
       "       156, 157, 158, 159, 160, 161, 162, 163, 164, 165, 166, 167, 168,\n",
       "       169, 170, 171, 172, 173, 174, 175, 176, 177, 178, 179, 180, 181,\n",
       "       182, 183, 184, 185, 186, 187, 188, 189, 190, 191, 192, 193, 194,\n",
       "       195, 196, 197, 198, 199, 200, 201, 202, 203, 204, 205, 206, 207,\n",
       "       208, 209, 210, 211, 212, 213, 214, 215, 216, 217, 218, 219, 220,\n",
       "       221, 222, 223, 224, 225, 226, 227, 228, 229, 230, 231, 232, 233,\n",
       "       234, 235, 236, 237, 238, 239, 240, 241, 242, 243, 244, 245, 246,\n",
       "       247, 248, 249, 250, 251, 252, 253, 254, 255, 256, 257, 258, 259,\n",
       "       260, 261, 262, 263, 264, 265, 266, 267, 268, 269, 270, 271, 272,\n",
       "       273, 274, 275, 276, 277, 278, 279, 280, 281, 282, 283, 284, 285,\n",
       "       286, 287, 288, 289, 290, 291, 292, 293, 294, 295, 296, 297, 298,\n",
       "       299, 300, 301, 302, 303, 304, 305, 306, 307, 308, 309, 310, 311,\n",
       "       312, 313, 314, 315, 316, 317, 318, 319, 320, 321, 322, 323, 324,\n",
       "       325, 326, 327, 328, 329, 330, 331, 332, 333, 334, 335, 336, 337,\n",
       "       338, 339, 340, 341, 342, 343, 344, 345, 346, 347, 348, 349, 350,\n",
       "       351, 352, 353, 354, 355, 356, 357, 358, 359, 360, 361, 362, 363,\n",
       "       364, 365, 366, 367, 368, 369, 370, 371, 372, 373, 374, 375, 376,\n",
       "       377, 378, 379, 380, 381, 382, 383, 384, 385, 386, 387, 388, 389,\n",
       "       390, 391, 392, 393, 394, 395, 396, 397, 398, 399, 400, 401, 402,\n",
       "       403, 404, 405, 406, 407, 408, 409, 410, 411, 412, 413, 414, 415,\n",
       "       416, 417, 418, 419, 420, 421, 422, 423, 424, 425, 426, 427, 428,\n",
       "       429, 430, 431, 432, 433, 434, 435, 436, 437, 438, 439, 440, 441,\n",
       "       442, 443, 444, 445, 446, 447, 448, 449, 450, 451, 452, 453, 454,\n",
       "       455, 456, 457, 458, 459, 460, 461, 462, 463, 464, 465, 466, 467,\n",
       "       468, 469, 470, 471, 472, 473, 474, 475, 476, 477, 478, 479])"
      ]
     },
     "execution_count": 13,
     "metadata": {},
     "output_type": "execute_result"
    }
   ],
   "source": [
    "stim_table.index.values"
   ]
  },
  {
   "cell_type": "code",
   "execution_count": 23,
   "id": "3ad056fa",
   "metadata": {},
   "outputs": [
    {
     "data": {
      "text/plain": [
       "118.0"
      ]
     },
     "execution_count": 23,
     "metadata": {},
     "output_type": "execute_result"
    }
   ],
   "source": [
    "944 / 8"
   ]
  },
  {
   "cell_type": "code",
   "execution_count": 61,
   "id": "9b158c9f",
   "metadata": {},
   "outputs": [
    {
     "name": "stdout",
     "output_type": "stream",
     "text": [
      "HIGH PERFORMANCE EXAMPLE\n",
      "Training accuracy: 1.0\n",
      "Test accuracy: 0.4270833333333333\n"
     ]
    }
   ],
   "source": [
    "# Set up the client and load the session\n",
    "mouse_id = 'M427836'\n",
    "col_vol_str = '25'\n",
    "plane = 6\n",
    "plane_name = f\"Plane_{plane}\"\n",
    "\n",
    "DATA_DIR = Path(\"/home/naomi/Desktop/data/V1dd_nwbs/\")\n",
    "assert DATA_DIR.exists()\n",
    "DATA_DIR.resolve()\n",
    "client =  OPhysClient(DATA_DIR)\n",
    "session = client.load_ophys_session(f\"{mouse_id}_{col_vol_str}\")\n",
    "\n",
    "# Get the X and Y data for decoding -- x_data is the dff traces and y_data is the stimulus direction\n",
    "x_data = run_decoding.get_X_data(session, plane, \"natural_images_12\") # T x N\n",
    "\n",
    "stim_table, _ = session.get_stimulus_table(\"natural_images_12\")\n",
    "num_splits = 4\n",
    "assert len(stim_table) % num_splits == 0, \"Number of trials must be divisible by num_splits\"\n",
    "y_data = np.array(list(range(1, num_splits + 1))).repeat(int(len(stim_table) / num_splits)) ## essentially bin trials into start (0), middle (1), end (2) of the time\n",
    "\n",
    "# Split the data into training and testing sets\n",
    "x_train, x_test, y_train, y_test = train_test_split(x_data, y_data, test_size=0.2, random_state=42, stratify=y_data)\n",
    "\n",
    "# Perform k-NN classification with hyperparameter tuning\n",
    "param_grid = {'n_neighbors': list(range(1, 30))}\n",
    "knn = KNeighborsClassifier(metric='correlation')\n",
    "grid_search = GridSearchCV(knn, param_grid, cv=5, scoring='accuracy')\n",
    "grid_search.fit(x_train, y_train)\n",
    "best_k_HIGH = grid_search.best_params_['n_neighbors']\n",
    "\n",
    "# Fit the best model\n",
    "knn = KNeighborsClassifier(n_neighbors=best_k_HIGH, metric='correlation')\n",
    "knn.fit(x_train, y_train)\n",
    "\n",
    "# Predict on training and test data\n",
    "y_pred_train = knn.predict(x_train)\n",
    "y_pred_test = knn.predict(x_test)\n",
    "\n",
    "# Calculate accuracy\n",
    "print('HIGH PERFORMANCE EXAMPLE')\n",
    "print(f\"Training accuracy: {metrics.accuracy_score(y_train, y_pred_train)}\")\n",
    "print(f\"Test accuracy: {metrics.accuracy_score(y_test, y_pred_test)}\")"
   ]
  },
  {
   "cell_type": "code",
   "execution_count": 62,
   "id": "ac48aedd",
   "metadata": {},
   "outputs": [
    {
     "data": {
      "text/plain": [
       "Text(0.5, 1.0, 'Confusion Matrix for Natural Images Decoding')"
      ]
     },
     "execution_count": 62,
     "metadata": {},
     "output_type": "execute_result"
    },
    {
     "data": {
      "image/png": "[encoded data removed]",
      "text/plain": [
       "<Figure size 800x600 with 2 Axes>"
      ]
     },
     "metadata": {},
     "output_type": "display_data"
    }
   ],
   "source": [
    "## confusion matrix\n",
    "cm = metrics.confusion_matrix(y_test, y_pred_test)\n",
    "plt.figure(figsize=(8, 6))\n",
    "sns.heatmap(cm, annot=True, fmt='d', cmap='Blues', xticklabels=range(1, num_splits+1), yticklabels=range(1, num_splits+1))\n",
    "plt.xlabel('Predicted')\n",
    "plt.ylabel('True')\n",
    "plt.title('Confusion Matrix for Natural Images Decoding')"
   ]
  },
  {
   "cell_type": "code",
   "execution_count": null,
   "id": "30ef765f",
   "metadata": {},
   "outputs": [],
   "source": []
  },
  {
   "cell_type": "code",
   "execution_count": null,
   "id": "eb7e2b2d",
   "metadata": {},
   "outputs": [],
   "source": []
  }
 ],
 "metadata": {
  "kernelspec": {
   "display_name": "v1dd-public-2",
   "language": "python",
   "name": "python3"
  },
  "language_info": {
   "codemirror_mode": {
    "name": "ipython",
    "version": 3
   },
   "file_extension": ".py",
   "mimetype": "text/x-python",
   "name": "python",
   "nbconvert_exporter": "python",
   "pygments_lexer": "ipython3",
   "version": "3.10.16"
  }
 },
 "nbformat": 4,
 "nbformat_minor": 5
}
