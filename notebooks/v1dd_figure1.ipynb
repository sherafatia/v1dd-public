{
 "cells": [
  {
   "cell_type": "markdown",
   "id": "989220fa",
   "metadata": {},
   "source": [
    "### V1DD Figure 1"
   ]
  },
  {
   "cell_type": "code",
   "execution_count": 1,
   "id": "629297f3",
   "metadata": {},
   "outputs": [],
   "source": [
    "from v1dd_public import ARTIFACT_DIR\n",
    "import pandas as pd\n",
    "import matplotlib.pyplot as plt\n",
    "from matplotlib import transforms\n",
    "import numpy as np\n",
    "from pathlib import Path\n",
    "from allen_v1dd.client import OPhysClient"
   ]
  },
  {
   "cell_type": "code",
   "execution_count": null,
   "id": "c9359677",
   "metadata": {},
   "outputs": [],
   "source": [
    "mice = ['slc2', 'slc4', 'slc5', 'teto1']\n",
    "mouse_ids = [\"M409828\", \"M416296\", \"M427836\", \"M438833\"]\n",
    "color = ['red', 'blue', 'orange', 'green']\n",
    "all_z = [50, 66, 82, 98, 114, 130, 146, 162, 178, 194, 210, 226, 242, 258, 274, 290, 306, 322, 338, 354, 370, \\\n",
    "    386, 402, 418, 434, 450, 466, 482, 498, 514, 500, 525, 550, 575, 600, 625, 650, 675, 700, 725]"
   ]
  },
  {
   "cell_type": "markdown",
   "id": "3795f449",
   "metadata": {},
   "source": [
    "#### Load and preprocess the data"
   ]
  },
  {
   "cell_type": "code",
   "execution_count": null,
   "id": "0e121670",
   "metadata": {},
   "outputs": [],
   "source": [
    "csv_tag = \"_240508\"\n",
    "\n",
    "def load_and_preprocess(file_name, mouse_id):\n",
    "    df = pd.read_csv(ARTIFACT_DIR / file_name, dtype={'column': str, 'volume': str, '2p3p': str, 'valid_not_duplicate': bool}, low_memory=False)\n",
    "    df.insert(1, 'mouse_id', mouse_id, True)\n",
    "    df = df[~((df[\"column\"] == '1') & (df[\"2p3p\"] == '2'))]\n",
    "    df = df[df[\"valid_not_duplicate\"]]\n",
    "    return df\n",
    "\n",
    "# Load and preprocess the data\n",
    "slc2 = load_and_preprocess(f'slc2_all_stim_metric{csv_tag}.csv', \"slc2\")\n",
    "slc4 = load_and_preprocess(f'slc4_all_stim_metric{csv_tag}.csv', \"slc4\")\n",
    "slc5 = load_and_preprocess(f'slc5_all_stim_metric{csv_tag}.csv', \"slc5\")\n",
    "teto1 = load_and_preprocess(f'teto1_all_stim_metric{csv_tag}.csv', \"teto1\")\n",
    "\n",
    "# Concatenate dataframes\n",
    "cell_info = pd.concat([slc2, slc4, slc5, teto1], ignore_index=True)\n",
    "\n",
    "# Remove column 1 2p and include only valid non-duplicate cells\n",
    "cell_info = cell_info[~((cell_info[\"column\"] == '1') & (cell_info[\"2p3p\"] == '2'))]\n",
    "cell_info = cell_info[cell_info[\"valid_not_duplicate\"]]\n",
    "\n",
    "# Verify final data\n",
    "cell_info.head()"
   ]
  },
  {
   "cell_type": "markdown",
   "id": "8ebc1060",
   "metadata": {},
   "source": [
    "#### Plot the number of ROIs vs depth"
   ]
  },
  {
   "cell_type": "code",
   "execution_count": null,
   "id": "b8f860a1",
   "metadata": {},
   "outputs": [],
   "source": [
    "fig = plt.figure(figsize=(4, 8))\n",
    "ax = fig.add_subplot(111)\n",
    "data = np.zeros([len(all_z), 4])\n",
    "for i, z in enumerate(all_z):\n",
    "    for k in range(len(mice)):\n",
    "        plane = (cell_info['z']==z) & (cell_info['mouse_id']==mice[k])\n",
    "        data[i, k] = cell_info[plane].shape[0]\n",
    "        \n",
    "base = plt.gca().transData\n",
    "rot = transforms.Affine2D().rotate_deg(90)\n",
    "\n",
    "for i in range(4):\n",
    "    \n",
    "    ax.plot(data[:, i], np.arange(1, data.shape[0]+1),\n",
    "            linewidth=4, color = color[i])\n",
    "    plt.scatter(np.arange(1, data.shape[0]+1), \n",
    "                -data[:, i], \n",
    "                color = color[i], \n",
    "                label = mice[i],\n",
    "                transform = rot + base)\n",
    "\n",
    "plt.yticks(np.arange(1, len(all_z)+1), all_z)\n",
    "plt.gca().invert_yaxis()\n",
    "ax.spines['right'].set_visible(False)\n",
    "plt.title('Detected ROIs (neurons) vs. depth')\n",
    "plt.xlabel('#ROI')\n",
    "plt.ylabel('depth (um)')\n",
    "plt.title('#ROIs for 2p and 3p data vs. depth')\n",
    "\n",
    "# plt.savefig('population_depth_boxplot.eps', dpi=300)"
   ]
  },
  {
   "cell_type": "markdown",
   "id": "821dd815",
   "metadata": {},
   "source": [
    "### Plot example session order"
   ]
  },
  {
   "cell_type": "code",
   "execution_count": null,
   "id": "d8b462b5",
   "metadata": {},
   "outputs": [],
   "source": [
    "mouse_id = 'M427836'\n",
    "col_vol_str = '51'\n",
    "plane = 2\n",
    "plane_name = f\"Plane_{plane}\"\n",
    "\n",
    "DATA_DIR = Path(\"/home/roozbehf/Documents/v1dd_arefeh/V1_DD_NWBs/\")\n",
    "assert DATA_DIR.exists()\n",
    "DATA_DIR.resolve()\n",
    "client =  OPhysClient(DATA_DIR)\n",
    "session = client.load_ophys_session('M427836_11')\n",
    "stim_names = [\"spontaneous\", \"locally_sparse_noise\", \"drifting_gratings_full\", \\\n",
    "              \"drifting_gratings_windowed\", \"natural_images\", \"natural_images_12\", \"natural_movie\"]\n",
    "stim_labels = [\"Spont\", \"LSN\", \"DGF\", \\\n",
    "              \"DGW\", \"NI\", \"NI12\", \"NM\"]\n",
    "plt.figure(figsize=(10, 2))\n",
    "colors = ['crimson', 'teal', 'royalblue', 'violet', 'olive', 'coral', 'slateblue']\n",
    "y_position = 1\n",
    "for index, (stim_name, color) in enumerate(zip(stim_names, colors)):\n",
    "    stim_table_tuple = session.get_stimulus_table(stim_name)\n",
    "    stim_table = stim_table_tuple[0]\n",
    "\n",
    "    for _, row in stim_table.iterrows():\n",
    "        plt.hlines(y=y_position, xmin=row['start'], xmax=row['end'], color=color, linewidth=2)\n",
    "\n",
    "for stim_name, color in zip(stim_labels, colors):\n",
    "    plt.plot([], [], color=color, label=stim_name)\n",
    "\n",
    "current_xticks = plt.xticks()[0]\n",
    "new_xticks = sorted(list(current_xticks) + [300])\n",
    "plt.xticks(new_xticks)\n",
    "plt.xlabel('Time (s)')\n",
    "plt.ylabel('Stimulus Types')\n",
    "plt.title('Session Order')\n",
    "# plt.legend(loc='upper right', bbox_to_anchor=(1, 1))\n",
    "plt.legend(loc='upper right', bbox_to_anchor=(1, 1), ncol=7)\n",
    "plt.tight_layout()\n",
    "plt.show()\n",
    "\n",
    "# plt.savefig('session_order.eps', format='eps')"
   ]
  }
 ],
 "metadata": {
  "kernelspec": {
   "display_name": "Python 3 (ipykernel)",
   "language": "python",
   "name": "python3"
  },
  "language_info": {
   "codemirror_mode": {
    "name": "ipython",
    "version": 3
   },
   "file_extension": ".py",
   "mimetype": "text/x-python",
   "name": "python",
   "nbconvert_exporter": "python",
   "pygments_lexer": "ipython3",
   "version": "3.10.14"
  }
 },
 "nbformat": 4,
 "nbformat_minor": 5
}
