{
 "cells": [
  {
   "cell_type": "markdown",
   "id": "989220fa",
   "metadata": {},
   "source": [
    "### V1DD Figure 1"
   ]
  },
  {
   "cell_type": "code",
   "execution_count": null,
   "id": "629297f3",
   "metadata": {},
   "outputs": [],
   "source": [
    "from v1dd_public import ARTIFACT_DIR\n",
    "import pandas as pd\n",
    "import matplotlib.pyplot as plt\n",
    "from matplotlib import transforms\n",
    "import numpy as np\n",
    "from pathlib import Path\n",
    "from allen_v1dd.client import OPhysClient"
   ]
  },
  {
   "cell_type": "code",
   "execution_count": null,
   "id": "c9359677",
   "metadata": {},
   "outputs": [],
   "source": [
    "mice = ['slc2', 'slc4', 'slc5', 'teto1']\n",
    "mouse_ids = [\"M409828\", \"M416296\", \"M427836\", \"M438833\"]\n",
    "# color = ['red', 'blue', 'orange', 'green']\n",
    "# color = ['#88CCEE', \"#44AA99\", \"#117733\", \"#999933\"] \n",
    "# color = ['#88CCEE', \"#117733\", \"#DDCC77\", \"#CC6677\"]\n",
    "# color = ['#0077BB', \"#009988\", \"#EE7733\", \"#EE3377\"]\n",
    "color = [\"#66CCEE\", \"#228833\", \"#CCBB44\", \"#EE6677\"]\n",
    "all_z = [50, 66, 82, 98, 114, 130, 146, 162, 178, 194, 210, 226, 242, 258, 274, 290, 306, 322, 338, 354, 370, \\\n",
    "    386, 402, 418, 434, 450, 466, 482, 498, 514, 500, 525, 550, 575, 600, 625, 650, 675, 700, 725]\n",
    "\n",
    "# plotting parameters\n",
    "from matplotlib import rcParams\n",
    "rcParams['font.sans-serif'] = \"Arial\"\n",
    "rcParams['font.family'] = \"Arial\""
   ]
  },
  {
   "cell_type": "markdown",
   "id": "3795f449",
   "metadata": {},
   "source": [
    "#### Load and preprocess the data"
   ]
  },
  {
   "cell_type": "code",
   "execution_count": null,
   "id": "0e121670",
   "metadata": {},
   "outputs": [],
   "source": [
    "csv_tag = \"_240610\"\n",
    "\n",
    "def load_and_preprocess(file_name, mouse_id):\n",
    "    \n",
    "    # remove duplicate neurons\n",
    "    df = pd.read_csv(ARTIFACT_DIR / file_name, dtype={'column': str, 'volume': str, '2p3p': str, 'valid_not_duplicate': bool}, low_memory=False)\n",
    "    df.insert(1, 'mouse_id', mouse_id, True)\n",
    "    \n",
    "    # remove all cells in the column 1 that are 2P (keeps the 3P)\n",
    "    df = df[~((df[\"column\"] == '1') & (df[\"2p3p\"] == '2'))]\n",
    "    df = df[df[\"valid_not_duplicate\"]]\n",
    "    return df\n",
    "\n",
    "# Load and preprocess the data\n",
    "slc2 = load_and_preprocess(f'slc2_all_stim_metrics{csv_tag}.csv', \"slc2\")\n",
    "slc4 = load_and_preprocess(f'slc4_all_stim_metrics{csv_tag}.csv', \"slc4\")\n",
    "slc5 = load_and_preprocess(f'slc5_all_stim_metrics{csv_tag}.csv', \"slc5\")\n",
    "teto1 = load_and_preprocess(f'teto1_all_stim_metrics{csv_tag}.csv', \"teto1\")\n",
    "cell_info = pd.concat([slc2, slc4, slc5, teto1], ignore_index=True)"
   ]
  },
  {
   "cell_type": "code",
   "execution_count": null,
   "id": "b85956da",
   "metadata": {},
   "outputs": [],
   "source": [
    "print(f\"There are {len(cell_info)} total neurons.\")"
   ]
  },
  {
   "cell_type": "markdown",
   "id": "8ebc1060",
   "metadata": {},
   "source": [
    "#### Plot the number of ROIs vs depth"
   ]
  },
  {
   "cell_type": "code",
   "execution_count": null,
   "id": "b8f860a1",
   "metadata": {},
   "outputs": [],
   "source": [
    "fig = plt.figure(figsize=(4, 8))\n",
    "ax = fig.add_subplot(111)\n",
    "data = np.zeros([len(all_z), 4])\n",
    "for i, z in enumerate(all_z):\n",
    "    for k in range(len(mice)):\n",
    "        plane = (cell_info['z']==z) & (cell_info['mouse_id']==mice[k])\n",
    "        data[i, k] = cell_info[plane].shape[0]\n",
    "        \n",
    "base = plt.gca().transData\n",
    "rot = transforms.Affine2D().rotate_deg(90)\n",
    "\n",
    "for i in range(4):\n",
    "    \n",
    "    ax.plot(data[:, i], all_z,\n",
    "            linewidth=1, color = color[i])\n",
    "    plt.scatter(all_z, \n",
    "                -data[:, i], \n",
    "                color = color[i], \n",
    "                label = mice[i],\n",
    "                transform = rot + base)\n",
    "\n",
    "plt.legend([\"\", \"Mouse 1: 23,876\", \"\", \"Mouse 2: 24,575\", \"\", \"Mouse 3: 20,496\",\"\",  \"Mouse 4: 19,404\"], bbox_to_anchor=(1.1, 1.05), fontsize=20)\n",
    "plt.ylim(0, 750)\n",
    "plt.yticks(np.arange(0, 800, 50), fontsize=20)\n",
    "plt.xticks(np.arange(0, 1501, 500), fontsize=20)\n",
    "plt.gca().invert_yaxis()\n",
    "ax.spines['right'].set_visible(False)\n",
    "ax.spines['top'].set_visible(False)\n",
    "plt.title('Unique neuron count', fontsize=20)\n",
    "plt.xlabel('Count', fontsize=20)\n",
    "plt.ylabel('Depth (µm)', fontsize=20)\n",
    "\n",
    "plt.savefig('/home/naomi/Desktop/figures/v1dd_plots/1E_population_depth_boxplot.eps', dpi=300, bbox_inches='tight')"
   ]
  },
  {
   "cell_type": "markdown",
   "id": "821dd815",
   "metadata": {},
   "source": [
    "### Plot example session order"
   ]
  },
  {
   "cell_type": "code",
   "execution_count": null,
   "id": "d8b462b5",
   "metadata": {},
   "outputs": [],
   "source": [
    "mouse_id = 'M427836'\n",
    "col_vol_str = '51'\n",
    "plane = 2\n",
    "plane_name = f\"Plane_{plane}\"\n",
    "\n",
    "# DATA_DIR = Path(\"/home/roozbehf/Documents/v1dd_arefeh/V1_DD_NWBs/\")\n",
    "DATA_DIR = Path(\"/home/naomi/Desktop/data/V1dd_nwbs/\")\n",
    "assert DATA_DIR.exists()\n",
    "DATA_DIR.resolve()\n",
    "client =  OPhysClient(DATA_DIR)\n",
    "session = client.load_ophys_session('M427836_11')"
   ]
  },
  {
   "cell_type": "code",
   "execution_count": null,
   "id": "cf14bbbe",
   "metadata": {},
   "outputs": [],
   "source": [
    "dgf_stim = session.get_stimulus_table(stim_name=\"drifting_gratings_full\")[0]\n",
    "dgf_stim.start.values"
   ]
  },
  {
   "cell_type": "code",
   "execution_count": null,
   "id": "e83833c0",
   "metadata": {},
   "outputs": [],
   "source": [
    "import seaborn as sns\n",
    "x = sns.color_palette(\"colorblind\", 7)\n",
    "x"
   ]
  },
  {
   "cell_type": "code",
   "execution_count": 17,
   "id": "df863a6f",
   "metadata": {},
   "outputs": [],
   "source": [
    "import matplotlib as mpl\n",
    "\n",
    "mpl.rcParams.update({\n",
    "    \"text.usetex\": True,\n",
    "    \"font.family\": \"serif\",\n",
    "    \"font.serif\": [\"Palatino\"],\n",
    "})"
   ]
  },
  {
   "cell_type": "code",
   "execution_count": 22,
   "id": "08ae7d99",
   "metadata": {},
   "outputs": [
    {
     "data": {
      "image/png": "[encoded data removed]",
      "text/plain": [
       "<Figure size 1500x100 with 1 Axes>"
      ]
     },
     "metadata": {},
     "output_type": "display_data"
    }
   ],
   "source": [
    "# stims_colors = {\n",
    "#     'drifting_gratings_full': '#213F9A',\n",
    "#     'drifting_gratings_windowed': '#FF0DCC',\n",
    "#     'locally_sparse_noise': '#22CE00',\n",
    "#     'natural_images': '#7FFF00',\n",
    "#     'natural_images_12': '#FF330D',\n",
    "#     'natural_movie': '#6619FF',\n",
    "#     'spontaneous': '#191919',\n",
    "# }\n",
    "stims = [\n",
    "    'drifting_gratings_full',\n",
    "    'drifting_gratings_windowed',\n",
    "    'locally_sparse_noise',\n",
    "    'natural_images',\n",
    "    'natural_images_12',\n",
    "    'natural_movie',\n",
    "    'spontaneous'\n",
    "]\n",
    "colors = sns.color_palette(\"colorblind\", len(stims) + 1)\n",
    "stims_colors = {stim: color for stim, color in zip(stims, colors)}\n",
    "stims_colors['spontaneous'] = colors[-1]  # Use the last color for spontaneous (grey)\n",
    "\n",
    "fig, axs = plt.subplots(1, 1, figsize=(15, 1))\n",
    "\n",
    "min_time = 1000\n",
    "max_time = 1000\n",
    "for stim, color in stims_colors.items():\n",
    "    stim_table = session.get_stimulus_table(stim_name=stim)[0]\n",
    "    for start, end in zip(stim_table.start.values, stim_table.end.values):\n",
    "        axs.axvspan(start, end, color=color, alpha=1, label=stim)\n",
    "    \n",
    "    if stim_table.start.values.min() < min_time:\n",
    "        min_time = stim_table.start.values.min()\n",
    "    if stim_table.end.values.max() > max_time:\n",
    "        max_time = stim_table.end.values.max()\n",
    "\n",
    "# axs.legend()\n",
    "axs.set_xlabel('Time (s)', fontsize=20)\n",
    "# axs.set_ylabel('Stimulus', fontsize=20)\n",
    "axs.set_title('Visual Stimuli', fontsize=20)\n",
    "axs.set_yticks([])\n",
    "axs.set_ylim(0, 0.1)\n",
    "axs.set_xlim(min_time-100, max_time+100)\n",
    "axs.tick_params(axis='x', labelsize=20)"
   ]
  },
  {
   "cell_type": "code",
   "execution_count": null,
   "id": "e0854d6e",
   "metadata": {},
   "outputs": [
    {
     "data": {
      "text/plain": [
       "50.0"
      ]
     },
     "execution_count": 19,
     "metadata": {},
     "output_type": "execute_result"
    }
   ],
   "source": []
  },
  {
   "cell_type": "code",
   "execution_count": null,
   "id": "9821c54d",
   "metadata": {},
   "outputs": [],
   "source": [
    "\n",
    "stim_names = [\"spontaneous\", \"locally_sparse_noise\", \"drifting_gratings_full\", \\\n",
    "              \"drifting_gratings_windowed\", \"natural_images\", \"natural_images_12\", \"natural_movie\"]\n",
    "stim_labels = [\"Spont\", \"LSN\", \"DGF\", \\\n",
    "              \"DGW\", \"NI\", \"NI12\", \"NM\"]\n",
    "plt.figure(figsize=(10, 2))\n",
    "colors = ['crimson', 'teal', 'royalblue', 'violet', 'olive', 'coral', 'slateblue']\n",
    "y_position = 1\n",
    "for index, (stim_name, color) in enumerate(zip(stim_names, colors)):\n",
    "    stim_table_tuple = session.get_stimulus_table(stim_name)\n",
    "    stim_table = stim_table_tuple[0]\n",
    "\n",
    "    for _, row in stim_table.iterrows():\n",
    "        plt.hlines(y=y_position, xmin=row['start'], xmax=row['end'], color=color, linewidth=2)\n",
    "\n",
    "for stim_name, color in zip(stim_labels, colors):\n",
    "    plt.plot([], [], color=color, label=stim_name)\n",
    "\n",
    "current_xticks = plt.xticks()[0]\n",
    "new_xticks = sorted(list(current_xticks) + [300])\n",
    "plt.xticks(new_xticks)\n",
    "plt.xlabel('Time (s)')\n",
    "plt.ylabel('Stimulus Types')\n",
    "plt.title('Session Order')\n",
    "plt.legend(loc='upper right', bbox_to_anchor=(1, 1), ncol=7)\n",
    "plt.tight_layout()\n",
    "plt.show()\n",
    "\n",
    "# plt.savefig('session_order.eps', format='eps')"
   ]
  },
  {
   "cell_type": "code",
   "execution_count": null,
   "id": "b1c5ac0d",
   "metadata": {},
   "outputs": [],
   "source": []
  }
 ],
 "metadata": {
  "kernelspec": {
   "display_name": "v1dd-public-2",
   "language": "python",
   "name": "python3"
  },
  "language_info": {
   "codemirror_mode": {
    "name": "ipython",
    "version": 3
   },
   "file_extension": ".py",
   "mimetype": "text/x-python",
   "name": "python",
   "nbconvert_exporter": "python",
   "pygments_lexer": "ipython3",
   "version": "3.10.16"
  }
 },
 "nbformat": 4,
 "nbformat_minor": 5
}
