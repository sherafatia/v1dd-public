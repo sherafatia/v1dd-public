{
 "cells": [
  {
   "cell_type": "code",
   "execution_count": 4,
   "metadata": {},
   "outputs": [],
   "source": [
    "from sklearn.manifold import TSNE\n",
    "from v1dd_public import ARTIFACT_DIR\n",
    "import pandas as pd\n",
    "import matplotlib.pyplot as plt\n",
    "from matplotlib.colors import LinearSegmentedColormap\n",
    "import numpy as np\n",
    "import pickle\n",
    "import ast\n",
    "from sklearn.mixture import GaussianMixture\n",
    "import seaborn as sns\n",
    "from matplotlib import cm\n",
    "from sklearn.model_selection import GridSearchCV\n",
    "import joblib"
   ]
  },
  {
   "cell_type": "code",
   "execution_count": 5,
   "metadata": {},
   "outputs": [],
   "source": [
    "csv_tag = \"_240610\"\n",
    "\n",
    "def load_and_preprocess(file_name, mouse_id):\n",
    "    # remove duplicate neurons\n",
    "    df = pd.read_csv(ARTIFACT_DIR / file_name, dtype={'column': str, 'volume': str, '2p3p': str, 'valid_not_duplicate': bool}, low_memory=False)\n",
    "    df.insert(1, 'mouse_id', mouse_id, True)\n",
    "    \n",
    "    # remove all cells in the column 1 that are 2P (keeps the 3P)\n",
    "    df = df[~((df[\"column\"] == '1') & (df[\"2p3p\"] == '2'))]\n",
    "    df = df[df[\"valid_not_duplicate\"]]\n",
    "    return df\n",
    "\n",
    "# Load and preprocess the data\n",
    "slc2 = load_and_preprocess(f'slc2_all_stim_metrics{csv_tag}.csv', \"slc2\")\n",
    "slc4 = load_and_preprocess(f'slc4_all_stim_metrics{csv_tag}.csv', \"slc4\")\n",
    "slc5 = load_and_preprocess(f'slc5_all_stim_metrics{csv_tag}.csv', \"slc5\")\n",
    "teto1 = load_and_preprocess(f'teto1_all_stim_metrics{csv_tag}.csv', \"teto1\")\n",
    "cell_info = pd.concat([slc2, slc4, slc5, teto1], ignore_index=True)"
   ]
  },
  {
   "cell_type": "code",
   "execution_count": 6,
   "metadata": {},
   "outputs": [
    {
     "name": "stderr",
     "output_type": "stream",
     "text": [
      "/tmp/ipykernel_318737/490132688.py:5: SettingWithCopyWarning: \n",
      "A value is trying to be set on a copy of a slice from a DataFrame\n",
      "\n",
      "See the caveats in the documentation: https://pandas.pydata.org/pandas-docs/stable/user_guide/indexing.html#returning-a-view-versus-a-copy\n",
      "  features.rename(columns = {\n"
     ]
    }
   ],
   "source": [
    "res3 = ['frac_res_to_on', 'frac_res_to_off', 'frac_resp_dgf', 'frac_resp_dgw', 'frac_res_to_ns118', 'frac_res_to_ns12', 'frac_resp_nm']\n",
    "stim_names = ['LSN-ON', 'LSN-OFF', 'Full-field Drifting Gratings', 'Windowed Drifting Gratings', 'Natural Images Set 1', 'Natural Images Set 2', 'Natural Movie']\n",
    "\n",
    "features = cell_info[res3]\n",
    "features.rename(columns = {\n",
    "       'frac_res_to_on': \"LSN-ON\",\n",
    "       'frac_res_to_off': \"LSN-OFF\",\n",
    "       'frac_resp_dgf':'DGF',\n",
    "       'frac_resp_dgw':'DGW',\n",
    "       'frac_res_to_ns118':'NI118',\n",
    "       'frac_res_to_ns12':'NI12',\n",
    "       'frac_resp_nm':'NM'},\n",
    "        inplace = True)\n",
    "\n",
    "all_features = [features[f] for f in features.columns.tolist()]\n",
    "features_stacked = np.vstack(all_features).T\n",
    "X = features_stacked"
   ]
  },
  {
   "cell_type": "code",
   "execution_count": 13,
   "metadata": {},
   "outputs": [
    {
     "data": {
      "text/html": [
       "<div>\n",
       "<style scoped>\n",
       "    .dataframe tbody tr th:only-of-type {\n",
       "        vertical-align: middle;\n",
       "    }\n",
       "\n",
       "    .dataframe tbody tr th {\n",
       "        vertical-align: top;\n",
       "    }\n",
       "\n",
       "    .dataframe thead th {\n",
       "        text-align: right;\n",
       "    }\n",
       "</style>\n",
       "<table border=\"1\" class=\"dataframe\">\n",
       "  <thead>\n",
       "    <tr style=\"text-align: right;\">\n",
       "      <th></th>\n",
       "      <th>Unnamed: 0.1</th>\n",
       "      <th>mouse_id</th>\n",
       "      <th>Unnamed: 0</th>\n",
       "      <th>valid_cell_index</th>\n",
       "      <th>cell_index</th>\n",
       "      <th>col_vol</th>\n",
       "      <th>column</th>\n",
       "      <th>volume</th>\n",
       "      <th>plane</th>\n",
       "      <th>x</th>\n",
       "      <th>...</th>\n",
       "      <th>dgw_pref_dir</th>\n",
       "      <th>dgf_osi</th>\n",
       "      <th>dgw_osi</th>\n",
       "      <th>dgf_dsi</th>\n",
       "      <th>dgw_dsi</th>\n",
       "      <th>dgf_ls</th>\n",
       "      <th>dgw_ls</th>\n",
       "      <th>ns12_ls</th>\n",
       "      <th>ns118_ls</th>\n",
       "      <th>nm_ls</th>\n",
       "    </tr>\n",
       "  </thead>\n",
       "  <tbody>\n",
       "    <tr>\n",
       "      <th>0</th>\n",
       "      <td>8542</td>\n",
       "      <td>slc2</td>\n",
       "      <td>8542</td>\n",
       "      <td>0</td>\n",
       "      <td>0</td>\n",
       "      <td>16</td>\n",
       "      <td>1</td>\n",
       "      <td>6</td>\n",
       "      <td>0</td>\n",
       "      <td>236</td>\n",
       "      <td>...</td>\n",
       "      <td>150</td>\n",
       "      <td>0.214924</td>\n",
       "      <td>0.485850</td>\n",
       "      <td>0.143261</td>\n",
       "      <td>0.394904</td>\n",
       "      <td>0.650162</td>\n",
       "      <td>0.670042</td>\n",
       "      <td>0.941426</td>\n",
       "      <td>0.943378</td>\n",
       "      <td>0.930728</td>\n",
       "    </tr>\n",
       "    <tr>\n",
       "      <th>1</th>\n",
       "      <td>8543</td>\n",
       "      <td>slc2</td>\n",
       "      <td>8543</td>\n",
       "      <td>1</td>\n",
       "      <td>1</td>\n",
       "      <td>16</td>\n",
       "      <td>1</td>\n",
       "      <td>6</td>\n",
       "      <td>0</td>\n",
       "      <td>159</td>\n",
       "      <td>...</td>\n",
       "      <td>90</td>\n",
       "      <td>0.765341</td>\n",
       "      <td>0.699801</td>\n",
       "      <td>0.934434</td>\n",
       "      <td>0.180604</td>\n",
       "      <td>0.914330</td>\n",
       "      <td>0.874348</td>\n",
       "      <td>0.962018</td>\n",
       "      <td>0.940841</td>\n",
       "      <td>0.954807</td>\n",
       "    </tr>\n",
       "    <tr>\n",
       "      <th>2</th>\n",
       "      <td>8544</td>\n",
       "      <td>slc2</td>\n",
       "      <td>8544</td>\n",
       "      <td>2</td>\n",
       "      <td>2</td>\n",
       "      <td>16</td>\n",
       "      <td>1</td>\n",
       "      <td>6</td>\n",
       "      <td>0</td>\n",
       "      <td>193</td>\n",
       "      <td>...</td>\n",
       "      <td>240</td>\n",
       "      <td>0.447789</td>\n",
       "      <td>0.317350</td>\n",
       "      <td>0.389030</td>\n",
       "      <td>0.267353</td>\n",
       "      <td>0.655039</td>\n",
       "      <td>0.657950</td>\n",
       "      <td>0.954018</td>\n",
       "      <td>0.956597</td>\n",
       "      <td>0.921463</td>\n",
       "    </tr>\n",
       "    <tr>\n",
       "      <th>3</th>\n",
       "      <td>8545</td>\n",
       "      <td>slc2</td>\n",
       "      <td>8545</td>\n",
       "      <td>3</td>\n",
       "      <td>3</td>\n",
       "      <td>16</td>\n",
       "      <td>1</td>\n",
       "      <td>6</td>\n",
       "      <td>0</td>\n",
       "      <td>230</td>\n",
       "      <td>...</td>\n",
       "      <td>0</td>\n",
       "      <td>0.661951</td>\n",
       "      <td>0.464806</td>\n",
       "      <td>0.056502</td>\n",
       "      <td>0.402281</td>\n",
       "      <td>0.667079</td>\n",
       "      <td>0.674886</td>\n",
       "      <td>0.944030</td>\n",
       "      <td>0.944862</td>\n",
       "      <td>0.933212</td>\n",
       "    </tr>\n",
       "    <tr>\n",
       "      <th>4</th>\n",
       "      <td>8546</td>\n",
       "      <td>slc2</td>\n",
       "      <td>8546</td>\n",
       "      <td>4</td>\n",
       "      <td>4</td>\n",
       "      <td>16</td>\n",
       "      <td>1</td>\n",
       "      <td>6</td>\n",
       "      <td>0</td>\n",
       "      <td>61</td>\n",
       "      <td>...</td>\n",
       "      <td>330</td>\n",
       "      <td>0.503441</td>\n",
       "      <td>0.748724</td>\n",
       "      <td>0.523120</td>\n",
       "      <td>1.000000</td>\n",
       "      <td>0.684561</td>\n",
       "      <td>0.845968</td>\n",
       "      <td>0.962426</td>\n",
       "      <td>0.954630</td>\n",
       "      <td>0.959651</td>\n",
       "    </tr>\n",
       "    <tr>\n",
       "      <th>...</th>\n",
       "      <td>...</td>\n",
       "      <td>...</td>\n",
       "      <td>...</td>\n",
       "      <td>...</td>\n",
       "      <td>...</td>\n",
       "      <td>...</td>\n",
       "      <td>...</td>\n",
       "      <td>...</td>\n",
       "      <td>...</td>\n",
       "      <td>...</td>\n",
       "      <td>...</td>\n",
       "      <td>...</td>\n",
       "      <td>...</td>\n",
       "      <td>...</td>\n",
       "      <td>...</td>\n",
       "      <td>...</td>\n",
       "      <td>...</td>\n",
       "      <td>...</td>\n",
       "      <td>...</td>\n",
       "      <td>...</td>\n",
       "      <td>...</td>\n",
       "    </tr>\n",
       "    <tr>\n",
       "      <th>88346</th>\n",
       "      <td>31308</td>\n",
       "      <td>teto1</td>\n",
       "      <td>31308</td>\n",
       "      <td>1</td>\n",
       "      <td>10</td>\n",
       "      <td>55</td>\n",
       "      <td>5</td>\n",
       "      <td>5</td>\n",
       "      <td>5</td>\n",
       "      <td>75</td>\n",
       "      <td>...</td>\n",
       "      <td>330</td>\n",
       "      <td>0.468661</td>\n",
       "      <td>0.442844</td>\n",
       "      <td>0.431271</td>\n",
       "      <td>0.186935</td>\n",
       "      <td>0.704613</td>\n",
       "      <td>0.650555</td>\n",
       "      <td>0.958025</td>\n",
       "      <td>0.958414</td>\n",
       "      <td>0.939933</td>\n",
       "    </tr>\n",
       "    <tr>\n",
       "      <th>88347</th>\n",
       "      <td>31309</td>\n",
       "      <td>teto1</td>\n",
       "      <td>31309</td>\n",
       "      <td>2</td>\n",
       "      <td>14</td>\n",
       "      <td>55</td>\n",
       "      <td>5</td>\n",
       "      <td>5</td>\n",
       "      <td>5</td>\n",
       "      <td>146</td>\n",
       "      <td>...</td>\n",
       "      <td>30</td>\n",
       "      <td>0.472712</td>\n",
       "      <td>0.459277</td>\n",
       "      <td>0.115886</td>\n",
       "      <td>0.715226</td>\n",
       "      <td>0.744843</td>\n",
       "      <td>0.692046</td>\n",
       "      <td>0.960391</td>\n",
       "      <td>0.955787</td>\n",
       "      <td>0.922388</td>\n",
       "    </tr>\n",
       "    <tr>\n",
       "      <th>88348</th>\n",
       "      <td>31310</td>\n",
       "      <td>teto1</td>\n",
       "      <td>31310</td>\n",
       "      <td>3</td>\n",
       "      <td>22</td>\n",
       "      <td>55</td>\n",
       "      <td>5</td>\n",
       "      <td>5</td>\n",
       "      <td>5</td>\n",
       "      <td>64</td>\n",
       "      <td>...</td>\n",
       "      <td>30</td>\n",
       "      <td>0.621726</td>\n",
       "      <td>0.329101</td>\n",
       "      <td>0.511249</td>\n",
       "      <td>0.381324</td>\n",
       "      <td>0.752169</td>\n",
       "      <td>0.670320</td>\n",
       "      <td>0.948195</td>\n",
       "      <td>0.958985</td>\n",
       "      <td>0.928885</td>\n",
       "    </tr>\n",
       "    <tr>\n",
       "      <th>88349</th>\n",
       "      <td>31311</td>\n",
       "      <td>teto1</td>\n",
       "      <td>31311</td>\n",
       "      <td>4</td>\n",
       "      <td>23</td>\n",
       "      <td>55</td>\n",
       "      <td>5</td>\n",
       "      <td>5</td>\n",
       "      <td>5</td>\n",
       "      <td>81</td>\n",
       "      <td>...</td>\n",
       "      <td>30</td>\n",
       "      <td>0.645523</td>\n",
       "      <td>0.602708</td>\n",
       "      <td>0.314335</td>\n",
       "      <td>0.497443</td>\n",
       "      <td>0.712573</td>\n",
       "      <td>0.708187</td>\n",
       "      <td>0.969706</td>\n",
       "      <td>0.949666</td>\n",
       "      <td>0.934391</td>\n",
       "    </tr>\n",
       "    <tr>\n",
       "      <th>88350</th>\n",
       "      <td>31312</td>\n",
       "      <td>teto1</td>\n",
       "      <td>31312</td>\n",
       "      <td>5</td>\n",
       "      <td>39</td>\n",
       "      <td>55</td>\n",
       "      <td>5</td>\n",
       "      <td>5</td>\n",
       "      <td>5</td>\n",
       "      <td>185</td>\n",
       "      <td>...</td>\n",
       "      <td>300</td>\n",
       "      <td>0.396786</td>\n",
       "      <td>0.237160</td>\n",
       "      <td>0.287239</td>\n",
       "      <td>0.551275</td>\n",
       "      <td>0.681669</td>\n",
       "      <td>0.666547</td>\n",
       "      <td>0.950207</td>\n",
       "      <td>0.943412</td>\n",
       "      <td>0.927449</td>\n",
       "    </tr>\n",
       "  </tbody>\n",
       "</table>\n",
       "<p>88351 rows × 82 columns</p>\n",
       "</div>"
      ],
      "text/plain": [
       "       Unnamed: 0.1 mouse_id  Unnamed: 0  valid_cell_index  cell_index  \\\n",
       "0              8542     slc2        8542                 0           0   \n",
       "1              8543     slc2        8543                 1           1   \n",
       "2              8544     slc2        8544                 2           2   \n",
       "3              8545     slc2        8545                 3           3   \n",
       "4              8546     slc2        8546                 4           4   \n",
       "...             ...      ...         ...               ...         ...   \n",
       "88346         31308    teto1       31308                 1          10   \n",
       "88347         31309    teto1       31309                 2          14   \n",
       "88348         31310    teto1       31310                 3          22   \n",
       "88349         31311    teto1       31311                 4          23   \n",
       "88350         31312    teto1       31312                 5          39   \n",
       "\n",
       "      col_vol column volume  plane    x  ...  dgw_pref_dir   dgf_osi  \\\n",
       "0          16      1      6      0  236  ...           150  0.214924   \n",
       "1          16      1      6      0  159  ...            90  0.765341   \n",
       "2          16      1      6      0  193  ...           240  0.447789   \n",
       "3          16      1      6      0  230  ...             0  0.661951   \n",
       "4          16      1      6      0   61  ...           330  0.503441   \n",
       "...       ...    ...    ...    ...  ...  ...           ...       ...   \n",
       "88346      55      5      5      5   75  ...           330  0.468661   \n",
       "88347      55      5      5      5  146  ...            30  0.472712   \n",
       "88348      55      5      5      5   64  ...            30  0.621726   \n",
       "88349      55      5      5      5   81  ...            30  0.645523   \n",
       "88350      55      5      5      5  185  ...           300  0.396786   \n",
       "\n",
       "        dgw_osi   dgf_dsi   dgw_dsi    dgf_ls    dgw_ls   ns12_ls  ns118_ls  \\\n",
       "0      0.485850  0.143261  0.394904  0.650162  0.670042  0.941426  0.943378   \n",
       "1      0.699801  0.934434  0.180604  0.914330  0.874348  0.962018  0.940841   \n",
       "2      0.317350  0.389030  0.267353  0.655039  0.657950  0.954018  0.956597   \n",
       "3      0.464806  0.056502  0.402281  0.667079  0.674886  0.944030  0.944862   \n",
       "4      0.748724  0.523120  1.000000  0.684561  0.845968  0.962426  0.954630   \n",
       "...         ...       ...       ...       ...       ...       ...       ...   \n",
       "88346  0.442844  0.431271  0.186935  0.704613  0.650555  0.958025  0.958414   \n",
       "88347  0.459277  0.115886  0.715226  0.744843  0.692046  0.960391  0.955787   \n",
       "88348  0.329101  0.511249  0.381324  0.752169  0.670320  0.948195  0.958985   \n",
       "88349  0.602708  0.314335  0.497443  0.712573  0.708187  0.969706  0.949666   \n",
       "88350  0.237160  0.287239  0.551275  0.681669  0.666547  0.950207  0.943412   \n",
       "\n",
       "          nm_ls  \n",
       "0      0.930728  \n",
       "1      0.954807  \n",
       "2      0.921463  \n",
       "3      0.933212  \n",
       "4      0.959651  \n",
       "...         ...  \n",
       "88346  0.939933  \n",
       "88347  0.922388  \n",
       "88348  0.928885  \n",
       "88349  0.934391  \n",
       "88350  0.927449  \n",
       "\n",
       "[88351 rows x 82 columns]"
      ]
     },
     "execution_count": 13,
     "metadata": {},
     "output_type": "execute_result"
    }
   ],
   "source": [
    "cell_info"
   ]
  },
  {
   "cell_type": "code",
   "execution_count": null,
   "metadata": {},
   "outputs": [],
   "source": []
  },
  {
   "cell_type": "markdown",
   "metadata": {},
   "source": [
    "Making TSNE plots for all stimuli (cell below) took around 71 minutes on my PC"
   ]
  },
  {
   "cell_type": "code",
   "execution_count": 7,
   "metadata": {},
   "outputs": [
    {
     "ename": "KeyboardInterrupt",
     "evalue": "",
     "output_type": "error",
     "traceback": [
      "\u001b[0;31m---------------------------------------------------------------------------\u001b[0m",
      "\u001b[0;31mKeyboardInterrupt\u001b[0m                         Traceback (most recent call last)",
      "Cell \u001b[0;32mIn[7], line 48\u001b[0m\n\u001b[1;32m     46\u001b[0m X_subset_labels \u001b[38;5;241m=\u001b[39m features_stacked[:,j]\n\u001b[1;32m     47\u001b[0m ax \u001b[38;5;241m=\u001b[39m plt\u001b[38;5;241m.\u001b[39msubplot(\u001b[38;5;241m1\u001b[39m, \u001b[38;5;241m7\u001b[39m, j\u001b[38;5;241m+\u001b[39m\u001b[38;5;241m1\u001b[39m)\n\u001b[0;32m---> 48\u001b[0m \u001b[43mcreate_tsne_plot_2d\u001b[49m\u001b[43m(\u001b[49m\u001b[43mX_subset\u001b[49m\u001b[43m,\u001b[49m\u001b[43m \u001b[49m\u001b[43mX_subset_labels\u001b[49m\u001b[43m,\u001b[49m\u001b[43m \u001b[49m\u001b[43mstim_name\u001b[49m\u001b[38;5;241;43m=\u001b[39;49m\u001b[43mstim_names\u001b[49m\u001b[43m[\u001b[49m\u001b[43mj\u001b[49m\u001b[43m]\u001b[49m\u001b[43m,\u001b[49m\u001b[43m \u001b[49m\u001b[43max\u001b[49m\u001b[38;5;241;43m=\u001b[39;49m\u001b[43max\u001b[49m\u001b[43m,\u001b[49m\u001b[43m \u001b[49m\u001b[43mperplexity\u001b[49m\u001b[38;5;241;43m=\u001b[39;49m\u001b[38;5;241;43m30\u001b[39;49m\u001b[43m,\u001b[49m\u001b[43m \u001b[49m\u001b[43m\\\u001b[49m\n\u001b[1;32m     49\u001b[0m \u001b[43m    \u001b[49m\u001b[43mearly_exaggeration\u001b[49m\u001b[38;5;241;43m=\u001b[39;49m\u001b[38;5;241;43m12.0\u001b[39;49m\u001b[43m,\u001b[49m\u001b[43m \u001b[49m\u001b[43mlearning_rate\u001b[49m\u001b[38;5;241;43m=\u001b[39;49m\u001b[38;5;241;43m200\u001b[39;49m\u001b[43m,\u001b[49m\u001b[43m \u001b[49m\u001b[43mcmap\u001b[49m\u001b[38;5;241;43m=\u001b[39;49m\u001b[43mcustom_gray_cmap\u001b[49m\u001b[43m)\u001b[49m\n",
      "Cell \u001b[0;32mIn[7], line 23\u001b[0m, in \u001b[0;36mcreate_tsne_plot_2d\u001b[0;34m(data, labels, stim_name, ax, perplexity, early_exaggeration, learning_rate, cmap)\u001b[0m\n\u001b[1;32m     14\u001b[0m \u001b[38;5;28;01mdef\u001b[39;00m \u001b[38;5;21mcreate_tsne_plot_2d\u001b[39m(data, labels, stim_name, ax, perplexity\u001b[38;5;241m=\u001b[39m\u001b[38;5;241m30\u001b[39m, early_exaggeration\u001b[38;5;241m=\u001b[39m\u001b[38;5;241m12.0\u001b[39m, learning_rate\u001b[38;5;241m=\u001b[39m\u001b[38;5;241m200\u001b[39m, cmap\u001b[38;5;241m=\u001b[39m\u001b[38;5;124m'\u001b[39m\u001b[38;5;124mautumn\u001b[39m\u001b[38;5;124m'\u001b[39m):\n\u001b[1;32m     15\u001b[0m     tsne \u001b[38;5;241m=\u001b[39m TSNE(\n\u001b[1;32m     16\u001b[0m         n_components\u001b[38;5;241m=\u001b[39m\u001b[38;5;241m2\u001b[39m,\n\u001b[1;32m     17\u001b[0m         perplexity\u001b[38;5;241m=\u001b[39mperplexity,\n\u001b[0;32m   (...)\u001b[0m\n\u001b[1;32m     20\u001b[0m         random_state\u001b[38;5;241m=\u001b[39m\u001b[38;5;241m42\u001b[39m\n\u001b[1;32m     21\u001b[0m     )\n\u001b[0;32m---> 23\u001b[0m     embedding \u001b[38;5;241m=\u001b[39m \u001b[43mtsne\u001b[49m\u001b[38;5;241;43m.\u001b[39;49m\u001b[43mfit_transform\u001b[49m\u001b[43m(\u001b[49m\u001b[43mdata\u001b[49m\u001b[43m)\u001b[49m\n\u001b[1;32m     24\u001b[0m     unique_labels \u001b[38;5;241m=\u001b[39m np\u001b[38;5;241m.\u001b[39munique(labels)\n\u001b[1;32m     25\u001b[0m     label_to_color \u001b[38;5;241m=\u001b[39m {label: idx \u001b[38;5;28;01mfor\u001b[39;00m idx, label \u001b[38;5;129;01min\u001b[39;00m \u001b[38;5;28menumerate\u001b[39m(unique_labels)}\n",
      "File \u001b[0;32m~/anaconda3/envs/v1dd-public-2/lib/python3.10/site-packages/sklearn/utils/_set_output.py:313\u001b[0m, in \u001b[0;36m_wrap_method_output.<locals>.wrapped\u001b[0;34m(self, X, *args, **kwargs)\u001b[0m\n\u001b[1;32m    311\u001b[0m \u001b[38;5;129m@wraps\u001b[39m(f)\n\u001b[1;32m    312\u001b[0m \u001b[38;5;28;01mdef\u001b[39;00m \u001b[38;5;21mwrapped\u001b[39m(\u001b[38;5;28mself\u001b[39m, X, \u001b[38;5;241m*\u001b[39margs, \u001b[38;5;241m*\u001b[39m\u001b[38;5;241m*\u001b[39mkwargs):\n\u001b[0;32m--> 313\u001b[0m     data_to_wrap \u001b[38;5;241m=\u001b[39m \u001b[43mf\u001b[49m\u001b[43m(\u001b[49m\u001b[38;5;28;43mself\u001b[39;49m\u001b[43m,\u001b[49m\u001b[43m \u001b[49m\u001b[43mX\u001b[49m\u001b[43m,\u001b[49m\u001b[43m \u001b[49m\u001b[38;5;241;43m*\u001b[39;49m\u001b[43margs\u001b[49m\u001b[43m,\u001b[49m\u001b[43m \u001b[49m\u001b[38;5;241;43m*\u001b[39;49m\u001b[38;5;241;43m*\u001b[39;49m\u001b[43mkwargs\u001b[49m\u001b[43m)\u001b[49m\n\u001b[1;32m    314\u001b[0m     \u001b[38;5;28;01mif\u001b[39;00m \u001b[38;5;28misinstance\u001b[39m(data_to_wrap, \u001b[38;5;28mtuple\u001b[39m):\n\u001b[1;32m    315\u001b[0m         \u001b[38;5;66;03m# only wrap the first output for cross decomposition\u001b[39;00m\n\u001b[1;32m    316\u001b[0m         return_tuple \u001b[38;5;241m=\u001b[39m (\n\u001b[1;32m    317\u001b[0m             _wrap_data_with_container(method, data_to_wrap[\u001b[38;5;241m0\u001b[39m], X, \u001b[38;5;28mself\u001b[39m),\n\u001b[1;32m    318\u001b[0m             \u001b[38;5;241m*\u001b[39mdata_to_wrap[\u001b[38;5;241m1\u001b[39m:],\n\u001b[1;32m    319\u001b[0m         )\n",
      "File \u001b[0;32m~/anaconda3/envs/v1dd-public-2/lib/python3.10/site-packages/sklearn/base.py:1473\u001b[0m, in \u001b[0;36m_fit_context.<locals>.decorator.<locals>.wrapper\u001b[0;34m(estimator, *args, **kwargs)\u001b[0m\n\u001b[1;32m   1466\u001b[0m     estimator\u001b[38;5;241m.\u001b[39m_validate_params()\n\u001b[1;32m   1468\u001b[0m \u001b[38;5;28;01mwith\u001b[39;00m config_context(\n\u001b[1;32m   1469\u001b[0m     skip_parameter_validation\u001b[38;5;241m=\u001b[39m(\n\u001b[1;32m   1470\u001b[0m         prefer_skip_nested_validation \u001b[38;5;129;01mor\u001b[39;00m global_skip_validation\n\u001b[1;32m   1471\u001b[0m     )\n\u001b[1;32m   1472\u001b[0m ):\n\u001b[0;32m-> 1473\u001b[0m     \u001b[38;5;28;01mreturn\u001b[39;00m \u001b[43mfit_method\u001b[49m\u001b[43m(\u001b[49m\u001b[43mestimator\u001b[49m\u001b[43m,\u001b[49m\u001b[43m \u001b[49m\u001b[38;5;241;43m*\u001b[39;49m\u001b[43margs\u001b[49m\u001b[43m,\u001b[49m\u001b[43m \u001b[49m\u001b[38;5;241;43m*\u001b[39;49m\u001b[38;5;241;43m*\u001b[39;49m\u001b[43mkwargs\u001b[49m\u001b[43m)\u001b[49m\n",
      "File \u001b[0;32m~/anaconda3/envs/v1dd-public-2/lib/python3.10/site-packages/sklearn/manifold/_t_sne.py:1176\u001b[0m, in \u001b[0;36mTSNE.fit_transform\u001b[0;34m(self, X, y)\u001b[0m\n\u001b[1;32m   1173\u001b[0m     \u001b[38;5;28mself\u001b[39m\u001b[38;5;241m.\u001b[39m_max_iter \u001b[38;5;241m=\u001b[39m \u001b[38;5;28mself\u001b[39m\u001b[38;5;241m.\u001b[39mmax_iter\n\u001b[1;32m   1175\u001b[0m \u001b[38;5;28mself\u001b[39m\u001b[38;5;241m.\u001b[39m_check_params_vs_input(X)\n\u001b[0;32m-> 1176\u001b[0m embedding \u001b[38;5;241m=\u001b[39m \u001b[38;5;28;43mself\u001b[39;49m\u001b[38;5;241;43m.\u001b[39;49m\u001b[43m_fit\u001b[49m\u001b[43m(\u001b[49m\u001b[43mX\u001b[49m\u001b[43m)\u001b[49m\n\u001b[1;32m   1177\u001b[0m \u001b[38;5;28mself\u001b[39m\u001b[38;5;241m.\u001b[39membedding_ \u001b[38;5;241m=\u001b[39m embedding\n\u001b[1;32m   1178\u001b[0m \u001b[38;5;28;01mreturn\u001b[39;00m \u001b[38;5;28mself\u001b[39m\u001b[38;5;241m.\u001b[39membedding_\n",
      "File \u001b[0;32m~/anaconda3/envs/v1dd-public-2/lib/python3.10/site-packages/sklearn/manifold/_t_sne.py:1044\u001b[0m, in \u001b[0;36mTSNE._fit\u001b[0;34m(self, X, skip_num_points)\u001b[0m\n\u001b[1;32m   1038\u001b[0m \u001b[38;5;66;03m# Degrees of freedom of the Student's t-distribution. The suggestion\u001b[39;00m\n\u001b[1;32m   1039\u001b[0m \u001b[38;5;66;03m# degrees_of_freedom = n_components - 1 comes from\u001b[39;00m\n\u001b[1;32m   1040\u001b[0m \u001b[38;5;66;03m# \"Learning a Parametric Embedding by Preserving Local Structure\"\u001b[39;00m\n\u001b[1;32m   1041\u001b[0m \u001b[38;5;66;03m# Laurens van der Maaten, 2009.\u001b[39;00m\n\u001b[1;32m   1042\u001b[0m degrees_of_freedom \u001b[38;5;241m=\u001b[39m \u001b[38;5;28mmax\u001b[39m(\u001b[38;5;28mself\u001b[39m\u001b[38;5;241m.\u001b[39mn_components \u001b[38;5;241m-\u001b[39m \u001b[38;5;241m1\u001b[39m, \u001b[38;5;241m1\u001b[39m)\n\u001b[0;32m-> 1044\u001b[0m \u001b[38;5;28;01mreturn\u001b[39;00m \u001b[38;5;28;43mself\u001b[39;49m\u001b[38;5;241;43m.\u001b[39;49m\u001b[43m_tsne\u001b[49m\u001b[43m(\u001b[49m\n\u001b[1;32m   1045\u001b[0m \u001b[43m    \u001b[49m\u001b[43mP\u001b[49m\u001b[43m,\u001b[49m\n\u001b[1;32m   1046\u001b[0m \u001b[43m    \u001b[49m\u001b[43mdegrees_of_freedom\u001b[49m\u001b[43m,\u001b[49m\n\u001b[1;32m   1047\u001b[0m \u001b[43m    \u001b[49m\u001b[43mn_samples\u001b[49m\u001b[43m,\u001b[49m\n\u001b[1;32m   1048\u001b[0m \u001b[43m    \u001b[49m\u001b[43mX_embedded\u001b[49m\u001b[38;5;241;43m=\u001b[39;49m\u001b[43mX_embedded\u001b[49m\u001b[43m,\u001b[49m\n\u001b[1;32m   1049\u001b[0m \u001b[43m    \u001b[49m\u001b[43mneighbors\u001b[49m\u001b[38;5;241;43m=\u001b[39;49m\u001b[43mneighbors_nn\u001b[49m\u001b[43m,\u001b[49m\n\u001b[1;32m   1050\u001b[0m \u001b[43m    \u001b[49m\u001b[43mskip_num_points\u001b[49m\u001b[38;5;241;43m=\u001b[39;49m\u001b[43mskip_num_points\u001b[49m\u001b[43m,\u001b[49m\n\u001b[1;32m   1051\u001b[0m \u001b[43m\u001b[49m\u001b[43m)\u001b[49m\n",
      "File \u001b[0;32m~/anaconda3/envs/v1dd-public-2/lib/python3.10/site-packages/sklearn/manifold/_t_sne.py:1112\u001b[0m, in \u001b[0;36mTSNE._tsne\u001b[0;34m(self, P, degrees_of_freedom, n_samples, X_embedded, neighbors, skip_num_points)\u001b[0m\n\u001b[1;32m   1110\u001b[0m     opt_args[\u001b[38;5;124m\"\u001b[39m\u001b[38;5;124mmomentum\u001b[39m\u001b[38;5;124m\"\u001b[39m] \u001b[38;5;241m=\u001b[39m \u001b[38;5;241m0.8\u001b[39m\n\u001b[1;32m   1111\u001b[0m     opt_args[\u001b[38;5;124m\"\u001b[39m\u001b[38;5;124mn_iter_without_progress\u001b[39m\u001b[38;5;124m\"\u001b[39m] \u001b[38;5;241m=\u001b[39m \u001b[38;5;28mself\u001b[39m\u001b[38;5;241m.\u001b[39mn_iter_without_progress\n\u001b[0;32m-> 1112\u001b[0m     params, kl_divergence, it \u001b[38;5;241m=\u001b[39m \u001b[43m_gradient_descent\u001b[49m\u001b[43m(\u001b[49m\u001b[43mobj_func\u001b[49m\u001b[43m,\u001b[49m\u001b[43m \u001b[49m\u001b[43mparams\u001b[49m\u001b[43m,\u001b[49m\u001b[43m \u001b[49m\u001b[38;5;241;43m*\u001b[39;49m\u001b[38;5;241;43m*\u001b[39;49m\u001b[43mopt_args\u001b[49m\u001b[43m)\u001b[49m\n\u001b[1;32m   1114\u001b[0m \u001b[38;5;66;03m# Save the final number of iterations\u001b[39;00m\n\u001b[1;32m   1115\u001b[0m \u001b[38;5;28mself\u001b[39m\u001b[38;5;241m.\u001b[39mn_iter_ \u001b[38;5;241m=\u001b[39m it\n",
      "File \u001b[0;32m~/anaconda3/envs/v1dd-public-2/lib/python3.10/site-packages/sklearn/manifold/_t_sne.py:403\u001b[0m, in \u001b[0;36m_gradient_descent\u001b[0;34m(objective, p0, it, max_iter, n_iter_check, n_iter_without_progress, momentum, learning_rate, min_gain, min_grad_norm, verbose, args, kwargs)\u001b[0m\n\u001b[1;32m    400\u001b[0m \u001b[38;5;66;03m# only compute the error when needed\u001b[39;00m\n\u001b[1;32m    401\u001b[0m kwargs[\u001b[38;5;124m\"\u001b[39m\u001b[38;5;124mcompute_error\u001b[39m\u001b[38;5;124m\"\u001b[39m] \u001b[38;5;241m=\u001b[39m check_convergence \u001b[38;5;129;01mor\u001b[39;00m i \u001b[38;5;241m==\u001b[39m max_iter \u001b[38;5;241m-\u001b[39m \u001b[38;5;241m1\u001b[39m\n\u001b[0;32m--> 403\u001b[0m error, grad \u001b[38;5;241m=\u001b[39m \u001b[43mobjective\u001b[49m\u001b[43m(\u001b[49m\u001b[43mp\u001b[49m\u001b[43m,\u001b[49m\u001b[43m \u001b[49m\u001b[38;5;241;43m*\u001b[39;49m\u001b[43margs\u001b[49m\u001b[43m,\u001b[49m\u001b[43m \u001b[49m\u001b[38;5;241;43m*\u001b[39;49m\u001b[38;5;241;43m*\u001b[39;49m\u001b[43mkwargs\u001b[49m\u001b[43m)\u001b[49m\n\u001b[1;32m    405\u001b[0m inc \u001b[38;5;241m=\u001b[39m update \u001b[38;5;241m*\u001b[39m grad \u001b[38;5;241m<\u001b[39m \u001b[38;5;241m0.0\u001b[39m\n\u001b[1;32m    406\u001b[0m dec \u001b[38;5;241m=\u001b[39m np\u001b[38;5;241m.\u001b[39minvert(inc)\n",
      "File \u001b[0;32m~/anaconda3/envs/v1dd-public-2/lib/python3.10/site-packages/sklearn/manifold/_t_sne.py:284\u001b[0m, in \u001b[0;36m_kl_divergence_bh\u001b[0;34m(params, P, degrees_of_freedom, n_samples, n_components, angle, skip_num_points, verbose, compute_error, num_threads)\u001b[0m\n\u001b[1;32m    281\u001b[0m indptr \u001b[38;5;241m=\u001b[39m P\u001b[38;5;241m.\u001b[39mindptr\u001b[38;5;241m.\u001b[39mastype(np\u001b[38;5;241m.\u001b[39mint64, copy\u001b[38;5;241m=\u001b[39m\u001b[38;5;28;01mFalse\u001b[39;00m)\n\u001b[1;32m    283\u001b[0m grad \u001b[38;5;241m=\u001b[39m np\u001b[38;5;241m.\u001b[39mzeros(X_embedded\u001b[38;5;241m.\u001b[39mshape, dtype\u001b[38;5;241m=\u001b[39mnp\u001b[38;5;241m.\u001b[39mfloat32)\n\u001b[0;32m--> 284\u001b[0m error \u001b[38;5;241m=\u001b[39m \u001b[43m_barnes_hut_tsne\u001b[49m\u001b[38;5;241;43m.\u001b[39;49m\u001b[43mgradient\u001b[49m\u001b[43m(\u001b[49m\n\u001b[1;32m    285\u001b[0m \u001b[43m    \u001b[49m\u001b[43mval_P\u001b[49m\u001b[43m,\u001b[49m\n\u001b[1;32m    286\u001b[0m \u001b[43m    \u001b[49m\u001b[43mX_embedded\u001b[49m\u001b[43m,\u001b[49m\n\u001b[1;32m    287\u001b[0m \u001b[43m    \u001b[49m\u001b[43mneighbors\u001b[49m\u001b[43m,\u001b[49m\n\u001b[1;32m    288\u001b[0m \u001b[43m    \u001b[49m\u001b[43mindptr\u001b[49m\u001b[43m,\u001b[49m\n\u001b[1;32m    289\u001b[0m \u001b[43m    \u001b[49m\u001b[43mgrad\u001b[49m\u001b[43m,\u001b[49m\n\u001b[1;32m    290\u001b[0m \u001b[43m    \u001b[49m\u001b[43mangle\u001b[49m\u001b[43m,\u001b[49m\n\u001b[1;32m    291\u001b[0m \u001b[43m    \u001b[49m\u001b[43mn_components\u001b[49m\u001b[43m,\u001b[49m\n\u001b[1;32m    292\u001b[0m \u001b[43m    \u001b[49m\u001b[43mverbose\u001b[49m\u001b[43m,\u001b[49m\n\u001b[1;32m    293\u001b[0m \u001b[43m    \u001b[49m\u001b[43mdof\u001b[49m\u001b[38;5;241;43m=\u001b[39;49m\u001b[43mdegrees_of_freedom\u001b[49m\u001b[43m,\u001b[49m\n\u001b[1;32m    294\u001b[0m \u001b[43m    \u001b[49m\u001b[43mcompute_error\u001b[49m\u001b[38;5;241;43m=\u001b[39;49m\u001b[43mcompute_error\u001b[49m\u001b[43m,\u001b[49m\n\u001b[1;32m    295\u001b[0m \u001b[43m    \u001b[49m\u001b[43mnum_threads\u001b[49m\u001b[38;5;241;43m=\u001b[39;49m\u001b[43mnum_threads\u001b[49m\u001b[43m,\u001b[49m\n\u001b[1;32m    296\u001b[0m \u001b[43m\u001b[49m\u001b[43m)\u001b[49m\n\u001b[1;32m    297\u001b[0m c \u001b[38;5;241m=\u001b[39m \u001b[38;5;241m2.0\u001b[39m \u001b[38;5;241m*\u001b[39m (degrees_of_freedom \u001b[38;5;241m+\u001b[39m \u001b[38;5;241m1.0\u001b[39m) \u001b[38;5;241m/\u001b[39m degrees_of_freedom\n\u001b[1;32m    298\u001b[0m grad \u001b[38;5;241m=\u001b[39m grad\u001b[38;5;241m.\u001b[39mravel()\n",
      "\u001b[0;31mKeyboardInterrupt\u001b[0m: "
     ]
    },
    {
     "data": {
      "image/png": "[encoded data removed]",
      "text/plain": [
       "<Figure size 1600x200 with 1 Axes>"
      ]
     },
     "metadata": {},
     "output_type": "display_data"
    }
   ],
   "source": [
    "colors = []\n",
    "colors.extend([(i/255, i/255, i/255) for i in np.linspace(80, 200, 128)])\n",
    "colors.extend([(1, i/255, i/255) for i in np.linspace(200, 30, 128)])\n",
    "custom_gray_cmap = LinearSegmentedColormap.from_list(\"custom_gray_to_red\", colors, N=256)\n",
    "\n",
    "# colors = ['#009444',\n",
    "#           '#009444', # change this\n",
    "#           \"#21409A\",\n",
    "#           \"#EE2A7B\",\n",
    "#           \"#8DC63F\",\n",
    "#           \"#F15A29\"\n",
    "#           \"#73FF98\"]\n",
    "\n",
    "def create_tsne_plot_2d(data, labels, stim_name, ax, perplexity=30, early_exaggeration=12.0, learning_rate=200, cmap='autumn'):\n",
    "    tsne = TSNE(\n",
    "        n_components=2,\n",
    "        perplexity=perplexity,\n",
    "        early_exaggeration=early_exaggeration,\n",
    "        learning_rate=learning_rate,\n",
    "        random_state=42\n",
    "    )\n",
    "    \n",
    "    embedding = tsne.fit_transform(data)\n",
    "    unique_labels = np.unique(labels)\n",
    "    label_to_color = {label: idx for idx, label in enumerate(unique_labels)}\n",
    "    color_labels = np.array([label_to_color[label] for label in labels])\n",
    "\n",
    "    sc = ax.scatter(\n",
    "        x=embedding[:, 0],\n",
    "        y=embedding[:, 1],\n",
    "        c=color_labels,\n",
    "        cmap=cmap,\n",
    "        alpha=0.5,\n",
    "        s=0.001\n",
    "    )\n",
    "\n",
    "    plt.colorbar(sc, ax=ax)\n",
    "    plt.tight_layout()\n",
    "    ax.set_title(f'{stim_name}')\n",
    "    ax.set_xlabel('t-SNE1')\n",
    "    ax.set_ylabel('t-SNE2')\n",
    "\n",
    "plt.figure(figsize=(16, 2))\n",
    "for j in range(7):\n",
    "    X_subset = X\n",
    "    X_subset_labels = features_stacked[:,j]\n",
    "    ax = plt.subplot(1, 7, j+1)\n",
    "    create_tsne_plot_2d(X_subset, X_subset_labels, stim_name=stim_names[j], ax=ax, perplexity=30, \\\n",
    "        early_exaggeration=12.0, learning_rate=200, cmap=custom_gray_cmap)"
   ]
  },
  {
   "cell_type": "code",
   "execution_count": 22,
   "metadata": {},
   "outputs": [
    {
     "name": "stderr",
     "output_type": "stream",
     "text": [
      "The PostScript backend does not support transparency; partially transparent artists will be rendered opaque.\n"
     ]
    },
    {
     "data": {
      "image/png": "[encoded data removed]",
      "text/plain": [
       "<Figure size 1600x200 with 8 Axes>"
      ]
     },
     "metadata": {},
     "output_type": "display_data"
    }
   ],
   "source": [
    "mouse_ids = cell_info['mouse_id'].values\n",
    "mice = cell_info['mouse_id'].unique()\n",
    "\n",
    "plt.figure(figsize=(16, 2))\n",
    "for j in range(4):\n",
    "    X_subset = X\n",
    "    X_subset_labels = mouse_ids == mice[j]\n",
    "    X_subset_labels = X_subset_labels.astype(int)\n",
    "    ax = plt.subplot(1, 7, j+1)\n",
    "    create_tsne_plot_2d(X_subset, X_subset_labels, stim_name=mice[j], ax=ax, perplexity=30, \\\n",
    "        early_exaggeration=12.0, learning_rate=200, cmap=custom_gray_cmap)\n",
    "\n",
    "plt.savefig('/home/naomi/Desktop/figures/v1dd_plots/supp_tsne_mice.eps', format='eps', dpi=300)"
   ]
  },
  {
   "cell_type": "code",
   "execution_count": null,
   "metadata": {},
   "outputs": [],
   "source": []
  },
  {
   "cell_type": "code",
   "execution_count": null,
   "metadata": {},
   "outputs": [],
   "source": []
  },
  {
   "cell_type": "code",
   "execution_count": null,
   "metadata": {},
   "outputs": [],
   "source": []
  },
  {
   "cell_type": "code",
   "execution_count": 9,
   "metadata": {},
   "outputs": [
    {
     "data": {
      "text/plain": [
       "array([[0.20930233, 0.18181818, 0.14285714, ..., 0.625     , 0.475     ,\n",
       "        0.75      ],\n",
       "       [0.06818182, 0.09090909, 0.        , ..., 0.125     , 0.05      ,\n",
       "        0.125     ],\n",
       "       [0.13953488, 0.22727273, 0.28571429, ..., 0.125     , 0.125     ,\n",
       "        1.        ],\n",
       "       ...,\n",
       "       [0.13953488, 0.20454545, 0.5       , ..., 0.375     , 0.15      ,\n",
       "        0.5       ],\n",
       "       [0.20454545, 0.11627907, 0.25      , ..., 0.5       , 0.15      ,\n",
       "        0.25      ],\n",
       "       [0.18181818, 0.15909091, 0.        , ..., 0.375     , 0.15      ,\n",
       "        0.5       ]])"
      ]
     },
     "execution_count": 9,
     "metadata": {},
     "output_type": "execute_result"
    }
   ],
   "source": [
    "features_stacked"
   ]
  },
  {
   "cell_type": "code",
   "execution_count": null,
   "metadata": {},
   "outputs": [
    {
     "data": {
      "text/plain": [
       "array([[0.20930233, 0.18181818, 0.14285714, ..., 0.625     , 0.475     ,\n",
       "        0.75      ],\n",
       "       [0.06818182, 0.09090909, 0.        , ..., 0.125     , 0.05      ,\n",
       "        0.125     ],\n",
       "       [0.13953488, 0.22727273, 0.28571429, ..., 0.125     , 0.125     ,\n",
       "        1.        ],\n",
       "       ...,\n",
       "       [0.13953488, 0.20454545, 0.5       , ..., 0.375     , 0.15      ,\n",
       "        0.5       ],\n",
       "       [0.20454545, 0.11627907, 0.25      , ..., 0.5       , 0.15      ,\n",
       "        0.25      ],\n",
       "       [0.18181818, 0.15909091, 0.        , ..., 0.375     , 0.15      ,\n",
       "        0.5       ]])"
      ]
     },
     "execution_count": 8,
     "metadata": {},
     "output_type": "execute_result"
    }
   ],
   "source": [
    "plt.scatter(X)"
   ]
  },
  {
   "cell_type": "markdown",
   "metadata": {},
   "source": [
    "### GMM Clustering"
   ]
  },
  {
   "cell_type": "code",
   "execution_count": null,
   "metadata": {},
   "outputs": [
    {
     "name": "stderr",
     "output_type": "stream",
     "text": [
      "/tmp/ipykernel_4140836/1906151156.py:8: SettingWithCopyWarning: \n",
      "A value is trying to be set on a copy of a slice from a DataFrame\n",
      "\n",
      "See the caveats in the documentation: https://pandas.pydata.org/pandas-docs/stable/user_guide/indexing.html#returning-a-view-versus-a-copy\n",
      "  features.rename(columns = {\n"
     ]
    }
   ],
   "source": [
    "res2 = ['frac_resp_dgf',\n",
    "        'frac_resp_dgw',\n",
    "        'frac_res_to_ns118',\n",
    "        'frac_resp_nm'\n",
    "       ]\n",
    "features = cell_info[res2]\n",
    "\n",
    "features.rename(columns = {\n",
    "       'frac_resp_dgf':'DGF',\n",
    "       'frac_resp_dgw':'DGW',\n",
    "       'frac_res_to_ns118':'NI',\n",
    "       'frac_resp_nm':'NM'},\n",
    "        inplace = True)\n",
    "\n",
    "all_features = [features[f] for f in features.columns.tolist()]\n",
    "features_stacked = np.vstack(all_features).T\n",
    "X = features_stacked"
   ]
  },
  {
   "cell_type": "code",
   "execution_count": null,
   "metadata": {},
   "outputs": [],
   "source": [
    "class CustomGMM(GaussianMixture): \n",
    "    def __init__(self, n_components=1, *, random_state=None, **kwargs): \n",
    "        super().__init__(n_components=n_components, random_state=random_state, **kwargs) \n",
    "        self.all_results_ = []\n",
    "    def fit(self, X, y=None):\n",
    "        super().fit(X, y) \n",
    "        result = {\n",
    "                \"n_components\": self.n_components,\n",
    "                \"random_state\": self.random_state,\n",
    "                \"log_likelihood\": self.lower_bound_,\n",
    "                \"weights\": self.weights_,\n",
    "                \"means\": self.means_,\n",
    "                \"covariances\": self.covariances_ \n",
    "                } \n",
    "        self.all_results_.append(result) \n",
    "        return self\n",
    "    \n",
    "def sum_by_class(class_labels, values):\n",
    "    if len(class_labels) != len(values):\n",
    "        raise ValueError(\"Both arrays must have the same length.\")\n",
    "\n",
    "    class_sums = {}\n",
    "    for class_label, value in zip(class_labels, values):\n",
    "        if class_label not in class_sums:\n",
    "            class_sums[class_label] = value\n",
    "        else:\n",
    "            class_sums[class_label] += value\n",
    "    summed_values = np.array(list(class_sums.values()))\n",
    "    return summed_values\n",
    "\n",
    "def gmm_bic_score(estimator, X):\n",
    "    \"\"\"Callable to pass to GridSearchCV that will use the BIC score.\"\"\"\n",
    "    return -estimator.bic(X)"
   ]
  },
  {
   "cell_type": "code",
   "execution_count": null,
   "metadata": {},
   "outputs": [],
   "source": [
    "tag = \"240404\""
   ]
  },
  {
   "cell_type": "markdown",
   "metadata": {},
   "source": [
    "Run the following cell only once (I already ran it and the results are saved under artifacts/custering). This is trying to replicate the GMM clustering suggested in de Vries paper. However, for some reason the number of optimal cluster is very close to the max_n_components. This needs some troubleshooting. However, I tried many different numbers and in the end the number of remaining cluster classes are very consistent regardless of this initial number of clusters."
   ]
  },
  {
   "cell_type": "code",
   "execution_count": null,
   "metadata": {},
   "outputs": [],
   "source": [
    "# min_n_components = 1\n",
    "# max_n_components = 30\n",
    "# all_final_cluster_classes = []\n",
    "# all_unique_classes_sorted = []\n",
    "# all_summed_values = []\n",
    "# all_clusters = []\n",
    "# all_percent_neurons_in_mice = []\n",
    "# all_mean_reliab_in_clusters_sorted = []\n",
    "# all_new_class_idx_sorted = []\n",
    "\n",
    "# for init in range(100):\n",
    "#     param_grid = { 'n_components': list(range(min_n_components, max_n_components)),\n",
    "#                 'random_state': [init]\n",
    "#                 }\n",
    "#     custom_gmm = CustomGMM() \n",
    "#     model = GridSearchCV(custom_gmm, param_grid, cv=4, n_jobs=-1, verbose=4, scoring=gmm_bic_score)\n",
    "#     model.fit(X) \n",
    "#     print(f\"Best Number of Clusters: {model.best_params_['n_components']} with Score: {-model.best_score_:.4f}\")\n",
    "    \n",
    "#     clusters = model.best_estimator_.predict(X)\n",
    "#     n_clusters = model.best_estimator_.means_.shape[0]\n",
    "#     n_groups = 4\n",
    "\n",
    "#     mean_reliab_in_clusters = np.zeros((n_clusters, n_groups))\n",
    "#     groups_in_cluster = np.zeros((n_clusters, n_groups))\n",
    "\n",
    "#     for cluster in range(n_clusters):\n",
    "#         for g in range(n_groups):\n",
    "#             cell_ind_in_cluster = np.where(clusters == cluster)[0]     \n",
    "#             reliabilities_in_cluster = X[cell_ind_in_cluster, g]\n",
    "#             mean_reliab_in_clusters[cluster, g] = np.nanmean(reliabilities_in_cluster)\n",
    "\n",
    "#     cluster_means = model.best_estimator_.means_\n",
    "#     cluster_means_array = np.mean(cluster_means, axis=1)\n",
    "#     cluster_ind_sorted = np.argsort(cluster_means_array)\n",
    "#     mean_reliab_in_clusters_sorted = mean_reliab_in_clusters[cluster_ind_sorted, :] \n",
    "#     all_mean_reliab_in_clusters_sorted.append(mean_reliab_in_clusters_sorted)\n",
    "    \n",
    "#     cluster_with_lowest_mean = cluster_ind_sorted[0]\n",
    "    \n",
    "#     # threshold for each column\n",
    "#     threshold_for_each_column = mean_reliab_in_clusters[cluster_with_lowest_mean,:] + np.std(mean_reliab_in_clusters, axis = 0)\n",
    "#     thresh = threshold_for_each_column\n",
    "\n",
    "#     group_names = [\"DGF\",\"DGW\",\"NI\",\"NM\"]\n",
    "#     group_names_arr = np.asarray(group_names, dtype=object)\n",
    "#     cluster_classes = []\n",
    "#     cluster_assignments = mean_reliab_in_clusters_sorted > thresh\n",
    "    \n",
    "#     for cluster in range(n_clusters):\n",
    "#         cluster_class = group_names_arr[cluster_assignments[cluster]].tolist()\n",
    "#         cluster_classes.append(cluster_class)\n",
    "#     unique_classes = [list(x) for x in set(tuple(x) for x in cluster_classes)]\n",
    "#     unique_classes_sorted = sorted(unique_classes, key=len)\n",
    "\n",
    "#     classes = []\n",
    "#     for x in cluster_classes:\n",
    "#         index = unique_classes_sorted.index(x)\n",
    "#         classes.append(index)\n",
    "#     classes_arr = np.array(classes)\n",
    "#     new_class_idx_sorted = np.argsort(classes_arr)\n",
    "#     all_new_class_idx_sorted.append(new_class_idx_sorted)\n",
    "    \n",
    "#     final_cluster_classes = []\n",
    "#     for cluster in range(n_clusters):\n",
    "#         final_cluster_classes.append(cluster_classes[new_class_idx_sorted[cluster]])\n",
    "        \n",
    "#     final_classes = []\n",
    "#     for cluster_class in final_cluster_classes:\n",
    "#         index = unique_classes_sorted.index(cluster_class)\n",
    "#         final_classes.append(index)\n",
    "\n",
    "#     original_cluster_classes = []\n",
    "#     cluster_assignments = mean_reliab_in_clusters > thresh\n",
    "#     for cluster in range(n_clusters):\n",
    "#         cluster_class = group_names_arr[cluster_assignments[cluster]].tolist()\n",
    "#         original_cluster_classes.append(cluster_class)\n",
    "    \n",
    "#     all_final_cluster_classes.append(final_cluster_classes)\n",
    "#     all_unique_classes_sorted.append(unique_classes_sorted)\n",
    "   \n",
    "#     percent_neurons_in_cluster = []\n",
    "#     for cluster in new_class_idx_sorted:\n",
    "#         cell_ind_in_cluster_1_g0 = np.where((clusters == cluster))[0]\n",
    "#         percent_neurons_in_cluster.append(len(features.iloc[cell_ind_in_cluster_1_g0]) * 100/ len(features))\n",
    "        \n",
    "#     summed_values = sum_by_class(final_classes, percent_neurons_in_cluster)\n",
    "#     all_summed_values.append(summed_values)\n",
    "#     all_clusters.append(clusters)\n",
    "\n",
    "#     unique_mice = cell_info.mouse_id.unique()\n",
    "#     percent_neurons_in_mouse = np.zeros((len(unique_mice)))\n",
    "\n",
    "#     for i, mouse in enumerate(unique_mice):\n",
    "#         mouse_cell_info = cell_info.loc[cell_info[\"mouse_id\"] == mouse]\n",
    "\n",
    "#         percent_neurons_in_mouse[i] = len(mouse_cell_info)*100/ len(cell_info)\n",
    "        \n",
    "#     all_percent_neurons_in_mice.append(percent_neurons_in_mouse)\n",
    "\n",
    "\n",
    "# open_file = open(ARTIFACT_DIR / \"clustering\" / \"all_final_cluster_classes_{tag}.pkl\", \"wb\")\n",
    "# pickle.dump(all_final_cluster_classes, open_file)\n",
    "# open_file.close()\n",
    "\n",
    "# open_file = open(ARTIFACT_DIR / \"clustering\" / \"all_unique_classes_sorted_{tag}.pkl\", \"wb\")\n",
    "# pickle.dump(all_unique_classes_sorted, open_file)\n",
    "# open_file.close()\n",
    "\n",
    "# open_file = open(ARTIFACT_DIR / \"clustering\" / \"all_summed_values_{tag}.pkl\", \"wb\")\n",
    "# pickle.dump(all_summed_values, open_file)\n",
    "# open_file.close()\n",
    "\n",
    "# open_file = open(ARTIFACT_DIR / \"clustering\" / \"all_clusters_{tag}.pkl\", \"wb\")\n",
    "# pickle.dump(all_clusters, open_file)\n",
    "# open_file.close()\n",
    "\n",
    "# open_file = open(ARTIFACT_DIR / \"clustering\" / \"all_percent_neurons_in_mice_{tag}.pkl\", \"wb\")\n",
    "# pickle.dump(all_percent_neurons_in_mice, open_file)\n",
    "# open_file.close()\n",
    "\n",
    "# open_file = open(ARTIFACT_DIR / \"clustering\" / \"all_mean_reliab_in_clusters_sorted_{tag}.pkl\", \"wb\")\n",
    "# pickle.dump(all_mean_reliab_in_clusters_sorted, open_file)\n",
    "# open_file.close()\n",
    "\n",
    "# open_file = open(ARTIFACT_DIR / \"clustering\" / \"all_new_class_idx_sorted_{tag}.pkl\", \"wb\")\n",
    "# pickle.dump(all_new_class_idx_sorted, open_file)\n",
    "# open_file.close()"
   ]
  },
  {
   "cell_type": "code",
   "execution_count": null,
   "metadata": {},
   "outputs": [
    {
     "name": "stdout",
     "output_type": "stream",
     "text": [
      "Best Number of Clusters: 48 with Score: -267305.8217\n"
     ]
    }
   ],
   "source": [
    "saved_model = joblib.load(ARTIFACT_DIR / \"clustering\" / 'grid_search_1_50_clusters_100_initializations_240315_no_lsn_ni12.pkl')\n",
    "\n",
    "print(f\"Best Number of Clusters: {saved_model.best_params_['n_components']} with Score: {-saved_model.best_score_:.4f}\")"
   ]
  },
  {
   "cell_type": "markdown",
   "metadata": {},
   "source": [
    "#### Load results for clusters and 100 iterations"
   ]
  },
  {
   "cell_type": "code",
   "execution_count": null,
   "metadata": {},
   "outputs": [],
   "source": [
    "open_file = open(ARTIFACT_DIR/ \"clustering\" /\"all_final_cluster_classes_{tag}.pkl\", \"rb\")\n",
    "all_final_cluster_classes = pickle.load(open_file)\n",
    "open_file.close()\n",
    "\n",
    "open_file = open(ARTIFACT_DIR / \"clustering\" /\"all_unique_classes_sorted_{tag}.pkl\", \"rb\")\n",
    "all_unique_classes_sorted = pickle.load(open_file)\n",
    "open_file.close()\n",
    "\n",
    "open_file = open(ARTIFACT_DIR / \"clustering\" /\"all_summed_values_{tag}.pkl\", \"rb\")\n",
    "all_summed_values = pickle.load(open_file)\n",
    "open_file.close()\n",
    "\n",
    "open_file = open(ARTIFACT_DIR / \"clustering\" /\"all_clusters_{tag}.pkl\", \"rb\")\n",
    "all_clusters = pickle.load(open_file)\n",
    "open_file.close()\n",
    "\n",
    "open_file = open(ARTIFACT_DIR / \"clustering\" /\"all_percent_neurons_in_mice_{tag}.pkl\", \"rb\")\n",
    "all_percent_neurons_in_mice = pickle.load(open_file)\n",
    "open_file.close()\n",
    "\n",
    "open_file = open(ARTIFACT_DIR / \"clustering\" /\"all_mean_reliab_in_clusters_sorted_{tag}.pkl\", \"rb\")\n",
    "all_mean_reliab_in_clusters_sorted = pickle.load(open_file)\n",
    "open_file.close()\n",
    "\n",
    "open_file = open(ARTIFACT_DIR / \"clustering\" /\"all_new_class_idx_sorted_{tag}.pkl\", \"rb\")\n",
    "all_new_class_idx_sorted = pickle.load(open_file)\n",
    "open_file.close()"
   ]
  },
  {
   "cell_type": "markdown",
   "metadata": {},
   "source": [
    "Here I ran the analysis with 29 clusters despite the fact that the optimal number of clusters was 48 (I did anotehr run from 1-30 which gave me 29 as the number of optimal clusters but unfortunately I did not save that run, but you can run it again)"
   ]
  },
  {
   "cell_type": "code",
   "execution_count": null,
   "metadata": {},
   "outputs": [],
   "source": [
    "all_final_cluster_classes = []\n",
    "all_unique_classes_sorted = []\n",
    "all_summed_values = []\n",
    "all_percent_neurons_in_mice = []\n",
    "all_new_class_idx_sorted = []\n",
    "\n",
    "for init in range(100):\n",
    "    \n",
    "    clusters = all_clusters[init]\n",
    "    n_clusters = 29\n",
    "    n_groups = 4\n",
    "\n",
    "    mean_reliab_in_clusters = all_mean_reliab_in_clusters_sorted[init]\n",
    "    \n",
    "    # This is the threshold based on de Vries paper\n",
    "    cluster_with_lowest_mean = 0\n",
    "    threshold2 = np.max(mean_reliab_in_clusters[cluster_with_lowest_mean,:]) +\\\n",
    "        np.std(mean_reliab_in_clusters[cluster_with_lowest_mean,:])\n",
    "    \n",
    "    # you can comment the lines above and run the rest of the analyis using 3 different thresholds as in the supplmentary figure \n",
    "    # threshold2 = 0.75 # 0.25, 0.5\n",
    "\n",
    "    group_names = [\"DGF\",\"DGW\",\"NI\",\"NM\"]\n",
    "    group_names_arr = np.asarray(group_names, dtype=object)\n",
    "    cluster_classes = []\n",
    "    cluster_assignments = mean_reliab_in_clusters > threshold2\n",
    "    \n",
    "    for cluster in range(n_clusters):\n",
    "        cluster_class = group_names_arr[cluster_assignments[cluster]].tolist()\n",
    "        cluster_classes.append(cluster_class)\n",
    "    unique_classes = [list(x) for x in set(tuple(x) for x in cluster_classes)]\n",
    "    unique_classes_sorted = sorted(unique_classes, key=len)\n",
    "\n",
    "    classes = []\n",
    "    for x in cluster_classes:\n",
    "        index = unique_classes_sorted.index(x)\n",
    "        classes.append(index)\n",
    "    classes_arr = np.array(classes)\n",
    "    new_class_idx_sorted = np.argsort(classes_arr)\n",
    "    all_new_class_idx_sorted.append(new_class_idx_sorted)\n",
    "    \n",
    "    final_cluster_classes = []\n",
    "    for cluster in range(n_clusters):\n",
    "        final_cluster_classes.append(cluster_classes[new_class_idx_sorted[cluster]])\n",
    "        \n",
    "    final_classes = []\n",
    "    for cluster_class in final_cluster_classes:\n",
    "        index = unique_classes_sorted.index(cluster_class)\n",
    "        final_classes.append(index)\n",
    "\n",
    "    original_cluster_classes = []\n",
    "    for cluster in range(n_clusters):\n",
    "        cluster_class = group_names_arr[cluster_assignments[cluster]].tolist()\n",
    "        original_cluster_classes.append(cluster_class)\n",
    "    \n",
    "    all_final_cluster_classes.append(final_cluster_classes)\n",
    "    all_unique_classes_sorted.append(unique_classes_sorted)\n",
    "   \n",
    "    percent_neurons_in_cluster = []\n",
    "    for cluster in new_class_idx_sorted:\n",
    "        cell_ind_in_cluster_1_g0 = np.where((clusters == cluster))[0]\n",
    "        percent_neurons_in_cluster.append(len(features.iloc[cell_ind_in_cluster_1_g0]) * 100/ len(features))\n",
    "        \n",
    "    summed_values = sum_by_class(final_classes, percent_neurons_in_cluster)\n",
    "    all_summed_values.append(summed_values)\n",
    "    \n",
    "    unique_mice = cell_info.mouse_id.unique()\n",
    "    percent_neurons_in_mouse = np.zeros((len(unique_mice)))\n",
    "\n",
    "    for i, mouse in enumerate(unique_mice):\n",
    "        mouse_cell_info = cell_info.loc[cell_info[\"mouse_id\"] == mouse]\n",
    "\n",
    "        percent_neurons_in_mouse[i] = len(mouse_cell_info)*100/ len(cell_info)\n",
    "        \n",
    "    all_percent_neurons_in_mice.append(percent_neurons_in_mouse)"
   ]
  },
  {
   "cell_type": "code",
   "execution_count": null,
   "metadata": {},
   "outputs": [
    {
     "data": {
      "text/plain": [
       "array([ 0,  3,  0,  0,  0,  2,  2,  1,  2,  4,  5,  3,  7,  6,  8,  5,  3,\n",
       "        6,  7,  7, 10,  8,  5,  6,  7, 10,  9, 10, 11])"
      ]
     },
     "execution_count": 14,
     "metadata": {},
     "output_type": "execute_result"
    }
   ],
   "source": [
    "classes_arr"
   ]
  },
  {
   "cell_type": "code",
   "execution_count": null,
   "metadata": {},
   "outputs": [
    {
     "data": {
      "text/plain": [
       "[[],\n",
       " [],\n",
       " [],\n",
       " ['DGW'],\n",
       " ['DGW'],\n",
       " ['DGW'],\n",
       " ['NM'],\n",
       " ['NM'],\n",
       " ['NM'],\n",
       " ['DGF'],\n",
       " ['NI'],\n",
       " ['NI'],\n",
       " ['NI'],\n",
       " ['DGF', 'DGW'],\n",
       " ['NI', 'NM'],\n",
       " ['NI', 'NM'],\n",
       " ['DGW', 'NM'],\n",
       " ['DGW', 'NM'],\n",
       " ['DGW', 'NI'],\n",
       " ['DGF', 'NM'],\n",
       " ['DGF', 'NM'],\n",
       " ['DGF', 'NM'],\n",
       " ['DGF', 'NM'],\n",
       " ['DGF', 'NI', 'NM'],\n",
       " ['DGW', 'NI', 'NM'],\n",
       " ['DGF', 'DGW', 'NM'],\n",
       " ['DGF', 'DGW', 'NM'],\n",
       " ['DGF', 'DGW', 'NM'],\n",
       " ['DGF', 'DGW', 'NI', 'NM']]"
      ]
     },
     "execution_count": 15,
     "metadata": {},
     "output_type": "execute_result"
    }
   ],
   "source": [
    "all_final_cluster_classes[0]"
   ]
  },
  {
   "cell_type": "code",
   "execution_count": null,
   "metadata": {},
   "outputs": [
    {
     "data": {
      "image/png": "[encoded data removed]",
      "text/plain": [
       "<Figure size 400x300 with 1 Axes>"
      ]
     },
     "metadata": {},
     "output_type": "display_data"
    }
   ],
   "source": [
    "thresholds = []\n",
    "\n",
    "for init in range(100):\n",
    "    mean_reliab_in_clusters = all_mean_reliab_in_clusters_sorted[init]\n",
    "    cluster_with_lowest_mean = 0 # it is already sorted\n",
    "    threshold2 = np.max(mean_reliab_in_clusters[cluster_with_lowest_mean,:]) +\\\n",
    "        np.std(mean_reliab_in_clusters[cluster_with_lowest_mean,:])\n",
    "    thresholds.append(threshold2)\n",
    "    \n",
    "plt.figure(figsize=((4,3)))\n",
    "plt.hist(thresholds, 100)\n",
    "plt.title('Thresholds')\n",
    "plt.show()"
   ]
  },
  {
   "cell_type": "markdown",
   "metadata": {},
   "source": [
    "### Define all unique cluster classes"
   ]
  },
  {
   "cell_type": "code",
   "execution_count": null,
   "metadata": {},
   "outputs": [],
   "source": [
    "ordered_clusters = [\n",
    "    [],\n",
    "    ['DGF'],\n",
    "    ['DGW'],\n",
    "    ['DGF', 'DGW'],\n",
    "    ['NI'],\n",
    "    ['DGF', 'NI'],\n",
    "    ['DGW', 'NI'],\n",
    "    ['DGF', 'DGW', 'NI'],\n",
    "    ['NM'],\n",
    "    ['DGF', 'NM'],\n",
    "    ['DGW', 'NM'],\n",
    "    ['DGF', 'DGW', 'NM'],\n",
    "    ['NI', 'NM'],\n",
    "    ['DGW', 'NI', 'NM'],\n",
    "    ['DGF', 'NI', 'NM'],\n",
    "    ['DGF', 'DGW', 'NI', 'NM']\n",
    "]"
   ]
  },
  {
   "cell_type": "code",
   "execution_count": null,
   "metadata": {},
   "outputs": [],
   "source": [
    "def plot_mean_values_above_threshold_colored_order(data, values, ordered_clusters, threshold=0, plot=1, return_sorted=0): \n",
    "    # This function include 0s in mean and std\n",
    "    flattened_data = [str(lst) for member in data for lst in member] \n",
    "    union_labels = list(set(flattened_data))\n",
    "    means = [] \n",
    "    errors = [] \n",
    "    labels = [] \n",
    "    label_index = []\n",
    "    for ilabel, label in enumerate(union_labels): \n",
    "        corresponding_values = [] \n",
    "        count = 0\n",
    "        for i, member in enumerate(data): \n",
    "            for j, sublist in enumerate(member): \n",
    "                if str(sublist) == label: \n",
    "                    if isinstance(values[i][j], (list, np.ndarray)):\n",
    "                        corresponding_values.extend(values[i][j].tolist()) \n",
    "                    else:\n",
    "                        corresponding_values.append(values[i][j]) \n",
    "                        count += 1\n",
    "        if count < threshold:\n",
    "            continue\n",
    "        label_index.append(ilabel)\n",
    "        \n",
    "        \n",
    "        corresponding_values_2 = corresponding_values + [0] * (100 - len(corresponding_values))\n",
    "        mean = np.mean(corresponding_values_2) \n",
    "        std_error = np.std(corresponding_values_2) / np.sqrt(len(corresponding_values_2)) \n",
    "        means.append(mean) \n",
    "        errors.append(std_error) \n",
    "        labels.append(label)\n",
    "    sorted_indices = np.argsort(means)[::-1] \n",
    "    means = np.array(means)[sorted_indices].tolist() \n",
    "    errors = np.array(errors)[sorted_indices].tolist()\n",
    "    labels = np.array(labels)[sorted_indices].tolist()\n",
    "    new_labels = [ast.literal_eval(label) for label in labels]\n",
    "\n",
    "    indices = [new_labels.index(label) if label in new_labels else -1 for label in ordered_clusters]\n",
    "    new_means = [means[i] if i != -1 else 0 for i in indices]\n",
    "    new_errs = [errors[i] if i != -1 else 0 for i in indices]\n",
    "    newer_labels = [str(label) for label in ordered_clusters]\n",
    "    \n",
    "    n_colors = 16\n",
    "    color_palette = sns.husl_palette(n_colors)\n",
    "    \n",
    "    if plot:\n",
    "        fig = plt.figure(figsize=(10, 7)) \n",
    "        bars = plt.bar(newer_labels, new_means, yerr=new_errs, capsize=5, color=color_palette) \n",
    "        plt.xticks(rotation=45, ha=\"right\", fontsize=10) \n",
    "        plt.yticks(fontsize=10) \n",
    "        plt.ylabel('Percent of neurons', fontsize=14) \n",
    "        plt.tight_layout() \n",
    "        plt.ylim([0, 40])\n",
    "        # fig.savefig(f\"clustering_no_lsn_ni12_29_clusters threshold={threshold2}_{tag}.eps\", format='eps')\n",
    "        \n",
    "    if return_sorted:\n",
    "        return sorted_indices, indices, label_index"
   ]
  },
  {
   "cell_type": "code",
   "execution_count": null,
   "metadata": {},
   "outputs": [
    {
     "data": {
      "text/plain": [
       "[[],\n",
       " ['DGW'],\n",
       " ['NM'],\n",
       " ['DGF'],\n",
       " ['NI'],\n",
       " ['DGF', 'DGW'],\n",
       " ['NI', 'NM'],\n",
       " ['DGW', 'NM'],\n",
       " ['DGW', 'NI'],\n",
       " ['DGF', 'NM'],\n",
       " ['DGF', 'NI', 'NM'],\n",
       " ['DGW', 'NI', 'NM'],\n",
       " ['DGF', 'DGW', 'NM'],\n",
       " ['DGF', 'DGW', 'NI', 'NM']]"
      ]
     },
     "execution_count": 20,
     "metadata": {},
     "output_type": "execute_result"
    }
   ],
   "source": [
    "all_unique_classes_sorted[0]"
   ]
  },
  {
   "cell_type": "code",
   "execution_count": null,
   "metadata": {},
   "outputs": [
    {
     "data": {
      "text/plain": [
       "array([13.31167729,  6.02256907, 10.63598601,  1.89584725,  9.77804439,\n",
       "        5.36043735,  6.21951081,  7.72147457,  3.56192912, 11.86177859,\n",
       "        3.91393419,  1.53365553, 11.54033344,  6.64282238])"
      ]
     },
     "execution_count": 21,
     "metadata": {},
     "output_type": "execute_result"
    }
   ],
   "source": [
    "all_summed_values[0]"
   ]
  },
  {
   "cell_type": "code",
   "execution_count": null,
   "metadata": {},
   "outputs": [
    {
     "data": {
      "image/png": "[encoded data removed]",
      "text/plain": [
       "<Figure size 1000x700 with 1 Axes>"
      ]
     },
     "metadata": {},
     "output_type": "display_data"
    }
   ],
   "source": [
    "plot_mean_values_above_threshold_colored_order(all_unique_classes_sorted, all_summed_values, \\\n",
    "    ordered_clusters, threshold=0)"
   ]
  },
  {
   "cell_type": "markdown",
   "metadata": {},
   "source": [
    "#### Plot the clusters for 1 example iteration"
   ]
  },
  {
   "cell_type": "code",
   "execution_count": null,
   "metadata": {},
   "outputs": [],
   "source": [
    "cmap_data = { 'red': [(0, 0, 0), (0.25, 1, 1), (0.4,1,1), (1, 0.9, 0.9)], 'green': [(0, 0, 0), (0.25, 1, 1), (0.4,0.45,0.45), (1, 0, 0)], 'blue': [(0, 1, 1), (0.25, 1, 1),(0.4,0.45,0.45), (1, 0, 0)] } \n",
    "dark_red_bwr = LinearSegmentedColormap('dark_red_bwr', cmap_data) \n"
   ]
  },
  {
   "cell_type": "code",
   "execution_count": null,
   "metadata": {},
   "outputs": [
    {
     "data": {
      "image/png": "[encoded data removed]",
      "text/plain": [
       "<Figure size 2000x1000 with 1 Axes>"
      ]
     },
     "metadata": {},
     "output_type": "display_data"
    }
   ],
   "source": [
    "iter_num = 1\n",
    "mean_reliab_in_clusters_sorted = all_mean_reliab_in_clusters_sorted[iter_num]\n",
    "thresh = 0.05\n",
    "plt.figure(figsize=(20,10))\n",
    "plt.imshow(mean_reliab_in_clusters_sorted, cmap =dark_red_bwr)\n",
    "plt.clim(vmin = -np.min(thresh),vmax = 1)\n",
    "plt.axis(\"off\")\n",
    "plt.show()"
   ]
  },
  {
   "cell_type": "code",
   "execution_count": null,
   "metadata": {},
   "outputs": [
    {
     "data": {
      "text/plain": [
       "array([[0.07510784, 0.0900876 , 0.2573324 , 0.28207635],\n",
       "       [0.19858588, 0.30822463, 0.19617945, 0.28483936],\n",
       "       [0.08100793, 0.08760378, 0.30779416, 0.53689045],\n",
       "       [0.30660338, 0.11679514, 0.28983583, 0.28604338],\n",
       "       [0.14266238, 0.11918875, 0.55342301, 0.29697191],\n",
       "       [0.08403894, 0.31148702, 0.30019014, 0.53418641],\n",
       "       [0.21125085, 0.31592751, 0.43033168, 0.29510617],\n",
       "       [0.15904117, 0.55005874, 0.28693262, 0.30807803],\n",
       "       [0.32729417, 0.17814224, 0.3158658 , 0.56085378],\n",
       "       [0.117335  , 0.14010317, 0.2979446 , 0.85295813],\n",
       "       [0.55116118, 0.23503725, 0.27351304, 0.35835938],\n",
       "       [0.19013969, 0.24940781, 0.57989966, 0.5900975 ],\n",
       "       [0.46263194, 0.55401231, 0.30703217, 0.29511464],\n",
       "       [0.2885227 , 0.48093532, 0.32174936, 0.54899368],\n",
       "       [0.48888129, 0.25776869, 0.57727804, 0.36084372],\n",
       "       [0.26171625, 0.24669436, 0.8674015 , 0.34410048],\n",
       "       [0.23401186, 0.83880106, 0.29508377, 0.3793561 ],\n",
       "       [0.87554124, 0.17467354, 0.34684278, 0.39539233],\n",
       "       [0.32359774, 0.34708526, 0.30551408, 0.87961106],\n",
       "       [0.56342352, 0.47798324, 0.38069925, 0.61944079],\n",
       "       [0.31214431, 0.70308145, 0.74794207, 0.41753388],\n",
       "       [0.88006095, 0.50664357, 0.34682176, 0.40329596],\n",
       "       [0.32338485, 0.78608237, 0.31688547, 0.821386  ],\n",
       "       [0.34318526, 0.29917971, 0.80300353, 0.80308402],\n",
       "       [0.64037992, 0.87204259, 0.3168146 , 0.42608207],\n",
       "       [0.82435178, 0.28888597, 0.34576427, 0.82011288],\n",
       "       [0.99231998, 0.90280681, 0.37530488, 0.43923216],\n",
       "       [0.89265005, 0.4527261 , 0.85182985, 0.54994455],\n",
       "       [0.83786925, 0.83317655, 0.37102634, 0.82384953]])"
      ]
     },
     "execution_count": 25,
     "metadata": {},
     "output_type": "execute_result"
    }
   ],
   "source": [
    "mean_reliab_in_clusters_sorted"
   ]
  },
  {
   "cell_type": "code",
   "execution_count": null,
   "metadata": {},
   "outputs": [
    {
     "data": {
      "text/plain": [
       "array([[False, False, False, False],\n",
       "       [False, False,  True, False],\n",
       "       [False, False, False, False],\n",
       "       [False, False, False, False],\n",
       "       [False, False, False, False],\n",
       "       [False, False, False,  True],\n",
       "       [False, False, False,  True],\n",
       "       [False,  True, False, False],\n",
       "       [False, False, False,  True],\n",
       "       [ True,  True, False, False],\n",
       "       [False, False,  True,  True],\n",
       "       [False, False,  True, False],\n",
       "       [ True, False, False,  True],\n",
       "       [False,  True, False,  True],\n",
       "       [False,  True,  True,  True],\n",
       "       [False, False,  True,  True],\n",
       "       [False, False,  True, False],\n",
       "       [False,  True, False,  True],\n",
       "       [ True, False, False,  True],\n",
       "       [ True, False, False,  True],\n",
       "       [ True,  True, False,  True],\n",
       "       [False,  True,  True,  True],\n",
       "       [False, False,  True,  True],\n",
       "       [False,  True, False,  True],\n",
       "       [ True, False, False,  True],\n",
       "       [ True,  True, False,  True],\n",
       "       [ True, False,  True,  True],\n",
       "       [ True,  True, False,  True],\n",
       "       [ True,  True,  True,  True]])"
      ]
     },
     "execution_count": 26,
     "metadata": {},
     "output_type": "execute_result"
    }
   ],
   "source": [
    "cluster_assignments"
   ]
  },
  {
   "cell_type": "code",
   "execution_count": null,
   "metadata": {},
   "outputs": [
    {
     "name": "stdout",
     "output_type": "stream",
     "text": [
      "[]\n",
      "[]\n",
      "['NM']\n",
      "[]\n",
      "['NI']\n",
      "['NM']\n",
      "['NI']\n",
      "['DGW']\n",
      "['NM']\n",
      "['NM']\n",
      "['DGF']\n",
      "['NI', 'NM']\n",
      "['DGF', 'DGW']\n",
      "['DGW', 'NM']\n",
      "['DGF', 'NI']\n",
      "['NI']\n",
      "['DGW', 'NM']\n",
      "['DGF', 'NM']\n",
      "['NM']\n",
      "['DGF', 'DGW', 'NI', 'NM']\n",
      "['DGW', 'NI', 'NM']\n",
      "['DGF', 'DGW', 'NM']\n",
      "['DGW', 'NM']\n",
      "['NI', 'NM']\n",
      "['DGF', 'DGW', 'NM']\n",
      "['DGF', 'NM']\n",
      "['DGF', 'DGW', 'NI', 'NM']\n",
      "['DGF', 'DGW', 'NI', 'NM']\n",
      "['DGF', 'DGW', 'NI', 'NM']\n"
     ]
    }
   ],
   "source": [
    "cluster_assignments = mean_reliab_in_clusters_sorted > threshold2\n",
    "group_names = [\"DGF\",\"DGW\",\"NI\",\"NM\"]\n",
    "group_names_arr = np.asarray(group_names, dtype=object)\n",
    "    \n",
    "for cluster in range(n_clusters):\n",
    "    cluster_class = group_names_arr[cluster_assignments[cluster]].tolist()\n",
    "    print(cluster_class)"
   ]
  },
  {
   "cell_type": "markdown",
   "metadata": {},
   "source": [
    "#### Find the union of clusters across 100 iterations"
   ]
  },
  {
   "cell_type": "code",
   "execution_count": null,
   "metadata": {},
   "outputs": [
    {
     "name": "stdout",
     "output_type": "stream",
     "text": [
      "There are 16 unique clusters across 100 iterations.\n"
     ]
    }
   ],
   "source": [
    "def union_lists(data):\n",
    "    result = [] \n",
    "    for member in data:\n",
    "        for lst in member: \n",
    "            if lst not in result: \n",
    "                result.append(lst) \n",
    "    return result \n",
    "\n",
    "cluster_union = union_lists(all_unique_classes_sorted) \n",
    "print(f\"There are {len(cluster_union)} unique clusters across 100 iterations.\")"
   ]
  },
  {
   "cell_type": "markdown",
   "metadata": {},
   "source": [
    "#### Plot percent for each mouse and each cluster"
   ]
  },
  {
   "cell_type": "code",
   "execution_count": null,
   "metadata": {},
   "outputs": [
    {
     "data": {
      "text/plain": [
       "16"
      ]
     },
     "execution_count": 29,
     "metadata": {},
     "output_type": "execute_result"
    }
   ],
   "source": [
    "flattened_data = [str(lst) for member in all_unique_classes_sorted for lst in member] \n",
    "union_classes = list(set(flattened_data)) \n",
    "len(union_classes)"
   ]
  },
  {
   "cell_type": "code",
   "execution_count": null,
   "metadata": {},
   "outputs": [],
   "source": [
    "unique_mice = cell_info.mouse_id.unique()\n",
    "all_percent_neurons_in_cluster_class_mouse_80 = np.zeros((100,len(union_classes), len(unique_mice)))\n",
    "union_classes_lst_of_lsts = [ast.literal_eval(item) for item in union_classes]\n"
   ]
  },
  {
   "cell_type": "code",
   "execution_count": null,
   "metadata": {},
   "outputs": [],
   "source": [
    "def create_output_array(a, b, c): \n",
    "    output = np.zeros(len(a))\n",
    "    for i, element_a in enumerate(a):\n",
    "        if element_a in b:\n",
    "            idx = b.index(element_a) \n",
    "            output[i] = c[idx] \n",
    "    return output"
   ]
  },
  {
   "cell_type": "code",
   "execution_count": null,
   "metadata": {},
   "outputs": [],
   "source": [
    "def sum_by_class(class_labels, values):\n",
    "    if len(class_labels) != len(values):\n",
    "        raise ValueError(\"Both arrays must have the same length.\")\n",
    "    class_sums = {}\n",
    "    for class_label, value in zip(class_labels, values):\n",
    "        if class_label not in class_sums:\n",
    "            class_sums[class_label] = value\n",
    "        else:\n",
    "            class_sums[class_label] += value\n",
    "    summed_values = np.array(list(class_sums.values()))\n",
    "\n",
    "    return summed_values"
   ]
  },
  {
   "cell_type": "code",
   "execution_count": null,
   "metadata": {},
   "outputs": [],
   "source": [
    "\n",
    "for iter_num in range(100):\n",
    "    clusters = all_clusters[iter_num]\n",
    "    new_class_idx_sorted = all_new_class_idx_sorted[iter_num]\n",
    "    unique_classes_sorted = all_unique_classes_sorted[iter_num]\n",
    "    final_cluster_classes = all_final_cluster_classes[iter_num]\n",
    "\n",
    "    final_classes = []\n",
    "    for cluster_class in final_cluster_classes:\n",
    "        index = unique_classes_sorted.index(cluster_class)\n",
    "        final_classes.append(index)\n",
    "  \n",
    "    percent_neurons_in_cluster_class_mouse = np.zeros((len(unique_classes_sorted), len(unique_mice)))\n",
    "    mean_percent_neurons_in_cluster_mouse = np.zeros((len(new_class_idx_sorted), len(unique_mice)))\n",
    "\n",
    "    for i, mouse in enumerate(unique_mice):\n",
    "        for cluster in new_class_idx_sorted:\n",
    "            mouse_cell_info = cell_info.loc[cell_info[\"mouse_id\"] == mouse]\n",
    "\n",
    "            cell_ind_in_cluster_mouse = np.where((clusters == cluster))[0]\n",
    "            cluster_cell_info = cell_info.iloc[cell_ind_in_cluster_mouse]\n",
    "            cluster_mouse_cell_info = cluster_cell_info.loc[cluster_cell_info[\"mouse_id\"] == mouse]\n",
    "\n",
    "            mean_percent_neurons_in_cluster_mouse[cluster, i] = len(cluster_mouse_cell_info)*100/ len(mouse_cell_info)\n",
    "        percent_neurons_in_cluster_class_mouse[:,i] = sum_by_class(final_classes, mean_percent_neurons_in_cluster_mouse[:, i].tolist())\n",
    "        \n",
    "        all_percent_neurons_in_cluster_class_mouse_80[iter_num,:,i] = create_output_array(union_classes_lst_of_lsts, \\\n",
    "            unique_classes_sorted, percent_neurons_in_cluster_class_mouse[:,i]) "
   ]
  },
  {
   "cell_type": "code",
   "execution_count": null,
   "metadata": {},
   "outputs": [
    {
     "data": {
      "image/png": "[encoded data removed]",
      "text/plain": [
       "<Figure size 640x480 with 1 Axes>"
      ]
     },
     "metadata": {},
     "output_type": "display_data"
    }
   ],
   "source": [
    "\n",
    "sorted_indices_1, indices, iss = plot_mean_values_above_threshold_colored_order(all_unique_classes_sorted,\\\n",
    "    all_summed_values,ordered_clusters, threshold=0, plot=0, return_sorted=1)\n",
    "\n",
    "percent_neurons_in_cluster_class_mouse = np.zeros((16,4))\n",
    "\n",
    "for idx, val in enumerate(indices):\n",
    "    if val != -1:\n",
    "        percent_neurons_in_cluster_class_mouse[idx] = \\\n",
    "            np.mean(all_percent_neurons_in_cluster_class_mouse_80[:, sorted_indices_1[val], :], axis=0)\n",
    "\n",
    "\n",
    "n_colors = 16#all_percent_neurons_in_cluster_class_mouse_80.shape[1]\n",
    "color_palette = sns.husl_palette(n_colors)\n",
    "\n",
    "data = percent_neurons_in_cluster_class_mouse\n",
    "num_shades, num_bars = data.shape\n",
    "x = np.arange(num_bars)\n",
    "bar_width = 0.8\n",
    "data_flipped = np.flip(data, axis=0)\n",
    "color_palette_flipped = np.flip(color_palette, axis=0)\n",
    "bottom = np.zeros(num_bars)\n",
    "fig=plt.figure()\n",
    "for i in range(num_shades):\n",
    "    bar = plt.bar(x, data_flipped[i, :], width=bar_width, bottom=bottom, label=f'Shade {i+1}', color = color_palette_flipped[i% n_colors])\n",
    "    bottom += data_flipped[i, :]\n",
    "plt.xlabel('Mice')\n",
    "plt.ylabel('Percent neurons in cluster')\n",
    "plt.title(f\"thresh: {threshold2}\")\n",
    "plt.xticks(x, [\"slc2\", \"slc4\", \"slc5\", \"teto1\"])\n",
    "plt.tight_layout()\n",
    "# fig.savefig(f\"per_mouse_no_lsn_ni12_29_clusters threshold={threshold2}_{tag}.eps\", format='eps')\n"
   ]
  },
  {
   "cell_type": "markdown",
   "metadata": {},
   "source": [
    "### Plot percent for each depth"
   ]
  },
  {
   "cell_type": "code",
   "execution_count": null,
   "metadata": {},
   "outputs": [],
   "source": [
    "z_groups_low_to_high = [[50, 66, 82], [98, 114, 130], [146, 162, 178], [194, 210, 226], [242, 258, 274], [290, 306, 322], [338, 354, 370], \\\n",
    "   [386, 402, 418], [434, 450, 466], [482, 498, 514], [500, 525, 550], [575, 600, 625], [650, 675, 700, 725]]"
   ]
  },
  {
   "cell_type": "code",
   "execution_count": null,
   "metadata": {},
   "outputs": [],
   "source": [
    "total_vol_plane_pairs = len(z_groups_low_to_high)\n",
    "all_percent_neurons_in_cluster_class_volume_80 = np.zeros((100,len(union_classes),13))\n",
    "\n",
    "\n",
    "for iter_num in range(100):\n",
    "    clusters = all_clusters[iter_num]\n",
    "    new_class_idx_sorted = all_new_class_idx_sorted[iter_num]\n",
    "    unique_classes_sorted = all_unique_classes_sorted[iter_num]\n",
    "    final_cluster_classes = all_final_cluster_classes[iter_num]\n",
    "\n",
    "    final_classes = []\n",
    "    for cluster_class in final_cluster_classes:\n",
    "        index = unique_classes_sorted.index(cluster_class)\n",
    "        final_classes.append(index)\n",
    "  \n",
    "    percent_neurons_in_cluster_volume = np.zeros((len(new_class_idx_sorted), total_vol_plane_pairs))\n",
    "    z_num = 0\n",
    "\n",
    "    for z_group in z_groups_low_to_high:\n",
    "            plane_volume_cell_info = cell_info.loc[cell_info[\"z\"].isin(z_group)]\n",
    "            for cluster in new_class_idx_sorted:\n",
    "                cell_ind_in_cluster_1_g0 = np.where((clusters == cluster))[0]\n",
    "                cluster_cell_info = cell_info.iloc[cell_ind_in_cluster_1_g0]\n",
    "                cluster_volume_plane_cell_info = cluster_cell_info.loc[cluster_cell_info[\"z\"].isin(z_group)]\n",
    "                \n",
    "                if len(plane_volume_cell_info) != 0:\n",
    "                    percent_neurons_in_cluster_volume[cluster, z_num] = len(cluster_volume_plane_cell_info)*100/len(plane_volume_cell_info)\n",
    "            if len(plane_volume_cell_info) != 0:\n",
    "                z_num += 1\n",
    "    percent_neurons_in_cluster_class_volume = np.zeros((len(unique_classes_sorted), total_vol_plane_pairs))\n",
    "\n",
    "    for vol_plane_pair in range(total_vol_plane_pairs):\n",
    "\n",
    "        percent_neurons_in_cluster_volume_list = percent_neurons_in_cluster_volume[:,vol_plane_pair].tolist()\n",
    "        percent_neurons_in_cluster_class_volume[:,vol_plane_pair] = sum_by_class(final_classes, percent_neurons_in_cluster_volume_list)\n",
    "\n",
    "        all_percent_neurons_in_cluster_class_volume_80[iter_num,:,vol_plane_pair] = \\\n",
    "            create_output_array(union_classes_lst_of_lsts, unique_classes_sorted,  \\\n",
    "                percent_neurons_in_cluster_class_volume[:,vol_plane_pair])"
   ]
  },
  {
   "cell_type": "code",
   "execution_count": null,
   "metadata": {},
   "outputs": [
    {
     "data": {
      "image/png": "[encoded data removed]",
      "text/plain": [
       "<Figure size 300x500 with 1 Axes>"
      ]
     },
     "metadata": {},
     "output_type": "display_data"
    }
   ],
   "source": [
    "sorted_indices_1, indices, iss = plot_mean_values_above_threshold_colored_order(all_unique_classes_sorted,\\\n",
    "    all_summed_values,ordered_clusters, threshold=0, plot=0, return_sorted=1)\n",
    "\n",
    "all_percent_neurons_in_cluster_class_mouse_19_ordered = np.zeros((16,13))\n",
    "\n",
    "for idx, val in enumerate(indices):\n",
    "    if val != -1:\n",
    "        all_percent_neurons_in_cluster_class_mouse_19_ordered[idx] = \\\n",
    "            np.mean(all_percent_neurons_in_cluster_class_volume_80[:, sorted_indices_1[val], :], axis=0)\n",
    "data = np.array(all_percent_neurons_in_cluster_class_mouse_19_ordered)\n",
    "\n",
    "n_colors = 16\n",
    "color_palette = sns.husl_palette(n_colors)\n",
    "color_palette_flipped = np.flip(color_palette, axis=0)\n",
    "\n",
    "num_shades, num_bars = data.shape\n",
    "x = np.arange(num_bars)\n",
    "bar_width = 0.8\n",
    "data_flipped = np.flip(data, axis=0)\n",
    "bottom = np.zeros(num_bars)\n",
    "means = [np.mean(group) for group in z_groups_low_to_high]\n",
    "data_flipped = data_flipped[:, ::-1]\n",
    "means = means[::-1]\n",
    "x = np.arange(13)\n",
    "\n",
    "fig = plt.figure(figsize=(3,5))\n",
    "for i in range(num_shades):\n",
    "    plt.barh(x, data_flipped[i, :], left=bottom, label=f'Shade {i+1}', color = color_palette_flipped[i% n_colors])\n",
    "    bottom += data_flipped[i, :]\n",
    "plt.xlabel('Percent in cluster')\n",
    "plt.ylabel('Depth')\n",
    "plt.yticks(ticks=x, labels=[f'{int(mean)}' for mean in means])\n",
    "plt.title(f\"threshold={threshold2}\")\n",
    "plt.tight_layout()\n",
    "# fig.savefig(f\"per_depth_no_lsn_ni12_29_clusters threshold={threshold2}_{tag}.eps\", format='eps')"
   ]
  }
 ],
 "metadata": {
  "kernelspec": {
   "display_name": "v1dd-public-2",
   "language": "python",
   "name": "python3"
  },
  "language_info": {
   "codemirror_mode": {
    "name": "ipython",
    "version": 3
   },
   "file_extension": ".py",
   "mimetype": "text/x-python",
   "name": "python",
   "nbconvert_exporter": "python",
   "pygments_lexer": "ipython3",
   "version": "3.10.16"
  }
 },
 "nbformat": 4,
 "nbformat_minor": 2
}
