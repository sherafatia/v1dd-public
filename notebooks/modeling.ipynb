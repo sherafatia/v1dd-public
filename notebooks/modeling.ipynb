{
 "cells": [
  {
   "cell_type": "markdown",
   "id": "53b8ee35",
   "metadata": {},
   "source": [
    "#### Model v2 -- to run code below I had to switch into a different virtual environment and install just these packages"
   ]
  },
  {
   "cell_type": "code",
   "execution_count": null,
   "id": "579828f6",
   "metadata": {},
   "outputs": [],
   "source": [
    "import torch\n",
    "import torch.nn as nn\n",
    "import torch.optim as optim\n",
    "import torchvision\n",
    "import torchvision.transforms as transforms\n",
    "from torch.utils.data import Dataset, DataLoader, ConcatDataset\n",
    "import numpy as np\n",
    "from skimage.filters import gabor_kernel\n",
    "import copy\n",
    "from PIL import Image\n",
    "import matplotlib.pyplot as plt\n",
    "from torch.utils.data import random_split\n",
    "import copy\n",
    "\n",
    "import modeling\n",
    "\n",
    "## do 16 16 \n",
    "### do percent change in accuracy instead of accuracy differences "
   ]
  },
  {
   "cell_type": "code",
   "execution_count": 7,
   "id": "91f46832",
   "metadata": {},
   "outputs": [
    {
     "name": "stdout",
     "output_type": "stream",
     "text": [
      "Files already downloaded and verified\n",
      "Files already downloaded and verified\n"
     ]
    }
   ],
   "source": [
    "transform_cifar = transforms.Compose([\n",
    "    transforms.Grayscale(num_output_channels=1),\n",
    "    transforms.Resize((32, 32)),\n",
    "    transforms.ToTensor(),\n",
    "    transforms.Normalize((0.5,), (0.5,))\n",
    "])\n",
    "\n",
    "batch_size = 64\n",
    "\n",
    "## Load CIFAR-10 dataset (training = 50,000 images, test = 10,000 images)\n",
    "\n",
    "cifar_trainset = torchvision.datasets.CIFAR10(root='./data', train=True, download=True, transform=transform_cifar)\n",
    "cifar_testset = torchvision.datasets.CIFAR10(root='./data', train=False, download=True, transform=transform_cifar)\n",
    "cifar_trainset, cifar_valset = random_split(cifar_trainset, [int(len(cifar_trainset) * 0.8), int(len(cifar_trainset) * 0.2)])\n",
    "cifar_train_loader = DataLoader(cifar_trainset, batch_size=batch_size, shuffle=True)    # shape = (40000, 1, 32, 32)\n",
    "cifar_val_loader = DataLoader(cifar_valset, batch_size=batch_size, shuffle=False)\n",
    "cifar_test_loader = DataLoader(cifar_testset, batch_size=batch_size, shuffle=False)\n",
    "\n",
    "gabor_trainset = modeling.GaborDataset(num_images=40000, img_size=32, orientations=10, frequencies=[0.08, 0.04], add_noise=True, noise_level=0.1)\n",
    "gabor_valset = modeling.GaborDataset(num_images=10000, img_size=32, orientations=10, frequencies=[0.08, 0.04], add_noise=True, noise_level=0.1)\n",
    "gabor_testset = modeling.GaborDataset(num_images=10000, img_size=32, orientations=10, frequencies=[0.08, 0.04], add_noise=True, noise_level=0.1)\n",
    "gabor_train_loader = DataLoader(gabor_trainset, batch_size=batch_size, shuffle=True)\n",
    "gabor_val_loader = DataLoader(gabor_valset, batch_size=batch_size, shuffle=False)\n",
    "gabor_test_loader = DataLoader(gabor_testset, batch_size=batch_size, shuffle=False)\n",
    "\n",
    "assert len(cifar_trainset) + len(cifar_valset) == 50000\n",
    "assert len(gabor_trainset) == len(cifar_trainset)\n",
    "assert len(gabor_valset) == len(cifar_valset)\n",
    "assert len(gabor_testset) == len(cifar_testset)\n",
    "\n",
    "combined_trainset = ConcatDataset([cifar_trainset, gabor_trainset])\n",
    "combined_loader = DataLoader(combined_trainset, batch_size=batch_size, shuffle=True)"
   ]
  },
  {
   "cell_type": "code",
   "execution_count": 8,
   "id": "54939997",
   "metadata": {},
   "outputs": [
    {
     "data": {
      "application/vnd.jupyter.widget-view+json": {
       "model_id": "2c381de0e83544ecb27a0afec19e129b",
       "version_major": 2,
       "version_minor": 0
      },
      "text/plain": [
       "Epochs:   0%|          | 0/50 [00:00<?, ?it/s]"
      ]
     },
     "metadata": {},
     "output_type": "display_data"
    },
    {
     "data": {
      "application/vnd.jupyter.widget-view+json": {
       "model_id": "6507efb744c34c65aa7a815242353461",
       "version_major": 2,
       "version_minor": 0
      },
      "text/plain": [
       "Batches in epoch #1:   0%|          | 0/1250 [00:00<?, ?it/s]"
      ]
     },
     "metadata": {},
     "output_type": "display_data"
    },
    {
     "data": {
      "application/vnd.jupyter.widget-view+json": {
       "model_id": "fcbd7a86ff24420a96b590d1cc687ea9",
       "version_major": 2,
       "version_minor": 0
      },
      "text/plain": [
       "Batches in epoch #2:   0%|          | 0/1250 [00:00<?, ?it/s]"
      ]
     },
     "metadata": {},
     "output_type": "display_data"
    },
    {
     "data": {
      "application/vnd.jupyter.widget-view+json": {
       "model_id": "cdb5a849e30c47a48f9b1dacfca020fa",
       "version_major": 2,
       "version_minor": 0
      },
      "text/plain": [
       "Batches in epoch #3:   0%|          | 0/1250 [00:00<?, ?it/s]"
      ]
     },
     "metadata": {},
     "output_type": "display_data"
    },
    {
     "data": {
      "application/vnd.jupyter.widget-view+json": {
       "model_id": "adf4edd83fac4f0880c5cf22a1c4bd0f",
       "version_major": 2,
       "version_minor": 0
      },
      "text/plain": [
       "Batches in epoch #4:   0%|          | 0/1250 [00:00<?, ?it/s]"
      ]
     },
     "metadata": {},
     "output_type": "display_data"
    },
    {
     "data": {
      "application/vnd.jupyter.widget-view+json": {
       "model_id": "befce7e0c818400fbde2f11a48710b0a",
       "version_major": 2,
       "version_minor": 0
      },
      "text/plain": [
       "Batches in epoch #5:   0%|          | 0/1250 [00:00<?, ?it/s]"
      ]
     },
     "metadata": {},
     "output_type": "display_data"
    },
    {
     "data": {
      "application/vnd.jupyter.widget-view+json": {
       "model_id": "ca46fc43e49d49b7b5ee924ed6a57864",
       "version_major": 2,
       "version_minor": 0
      },
      "text/plain": [
       "Batches in epoch #6:   0%|          | 0/1250 [00:00<?, ?it/s]"
      ]
     },
     "metadata": {},
     "output_type": "display_data"
    },
    {
     "data": {
      "application/vnd.jupyter.widget-view+json": {
       "model_id": "a587e7f4ba3f418fa203612bd720a874",
       "version_major": 2,
       "version_minor": 0
      },
      "text/plain": [
       "Batches in epoch #7:   0%|          | 0/1250 [00:00<?, ?it/s]"
      ]
     },
     "metadata": {},
     "output_type": "display_data"
    },
    {
     "data": {
      "application/vnd.jupyter.widget-view+json": {
       "model_id": "37148b5311db4ef18feb998a18e08789",
       "version_major": 2,
       "version_minor": 0
      },
      "text/plain": [
       "Batches in epoch #8:   0%|          | 0/1250 [00:00<?, ?it/s]"
      ]
     },
     "metadata": {},
     "output_type": "display_data"
    },
    {
     "data": {
      "application/vnd.jupyter.widget-view+json": {
       "model_id": "2f3c0347bd26429c99b0b45f1e9674a3",
       "version_major": 2,
       "version_minor": 0
      },
      "text/plain": [
       "Batches in epoch #9:   0%|          | 0/1250 [00:00<?, ?it/s]"
      ]
     },
     "metadata": {},
     "output_type": "display_data"
    },
    {
     "data": {
      "application/vnd.jupyter.widget-view+json": {
       "model_id": "5516a94471884ffaaad7ec660e25163a",
       "version_major": 2,
       "version_minor": 0
      },
      "text/plain": [
       "Batches in epoch #10:   0%|          | 0/1250 [00:00<?, ?it/s]"
      ]
     },
     "metadata": {},
     "output_type": "display_data"
    },
    {
     "data": {
      "application/vnd.jupyter.widget-view+json": {
       "model_id": "5be512d62bd343b0a5e1959dbe4e352a",
       "version_major": 2,
       "version_minor": 0
      },
      "text/plain": [
       "Batches in epoch #11:   0%|          | 0/1250 [00:00<?, ?it/s]"
      ]
     },
     "metadata": {},
     "output_type": "display_data"
    },
    {
     "data": {
      "application/vnd.jupyter.widget-view+json": {
       "model_id": "c029eadf096943fd9b333cc6d62040e6",
       "version_major": 2,
       "version_minor": 0
      },
      "text/plain": [
       "Batches in epoch #12:   0%|          | 0/1250 [00:00<?, ?it/s]"
      ]
     },
     "metadata": {},
     "output_type": "display_data"
    },
    {
     "data": {
      "application/vnd.jupyter.widget-view+json": {
       "model_id": "353723467962453ba56ec3590de0fcf5",
       "version_major": 2,
       "version_minor": 0
      },
      "text/plain": [
       "Batches in epoch #13:   0%|          | 0/1250 [00:00<?, ?it/s]"
      ]
     },
     "metadata": {},
     "output_type": "display_data"
    },
    {
     "data": {
      "application/vnd.jupyter.widget-view+json": {
       "model_id": "7b73ef8e11b348febcc98b8c72230643",
       "version_major": 2,
       "version_minor": 0
      },
      "text/plain": [
       "Batches in epoch #14:   0%|          | 0/1250 [00:00<?, ?it/s]"
      ]
     },
     "metadata": {},
     "output_type": "display_data"
    },
    {
     "data": {
      "application/vnd.jupyter.widget-view+json": {
       "model_id": "057e8990b79442deb29a22e457ecf7a3",
       "version_major": 2,
       "version_minor": 0
      },
      "text/plain": [
       "Batches in epoch #15:   0%|          | 0/1250 [00:00<?, ?it/s]"
      ]
     },
     "metadata": {},
     "output_type": "display_data"
    },
    {
     "data": {
      "application/vnd.jupyter.widget-view+json": {
       "model_id": "ccf8f3f5b3c94fba8babdd6f96a6d886",
       "version_major": 2,
       "version_minor": 0
      },
      "text/plain": [
       "Batches in epoch #16:   0%|          | 0/1250 [00:00<?, ?it/s]"
      ]
     },
     "metadata": {},
     "output_type": "display_data"
    },
    {
     "data": {
      "application/vnd.jupyter.widget-view+json": {
       "model_id": "0fdbce24785440b9bc99f6900bb6ef1b",
       "version_major": 2,
       "version_minor": 0
      },
      "text/plain": [
       "Batches in epoch #17:   0%|          | 0/1250 [00:00<?, ?it/s]"
      ]
     },
     "metadata": {},
     "output_type": "display_data"
    },
    {
     "data": {
      "application/vnd.jupyter.widget-view+json": {
       "model_id": "c81633aeb1564b8aa61aafb1bf89a610",
       "version_major": 2,
       "version_minor": 0
      },
      "text/plain": [
       "Batches in epoch #18:   0%|          | 0/1250 [00:00<?, ?it/s]"
      ]
     },
     "metadata": {},
     "output_type": "display_data"
    },
    {
     "data": {
      "application/vnd.jupyter.widget-view+json": {
       "model_id": "b36239039a9d4f4ea4b0987bd67b36ea",
       "version_major": 2,
       "version_minor": 0
      },
      "text/plain": [
       "Batches in epoch #19:   0%|          | 0/1250 [00:00<?, ?it/s]"
      ]
     },
     "metadata": {},
     "output_type": "display_data"
    },
    {
     "data": {
      "application/vnd.jupyter.widget-view+json": {
       "model_id": "3e36cddb425c4309a473963ad1ace1bd",
       "version_major": 2,
       "version_minor": 0
      },
      "text/plain": [
       "Batches in epoch #20:   0%|          | 0/1250 [00:00<?, ?it/s]"
      ]
     },
     "metadata": {},
     "output_type": "display_data"
    },
    {
     "data": {
      "application/vnd.jupyter.widget-view+json": {
       "model_id": "c154c6a767294d5f87fcae2a6809bbe1",
       "version_major": 2,
       "version_minor": 0
      },
      "text/plain": [
       "Batches in epoch #21:   0%|          | 0/1250 [00:00<?, ?it/s]"
      ]
     },
     "metadata": {},
     "output_type": "display_data"
    },
    {
     "data": {
      "application/vnd.jupyter.widget-view+json": {
       "model_id": "5e1d418adc784175b4779e14844ea2da",
       "version_major": 2,
       "version_minor": 0
      },
      "text/plain": [
       "Batches in epoch #22:   0%|          | 0/1250 [00:00<?, ?it/s]"
      ]
     },
     "metadata": {},
     "output_type": "display_data"
    },
    {
     "data": {
      "application/vnd.jupyter.widget-view+json": {
       "model_id": "b75ee281ff1c459a92b1c96ef9f1f8ce",
       "version_major": 2,
       "version_minor": 0
      },
      "text/plain": [
       "Batches in epoch #23:   0%|          | 0/1250 [00:00<?, ?it/s]"
      ]
     },
     "metadata": {},
     "output_type": "display_data"
    },
    {
     "data": {
      "application/vnd.jupyter.widget-view+json": {
       "model_id": "f715f8749f33469aa6c717b8f74bbb11",
       "version_major": 2,
       "version_minor": 0
      },
      "text/plain": [
       "Batches in epoch #24:   0%|          | 0/1250 [00:00<?, ?it/s]"
      ]
     },
     "metadata": {},
     "output_type": "display_data"
    },
    {
     "data": {
      "application/vnd.jupyter.widget-view+json": {
       "model_id": "c842bb7180e748e7a1d13571c64d9c51",
       "version_major": 2,
       "version_minor": 0
      },
      "text/plain": [
       "Batches in epoch #25:   0%|          | 0/1250 [00:00<?, ?it/s]"
      ]
     },
     "metadata": {},
     "output_type": "display_data"
    },
    {
     "data": {
      "application/vnd.jupyter.widget-view+json": {
       "model_id": "f138c3965cfc4a1eb86323c03d998452",
       "version_major": 2,
       "version_minor": 0
      },
      "text/plain": [
       "Batches in epoch #26:   0%|          | 0/1250 [00:00<?, ?it/s]"
      ]
     },
     "metadata": {},
     "output_type": "display_data"
    },
    {
     "data": {
      "application/vnd.jupyter.widget-view+json": {
       "model_id": "0e413fc1240543a08c30de61f74c11b8",
       "version_major": 2,
       "version_minor": 0
      },
      "text/plain": [
       "Batches in epoch #27:   0%|          | 0/1250 [00:00<?, ?it/s]"
      ]
     },
     "metadata": {},
     "output_type": "display_data"
    },
    {
     "data": {
      "application/vnd.jupyter.widget-view+json": {
       "model_id": "d8a5effdc3ed4bd8b4609b52693ceaa1",
       "version_major": 2,
       "version_minor": 0
      },
      "text/plain": [
       "Batches in epoch #28:   0%|          | 0/1250 [00:00<?, ?it/s]"
      ]
     },
     "metadata": {},
     "output_type": "display_data"
    },
    {
     "data": {
      "application/vnd.jupyter.widget-view+json": {
       "model_id": "7055b522d97443a6822bd1e334cc7b9f",
       "version_major": 2,
       "version_minor": 0
      },
      "text/plain": [
       "Batches in epoch #29:   0%|          | 0/1250 [00:00<?, ?it/s]"
      ]
     },
     "metadata": {},
     "output_type": "display_data"
    },
    {
     "data": {
      "application/vnd.jupyter.widget-view+json": {
       "model_id": "77cc7cbb1e0c4669a367e84ce3845864",
       "version_major": 2,
       "version_minor": 0
      },
      "text/plain": [
       "Batches in epoch #30:   0%|          | 0/1250 [00:00<?, ?it/s]"
      ]
     },
     "metadata": {},
     "output_type": "display_data"
    },
    {
     "data": {
      "application/vnd.jupyter.widget-view+json": {
       "model_id": "91c96c36a40948329afcf6d8abf1bf2a",
       "version_major": 2,
       "version_minor": 0
      },
      "text/plain": [
       "Batches in epoch #31:   0%|          | 0/1250 [00:00<?, ?it/s]"
      ]
     },
     "metadata": {},
     "output_type": "display_data"
    },
    {
     "data": {
      "application/vnd.jupyter.widget-view+json": {
       "model_id": "c138a60662cf448ca8cb033ddb2ef9ba",
       "version_major": 2,
       "version_minor": 0
      },
      "text/plain": [
       "Batches in epoch #32:   0%|          | 0/1250 [00:00<?, ?it/s]"
      ]
     },
     "metadata": {},
     "output_type": "display_data"
    },
    {
     "data": {
      "application/vnd.jupyter.widget-view+json": {
       "model_id": "9c88c88c2eab410d9c66fa7d79d271c8",
       "version_major": 2,
       "version_minor": 0
      },
      "text/plain": [
       "Batches in epoch #33:   0%|          | 0/1250 [00:00<?, ?it/s]"
      ]
     },
     "metadata": {},
     "output_type": "display_data"
    },
    {
     "data": {
      "application/vnd.jupyter.widget-view+json": {
       "model_id": "fb5b1a5e2f0d46849b4aa8aa8cbb9680",
       "version_major": 2,
       "version_minor": 0
      },
      "text/plain": [
       "Batches in epoch #34:   0%|          | 0/1250 [00:00<?, ?it/s]"
      ]
     },
     "metadata": {},
     "output_type": "display_data"
    },
    {
     "data": {
      "application/vnd.jupyter.widget-view+json": {
       "model_id": "1af5fb9e4c794667b0bd857e8123a627",
       "version_major": 2,
       "version_minor": 0
      },
      "text/plain": [
       "Batches in epoch #35:   0%|          | 0/1250 [00:00<?, ?it/s]"
      ]
     },
     "metadata": {},
     "output_type": "display_data"
    },
    {
     "data": {
      "application/vnd.jupyter.widget-view+json": {
       "model_id": "0d7bd51f65d24590bc24f251695f1751",
       "version_major": 2,
       "version_minor": 0
      },
      "text/plain": [
       "Batches in epoch #36:   0%|          | 0/1250 [00:00<?, ?it/s]"
      ]
     },
     "metadata": {},
     "output_type": "display_data"
    },
    {
     "data": {
      "application/vnd.jupyter.widget-view+json": {
       "model_id": "fe742e00e16c45b1b081f2408d8a24d1",
       "version_major": 2,
       "version_minor": 0
      },
      "text/plain": [
       "Batches in epoch #37:   0%|          | 0/1250 [00:00<?, ?it/s]"
      ]
     },
     "metadata": {},
     "output_type": "display_data"
    },
    {
     "data": {
      "application/vnd.jupyter.widget-view+json": {
       "model_id": "506e22e39b084702bdc6db12fb37b212",
       "version_major": 2,
       "version_minor": 0
      },
      "text/plain": [
       "Batches in epoch #38:   0%|          | 0/1250 [00:00<?, ?it/s]"
      ]
     },
     "metadata": {},
     "output_type": "display_data"
    },
    {
     "data": {
      "application/vnd.jupyter.widget-view+json": {
       "model_id": "3a1196690318418a973192a357ad9cd7",
       "version_major": 2,
       "version_minor": 0
      },
      "text/plain": [
       "Batches in epoch #39:   0%|          | 0/1250 [00:00<?, ?it/s]"
      ]
     },
     "metadata": {},
     "output_type": "display_data"
    },
    {
     "data": {
      "application/vnd.jupyter.widget-view+json": {
       "model_id": "6d4f306994314407a0f032dd9bb16be7",
       "version_major": 2,
       "version_minor": 0
      },
      "text/plain": [
       "Batches in epoch #40:   0%|          | 0/1250 [00:00<?, ?it/s]"
      ]
     },
     "metadata": {},
     "output_type": "display_data"
    },
    {
     "data": {
      "application/vnd.jupyter.widget-view+json": {
       "model_id": "58b635d10a344798a8c9910a8349cdd0",
       "version_major": 2,
       "version_minor": 0
      },
      "text/plain": [
       "Batches in epoch #41:   0%|          | 0/1250 [00:00<?, ?it/s]"
      ]
     },
     "metadata": {},
     "output_type": "display_data"
    },
    {
     "data": {
      "application/vnd.jupyter.widget-view+json": {
       "model_id": "c67c864fd2ec40038411506e53cc4768",
       "version_major": 2,
       "version_minor": 0
      },
      "text/plain": [
       "Batches in epoch #42:   0%|          | 0/1250 [00:00<?, ?it/s]"
      ]
     },
     "metadata": {},
     "output_type": "display_data"
    },
    {
     "data": {
      "application/vnd.jupyter.widget-view+json": {
       "model_id": "eab3075f0e0a47a39af19a4beefd198b",
       "version_major": 2,
       "version_minor": 0
      },
      "text/plain": [
       "Batches in epoch #43:   0%|          | 0/1250 [00:00<?, ?it/s]"
      ]
     },
     "metadata": {},
     "output_type": "display_data"
    },
    {
     "data": {
      "application/vnd.jupyter.widget-view+json": {
       "model_id": "ac4b8a3ee47146b88a17e7a226ccce2d",
       "version_major": 2,
       "version_minor": 0
      },
      "text/plain": [
       "Batches in epoch #44:   0%|          | 0/1250 [00:00<?, ?it/s]"
      ]
     },
     "metadata": {},
     "output_type": "display_data"
    },
    {
     "data": {
      "application/vnd.jupyter.widget-view+json": {
       "model_id": "c659347083ca490a9f034b9551e4c99d",
       "version_major": 2,
       "version_minor": 0
      },
      "text/plain": [
       "Batches in epoch #45:   0%|          | 0/1250 [00:00<?, ?it/s]"
      ]
     },
     "metadata": {},
     "output_type": "display_data"
    },
    {
     "data": {
      "application/vnd.jupyter.widget-view+json": {
       "model_id": "6db78fec17224a6ba779e37067b838aa",
       "version_major": 2,
       "version_minor": 0
      },
      "text/plain": [
       "Batches in epoch #46:   0%|          | 0/1250 [00:00<?, ?it/s]"
      ]
     },
     "metadata": {},
     "output_type": "display_data"
    },
    {
     "data": {
      "application/vnd.jupyter.widget-view+json": {
       "model_id": "5eed886da49c4e5a97ce96593c07cd81",
       "version_major": 2,
       "version_minor": 0
      },
      "text/plain": [
       "Batches in epoch #47:   0%|          | 0/1250 [00:00<?, ?it/s]"
      ]
     },
     "metadata": {},
     "output_type": "display_data"
    },
    {
     "data": {
      "application/vnd.jupyter.widget-view+json": {
       "model_id": "0a4e5c6d862c41d39b9be6e0f781e7be",
       "version_major": 2,
       "version_minor": 0
      },
      "text/plain": [
       "Batches in epoch #48:   0%|          | 0/1250 [00:00<?, ?it/s]"
      ]
     },
     "metadata": {},
     "output_type": "display_data"
    },
    {
     "data": {
      "application/vnd.jupyter.widget-view+json": {
       "model_id": "5994315658ae4afcbc8ed591571e6f31",
       "version_major": 2,
       "version_minor": 0
      },
      "text/plain": [
       "Batches in epoch #49:   0%|          | 0/1250 [00:00<?, ?it/s]"
      ]
     },
     "metadata": {},
     "output_type": "display_data"
    },
    {
     "data": {
      "application/vnd.jupyter.widget-view+json": {
       "model_id": "038d166fd2b0423b9275909a51dcdbc9",
       "version_major": 2,
       "version_minor": 0
      },
      "text/plain": [
       "Batches in epoch #50:   0%|          | 0/1250 [00:00<?, ?it/s]"
      ]
     },
     "metadata": {},
     "output_type": "display_data"
    }
   ],
   "source": [
    "model = modeling.ConvNet(in_channels=1, height=32, width=32)\n",
    "model, losses, gabor_vals, cifar_vals = modeling.train_model(\n",
    "    model, \n",
    "    combined_loader, \n",
    "    gabor_val_loader=gabor_val_loader, \n",
    "    cifar_val_loader=cifar_val_loader, \n",
    "    num_epochs=50\n",
    "    )"
   ]
  },
  {
   "cell_type": "code",
   "execution_count": 9,
   "id": "0c00de67",
   "metadata": {},
   "outputs": [
    {
     "data": {
      "image/png": "[encoded data removed]",
      "text/plain": [
       "<Figure size 600x400 with 1 Axes>"
      ]
     },
     "metadata": {},
     "output_type": "display_data"
    }
   ],
   "source": [
    "fig, axs = modeling.plot_losses(losses)"
   ]
  },
  {
   "cell_type": "code",
   "execution_count": 10,
   "id": "73be5248",
   "metadata": {},
   "outputs": [
    {
     "data": {
      "text/plain": [
       "Text(0.5, 1.0, 'Validation Accuracy over Epochs')"
      ]
     },
     "execution_count": 10,
     "metadata": {},
     "output_type": "execute_result"
    },
    {
     "data": {
      "image/png": "[encoded data removed]",
      "text/plain": [
       "<Figure size 640x480 with 1 Axes>"
      ]
     },
     "metadata": {},
     "output_type": "display_data"
    }
   ],
   "source": [
    "plt.plot(gabor_vals, label='Gabor', color='red')\n",
    "plt.plot(cifar_vals, label='CIFAR', color='blue')\n",
    "\n",
    "plt.xlabel('Epoch')\n",
    "plt.ylabel('Accuracy')\n",
    "plt.legend()\n",
    "plt.title('Validation Accuracy over Epochs')"
   ]
  },
  {
   "cell_type": "code",
   "execution_count": 11,
   "id": "a8acda51",
   "metadata": {},
   "outputs": [],
   "source": [
    "noise_results = {\n",
    "    'noise_level': [],\n",
    "    'noisy1_gabor_acc': [],\n",
    "    'noisy1_cifar_acc': [],\n",
    "    'noisy2_gabor_acc': [],\n",
    "    'noisy2_cifar_acc': [],\n",
    "}\n",
    "noise_levels = np.arange(0, 1.05, 0.05)\n",
    "\n",
    "for noise in noise_levels:\n",
    "    noisy_model = copy.deepcopy(model)\n",
    "\n",
    "    noisy_first_model = modeling.add_noise_to_first_layer(noisy_model, noise_level=noise)\n",
    "    noisy1_gabor_acc = modeling.evaluate_gabor_accuracy(noisy_model, gabor_test_loader)\n",
    "    noisy1_cifar_acc = modeling.evaluate_cifar_accuracy(noisy_model, cifar_test_loader)\n",
    "\n",
    "    noisy_model = copy.deepcopy(model)\n",
    "    noisy_middle_model = modeling.add_noise_to_middle_layer(noisy_model, noise_level=noise)\n",
    "    noisy2_gabor_acc = modeling.evaluate_gabor_accuracy(noisy_model, gabor_test_loader)\n",
    "    noisy2_cifar_acc = modeling.evaluate_cifar_accuracy(noisy_model, cifar_test_loader)\n",
    "\n",
    "    noise_results['noise_level'].append(noise)\n",
    "    noise_results['noisy1_gabor_acc'].append(noisy1_gabor_acc)\n",
    "    noise_results['noisy1_cifar_acc'].append(noisy1_cifar_acc)\n",
    "    noise_results['noisy2_gabor_acc'].append(noisy2_gabor_acc)\n",
    "    noise_results['noisy2_cifar_acc'].append(noisy2_cifar_acc)\n"
   ]
  },
  {
   "cell_type": "code",
   "execution_count": 12,
   "id": "28a0b6ca",
   "metadata": {},
   "outputs": [
    {
     "data": {
      "text/html": [
       "<div>\n",
       "<style scoped>\n",
       "    .dataframe tbody tr th:only-of-type {\n",
       "        vertical-align: middle;\n",
       "    }\n",
       "\n",
       "    .dataframe tbody tr th {\n",
       "        vertical-align: top;\n",
       "    }\n",
       "\n",
       "    .dataframe thead th {\n",
       "        text-align: right;\n",
       "    }\n",
       "</style>\n",
       "<table border=\"1\" class=\"dataframe\">\n",
       "  <thead>\n",
       "    <tr style=\"text-align: right;\">\n",
       "      <th></th>\n",
       "      <th>noise_level</th>\n",
       "      <th>noisy1_gabor_acc</th>\n",
       "      <th>noisy1_cifar_acc</th>\n",
       "      <th>noisy2_gabor_acc</th>\n",
       "      <th>noisy2_cifar_acc</th>\n",
       "    </tr>\n",
       "  </thead>\n",
       "  <tbody>\n",
       "    <tr>\n",
       "      <th>0</th>\n",
       "      <td>0.00</td>\n",
       "      <td>100.00</td>\n",
       "      <td>57.52</td>\n",
       "      <td>100.00</td>\n",
       "      <td>57.52</td>\n",
       "    </tr>\n",
       "    <tr>\n",
       "      <th>1</th>\n",
       "      <td>0.05</td>\n",
       "      <td>100.00</td>\n",
       "      <td>55.48</td>\n",
       "      <td>100.00</td>\n",
       "      <td>57.16</td>\n",
       "    </tr>\n",
       "    <tr>\n",
       "      <th>2</th>\n",
       "      <td>0.10</td>\n",
       "      <td>100.00</td>\n",
       "      <td>48.06</td>\n",
       "      <td>100.00</td>\n",
       "      <td>56.09</td>\n",
       "    </tr>\n",
       "    <tr>\n",
       "      <th>3</th>\n",
       "      <td>0.15</td>\n",
       "      <td>100.00</td>\n",
       "      <td>44.81</td>\n",
       "      <td>100.00</td>\n",
       "      <td>53.91</td>\n",
       "    </tr>\n",
       "    <tr>\n",
       "      <th>4</th>\n",
       "      <td>0.20</td>\n",
       "      <td>100.00</td>\n",
       "      <td>46.49</td>\n",
       "      <td>100.00</td>\n",
       "      <td>48.59</td>\n",
       "    </tr>\n",
       "    <tr>\n",
       "      <th>5</th>\n",
       "      <td>0.25</td>\n",
       "      <td>100.00</td>\n",
       "      <td>48.33</td>\n",
       "      <td>100.00</td>\n",
       "      <td>50.93</td>\n",
       "    </tr>\n",
       "    <tr>\n",
       "      <th>6</th>\n",
       "      <td>0.30</td>\n",
       "      <td>100.00</td>\n",
       "      <td>21.04</td>\n",
       "      <td>100.00</td>\n",
       "      <td>45.00</td>\n",
       "    </tr>\n",
       "    <tr>\n",
       "      <th>7</th>\n",
       "      <td>0.35</td>\n",
       "      <td>100.00</td>\n",
       "      <td>27.37</td>\n",
       "      <td>100.00</td>\n",
       "      <td>24.09</td>\n",
       "    </tr>\n",
       "    <tr>\n",
       "      <th>8</th>\n",
       "      <td>0.40</td>\n",
       "      <td>93.68</td>\n",
       "      <td>18.42</td>\n",
       "      <td>100.00</td>\n",
       "      <td>31.87</td>\n",
       "    </tr>\n",
       "    <tr>\n",
       "      <th>9</th>\n",
       "      <td>0.45</td>\n",
       "      <td>100.00</td>\n",
       "      <td>28.41</td>\n",
       "      <td>100.00</td>\n",
       "      <td>33.81</td>\n",
       "    </tr>\n",
       "    <tr>\n",
       "      <th>10</th>\n",
       "      <td>0.50</td>\n",
       "      <td>100.00</td>\n",
       "      <td>22.70</td>\n",
       "      <td>100.00</td>\n",
       "      <td>35.63</td>\n",
       "    </tr>\n",
       "    <tr>\n",
       "      <th>11</th>\n",
       "      <td>0.55</td>\n",
       "      <td>97.43</td>\n",
       "      <td>23.79</td>\n",
       "      <td>100.00</td>\n",
       "      <td>27.36</td>\n",
       "    </tr>\n",
       "    <tr>\n",
       "      <th>12</th>\n",
       "      <td>0.60</td>\n",
       "      <td>100.00</td>\n",
       "      <td>19.95</td>\n",
       "      <td>100.00</td>\n",
       "      <td>27.06</td>\n",
       "    </tr>\n",
       "    <tr>\n",
       "      <th>13</th>\n",
       "      <td>0.65</td>\n",
       "      <td>88.06</td>\n",
       "      <td>13.81</td>\n",
       "      <td>100.00</td>\n",
       "      <td>24.94</td>\n",
       "    </tr>\n",
       "    <tr>\n",
       "      <th>14</th>\n",
       "      <td>0.70</td>\n",
       "      <td>59.44</td>\n",
       "      <td>20.41</td>\n",
       "      <td>100.00</td>\n",
       "      <td>25.38</td>\n",
       "    </tr>\n",
       "    <tr>\n",
       "      <th>15</th>\n",
       "      <td>0.75</td>\n",
       "      <td>84.31</td>\n",
       "      <td>13.77</td>\n",
       "      <td>100.00</td>\n",
       "      <td>25.74</td>\n",
       "    </tr>\n",
       "    <tr>\n",
       "      <th>16</th>\n",
       "      <td>0.80</td>\n",
       "      <td>78.77</td>\n",
       "      <td>12.82</td>\n",
       "      <td>100.00</td>\n",
       "      <td>27.84</td>\n",
       "    </tr>\n",
       "    <tr>\n",
       "      <th>17</th>\n",
       "      <td>0.85</td>\n",
       "      <td>33.40</td>\n",
       "      <td>16.48</td>\n",
       "      <td>99.87</td>\n",
       "      <td>24.44</td>\n",
       "    </tr>\n",
       "    <tr>\n",
       "      <th>18</th>\n",
       "      <td>0.90</td>\n",
       "      <td>41.63</td>\n",
       "      <td>14.90</td>\n",
       "      <td>100.00</td>\n",
       "      <td>23.06</td>\n",
       "    </tr>\n",
       "    <tr>\n",
       "      <th>19</th>\n",
       "      <td>0.95</td>\n",
       "      <td>95.81</td>\n",
       "      <td>15.59</td>\n",
       "      <td>94.75</td>\n",
       "      <td>23.67</td>\n",
       "    </tr>\n",
       "    <tr>\n",
       "      <th>20</th>\n",
       "      <td>1.00</td>\n",
       "      <td>60.83</td>\n",
       "      <td>15.24</td>\n",
       "      <td>100.00</td>\n",
       "      <td>20.77</td>\n",
       "    </tr>\n",
       "  </tbody>\n",
       "</table>\n",
       "</div>"
      ],
      "text/plain": [
       "    noise_level  noisy1_gabor_acc  noisy1_cifar_acc  noisy2_gabor_acc  \\\n",
       "0          0.00            100.00             57.52            100.00   \n",
       "1          0.05            100.00             55.48            100.00   \n",
       "2          0.10            100.00             48.06            100.00   \n",
       "3          0.15            100.00             44.81            100.00   \n",
       "4          0.20            100.00             46.49            100.00   \n",
       "5          0.25            100.00             48.33            100.00   \n",
       "6          0.30            100.00             21.04            100.00   \n",
       "7          0.35            100.00             27.37            100.00   \n",
       "8          0.40             93.68             18.42            100.00   \n",
       "9          0.45            100.00             28.41            100.00   \n",
       "10         0.50            100.00             22.70            100.00   \n",
       "11         0.55             97.43             23.79            100.00   \n",
       "12         0.60            100.00             19.95            100.00   \n",
       "13         0.65             88.06             13.81            100.00   \n",
       "14         0.70             59.44             20.41            100.00   \n",
       "15         0.75             84.31             13.77            100.00   \n",
       "16         0.80             78.77             12.82            100.00   \n",
       "17         0.85             33.40             16.48             99.87   \n",
       "18         0.90             41.63             14.90            100.00   \n",
       "19         0.95             95.81             15.59             94.75   \n",
       "20         1.00             60.83             15.24            100.00   \n",
       "\n",
       "    noisy2_cifar_acc  \n",
       "0              57.52  \n",
       "1              57.16  \n",
       "2              56.09  \n",
       "3              53.91  \n",
       "4              48.59  \n",
       "5              50.93  \n",
       "6              45.00  \n",
       "7              24.09  \n",
       "8              31.87  \n",
       "9              33.81  \n",
       "10             35.63  \n",
       "11             27.36  \n",
       "12             27.06  \n",
       "13             24.94  \n",
       "14             25.38  \n",
       "15             25.74  \n",
       "16             27.84  \n",
       "17             24.44  \n",
       "18             23.06  \n",
       "19             23.67  \n",
       "20             20.77  "
      ]
     },
     "execution_count": 12,
     "metadata": {},
     "output_type": "execute_result"
    }
   ],
   "source": [
    "import pandas as pd\n",
    "noise_results_df = pd.DataFrame(noise_results)\n",
    "noise_results_df"
   ]
  },
  {
   "cell_type": "code",
   "execution_count": 13,
   "id": "8a80c3b3",
   "metadata": {},
   "outputs": [],
   "source": [
    "noise_results_df['noisy1_gabor_pctchange'] = (noise_results_df['noisy1_gabor_acc'].iloc[0] - noise_results_df['noisy1_gabor_acc']) / noise_results_df['noisy1_gabor_acc'].iloc[0] * 100\n",
    "noise_results_df['noisy2_gabor_pctchange'] = (noise_results_df['noisy2_gabor_acc'].iloc[0] - noise_results_df['noisy2_gabor_acc']) / noise_results_df['noisy2_gabor_acc'].iloc[0] * 100\n",
    "noise_results_df['noisy1_cifar_pctchange'] = (noise_results_df['noisy1_cifar_acc'].iloc[0] - noise_results_df['noisy1_cifar_acc']) / noise_results_df['noisy1_cifar_acc'].iloc[0] * 100\n",
    "noise_results_df['noisy2_cifar_pctchange'] = (noise_results_df['noisy2_cifar_acc'].iloc[0] - noise_results_df['noisy2_cifar_acc']) / noise_results_df['noisy2_cifar_acc'].iloc[0] * 100"
   ]
  },
  {
   "cell_type": "code",
   "execution_count": 17,
   "id": "63cc0851",
   "metadata": {},
   "outputs": [
    {
     "data": {
      "text/plain": [
       "<matplotlib.legend.Legend at 0x7f4271c5efe0>"
      ]
     },
     "execution_count": 17,
     "metadata": {},
     "output_type": "execute_result"
    },
    {
     "data": {
      "image/png": "[encoded data removed]",
      "text/plain": [
       "<Figure size 640x480 with 1 Axes>"
      ]
     },
     "metadata": {},
     "output_type": "display_data"
    }
   ],
   "source": [
    "import seaborn as sns\n",
    "sns.lineplot(data=noise_results_df, x='noise_level', y='noisy1_gabor_pctchange', label='Gabor - First Layer', color='red', linestyle='--')\n",
    "sns.lineplot(data=noise_results_df, x='noise_level', y='noisy1_cifar_pctchange', label='CIFAR - First Layer', color='blue', linestyle='--')\n",
    "\n",
    "sns.lineplot(data=noise_results_df, x='noise_level', y='noisy2_gabor_pctchange', label='Gabor - Second Layer', color='red')\n",
    "sns.lineplot(data=noise_results_df, x='noise_level', y='noisy2_cifar_pctchange', label='CIFAR - Second Layer', color='blue')\n",
    "\n",
    "plt.xlabel('Noise Level')\n",
    "plt.ylabel('% Change in Accuracy')\n",
    "plt.title('Model Performance vs. Noise Level')\n",
    "plt.legend()"
   ]
  },
  {
   "cell_type": "code",
   "execution_count": 18,
   "id": "8621f125",
   "metadata": {},
   "outputs": [
    {
     "data": {
      "application/vnd.jupyter.widget-view+json": {
       "model_id": "dbeea2de90c14471bdd1884f45ca6eae",
       "version_major": 2,
       "version_minor": 0
      },
      "text/plain": [
       "Epochs:   0%|          | 0/50 [00:00<?, ?it/s]"
      ]
     },
     "metadata": {},
     "output_type": "display_data"
    },
    {
     "data": {
      "application/vnd.jupyter.widget-view+json": {
       "model_id": "001a96826a1647acb1ea284e41f70bfc",
       "version_major": 2,
       "version_minor": 0
      },
      "text/plain": [
       "Batches in epoch #1:   0%|          | 0/1250 [00:00<?, ?it/s]"
      ]
     },
     "metadata": {},
     "output_type": "display_data"
    },
    {
     "data": {
      "application/vnd.jupyter.widget-view+json": {
       "model_id": "f5fb2efdce1f417589d885ea060a25f0",
       "version_major": 2,
       "version_minor": 0
      },
      "text/plain": [
       "Batches in epoch #2:   0%|          | 0/1250 [00:00<?, ?it/s]"
      ]
     },
     "metadata": {},
     "output_type": "display_data"
    },
    {
     "data": {
      "application/vnd.jupyter.widget-view+json": {
       "model_id": "54222689c37e4a72b574ff1efb0a485a",
       "version_major": 2,
       "version_minor": 0
      },
      "text/plain": [
       "Batches in epoch #3:   0%|          | 0/1250 [00:00<?, ?it/s]"
      ]
     },
     "metadata": {},
     "output_type": "display_data"
    },
    {
     "data": {
      "application/vnd.jupyter.widget-view+json": {
       "model_id": "8ffb79f3ad6743b39eee1cc656672cca",
       "version_major": 2,
       "version_minor": 0
      },
      "text/plain": [
       "Batches in epoch #4:   0%|          | 0/1250 [00:00<?, ?it/s]"
      ]
     },
     "metadata": {},
     "output_type": "display_data"
    },
    {
     "data": {
      "application/vnd.jupyter.widget-view+json": {
       "model_id": "05ac96ae4776442da9f5c4011e40da07",
       "version_major": 2,
       "version_minor": 0
      },
      "text/plain": [
       "Batches in epoch #5:   0%|          | 0/1250 [00:00<?, ?it/s]"
      ]
     },
     "metadata": {},
     "output_type": "display_data"
    },
    {
     "data": {
      "application/vnd.jupyter.widget-view+json": {
       "model_id": "457a4da22d8746b6bc0ae6c4917c5659",
       "version_major": 2,
       "version_minor": 0
      },
      "text/plain": [
       "Batches in epoch #6:   0%|          | 0/1250 [00:00<?, ?it/s]"
      ]
     },
     "metadata": {},
     "output_type": "display_data"
    },
    {
     "data": {
      "application/vnd.jupyter.widget-view+json": {
       "model_id": "756dd84cc15f486fac358c3c75e983d3",
       "version_major": 2,
       "version_minor": 0
      },
      "text/plain": [
       "Batches in epoch #7:   0%|          | 0/1250 [00:00<?, ?it/s]"
      ]
     },
     "metadata": {},
     "output_type": "display_data"
    },
    {
     "data": {
      "application/vnd.jupyter.widget-view+json": {
       "model_id": "081c8ed82bf14c18a0b25a3f693718dc",
       "version_major": 2,
       "version_minor": 0
      },
      "text/plain": [
       "Batches in epoch #8:   0%|          | 0/1250 [00:00<?, ?it/s]"
      ]
     },
     "metadata": {},
     "output_type": "display_data"
    },
    {
     "data": {
      "application/vnd.jupyter.widget-view+json": {
       "model_id": "12dc31688e7040df8b7691b65928bdb0",
       "version_major": 2,
       "version_minor": 0
      },
      "text/plain": [
       "Batches in epoch #9:   0%|          | 0/1250 [00:00<?, ?it/s]"
      ]
     },
     "metadata": {},
     "output_type": "display_data"
    },
    {
     "data": {
      "application/vnd.jupyter.widget-view+json": {
       "model_id": "41c3fb3134bd45c4bcdad7ed6c1a10cc",
       "version_major": 2,
       "version_minor": 0
      },
      "text/plain": [
       "Batches in epoch #10:   0%|          | 0/1250 [00:00<?, ?it/s]"
      ]
     },
     "metadata": {},
     "output_type": "display_data"
    },
    {
     "data": {
      "application/vnd.jupyter.widget-view+json": {
       "model_id": "35b1a882371943b28715fd254164dbbd",
       "version_major": 2,
       "version_minor": 0
      },
      "text/plain": [
       "Batches in epoch #11:   0%|          | 0/1250 [00:00<?, ?it/s]"
      ]
     },
     "metadata": {},
     "output_type": "display_data"
    },
    {
     "data": {
      "application/vnd.jupyter.widget-view+json": {
       "model_id": "d11c1941a8dd402ca603c4c778db8055",
       "version_major": 2,
       "version_minor": 0
      },
      "text/plain": [
       "Batches in epoch #12:   0%|          | 0/1250 [00:00<?, ?it/s]"
      ]
     },
     "metadata": {},
     "output_type": "display_data"
    },
    {
     "data": {
      "application/vnd.jupyter.widget-view+json": {
       "model_id": "e38b937fcb484283a22d15fb3ae8b9b7",
       "version_major": 2,
       "version_minor": 0
      },
      "text/plain": [
       "Batches in epoch #13:   0%|          | 0/1250 [00:00<?, ?it/s]"
      ]
     },
     "metadata": {},
     "output_type": "display_data"
    },
    {
     "data": {
      "application/vnd.jupyter.widget-view+json": {
       "model_id": "9d564c6d5f304ba9b93c99e6855bc0d6",
       "version_major": 2,
       "version_minor": 0
      },
      "text/plain": [
       "Batches in epoch #14:   0%|          | 0/1250 [00:00<?, ?it/s]"
      ]
     },
     "metadata": {},
     "output_type": "display_data"
    },
    {
     "data": {
      "application/vnd.jupyter.widget-view+json": {
       "model_id": "d0257c61997b4abdb1029331c229e235",
       "version_major": 2,
       "version_minor": 0
      },
      "text/plain": [
       "Batches in epoch #15:   0%|          | 0/1250 [00:00<?, ?it/s]"
      ]
     },
     "metadata": {},
     "output_type": "display_data"
    },
    {
     "data": {
      "application/vnd.jupyter.widget-view+json": {
       "model_id": "ca50208493b34f43bb6ea7a2b158c540",
       "version_major": 2,
       "version_minor": 0
      },
      "text/plain": [
       "Batches in epoch #16:   0%|          | 0/1250 [00:00<?, ?it/s]"
      ]
     },
     "metadata": {},
     "output_type": "display_data"
    },
    {
     "data": {
      "application/vnd.jupyter.widget-view+json": {
       "model_id": "05e5d8090a3d4359870b06b116a550bd",
       "version_major": 2,
       "version_minor": 0
      },
      "text/plain": [
       "Batches in epoch #17:   0%|          | 0/1250 [00:00<?, ?it/s]"
      ]
     },
     "metadata": {},
     "output_type": "display_data"
    },
    {
     "data": {
      "application/vnd.jupyter.widget-view+json": {
       "model_id": "46b085acbab74c568ccdd88fc02beb31",
       "version_major": 2,
       "version_minor": 0
      },
      "text/plain": [
       "Batches in epoch #18:   0%|          | 0/1250 [00:00<?, ?it/s]"
      ]
     },
     "metadata": {},
     "output_type": "display_data"
    },
    {
     "data": {
      "application/vnd.jupyter.widget-view+json": {
       "model_id": "2d2a1c528c524abcb1e7e25f5745e2ab",
       "version_major": 2,
       "version_minor": 0
      },
      "text/plain": [
       "Batches in epoch #19:   0%|          | 0/1250 [00:00<?, ?it/s]"
      ]
     },
     "metadata": {},
     "output_type": "display_data"
    },
    {
     "data": {
      "application/vnd.jupyter.widget-view+json": {
       "model_id": "5f5a618a4f8b4a93ac77b46ef52751e1",
       "version_major": 2,
       "version_minor": 0
      },
      "text/plain": [
       "Batches in epoch #20:   0%|          | 0/1250 [00:00<?, ?it/s]"
      ]
     },
     "metadata": {},
     "output_type": "display_data"
    },
    {
     "data": {
      "application/vnd.jupyter.widget-view+json": {
       "model_id": "c88bc1670c754cf1b3340fc6fbb960fe",
       "version_major": 2,
       "version_minor": 0
      },
      "text/plain": [
       "Batches in epoch #21:   0%|          | 0/1250 [00:00<?, ?it/s]"
      ]
     },
     "metadata": {},
     "output_type": "display_data"
    },
    {
     "data": {
      "application/vnd.jupyter.widget-view+json": {
       "model_id": "6961643f634e4c56a0d514edd5d1c1c0",
       "version_major": 2,
       "version_minor": 0
      },
      "text/plain": [
       "Batches in epoch #22:   0%|          | 0/1250 [00:00<?, ?it/s]"
      ]
     },
     "metadata": {},
     "output_type": "display_data"
    },
    {
     "data": {
      "application/vnd.jupyter.widget-view+json": {
       "model_id": "0476e8315fef4fc69ac52fecf39b18d3",
       "version_major": 2,
       "version_minor": 0
      },
      "text/plain": [
       "Batches in epoch #23:   0%|          | 0/1250 [00:00<?, ?it/s]"
      ]
     },
     "metadata": {},
     "output_type": "display_data"
    },
    {
     "data": {
      "application/vnd.jupyter.widget-view+json": {
       "model_id": "e0ec2cd7a6ec44cdb4015ff04e3f3cf7",
       "version_major": 2,
       "version_minor": 0
      },
      "text/plain": [
       "Batches in epoch #24:   0%|          | 0/1250 [00:00<?, ?it/s]"
      ]
     },
     "metadata": {},
     "output_type": "display_data"
    },
    {
     "data": {
      "application/vnd.jupyter.widget-view+json": {
       "model_id": "2591cb6e57114ec385508ce3df9a6720",
       "version_major": 2,
       "version_minor": 0
      },
      "text/plain": [
       "Batches in epoch #25:   0%|          | 0/1250 [00:00<?, ?it/s]"
      ]
     },
     "metadata": {},
     "output_type": "display_data"
    },
    {
     "data": {
      "application/vnd.jupyter.widget-view+json": {
       "model_id": "2ea77a9dc27346db87227d4a54ff0f22",
       "version_major": 2,
       "version_minor": 0
      },
      "text/plain": [
       "Batches in epoch #26:   0%|          | 0/1250 [00:00<?, ?it/s]"
      ]
     },
     "metadata": {},
     "output_type": "display_data"
    },
    {
     "data": {
      "application/vnd.jupyter.widget-view+json": {
       "model_id": "912a27f618444381aac01f62cec2d0d0",
       "version_major": 2,
       "version_minor": 0
      },
      "text/plain": [
       "Batches in epoch #27:   0%|          | 0/1250 [00:00<?, ?it/s]"
      ]
     },
     "metadata": {},
     "output_type": "display_data"
    },
    {
     "data": {
      "application/vnd.jupyter.widget-view+json": {
       "model_id": "0df4e5fec4ed4a3da0342dbaf8dea736",
       "version_major": 2,
       "version_minor": 0
      },
      "text/plain": [
       "Batches in epoch #28:   0%|          | 0/1250 [00:00<?, ?it/s]"
      ]
     },
     "metadata": {},
     "output_type": "display_data"
    },
    {
     "data": {
      "application/vnd.jupyter.widget-view+json": {
       "model_id": "c96f1fbe3548426184496013c970b3ed",
       "version_major": 2,
       "version_minor": 0
      },
      "text/plain": [
       "Batches in epoch #29:   0%|          | 0/1250 [00:00<?, ?it/s]"
      ]
     },
     "metadata": {},
     "output_type": "display_data"
    },
    {
     "data": {
      "application/vnd.jupyter.widget-view+json": {
       "model_id": "183914b9dc984b6e8161e7395c452b71",
       "version_major": 2,
       "version_minor": 0
      },
      "text/plain": [
       "Batches in epoch #30:   0%|          | 0/1250 [00:00<?, ?it/s]"
      ]
     },
     "metadata": {},
     "output_type": "display_data"
    },
    {
     "data": {
      "application/vnd.jupyter.widget-view+json": {
       "model_id": "b3860beef2f249babeae51c770b2cdf0",
       "version_major": 2,
       "version_minor": 0
      },
      "text/plain": [
       "Batches in epoch #31:   0%|          | 0/1250 [00:00<?, ?it/s]"
      ]
     },
     "metadata": {},
     "output_type": "display_data"
    },
    {
     "data": {
      "application/vnd.jupyter.widget-view+json": {
       "model_id": "a90501addee14ef4ba5e2d90edd32fe0",
       "version_major": 2,
       "version_minor": 0
      },
      "text/plain": [
       "Batches in epoch #32:   0%|          | 0/1250 [00:00<?, ?it/s]"
      ]
     },
     "metadata": {},
     "output_type": "display_data"
    },
    {
     "data": {
      "application/vnd.jupyter.widget-view+json": {
       "model_id": "cbf64c41b2ba4381b5bbd4bc2bf42583",
       "version_major": 2,
       "version_minor": 0
      },
      "text/plain": [
       "Batches in epoch #33:   0%|          | 0/1250 [00:00<?, ?it/s]"
      ]
     },
     "metadata": {},
     "output_type": "display_data"
    },
    {
     "data": {
      "application/vnd.jupyter.widget-view+json": {
       "model_id": "1fe7b2f4e3c746db93ea14c8cfb7ad5b",
       "version_major": 2,
       "version_minor": 0
      },
      "text/plain": [
       "Batches in epoch #34:   0%|          | 0/1250 [00:00<?, ?it/s]"
      ]
     },
     "metadata": {},
     "output_type": "display_data"
    },
    {
     "data": {
      "application/vnd.jupyter.widget-view+json": {
       "model_id": "a75a8c1dbd2a4a80a9ae39d6d3d5b3bc",
       "version_major": 2,
       "version_minor": 0
      },
      "text/plain": [
       "Batches in epoch #35:   0%|          | 0/1250 [00:00<?, ?it/s]"
      ]
     },
     "metadata": {},
     "output_type": "display_data"
    },
    {
     "data": {
      "application/vnd.jupyter.widget-view+json": {
       "model_id": "7d04d84b42644098aa0d065bbc4b6462",
       "version_major": 2,
       "version_minor": 0
      },
      "text/plain": [
       "Batches in epoch #36:   0%|          | 0/1250 [00:00<?, ?it/s]"
      ]
     },
     "metadata": {},
     "output_type": "display_data"
    },
    {
     "data": {
      "application/vnd.jupyter.widget-view+json": {
       "model_id": "e65f4ba5af9a4b1db7f7d55c02537edc",
       "version_major": 2,
       "version_minor": 0
      },
      "text/plain": [
       "Batches in epoch #37:   0%|          | 0/1250 [00:00<?, ?it/s]"
      ]
     },
     "metadata": {},
     "output_type": "display_data"
    },
    {
     "data": {
      "application/vnd.jupyter.widget-view+json": {
       "model_id": "a3f15f4532904b98b01227033f8a5a8d",
       "version_major": 2,
       "version_minor": 0
      },
      "text/plain": [
       "Batches in epoch #38:   0%|          | 0/1250 [00:00<?, ?it/s]"
      ]
     },
     "metadata": {},
     "output_type": "display_data"
    },
    {
     "data": {
      "application/vnd.jupyter.widget-view+json": {
       "model_id": "51eb21cb10974715bf2f7d514dde3ece",
       "version_major": 2,
       "version_minor": 0
      },
      "text/plain": [
       "Batches in epoch #39:   0%|          | 0/1250 [00:00<?, ?it/s]"
      ]
     },
     "metadata": {},
     "output_type": "display_data"
    },
    {
     "data": {
      "application/vnd.jupyter.widget-view+json": {
       "model_id": "28a824a73c9740a08b0f70a597fcf79e",
       "version_major": 2,
       "version_minor": 0
      },
      "text/plain": [
       "Batches in epoch #40:   0%|          | 0/1250 [00:00<?, ?it/s]"
      ]
     },
     "metadata": {},
     "output_type": "display_data"
    },
    {
     "data": {
      "application/vnd.jupyter.widget-view+json": {
       "model_id": "d4a1f8cdef13488398001d3edd692fd6",
       "version_major": 2,
       "version_minor": 0
      },
      "text/plain": [
       "Batches in epoch #41:   0%|          | 0/1250 [00:00<?, ?it/s]"
      ]
     },
     "metadata": {},
     "output_type": "display_data"
    },
    {
     "data": {
      "application/vnd.jupyter.widget-view+json": {
       "model_id": "6f6aaad65e1f4ed2a7d031733cb94b02",
       "version_major": 2,
       "version_minor": 0
      },
      "text/plain": [
       "Batches in epoch #42:   0%|          | 0/1250 [00:00<?, ?it/s]"
      ]
     },
     "metadata": {},
     "output_type": "display_data"
    },
    {
     "data": {
      "application/vnd.jupyter.widget-view+json": {
       "model_id": "ec0b89c597594dada4e48c85aa2127bc",
       "version_major": 2,
       "version_minor": 0
      },
      "text/plain": [
       "Batches in epoch #43:   0%|          | 0/1250 [00:00<?, ?it/s]"
      ]
     },
     "metadata": {},
     "output_type": "display_data"
    },
    {
     "data": {
      "application/vnd.jupyter.widget-view+json": {
       "model_id": "3d7faaaeea834916a343d1c8073b8ee4",
       "version_major": 2,
       "version_minor": 0
      },
      "text/plain": [
       "Batches in epoch #44:   0%|          | 0/1250 [00:00<?, ?it/s]"
      ]
     },
     "metadata": {},
     "output_type": "display_data"
    },
    {
     "data": {
      "application/vnd.jupyter.widget-view+json": {
       "model_id": "9d0fa09a53094e65a69a6e37c289b828",
       "version_major": 2,
       "version_minor": 0
      },
      "text/plain": [
       "Batches in epoch #45:   0%|          | 0/1250 [00:00<?, ?it/s]"
      ]
     },
     "metadata": {},
     "output_type": "display_data"
    },
    {
     "data": {
      "application/vnd.jupyter.widget-view+json": {
       "model_id": "43534fc02d8e49d38616bd823965e032",
       "version_major": 2,
       "version_minor": 0
      },
      "text/plain": [
       "Batches in epoch #46:   0%|          | 0/1250 [00:00<?, ?it/s]"
      ]
     },
     "metadata": {},
     "output_type": "display_data"
    },
    {
     "data": {
      "application/vnd.jupyter.widget-view+json": {
       "model_id": "17af64afddbe4f8b84c7ad38cac3c9c1",
       "version_major": 2,
       "version_minor": 0
      },
      "text/plain": [
       "Batches in epoch #47:   0%|          | 0/1250 [00:00<?, ?it/s]"
      ]
     },
     "metadata": {},
     "output_type": "display_data"
    },
    {
     "data": {
      "application/vnd.jupyter.widget-view+json": {
       "model_id": "32472a71ae4e4504a190f9b421477abd",
       "version_major": 2,
       "version_minor": 0
      },
      "text/plain": [
       "Batches in epoch #48:   0%|          | 0/1250 [00:00<?, ?it/s]"
      ]
     },
     "metadata": {},
     "output_type": "display_data"
    },
    {
     "data": {
      "application/vnd.jupyter.widget-view+json": {
       "model_id": "522b162ffdcb4277997ad2fd8b205367",
       "version_major": 2,
       "version_minor": 0
      },
      "text/plain": [
       "Batches in epoch #49:   0%|          | 0/1250 [00:00<?, ?it/s]"
      ]
     },
     "metadata": {},
     "output_type": "display_data"
    },
    {
     "data": {
      "application/vnd.jupyter.widget-view+json": {
       "model_id": "fce9b75ae9654541b2f87450363e7186",
       "version_major": 2,
       "version_minor": 0
      },
      "text/plain": [
       "Batches in epoch #50:   0%|          | 0/1250 [00:00<?, ?it/s]"
      ]
     },
     "metadata": {},
     "output_type": "display_data"
    },
    {
     "name": "stdout",
     "output_type": "stream",
     "text": [
      "Iteration 1/10 complete.\n"
     ]
    },
    {
     "data": {
      "application/vnd.jupyter.widget-view+json": {
       "model_id": "ffb48f46a17a409fb674b1dd854326b6",
       "version_major": 2,
       "version_minor": 0
      },
      "text/plain": [
       "Epochs:   0%|          | 0/50 [00:00<?, ?it/s]"
      ]
     },
     "metadata": {},
     "output_type": "display_data"
    },
    {
     "data": {
      "application/vnd.jupyter.widget-view+json": {
       "model_id": "0c7555f205594ff4bc8d695d9b72dfd2",
       "version_major": 2,
       "version_minor": 0
      },
      "text/plain": [
       "Batches in epoch #1:   0%|          | 0/1250 [00:00<?, ?it/s]"
      ]
     },
     "metadata": {},
     "output_type": "display_data"
    },
    {
     "data": {
      "application/vnd.jupyter.widget-view+json": {
       "model_id": "1400daceac4e4362ad28246823e303fa",
       "version_major": 2,
       "version_minor": 0
      },
      "text/plain": [
       "Batches in epoch #2:   0%|          | 0/1250 [00:00<?, ?it/s]"
      ]
     },
     "metadata": {},
     "output_type": "display_data"
    },
    {
     "data": {
      "application/vnd.jupyter.widget-view+json": {
       "model_id": "16dd479bb7d0410594caef1cbe2a3f78",
       "version_major": 2,
       "version_minor": 0
      },
      "text/plain": [
       "Batches in epoch #3:   0%|          | 0/1250 [00:00<?, ?it/s]"
      ]
     },
     "metadata": {},
     "output_type": "display_data"
    },
    {
     "data": {
      "application/vnd.jupyter.widget-view+json": {
       "model_id": "e808ef4d32fe40cdbb9c0b7ec8624fae",
       "version_major": 2,
       "version_minor": 0
      },
      "text/plain": [
       "Batches in epoch #4:   0%|          | 0/1250 [00:00<?, ?it/s]"
      ]
     },
     "metadata": {},
     "output_type": "display_data"
    },
    {
     "data": {
      "application/vnd.jupyter.widget-view+json": {
       "model_id": "ad302eaa8cdd478e9987ada870036482",
       "version_major": 2,
       "version_minor": 0
      },
      "text/plain": [
       "Batches in epoch #5:   0%|          | 0/1250 [00:00<?, ?it/s]"
      ]
     },
     "metadata": {},
     "output_type": "display_data"
    },
    {
     "data": {
      "application/vnd.jupyter.widget-view+json": {
       "model_id": "d17acbe6ac2e42518da8ff19574bde39",
       "version_major": 2,
       "version_minor": 0
      },
      "text/plain": [
       "Batches in epoch #6:   0%|          | 0/1250 [00:00<?, ?it/s]"
      ]
     },
     "metadata": {},
     "output_type": "display_data"
    },
    {
     "data": {
      "application/vnd.jupyter.widget-view+json": {
       "model_id": "0b7f3fbf5e2b4111aa85f2cc2906e28b",
       "version_major": 2,
       "version_minor": 0
      },
      "text/plain": [
       "Batches in epoch #7:   0%|          | 0/1250 [00:00<?, ?it/s]"
      ]
     },
     "metadata": {},
     "output_type": "display_data"
    },
    {
     "data": {
      "application/vnd.jupyter.widget-view+json": {
       "model_id": "ea76129898da4d93b5f2a9e62942f489",
       "version_major": 2,
       "version_minor": 0
      },
      "text/plain": [
       "Batches in epoch #8:   0%|          | 0/1250 [00:00<?, ?it/s]"
      ]
     },
     "metadata": {},
     "output_type": "display_data"
    },
    {
     "data": {
      "application/vnd.jupyter.widget-view+json": {
       "model_id": "0ba5b5697fca4fd3869fc3af984f4a23",
       "version_major": 2,
       "version_minor": 0
      },
      "text/plain": [
       "Batches in epoch #9:   0%|          | 0/1250 [00:00<?, ?it/s]"
      ]
     },
     "metadata": {},
     "output_type": "display_data"
    },
    {
     "data": {
      "application/vnd.jupyter.widget-view+json": {
       "model_id": "2c66349b8b3c420294c62adafaa101c7",
       "version_major": 2,
       "version_minor": 0
      },
      "text/plain": [
       "Batches in epoch #10:   0%|          | 0/1250 [00:00<?, ?it/s]"
      ]
     },
     "metadata": {},
     "output_type": "display_data"
    },
    {
     "data": {
      "application/vnd.jupyter.widget-view+json": {
       "model_id": "7dacee1dd1314e7d8c32674475ce77e1",
       "version_major": 2,
       "version_minor": 0
      },
      "text/plain": [
       "Batches in epoch #11:   0%|          | 0/1250 [00:00<?, ?it/s]"
      ]
     },
     "metadata": {},
     "output_type": "display_data"
    },
    {
     "data": {
      "application/vnd.jupyter.widget-view+json": {
       "model_id": "26728262ee3c42be8df6c8ad57ed49b2",
       "version_major": 2,
       "version_minor": 0
      },
      "text/plain": [
       "Batches in epoch #12:   0%|          | 0/1250 [00:00<?, ?it/s]"
      ]
     },
     "metadata": {},
     "output_type": "display_data"
    },
    {
     "data": {
      "application/vnd.jupyter.widget-view+json": {
       "model_id": "c175d3b102f444929611d08dbe8a497a",
       "version_major": 2,
       "version_minor": 0
      },
      "text/plain": [
       "Batches in epoch #13:   0%|          | 0/1250 [00:00<?, ?it/s]"
      ]
     },
     "metadata": {},
     "output_type": "display_data"
    },
    {
     "data": {
      "application/vnd.jupyter.widget-view+json": {
       "model_id": "9643b1cdc5ba4b99a78bfc58d1f41d99",
       "version_major": 2,
       "version_minor": 0
      },
      "text/plain": [
       "Batches in epoch #14:   0%|          | 0/1250 [00:00<?, ?it/s]"
      ]
     },
     "metadata": {},
     "output_type": "display_data"
    },
    {
     "data": {
      "application/vnd.jupyter.widget-view+json": {
       "model_id": "17f2600d96b44a33891cd69bca2978ab",
       "version_major": 2,
       "version_minor": 0
      },
      "text/plain": [
       "Batches in epoch #15:   0%|          | 0/1250 [00:00<?, ?it/s]"
      ]
     },
     "metadata": {},
     "output_type": "display_data"
    },
    {
     "data": {
      "application/vnd.jupyter.widget-view+json": {
       "model_id": "69c346cc5545459b82f4200d49c91fd5",
       "version_major": 2,
       "version_minor": 0
      },
      "text/plain": [
       "Batches in epoch #16:   0%|          | 0/1250 [00:00<?, ?it/s]"
      ]
     },
     "metadata": {},
     "output_type": "display_data"
    },
    {
     "data": {
      "application/vnd.jupyter.widget-view+json": {
       "model_id": "34a69a2efeb64b4dbda1d48133deac19",
       "version_major": 2,
       "version_minor": 0
      },
      "text/plain": [
       "Batches in epoch #17:   0%|          | 0/1250 [00:00<?, ?it/s]"
      ]
     },
     "metadata": {},
     "output_type": "display_data"
    },
    {
     "data": {
      "application/vnd.jupyter.widget-view+json": {
       "model_id": "5e744ee11d864a57a938ccc25c23ceb0",
       "version_major": 2,
       "version_minor": 0
      },
      "text/plain": [
       "Batches in epoch #18:   0%|          | 0/1250 [00:00<?, ?it/s]"
      ]
     },
     "metadata": {},
     "output_type": "display_data"
    },
    {
     "data": {
      "application/vnd.jupyter.widget-view+json": {
       "model_id": "49120d5203624ad0a520c4a83f4f9a84",
       "version_major": 2,
       "version_minor": 0
      },
      "text/plain": [
       "Batches in epoch #19:   0%|          | 0/1250 [00:00<?, ?it/s]"
      ]
     },
     "metadata": {},
     "output_type": "display_data"
    },
    {
     "data": {
      "application/vnd.jupyter.widget-view+json": {
       "model_id": "bfcc82b8751e4806bd81dff7c6de69ff",
       "version_major": 2,
       "version_minor": 0
      },
      "text/plain": [
       "Batches in epoch #20:   0%|          | 0/1250 [00:00<?, ?it/s]"
      ]
     },
     "metadata": {},
     "output_type": "display_data"
    },
    {
     "data": {
      "application/vnd.jupyter.widget-view+json": {
       "model_id": "883df78fe8fe4339b2ed89717b2d382f",
       "version_major": 2,
       "version_minor": 0
      },
      "text/plain": [
       "Batches in epoch #21:   0%|          | 0/1250 [00:00<?, ?it/s]"
      ]
     },
     "metadata": {},
     "output_type": "display_data"
    },
    {
     "data": {
      "application/vnd.jupyter.widget-view+json": {
       "model_id": "fa9aeddbf8ee45c880b2eaffe8fc3449",
       "version_major": 2,
       "version_minor": 0
      },
      "text/plain": [
       "Batches in epoch #22:   0%|          | 0/1250 [00:00<?, ?it/s]"
      ]
     },
     "metadata": {},
     "output_type": "display_data"
    },
    {
     "data": {
      "application/vnd.jupyter.widget-view+json": {
       "model_id": "3394291cc16c42709e5ab211d78f4869",
       "version_major": 2,
       "version_minor": 0
      },
      "text/plain": [
       "Batches in epoch #23:   0%|          | 0/1250 [00:00<?, ?it/s]"
      ]
     },
     "metadata": {},
     "output_type": "display_data"
    },
    {
     "data": {
      "application/vnd.jupyter.widget-view+json": {
       "model_id": "92394f887c144ebcaf3c2bc802f5377b",
       "version_major": 2,
       "version_minor": 0
      },
      "text/plain": [
       "Batches in epoch #24:   0%|          | 0/1250 [00:00<?, ?it/s]"
      ]
     },
     "metadata": {},
     "output_type": "display_data"
    },
    {
     "data": {
      "application/vnd.jupyter.widget-view+json": {
       "model_id": "c5a616b3e2f04b1f97a0990cfb7c79c1",
       "version_major": 2,
       "version_minor": 0
      },
      "text/plain": [
       "Batches in epoch #25:   0%|          | 0/1250 [00:00<?, ?it/s]"
      ]
     },
     "metadata": {},
     "output_type": "display_data"
    },
    {
     "data": {
      "application/vnd.jupyter.widget-view+json": {
       "model_id": "fb41b5df868f49ab87ce0eae905dcf23",
       "version_major": 2,
       "version_minor": 0
      },
      "text/plain": [
       "Batches in epoch #26:   0%|          | 0/1250 [00:00<?, ?it/s]"
      ]
     },
     "metadata": {},
     "output_type": "display_data"
    },
    {
     "data": {
      "application/vnd.jupyter.widget-view+json": {
       "model_id": "4d6ee30d796d4c57bd618e89b68ee732",
       "version_major": 2,
       "version_minor": 0
      },
      "text/plain": [
       "Batches in epoch #27:   0%|          | 0/1250 [00:00<?, ?it/s]"
      ]
     },
     "metadata": {},
     "output_type": "display_data"
    },
    {
     "data": {
      "application/vnd.jupyter.widget-view+json": {
       "model_id": "830b557f8a92455c801c543db6ef8de1",
       "version_major": 2,
       "version_minor": 0
      },
      "text/plain": [
       "Batches in epoch #28:   0%|          | 0/1250 [00:00<?, ?it/s]"
      ]
     },
     "metadata": {},
     "output_type": "display_data"
    },
    {
     "data": {
      "application/vnd.jupyter.widget-view+json": {
       "model_id": "7479398ae6994e23b9f40ac76628594b",
       "version_major": 2,
       "version_minor": 0
      },
      "text/plain": [
       "Batches in epoch #29:   0%|          | 0/1250 [00:00<?, ?it/s]"
      ]
     },
     "metadata": {},
     "output_type": "display_data"
    },
    {
     "data": {
      "application/vnd.jupyter.widget-view+json": {
       "model_id": "dec176f756e148e69ad880758ad092e7",
       "version_major": 2,
       "version_minor": 0
      },
      "text/plain": [
       "Batches in epoch #30:   0%|          | 0/1250 [00:00<?, ?it/s]"
      ]
     },
     "metadata": {},
     "output_type": "display_data"
    },
    {
     "data": {
      "application/vnd.jupyter.widget-view+json": {
       "model_id": "fb8d2e6a9da34f069e22d5bc68ec63d6",
       "version_major": 2,
       "version_minor": 0
      },
      "text/plain": [
       "Batches in epoch #31:   0%|          | 0/1250 [00:00<?, ?it/s]"
      ]
     },
     "metadata": {},
     "output_type": "display_data"
    },
    {
     "data": {
      "application/vnd.jupyter.widget-view+json": {
       "model_id": "e6a2c1b46a7b403fabd9a2f3d5f2ef24",
       "version_major": 2,
       "version_minor": 0
      },
      "text/plain": [
       "Batches in epoch #32:   0%|          | 0/1250 [00:00<?, ?it/s]"
      ]
     },
     "metadata": {},
     "output_type": "display_data"
    },
    {
     "data": {
      "application/vnd.jupyter.widget-view+json": {
       "model_id": "dab5ca66ff3441cda53a4d76e499a5b5",
       "version_major": 2,
       "version_minor": 0
      },
      "text/plain": [
       "Batches in epoch #33:   0%|          | 0/1250 [00:00<?, ?it/s]"
      ]
     },
     "metadata": {},
     "output_type": "display_data"
    },
    {
     "data": {
      "application/vnd.jupyter.widget-view+json": {
       "model_id": "66e986bc151248c887868891d384dc40",
       "version_major": 2,
       "version_minor": 0
      },
      "text/plain": [
       "Batches in epoch #34:   0%|          | 0/1250 [00:00<?, ?it/s]"
      ]
     },
     "metadata": {},
     "output_type": "display_data"
    },
    {
     "data": {
      "application/vnd.jupyter.widget-view+json": {
       "model_id": "0999df946bed43299cfd579b74203b98",
       "version_major": 2,
       "version_minor": 0
      },
      "text/plain": [
       "Batches in epoch #35:   0%|          | 0/1250 [00:00<?, ?it/s]"
      ]
     },
     "metadata": {},
     "output_type": "display_data"
    },
    {
     "data": {
      "application/vnd.jupyter.widget-view+json": {
       "model_id": "29cda46ff035449995832ec40406669a",
       "version_major": 2,
       "version_minor": 0
      },
      "text/plain": [
       "Batches in epoch #36:   0%|          | 0/1250 [00:00<?, ?it/s]"
      ]
     },
     "metadata": {},
     "output_type": "display_data"
    },
    {
     "data": {
      "application/vnd.jupyter.widget-view+json": {
       "model_id": "0f7f846a67434db8b4f9fee71287f9ed",
       "version_major": 2,
       "version_minor": 0
      },
      "text/plain": [
       "Batches in epoch #37:   0%|          | 0/1250 [00:00<?, ?it/s]"
      ]
     },
     "metadata": {},
     "output_type": "display_data"
    },
    {
     "data": {
      "application/vnd.jupyter.widget-view+json": {
       "model_id": "ee3dc597c1204e828d5ee981c595ed53",
       "version_major": 2,
       "version_minor": 0
      },
      "text/plain": [
       "Batches in epoch #38:   0%|          | 0/1250 [00:00<?, ?it/s]"
      ]
     },
     "metadata": {},
     "output_type": "display_data"
    },
    {
     "data": {
      "application/vnd.jupyter.widget-view+json": {
       "model_id": "02736caffa094d75a831bb5a45c9cee7",
       "version_major": 2,
       "version_minor": 0
      },
      "text/plain": [
       "Batches in epoch #39:   0%|          | 0/1250 [00:00<?, ?it/s]"
      ]
     },
     "metadata": {},
     "output_type": "display_data"
    },
    {
     "data": {
      "application/vnd.jupyter.widget-view+json": {
       "model_id": "b89a73ad38db4cd5b56fb02922f8e4c0",
       "version_major": 2,
       "version_minor": 0
      },
      "text/plain": [
       "Batches in epoch #40:   0%|          | 0/1250 [00:00<?, ?it/s]"
      ]
     },
     "metadata": {},
     "output_type": "display_data"
    },
    {
     "data": {
      "application/vnd.jupyter.widget-view+json": {
       "model_id": "7c2c9215ecc94485b291f61935ddcf8c",
       "version_major": 2,
       "version_minor": 0
      },
      "text/plain": [
       "Batches in epoch #41:   0%|          | 0/1250 [00:00<?, ?it/s]"
      ]
     },
     "metadata": {},
     "output_type": "display_data"
    },
    {
     "data": {
      "application/vnd.jupyter.widget-view+json": {
       "model_id": "7affa2dc31664be7aa2e1744b38677cf",
       "version_major": 2,
       "version_minor": 0
      },
      "text/plain": [
       "Batches in epoch #42:   0%|          | 0/1250 [00:00<?, ?it/s]"
      ]
     },
     "metadata": {},
     "output_type": "display_data"
    },
    {
     "data": {
      "application/vnd.jupyter.widget-view+json": {
       "model_id": "42d4730e49e048d7a60fc52cbe4aed4a",
       "version_major": 2,
       "version_minor": 0
      },
      "text/plain": [
       "Batches in epoch #43:   0%|          | 0/1250 [00:00<?, ?it/s]"
      ]
     },
     "metadata": {},
     "output_type": "display_data"
    },
    {
     "data": {
      "application/vnd.jupyter.widget-view+json": {
       "model_id": "98bd9fe31a034f329569ecdca2dc4338",
       "version_major": 2,
       "version_minor": 0
      },
      "text/plain": [
       "Batches in epoch #44:   0%|          | 0/1250 [00:00<?, ?it/s]"
      ]
     },
     "metadata": {},
     "output_type": "display_data"
    },
    {
     "data": {
      "application/vnd.jupyter.widget-view+json": {
       "model_id": "6987ad8297294d469ea5cc9a1da4f862",
       "version_major": 2,
       "version_minor": 0
      },
      "text/plain": [
       "Batches in epoch #45:   0%|          | 0/1250 [00:00<?, ?it/s]"
      ]
     },
     "metadata": {},
     "output_type": "display_data"
    },
    {
     "data": {
      "application/vnd.jupyter.widget-view+json": {
       "model_id": "72e845028dc948139680b9f3a9bf97c9",
       "version_major": 2,
       "version_minor": 0
      },
      "text/plain": [
       "Batches in epoch #46:   0%|          | 0/1250 [00:00<?, ?it/s]"
      ]
     },
     "metadata": {},
     "output_type": "display_data"
    },
    {
     "data": {
      "application/vnd.jupyter.widget-view+json": {
       "model_id": "2c95ddf1b7f0470ea7118dffbe30b2e2",
       "version_major": 2,
       "version_minor": 0
      },
      "text/plain": [
       "Batches in epoch #47:   0%|          | 0/1250 [00:00<?, ?it/s]"
      ]
     },
     "metadata": {},
     "output_type": "display_data"
    },
    {
     "data": {
      "application/vnd.jupyter.widget-view+json": {
       "model_id": "8a71004cfc5a450d8ca717dd27ed6299",
       "version_major": 2,
       "version_minor": 0
      },
      "text/plain": [
       "Batches in epoch #48:   0%|          | 0/1250 [00:00<?, ?it/s]"
      ]
     },
     "metadata": {},
     "output_type": "display_data"
    },
    {
     "data": {
      "application/vnd.jupyter.widget-view+json": {
       "model_id": "b65f864f7ec141feadbe9e60b73bb157",
       "version_major": 2,
       "version_minor": 0
      },
      "text/plain": [
       "Batches in epoch #49:   0%|          | 0/1250 [00:00<?, ?it/s]"
      ]
     },
     "metadata": {},
     "output_type": "display_data"
    },
    {
     "data": {
      "application/vnd.jupyter.widget-view+json": {
       "model_id": "435f4762a0c647e6a8d3201eeaf69197",
       "version_major": 2,
       "version_minor": 0
      },
      "text/plain": [
       "Batches in epoch #50:   0%|          | 0/1250 [00:00<?, ?it/s]"
      ]
     },
     "metadata": {},
     "output_type": "display_data"
    },
    {
     "name": "stdout",
     "output_type": "stream",
     "text": [
      "Iteration 2/10 complete.\n"
     ]
    },
    {
     "data": {
      "application/vnd.jupyter.widget-view+json": {
       "model_id": "96e6ad2d4c884526ba4c6456cb8302c1",
       "version_major": 2,
       "version_minor": 0
      },
      "text/plain": [
       "Epochs:   0%|          | 0/50 [00:00<?, ?it/s]"
      ]
     },
     "metadata": {},
     "output_type": "display_data"
    },
    {
     "data": {
      "application/vnd.jupyter.widget-view+json": {
       "model_id": "75f6e3a360b241739294109d613adab7",
       "version_major": 2,
       "version_minor": 0
      },
      "text/plain": [
       "Batches in epoch #1:   0%|          | 0/1250 [00:00<?, ?it/s]"
      ]
     },
     "metadata": {},
     "output_type": "display_data"
    },
    {
     "data": {
      "application/vnd.jupyter.widget-view+json": {
       "model_id": "5f6d9f8969ca4d4ca1e423ff16a35a51",
       "version_major": 2,
       "version_minor": 0
      },
      "text/plain": [
       "Batches in epoch #2:   0%|          | 0/1250 [00:00<?, ?it/s]"
      ]
     },
     "metadata": {},
     "output_type": "display_data"
    },
    {
     "data": {
      "application/vnd.jupyter.widget-view+json": {
       "model_id": "e06f73a7532546ab82e0225dea65b82b",
       "version_major": 2,
       "version_minor": 0
      },
      "text/plain": [
       "Batches in epoch #3:   0%|          | 0/1250 [00:00<?, ?it/s]"
      ]
     },
     "metadata": {},
     "output_type": "display_data"
    },
    {
     "data": {
      "application/vnd.jupyter.widget-view+json": {
       "model_id": "2dda69a5e96941b0a08c0c060376e865",
       "version_major": 2,
       "version_minor": 0
      },
      "text/plain": [
       "Batches in epoch #4:   0%|          | 0/1250 [00:00<?, ?it/s]"
      ]
     },
     "metadata": {},
     "output_type": "display_data"
    },
    {
     "data": {
      "application/vnd.jupyter.widget-view+json": {
       "model_id": "55aa476a6f2044c19ec9a3d62bfaeb97",
       "version_major": 2,
       "version_minor": 0
      },
      "text/plain": [
       "Batches in epoch #5:   0%|          | 0/1250 [00:00<?, ?it/s]"
      ]
     },
     "metadata": {},
     "output_type": "display_data"
    },
    {
     "data": {
      "application/vnd.jupyter.widget-view+json": {
       "model_id": "844f6f1853d14735a0939d8e643b5f31",
       "version_major": 2,
       "version_minor": 0
      },
      "text/plain": [
       "Batches in epoch #6:   0%|          | 0/1250 [00:00<?, ?it/s]"
      ]
     },
     "metadata": {},
     "output_type": "display_data"
    },
    {
     "data": {
      "application/vnd.jupyter.widget-view+json": {
       "model_id": "3293a822f10b4429a7934df931e8bb01",
       "version_major": 2,
       "version_minor": 0
      },
      "text/plain": [
       "Batches in epoch #7:   0%|          | 0/1250 [00:00<?, ?it/s]"
      ]
     },
     "metadata": {},
     "output_type": "display_data"
    },
    {
     "data": {
      "application/vnd.jupyter.widget-view+json": {
       "model_id": "b90dce9d805246bf84e4cabc2ccf6a45",
       "version_major": 2,
       "version_minor": 0
      },
      "text/plain": [
       "Batches in epoch #8:   0%|          | 0/1250 [00:00<?, ?it/s]"
      ]
     },
     "metadata": {},
     "output_type": "display_data"
    },
    {
     "data": {
      "application/vnd.jupyter.widget-view+json": {
       "model_id": "9e73f7036496434c885e5163beb9d6ba",
       "version_major": 2,
       "version_minor": 0
      },
      "text/plain": [
       "Batches in epoch #9:   0%|          | 0/1250 [00:00<?, ?it/s]"
      ]
     },
     "metadata": {},
     "output_type": "display_data"
    },
    {
     "data": {
      "application/vnd.jupyter.widget-view+json": {
       "model_id": "7fd587188fff4c818d2261dea03b5a1b",
       "version_major": 2,
       "version_minor": 0
      },
      "text/plain": [
       "Batches in epoch #10:   0%|          | 0/1250 [00:00<?, ?it/s]"
      ]
     },
     "metadata": {},
     "output_type": "display_data"
    },
    {
     "data": {
      "application/vnd.jupyter.widget-view+json": {
       "model_id": "00cf52d7c9bb4216a7c8e08a3418a9d6",
       "version_major": 2,
       "version_minor": 0
      },
      "text/plain": [
       "Batches in epoch #11:   0%|          | 0/1250 [00:00<?, ?it/s]"
      ]
     },
     "metadata": {},
     "output_type": "display_data"
    },
    {
     "data": {
      "application/vnd.jupyter.widget-view+json": {
       "model_id": "0ec57929d93b40ec8a052d8f9fc0225e",
       "version_major": 2,
       "version_minor": 0
      },
      "text/plain": [
       "Batches in epoch #12:   0%|          | 0/1250 [00:00<?, ?it/s]"
      ]
     },
     "metadata": {},
     "output_type": "display_data"
    },
    {
     "data": {
      "application/vnd.jupyter.widget-view+json": {
       "model_id": "be726445577b4acdb8a72f482326aa90",
       "version_major": 2,
       "version_minor": 0
      },
      "text/plain": [
       "Batches in epoch #13:   0%|          | 0/1250 [00:00<?, ?it/s]"
      ]
     },
     "metadata": {},
     "output_type": "display_data"
    },
    {
     "data": {
      "application/vnd.jupyter.widget-view+json": {
       "model_id": "5b45cd73ff9548f19930bf2e2d9cedcc",
       "version_major": 2,
       "version_minor": 0
      },
      "text/plain": [
       "Batches in epoch #14:   0%|          | 0/1250 [00:00<?, ?it/s]"
      ]
     },
     "metadata": {},
     "output_type": "display_data"
    },
    {
     "data": {
      "application/vnd.jupyter.widget-view+json": {
       "model_id": "f3a56208a7be477aa2419d0b1ea1089b",
       "version_major": 2,
       "version_minor": 0
      },
      "text/plain": [
       "Batches in epoch #15:   0%|          | 0/1250 [00:00<?, ?it/s]"
      ]
     },
     "metadata": {},
     "output_type": "display_data"
    },
    {
     "data": {
      "application/vnd.jupyter.widget-view+json": {
       "model_id": "1b0ea5a00e794eaeb8a8aacfce10ec2b",
       "version_major": 2,
       "version_minor": 0
      },
      "text/plain": [
       "Batches in epoch #16:   0%|          | 0/1250 [00:00<?, ?it/s]"
      ]
     },
     "metadata": {},
     "output_type": "display_data"
    },
    {
     "data": {
      "application/vnd.jupyter.widget-view+json": {
       "model_id": "6a54fcd12d66455d8ab724a9be626de7",
       "version_major": 2,
       "version_minor": 0
      },
      "text/plain": [
       "Batches in epoch #17:   0%|          | 0/1250 [00:00<?, ?it/s]"
      ]
     },
     "metadata": {},
     "output_type": "display_data"
    },
    {
     "data": {
      "application/vnd.jupyter.widget-view+json": {
       "model_id": "eba738f26d4540f6bb9c76ac04a523b3",
       "version_major": 2,
       "version_minor": 0
      },
      "text/plain": [
       "Batches in epoch #18:   0%|          | 0/1250 [00:00<?, ?it/s]"
      ]
     },
     "metadata": {},
     "output_type": "display_data"
    },
    {
     "data": {
      "application/vnd.jupyter.widget-view+json": {
       "model_id": "2a54da3674354b6d8c8bec8dc636aaf4",
       "version_major": 2,
       "version_minor": 0
      },
      "text/plain": [
       "Batches in epoch #19:   0%|          | 0/1250 [00:00<?, ?it/s]"
      ]
     },
     "metadata": {},
     "output_type": "display_data"
    },
    {
     "data": {
      "application/vnd.jupyter.widget-view+json": {
       "model_id": "dc7054a039d4440a9fc3510d86a982ee",
       "version_major": 2,
       "version_minor": 0
      },
      "text/plain": [
       "Batches in epoch #20:   0%|          | 0/1250 [00:00<?, ?it/s]"
      ]
     },
     "metadata": {},
     "output_type": "display_data"
    },
    {
     "data": {
      "application/vnd.jupyter.widget-view+json": {
       "model_id": "fca40b1851264fe4a783083db0814362",
       "version_major": 2,
       "version_minor": 0
      },
      "text/plain": [
       "Batches in epoch #21:   0%|          | 0/1250 [00:00<?, ?it/s]"
      ]
     },
     "metadata": {},
     "output_type": "display_data"
    },
    {
     "data": {
      "application/vnd.jupyter.widget-view+json": {
       "model_id": "65d62798df154ce2bc6a01c064b3230a",
       "version_major": 2,
       "version_minor": 0
      },
      "text/plain": [
       "Batches in epoch #22:   0%|          | 0/1250 [00:00<?, ?it/s]"
      ]
     },
     "metadata": {},
     "output_type": "display_data"
    },
    {
     "data": {
      "application/vnd.jupyter.widget-view+json": {
       "model_id": "483977f960b146c99b12c17d83004da5",
       "version_major": 2,
       "version_minor": 0
      },
      "text/plain": [
       "Batches in epoch #23:   0%|          | 0/1250 [00:00<?, ?it/s]"
      ]
     },
     "metadata": {},
     "output_type": "display_data"
    },
    {
     "data": {
      "application/vnd.jupyter.widget-view+json": {
       "model_id": "b124a3d7e1c049cea6e310107a7bdda7",
       "version_major": 2,
       "version_minor": 0
      },
      "text/plain": [
       "Batches in epoch #24:   0%|          | 0/1250 [00:00<?, ?it/s]"
      ]
     },
     "metadata": {},
     "output_type": "display_data"
    },
    {
     "data": {
      "application/vnd.jupyter.widget-view+json": {
       "model_id": "e557570655d144be916ec358aeb60db0",
       "version_major": 2,
       "version_minor": 0
      },
      "text/plain": [
       "Batches in epoch #25:   0%|          | 0/1250 [00:00<?, ?it/s]"
      ]
     },
     "metadata": {},
     "output_type": "display_data"
    },
    {
     "data": {
      "application/vnd.jupyter.widget-view+json": {
       "model_id": "6dab086d0d29459d9ca24e8645b3f18a",
       "version_major": 2,
       "version_minor": 0
      },
      "text/plain": [
       "Batches in epoch #26:   0%|          | 0/1250 [00:00<?, ?it/s]"
      ]
     },
     "metadata": {},
     "output_type": "display_data"
    },
    {
     "data": {
      "application/vnd.jupyter.widget-view+json": {
       "model_id": "bd7f9e38511d4cc0880bc7c2feb9d4b9",
       "version_major": 2,
       "version_minor": 0
      },
      "text/plain": [
       "Batches in epoch #27:   0%|          | 0/1250 [00:00<?, ?it/s]"
      ]
     },
     "metadata": {},
     "output_type": "display_data"
    },
    {
     "data": {
      "application/vnd.jupyter.widget-view+json": {
       "model_id": "955e9b944cba49c2bef8fcffebf23bdb",
       "version_major": 2,
       "version_minor": 0
      },
      "text/plain": [
       "Batches in epoch #28:   0%|          | 0/1250 [00:00<?, ?it/s]"
      ]
     },
     "metadata": {},
     "output_type": "display_data"
    },
    {
     "data": {
      "application/vnd.jupyter.widget-view+json": {
       "model_id": "4d05d39db2f544f3b9762f94ad981a95",
       "version_major": 2,
       "version_minor": 0
      },
      "text/plain": [
       "Batches in epoch #29:   0%|          | 0/1250 [00:00<?, ?it/s]"
      ]
     },
     "metadata": {},
     "output_type": "display_data"
    },
    {
     "data": {
      "application/vnd.jupyter.widget-view+json": {
       "model_id": "7614476e75fa4406a4e9c2964ed7f821",
       "version_major": 2,
       "version_minor": 0
      },
      "text/plain": [
       "Batches in epoch #30:   0%|          | 0/1250 [00:00<?, ?it/s]"
      ]
     },
     "metadata": {},
     "output_type": "display_data"
    },
    {
     "data": {
      "application/vnd.jupyter.widget-view+json": {
       "model_id": "56ec55330b884b478b1fdadc222df042",
       "version_major": 2,
       "version_minor": 0
      },
      "text/plain": [
       "Batches in epoch #31:   0%|          | 0/1250 [00:00<?, ?it/s]"
      ]
     },
     "metadata": {},
     "output_type": "display_data"
    },
    {
     "data": {
      "application/vnd.jupyter.widget-view+json": {
       "model_id": "d62d13bff9c9456e9f1ad2fe1f71183f",
       "version_major": 2,
       "version_minor": 0
      },
      "text/plain": [
       "Batches in epoch #32:   0%|          | 0/1250 [00:00<?, ?it/s]"
      ]
     },
     "metadata": {},
     "output_type": "display_data"
    },
    {
     "data": {
      "application/vnd.jupyter.widget-view+json": {
       "model_id": "74bbefa57b62471dabefbe9d6b56dfd7",
       "version_major": 2,
       "version_minor": 0
      },
      "text/plain": [
       "Batches in epoch #33:   0%|          | 0/1250 [00:00<?, ?it/s]"
      ]
     },
     "metadata": {},
     "output_type": "display_data"
    },
    {
     "data": {
      "application/vnd.jupyter.widget-view+json": {
       "model_id": "a3c75ab559c34dabb6b97ed7834453ad",
       "version_major": 2,
       "version_minor": 0
      },
      "text/plain": [
       "Batches in epoch #34:   0%|          | 0/1250 [00:00<?, ?it/s]"
      ]
     },
     "metadata": {},
     "output_type": "display_data"
    },
    {
     "data": {
      "application/vnd.jupyter.widget-view+json": {
       "model_id": "b2151d57ac44475ba1988499f83579bf",
       "version_major": 2,
       "version_minor": 0
      },
      "text/plain": [
       "Batches in epoch #35:   0%|          | 0/1250 [00:00<?, ?it/s]"
      ]
     },
     "metadata": {},
     "output_type": "display_data"
    },
    {
     "data": {
      "application/vnd.jupyter.widget-view+json": {
       "model_id": "274b8fafc31e4ca69b03de9f44b3a93e",
       "version_major": 2,
       "version_minor": 0
      },
      "text/plain": [
       "Batches in epoch #36:   0%|          | 0/1250 [00:00<?, ?it/s]"
      ]
     },
     "metadata": {},
     "output_type": "display_data"
    },
    {
     "data": {
      "application/vnd.jupyter.widget-view+json": {
       "model_id": "c15a86b07cf94392a1e0d1c8cf0134e2",
       "version_major": 2,
       "version_minor": 0
      },
      "text/plain": [
       "Batches in epoch #37:   0%|          | 0/1250 [00:00<?, ?it/s]"
      ]
     },
     "metadata": {},
     "output_type": "display_data"
    },
    {
     "data": {
      "application/vnd.jupyter.widget-view+json": {
       "model_id": "f7e50bdb9b6d43e69beccee419d1b7df",
       "version_major": 2,
       "version_minor": 0
      },
      "text/plain": [
       "Batches in epoch #38:   0%|          | 0/1250 [00:00<?, ?it/s]"
      ]
     },
     "metadata": {},
     "output_type": "display_data"
    },
    {
     "data": {
      "application/vnd.jupyter.widget-view+json": {
       "model_id": "e21d6cdcd6c04cf49e1a03a70dcc2ccd",
       "version_major": 2,
       "version_minor": 0
      },
      "text/plain": [
       "Batches in epoch #39:   0%|          | 0/1250 [00:00<?, ?it/s]"
      ]
     },
     "metadata": {},
     "output_type": "display_data"
    },
    {
     "data": {
      "application/vnd.jupyter.widget-view+json": {
       "model_id": "3d92cadf29364e1caeff5aef340fa4b6",
       "version_major": 2,
       "version_minor": 0
      },
      "text/plain": [
       "Batches in epoch #40:   0%|          | 0/1250 [00:00<?, ?it/s]"
      ]
     },
     "metadata": {},
     "output_type": "display_data"
    },
    {
     "data": {
      "application/vnd.jupyter.widget-view+json": {
       "model_id": "62331cc0557a44beb7e8b06047e29fa8",
       "version_major": 2,
       "version_minor": 0
      },
      "text/plain": [
       "Batches in epoch #41:   0%|          | 0/1250 [00:00<?, ?it/s]"
      ]
     },
     "metadata": {},
     "output_type": "display_data"
    },
    {
     "data": {
      "application/vnd.jupyter.widget-view+json": {
       "model_id": "8c0cc71d31654f60af9111e6be0d6c9e",
       "version_major": 2,
       "version_minor": 0
      },
      "text/plain": [
       "Batches in epoch #42:   0%|          | 0/1250 [00:00<?, ?it/s]"
      ]
     },
     "metadata": {},
     "output_type": "display_data"
    },
    {
     "data": {
      "application/vnd.jupyter.widget-view+json": {
       "model_id": "2ccce904767944fbbbf0b04681dca87a",
       "version_major": 2,
       "version_minor": 0
      },
      "text/plain": [
       "Batches in epoch #43:   0%|          | 0/1250 [00:00<?, ?it/s]"
      ]
     },
     "metadata": {},
     "output_type": "display_data"
    },
    {
     "data": {
      "application/vnd.jupyter.widget-view+json": {
       "model_id": "25c1f8c6464d491e957c51462d3e1793",
       "version_major": 2,
       "version_minor": 0
      },
      "text/plain": [
       "Batches in epoch #44:   0%|          | 0/1250 [00:00<?, ?it/s]"
      ]
     },
     "metadata": {},
     "output_type": "display_data"
    },
    {
     "data": {
      "application/vnd.jupyter.widget-view+json": {
       "model_id": "4004129f920d481989e854d5f1730768",
       "version_major": 2,
       "version_minor": 0
      },
      "text/plain": [
       "Batches in epoch #45:   0%|          | 0/1250 [00:00<?, ?it/s]"
      ]
     },
     "metadata": {},
     "output_type": "display_data"
    },
    {
     "data": {
      "application/vnd.jupyter.widget-view+json": {
       "model_id": "730daeb98dd9498ca7afb072cbf33b1f",
       "version_major": 2,
       "version_minor": 0
      },
      "text/plain": [
       "Batches in epoch #46:   0%|          | 0/1250 [00:00<?, ?it/s]"
      ]
     },
     "metadata": {},
     "output_type": "display_data"
    },
    {
     "data": {
      "application/vnd.jupyter.widget-view+json": {
       "model_id": "e149bb7707444f6581fc8b37ba545651",
       "version_major": 2,
       "version_minor": 0
      },
      "text/plain": [
       "Batches in epoch #47:   0%|          | 0/1250 [00:00<?, ?it/s]"
      ]
     },
     "metadata": {},
     "output_type": "display_data"
    },
    {
     "data": {
      "application/vnd.jupyter.widget-view+json": {
       "model_id": "0df4f12972cb453882a2dd140659e065",
       "version_major": 2,
       "version_minor": 0
      },
      "text/plain": [
       "Batches in epoch #48:   0%|          | 0/1250 [00:00<?, ?it/s]"
      ]
     },
     "metadata": {},
     "output_type": "display_data"
    },
    {
     "data": {
      "application/vnd.jupyter.widget-view+json": {
       "model_id": "34899f7c5441415aa37c60cb473c560f",
       "version_major": 2,
       "version_minor": 0
      },
      "text/plain": [
       "Batches in epoch #49:   0%|          | 0/1250 [00:00<?, ?it/s]"
      ]
     },
     "metadata": {},
     "output_type": "display_data"
    },
    {
     "data": {
      "application/vnd.jupyter.widget-view+json": {
       "model_id": "f77008c681bf4bc98b2874d8bbbce5c5",
       "version_major": 2,
       "version_minor": 0
      },
      "text/plain": [
       "Batches in epoch #50:   0%|          | 0/1250 [00:00<?, ?it/s]"
      ]
     },
     "metadata": {},
     "output_type": "display_data"
    },
    {
     "name": "stdout",
     "output_type": "stream",
     "text": [
      "Iteration 3/10 complete.\n"
     ]
    },
    {
     "data": {
      "application/vnd.jupyter.widget-view+json": {
       "model_id": "09a3dddc345944d3a7df1b7b73191155",
       "version_major": 2,
       "version_minor": 0
      },
      "text/plain": [
       "Epochs:   0%|          | 0/50 [00:00<?, ?it/s]"
      ]
     },
     "metadata": {},
     "output_type": "display_data"
    },
    {
     "data": {
      "application/vnd.jupyter.widget-view+json": {
       "model_id": "515905dbb7cc466eadb755c92ba5b141",
       "version_major": 2,
       "version_minor": 0
      },
      "text/plain": [
       "Batches in epoch #1:   0%|          | 0/1250 [00:00<?, ?it/s]"
      ]
     },
     "metadata": {},
     "output_type": "display_data"
    },
    {
     "data": {
      "application/vnd.jupyter.widget-view+json": {
       "model_id": "58a0f7a9c4cf4906a254e505141a2d47",
       "version_major": 2,
       "version_minor": 0
      },
      "text/plain": [
       "Batches in epoch #2:   0%|          | 0/1250 [00:00<?, ?it/s]"
      ]
     },
     "metadata": {},
     "output_type": "display_data"
    },
    {
     "data": {
      "application/vnd.jupyter.widget-view+json": {
       "model_id": "6429ba72240a4a93af0ecc6a053887b3",
       "version_major": 2,
       "version_minor": 0
      },
      "text/plain": [
       "Batches in epoch #3:   0%|          | 0/1250 [00:00<?, ?it/s]"
      ]
     },
     "metadata": {},
     "output_type": "display_data"
    },
    {
     "data": {
      "application/vnd.jupyter.widget-view+json": {
       "model_id": "0313dfef1abd4270b8d8ee85d92e565e",
       "version_major": 2,
       "version_minor": 0
      },
      "text/plain": [
       "Batches in epoch #4:   0%|          | 0/1250 [00:00<?, ?it/s]"
      ]
     },
     "metadata": {},
     "output_type": "display_data"
    },
    {
     "data": {
      "application/vnd.jupyter.widget-view+json": {
       "model_id": "cbc18605fc804ae08c57a2a5f44aa6fa",
       "version_major": 2,
       "version_minor": 0
      },
      "text/plain": [
       "Batches in epoch #5:   0%|          | 0/1250 [00:00<?, ?it/s]"
      ]
     },
     "metadata": {},
     "output_type": "display_data"
    },
    {
     "data": {
      "application/vnd.jupyter.widget-view+json": {
       "model_id": "1f1a644027ff4c8baf8590a4b7e40743",
       "version_major": 2,
       "version_minor": 0
      },
      "text/plain": [
       "Batches in epoch #6:   0%|          | 0/1250 [00:00<?, ?it/s]"
      ]
     },
     "metadata": {},
     "output_type": "display_data"
    },
    {
     "data": {
      "application/vnd.jupyter.widget-view+json": {
       "model_id": "8f9a3e3ef9d3491895bf695483b848a1",
       "version_major": 2,
       "version_minor": 0
      },
      "text/plain": [
       "Batches in epoch #7:   0%|          | 0/1250 [00:00<?, ?it/s]"
      ]
     },
     "metadata": {},
     "output_type": "display_data"
    },
    {
     "data": {
      "application/vnd.jupyter.widget-view+json": {
       "model_id": "17447e3961df4fc0b08c866aba430f4e",
       "version_major": 2,
       "version_minor": 0
      },
      "text/plain": [
       "Batches in epoch #8:   0%|          | 0/1250 [00:00<?, ?it/s]"
      ]
     },
     "metadata": {},
     "output_type": "display_data"
    },
    {
     "data": {
      "application/vnd.jupyter.widget-view+json": {
       "model_id": "01e69a9c6d0c446e985c006814c92ea4",
       "version_major": 2,
       "version_minor": 0
      },
      "text/plain": [
       "Batches in epoch #9:   0%|          | 0/1250 [00:00<?, ?it/s]"
      ]
     },
     "metadata": {},
     "output_type": "display_data"
    },
    {
     "data": {
      "application/vnd.jupyter.widget-view+json": {
       "model_id": "ffd9ab45f375412792139b1cd3ce04eb",
       "version_major": 2,
       "version_minor": 0
      },
      "text/plain": [
       "Batches in epoch #10:   0%|          | 0/1250 [00:00<?, ?it/s]"
      ]
     },
     "metadata": {},
     "output_type": "display_data"
    },
    {
     "data": {
      "application/vnd.jupyter.widget-view+json": {
       "model_id": "2b23092ad20a4dbfa778a09a81ebd2ee",
       "version_major": 2,
       "version_minor": 0
      },
      "text/plain": [
       "Batches in epoch #11:   0%|          | 0/1250 [00:00<?, ?it/s]"
      ]
     },
     "metadata": {},
     "output_type": "display_data"
    },
    {
     "data": {
      "application/vnd.jupyter.widget-view+json": {
       "model_id": "da04a7ac97de48419029a105840cd18c",
       "version_major": 2,
       "version_minor": 0
      },
      "text/plain": [
       "Batches in epoch #12:   0%|          | 0/1250 [00:00<?, ?it/s]"
      ]
     },
     "metadata": {},
     "output_type": "display_data"
    },
    {
     "data": {
      "application/vnd.jupyter.widget-view+json": {
       "model_id": "1facc87b14c84f3b87d959c73c8edb6b",
       "version_major": 2,
       "version_minor": 0
      },
      "text/plain": [
       "Batches in epoch #13:   0%|          | 0/1250 [00:00<?, ?it/s]"
      ]
     },
     "metadata": {},
     "output_type": "display_data"
    },
    {
     "data": {
      "application/vnd.jupyter.widget-view+json": {
       "model_id": "92e19104841843cb890a918b32ce5450",
       "version_major": 2,
       "version_minor": 0
      },
      "text/plain": [
       "Batches in epoch #14:   0%|          | 0/1250 [00:00<?, ?it/s]"
      ]
     },
     "metadata": {},
     "output_type": "display_data"
    },
    {
     "data": {
      "application/vnd.jupyter.widget-view+json": {
       "model_id": "be8796865cc247a1b5d9034e71f371a0",
       "version_major": 2,
       "version_minor": 0
      },
      "text/plain": [
       "Batches in epoch #15:   0%|          | 0/1250 [00:00<?, ?it/s]"
      ]
     },
     "metadata": {},
     "output_type": "display_data"
    },
    {
     "data": {
      "application/vnd.jupyter.widget-view+json": {
       "model_id": "d8092aa643a54b28b78eb7a0b5a0138f",
       "version_major": 2,
       "version_minor": 0
      },
      "text/plain": [
       "Batches in epoch #16:   0%|          | 0/1250 [00:00<?, ?it/s]"
      ]
     },
     "metadata": {},
     "output_type": "display_data"
    },
    {
     "data": {
      "application/vnd.jupyter.widget-view+json": {
       "model_id": "ec00b749bc054317b51abf961aa65bdc",
       "version_major": 2,
       "version_minor": 0
      },
      "text/plain": [
       "Batches in epoch #17:   0%|          | 0/1250 [00:00<?, ?it/s]"
      ]
     },
     "metadata": {},
     "output_type": "display_data"
    },
    {
     "data": {
      "application/vnd.jupyter.widget-view+json": {
       "model_id": "03327dfdaf734dca87ce60a8d7b1bbe9",
       "version_major": 2,
       "version_minor": 0
      },
      "text/plain": [
       "Batches in epoch #18:   0%|          | 0/1250 [00:00<?, ?it/s]"
      ]
     },
     "metadata": {},
     "output_type": "display_data"
    },
    {
     "data": {
      "application/vnd.jupyter.widget-view+json": {
       "model_id": "da37213019ad45fbb24754a7516239e1",
       "version_major": 2,
       "version_minor": 0
      },
      "text/plain": [
       "Batches in epoch #19:   0%|          | 0/1250 [00:00<?, ?it/s]"
      ]
     },
     "metadata": {},
     "output_type": "display_data"
    },
    {
     "data": {
      "application/vnd.jupyter.widget-view+json": {
       "model_id": "a6a207f561ff4e3abfe1058f12c4d8c5",
       "version_major": 2,
       "version_minor": 0
      },
      "text/plain": [
       "Batches in epoch #20:   0%|          | 0/1250 [00:00<?, ?it/s]"
      ]
     },
     "metadata": {},
     "output_type": "display_data"
    },
    {
     "data": {
      "application/vnd.jupyter.widget-view+json": {
       "model_id": "cfefc3859e3a49a780620e06d3cab59d",
       "version_major": 2,
       "version_minor": 0
      },
      "text/plain": [
       "Batches in epoch #21:   0%|          | 0/1250 [00:00<?, ?it/s]"
      ]
     },
     "metadata": {},
     "output_type": "display_data"
    },
    {
     "data": {
      "application/vnd.jupyter.widget-view+json": {
       "model_id": "c886ed0769d94c5b8a53ad9e1f0fba19",
       "version_major": 2,
       "version_minor": 0
      },
      "text/plain": [
       "Batches in epoch #22:   0%|          | 0/1250 [00:00<?, ?it/s]"
      ]
     },
     "metadata": {},
     "output_type": "display_data"
    },
    {
     "data": {
      "application/vnd.jupyter.widget-view+json": {
       "model_id": "a538b6842af94bbfab7128446fa21082",
       "version_major": 2,
       "version_minor": 0
      },
      "text/plain": [
       "Batches in epoch #23:   0%|          | 0/1250 [00:00<?, ?it/s]"
      ]
     },
     "metadata": {},
     "output_type": "display_data"
    },
    {
     "data": {
      "application/vnd.jupyter.widget-view+json": {
       "model_id": "da2eb789983e40c190123460e1c2b2c7",
       "version_major": 2,
       "version_minor": 0
      },
      "text/plain": [
       "Batches in epoch #24:   0%|          | 0/1250 [00:00<?, ?it/s]"
      ]
     },
     "metadata": {},
     "output_type": "display_data"
    },
    {
     "data": {
      "application/vnd.jupyter.widget-view+json": {
       "model_id": "4cf3420bae2548c8b9fe2fa5b53cbb70",
       "version_major": 2,
       "version_minor": 0
      },
      "text/plain": [
       "Batches in epoch #25:   0%|          | 0/1250 [00:00<?, ?it/s]"
      ]
     },
     "metadata": {},
     "output_type": "display_data"
    },
    {
     "data": {
      "application/vnd.jupyter.widget-view+json": {
       "model_id": "ce99135e7d5947739af8abd169229e6c",
       "version_major": 2,
       "version_minor": 0
      },
      "text/plain": [
       "Batches in epoch #26:   0%|          | 0/1250 [00:00<?, ?it/s]"
      ]
     },
     "metadata": {},
     "output_type": "display_data"
    },
    {
     "data": {
      "application/vnd.jupyter.widget-view+json": {
       "model_id": "678d9eff12fa4028a85eb0c38dd08fde",
       "version_major": 2,
       "version_minor": 0
      },
      "text/plain": [
       "Batches in epoch #27:   0%|          | 0/1250 [00:00<?, ?it/s]"
      ]
     },
     "metadata": {},
     "output_type": "display_data"
    },
    {
     "data": {
      "application/vnd.jupyter.widget-view+json": {
       "model_id": "84d6353f374e47698d0b40e629c0ca61",
       "version_major": 2,
       "version_minor": 0
      },
      "text/plain": [
       "Batches in epoch #28:   0%|          | 0/1250 [00:00<?, ?it/s]"
      ]
     },
     "metadata": {},
     "output_type": "display_data"
    },
    {
     "data": {
      "application/vnd.jupyter.widget-view+json": {
       "model_id": "6f1d77fc40b54e21ab46f23f3b6f74e4",
       "version_major": 2,
       "version_minor": 0
      },
      "text/plain": [
       "Batches in epoch #29:   0%|          | 0/1250 [00:00<?, ?it/s]"
      ]
     },
     "metadata": {},
     "output_type": "display_data"
    },
    {
     "data": {
      "application/vnd.jupyter.widget-view+json": {
       "model_id": "e927f47831e646f49f2c4baa80455b02",
       "version_major": 2,
       "version_minor": 0
      },
      "text/plain": [
       "Batches in epoch #30:   0%|          | 0/1250 [00:00<?, ?it/s]"
      ]
     },
     "metadata": {},
     "output_type": "display_data"
    },
    {
     "data": {
      "application/vnd.jupyter.widget-view+json": {
       "model_id": "08b6c685c7d6456c92d11c3ad3209411",
       "version_major": 2,
       "version_minor": 0
      },
      "text/plain": [
       "Batches in epoch #31:   0%|          | 0/1250 [00:00<?, ?it/s]"
      ]
     },
     "metadata": {},
     "output_type": "display_data"
    },
    {
     "data": {
      "application/vnd.jupyter.widget-view+json": {
       "model_id": "faf4269ea2764708aab2f4c89ca89ed3",
       "version_major": 2,
       "version_minor": 0
      },
      "text/plain": [
       "Batches in epoch #32:   0%|          | 0/1250 [00:00<?, ?it/s]"
      ]
     },
     "metadata": {},
     "output_type": "display_data"
    },
    {
     "data": {
      "application/vnd.jupyter.widget-view+json": {
       "model_id": "159a6edfff994d0880ed988c90d7c53c",
       "version_major": 2,
       "version_minor": 0
      },
      "text/plain": [
       "Batches in epoch #33:   0%|          | 0/1250 [00:00<?, ?it/s]"
      ]
     },
     "metadata": {},
     "output_type": "display_data"
    },
    {
     "data": {
      "application/vnd.jupyter.widget-view+json": {
       "model_id": "ef0fca8cbae8498f8a7f239d9180e22d",
       "version_major": 2,
       "version_minor": 0
      },
      "text/plain": [
       "Batches in epoch #34:   0%|          | 0/1250 [00:00<?, ?it/s]"
      ]
     },
     "metadata": {},
     "output_type": "display_data"
    },
    {
     "data": {
      "application/vnd.jupyter.widget-view+json": {
       "model_id": "ea92ea1d82f6414cbc12d6b9142050a9",
       "version_major": 2,
       "version_minor": 0
      },
      "text/plain": [
       "Batches in epoch #35:   0%|          | 0/1250 [00:00<?, ?it/s]"
      ]
     },
     "metadata": {},
     "output_type": "display_data"
    },
    {
     "data": {
      "application/vnd.jupyter.widget-view+json": {
       "model_id": "a5e7d5159b8745a1ad34f198adb46ec4",
       "version_major": 2,
       "version_minor": 0
      },
      "text/plain": [
       "Batches in epoch #36:   0%|          | 0/1250 [00:00<?, ?it/s]"
      ]
     },
     "metadata": {},
     "output_type": "display_data"
    },
    {
     "data": {
      "application/vnd.jupyter.widget-view+json": {
       "model_id": "43fdca73a4ab4933808cdd88b55bb65e",
       "version_major": 2,
       "version_minor": 0
      },
      "text/plain": [
       "Batches in epoch #37:   0%|          | 0/1250 [00:00<?, ?it/s]"
      ]
     },
     "metadata": {},
     "output_type": "display_data"
    },
    {
     "data": {
      "application/vnd.jupyter.widget-view+json": {
       "model_id": "d56a16783cae434db11abb2af6a06a00",
       "version_major": 2,
       "version_minor": 0
      },
      "text/plain": [
       "Batches in epoch #38:   0%|          | 0/1250 [00:00<?, ?it/s]"
      ]
     },
     "metadata": {},
     "output_type": "display_data"
    },
    {
     "data": {
      "application/vnd.jupyter.widget-view+json": {
       "model_id": "9dd2ade215cf4f1381a64d2cd372c5f9",
       "version_major": 2,
       "version_minor": 0
      },
      "text/plain": [
       "Batches in epoch #39:   0%|          | 0/1250 [00:00<?, ?it/s]"
      ]
     },
     "metadata": {},
     "output_type": "display_data"
    },
    {
     "data": {
      "application/vnd.jupyter.widget-view+json": {
       "model_id": "3353fdd38f3f49a59f8922db2dd4e862",
       "version_major": 2,
       "version_minor": 0
      },
      "text/plain": [
       "Batches in epoch #40:   0%|          | 0/1250 [00:00<?, ?it/s]"
      ]
     },
     "metadata": {},
     "output_type": "display_data"
    },
    {
     "data": {
      "application/vnd.jupyter.widget-view+json": {
       "model_id": "1f79fc7795a14610ad3e8edc3e08a1f8",
       "version_major": 2,
       "version_minor": 0
      },
      "text/plain": [
       "Batches in epoch #41:   0%|          | 0/1250 [00:00<?, ?it/s]"
      ]
     },
     "metadata": {},
     "output_type": "display_data"
    },
    {
     "data": {
      "application/vnd.jupyter.widget-view+json": {
       "model_id": "7852ac2901aa441f8a8fec42242e36b9",
       "version_major": 2,
       "version_minor": 0
      },
      "text/plain": [
       "Batches in epoch #42:   0%|          | 0/1250 [00:00<?, ?it/s]"
      ]
     },
     "metadata": {},
     "output_type": "display_data"
    },
    {
     "data": {
      "application/vnd.jupyter.widget-view+json": {
       "model_id": "8a996ca701dc45e8a66ff5760b6aecf5",
       "version_major": 2,
       "version_minor": 0
      },
      "text/plain": [
       "Batches in epoch #43:   0%|          | 0/1250 [00:00<?, ?it/s]"
      ]
     },
     "metadata": {},
     "output_type": "display_data"
    },
    {
     "data": {
      "application/vnd.jupyter.widget-view+json": {
       "model_id": "6c8bf15da49544a1a7409f85824c3947",
       "version_major": 2,
       "version_minor": 0
      },
      "text/plain": [
       "Batches in epoch #44:   0%|          | 0/1250 [00:00<?, ?it/s]"
      ]
     },
     "metadata": {},
     "output_type": "display_data"
    },
    {
     "data": {
      "application/vnd.jupyter.widget-view+json": {
       "model_id": "34bbfd126a244438b2517c733bb7958a",
       "version_major": 2,
       "version_minor": 0
      },
      "text/plain": [
       "Batches in epoch #45:   0%|          | 0/1250 [00:00<?, ?it/s]"
      ]
     },
     "metadata": {},
     "output_type": "display_data"
    },
    {
     "data": {
      "application/vnd.jupyter.widget-view+json": {
       "model_id": "14fd952e18ed4a939afd88b93001f86f",
       "version_major": 2,
       "version_minor": 0
      },
      "text/plain": [
       "Batches in epoch #46:   0%|          | 0/1250 [00:00<?, ?it/s]"
      ]
     },
     "metadata": {},
     "output_type": "display_data"
    },
    {
     "data": {
      "application/vnd.jupyter.widget-view+json": {
       "model_id": "fcd10cb754a8488ea24df355028e4335",
       "version_major": 2,
       "version_minor": 0
      },
      "text/plain": [
       "Batches in epoch #47:   0%|          | 0/1250 [00:00<?, ?it/s]"
      ]
     },
     "metadata": {},
     "output_type": "display_data"
    },
    {
     "data": {
      "application/vnd.jupyter.widget-view+json": {
       "model_id": "352beedd901e4fa7bfc4d4cfbf90f6dc",
       "version_major": 2,
       "version_minor": 0
      },
      "text/plain": [
       "Batches in epoch #48:   0%|          | 0/1250 [00:00<?, ?it/s]"
      ]
     },
     "metadata": {},
     "output_type": "display_data"
    },
    {
     "data": {
      "application/vnd.jupyter.widget-view+json": {
       "model_id": "230e4e9be4574dfba4e53bd653202c2b",
       "version_major": 2,
       "version_minor": 0
      },
      "text/plain": [
       "Batches in epoch #49:   0%|          | 0/1250 [00:00<?, ?it/s]"
      ]
     },
     "metadata": {},
     "output_type": "display_data"
    },
    {
     "data": {
      "application/vnd.jupyter.widget-view+json": {
       "model_id": "85a84a307fc4498da14aeb9ed6db3fde",
       "version_major": 2,
       "version_minor": 0
      },
      "text/plain": [
       "Batches in epoch #50:   0%|          | 0/1250 [00:00<?, ?it/s]"
      ]
     },
     "metadata": {},
     "output_type": "display_data"
    },
    {
     "name": "stdout",
     "output_type": "stream",
     "text": [
      "Iteration 4/10 complete.\n"
     ]
    },
    {
     "data": {
      "application/vnd.jupyter.widget-view+json": {
       "model_id": "825e9e113bdd48ae9800ed2e4dd44ed8",
       "version_major": 2,
       "version_minor": 0
      },
      "text/plain": [
       "Epochs:   0%|          | 0/50 [00:00<?, ?it/s]"
      ]
     },
     "metadata": {},
     "output_type": "display_data"
    },
    {
     "data": {
      "application/vnd.jupyter.widget-view+json": {
       "model_id": "326fabcee0eb4120914a01572ec3ed8f",
       "version_major": 2,
       "version_minor": 0
      },
      "text/plain": [
       "Batches in epoch #1:   0%|          | 0/1250 [00:00<?, ?it/s]"
      ]
     },
     "metadata": {},
     "output_type": "display_data"
    },
    {
     "data": {
      "application/vnd.jupyter.widget-view+json": {
       "model_id": "015ddf52d6434075a4d278043622aa6b",
       "version_major": 2,
       "version_minor": 0
      },
      "text/plain": [
       "Batches in epoch #2:   0%|          | 0/1250 [00:00<?, ?it/s]"
      ]
     },
     "metadata": {},
     "output_type": "display_data"
    },
    {
     "data": {
      "application/vnd.jupyter.widget-view+json": {
       "model_id": "bf9eae2653754672822111420ba587be",
       "version_major": 2,
       "version_minor": 0
      },
      "text/plain": [
       "Batches in epoch #3:   0%|          | 0/1250 [00:00<?, ?it/s]"
      ]
     },
     "metadata": {},
     "output_type": "display_data"
    },
    {
     "data": {
      "application/vnd.jupyter.widget-view+json": {
       "model_id": "8c9f8892f50a4b488118cc57c66fc492",
       "version_major": 2,
       "version_minor": 0
      },
      "text/plain": [
       "Batches in epoch #4:   0%|          | 0/1250 [00:00<?, ?it/s]"
      ]
     },
     "metadata": {},
     "output_type": "display_data"
    },
    {
     "data": {
      "application/vnd.jupyter.widget-view+json": {
       "model_id": "9b04f7f186984bfaadad3fcfa98a3b07",
       "version_major": 2,
       "version_minor": 0
      },
      "text/plain": [
       "Batches in epoch #5:   0%|          | 0/1250 [00:00<?, ?it/s]"
      ]
     },
     "metadata": {},
     "output_type": "display_data"
    },
    {
     "data": {
      "application/vnd.jupyter.widget-view+json": {
       "model_id": "e75856239f344e41a8135b761f1c535d",
       "version_major": 2,
       "version_minor": 0
      },
      "text/plain": [
       "Batches in epoch #6:   0%|          | 0/1250 [00:00<?, ?it/s]"
      ]
     },
     "metadata": {},
     "output_type": "display_data"
    },
    {
     "data": {
      "application/vnd.jupyter.widget-view+json": {
       "model_id": "3d7dde1a7073442588924e4f4903a08e",
       "version_major": 2,
       "version_minor": 0
      },
      "text/plain": [
       "Batches in epoch #7:   0%|          | 0/1250 [00:00<?, ?it/s]"
      ]
     },
     "metadata": {},
     "output_type": "display_data"
    },
    {
     "data": {
      "application/vnd.jupyter.widget-view+json": {
       "model_id": "2eac9f6647eb4a89acefd72984740040",
       "version_major": 2,
       "version_minor": 0
      },
      "text/plain": [
       "Batches in epoch #8:   0%|          | 0/1250 [00:00<?, ?it/s]"
      ]
     },
     "metadata": {},
     "output_type": "display_data"
    },
    {
     "data": {
      "application/vnd.jupyter.widget-view+json": {
       "model_id": "d5d2d401c97b4b5e81b74a173a86746d",
       "version_major": 2,
       "version_minor": 0
      },
      "text/plain": [
       "Batches in epoch #9:   0%|          | 0/1250 [00:00<?, ?it/s]"
      ]
     },
     "metadata": {},
     "output_type": "display_data"
    },
    {
     "data": {
      "application/vnd.jupyter.widget-view+json": {
       "model_id": "630e4f1f2433457e972f89de75710df0",
       "version_major": 2,
       "version_minor": 0
      },
      "text/plain": [
       "Batches in epoch #10:   0%|          | 0/1250 [00:00<?, ?it/s]"
      ]
     },
     "metadata": {},
     "output_type": "display_data"
    },
    {
     "data": {
      "application/vnd.jupyter.widget-view+json": {
       "model_id": "573564ef36a24858abe723a7ad77bc1c",
       "version_major": 2,
       "version_minor": 0
      },
      "text/plain": [
       "Batches in epoch #11:   0%|          | 0/1250 [00:00<?, ?it/s]"
      ]
     },
     "metadata": {},
     "output_type": "display_data"
    },
    {
     "data": {
      "application/vnd.jupyter.widget-view+json": {
       "model_id": "d9e711159a844831aecc0d3a4e25c7a5",
       "version_major": 2,
       "version_minor": 0
      },
      "text/plain": [
       "Batches in epoch #12:   0%|          | 0/1250 [00:00<?, ?it/s]"
      ]
     },
     "metadata": {},
     "output_type": "display_data"
    },
    {
     "data": {
      "application/vnd.jupyter.widget-view+json": {
       "model_id": "64369d30f1224d999babc02dc6e9ef18",
       "version_major": 2,
       "version_minor": 0
      },
      "text/plain": [
       "Batches in epoch #13:   0%|          | 0/1250 [00:00<?, ?it/s]"
      ]
     },
     "metadata": {},
     "output_type": "display_data"
    },
    {
     "data": {
      "application/vnd.jupyter.widget-view+json": {
       "model_id": "dc554128a9384414bc2da9d463b9d67d",
       "version_major": 2,
       "version_minor": 0
      },
      "text/plain": [
       "Batches in epoch #14:   0%|          | 0/1250 [00:00<?, ?it/s]"
      ]
     },
     "metadata": {},
     "output_type": "display_data"
    },
    {
     "data": {
      "application/vnd.jupyter.widget-view+json": {
       "model_id": "cd27ab1340614b33ba86115b70b5bbeb",
       "version_major": 2,
       "version_minor": 0
      },
      "text/plain": [
       "Batches in epoch #15:   0%|          | 0/1250 [00:00<?, ?it/s]"
      ]
     },
     "metadata": {},
     "output_type": "display_data"
    },
    {
     "data": {
      "application/vnd.jupyter.widget-view+json": {
       "model_id": "5d83de60afbc4e94aa109c0c6756e855",
       "version_major": 2,
       "version_minor": 0
      },
      "text/plain": [
       "Batches in epoch #16:   0%|          | 0/1250 [00:00<?, ?it/s]"
      ]
     },
     "metadata": {},
     "output_type": "display_data"
    },
    {
     "data": {
      "application/vnd.jupyter.widget-view+json": {
       "model_id": "87156fe7c83442b5b71878c2caf55bd0",
       "version_major": 2,
       "version_minor": 0
      },
      "text/plain": [
       "Batches in epoch #17:   0%|          | 0/1250 [00:00<?, ?it/s]"
      ]
     },
     "metadata": {},
     "output_type": "display_data"
    },
    {
     "data": {
      "application/vnd.jupyter.widget-view+json": {
       "model_id": "497f577f1226485e8ffde0a3e55bcd3f",
       "version_major": 2,
       "version_minor": 0
      },
      "text/plain": [
       "Batches in epoch #18:   0%|          | 0/1250 [00:00<?, ?it/s]"
      ]
     },
     "metadata": {},
     "output_type": "display_data"
    },
    {
     "data": {
      "application/vnd.jupyter.widget-view+json": {
       "model_id": "61237a53f21b4468b50f83e5e05960b3",
       "version_major": 2,
       "version_minor": 0
      },
      "text/plain": [
       "Batches in epoch #19:   0%|          | 0/1250 [00:00<?, ?it/s]"
      ]
     },
     "metadata": {},
     "output_type": "display_data"
    },
    {
     "data": {
      "application/vnd.jupyter.widget-view+json": {
       "model_id": "3c4b3ec6d93e41419d62ede3561212ec",
       "version_major": 2,
       "version_minor": 0
      },
      "text/plain": [
       "Batches in epoch #20:   0%|          | 0/1250 [00:00<?, ?it/s]"
      ]
     },
     "metadata": {},
     "output_type": "display_data"
    },
    {
     "data": {
      "application/vnd.jupyter.widget-view+json": {
       "model_id": "fed00f4b6a7041008cb5a74813a78287",
       "version_major": 2,
       "version_minor": 0
      },
      "text/plain": [
       "Batches in epoch #21:   0%|          | 0/1250 [00:00<?, ?it/s]"
      ]
     },
     "metadata": {},
     "output_type": "display_data"
    },
    {
     "data": {
      "application/vnd.jupyter.widget-view+json": {
       "model_id": "849b7201328542c8924e7dd1ea453d4c",
       "version_major": 2,
       "version_minor": 0
      },
      "text/plain": [
       "Batches in epoch #22:   0%|          | 0/1250 [00:00<?, ?it/s]"
      ]
     },
     "metadata": {},
     "output_type": "display_data"
    },
    {
     "data": {
      "application/vnd.jupyter.widget-view+json": {
       "model_id": "d809185d2be24c6381c6372d99ce97f1",
       "version_major": 2,
       "version_minor": 0
      },
      "text/plain": [
       "Batches in epoch #23:   0%|          | 0/1250 [00:00<?, ?it/s]"
      ]
     },
     "metadata": {},
     "output_type": "display_data"
    },
    {
     "data": {
      "application/vnd.jupyter.widget-view+json": {
       "model_id": "718c14af4a1d4c56aabda0437db79012",
       "version_major": 2,
       "version_minor": 0
      },
      "text/plain": [
       "Batches in epoch #24:   0%|          | 0/1250 [00:00<?, ?it/s]"
      ]
     },
     "metadata": {},
     "output_type": "display_data"
    },
    {
     "data": {
      "application/vnd.jupyter.widget-view+json": {
       "model_id": "af6e9dad5fcb4513b392a82404024a61",
       "version_major": 2,
       "version_minor": 0
      },
      "text/plain": [
       "Batches in epoch #25:   0%|          | 0/1250 [00:00<?, ?it/s]"
      ]
     },
     "metadata": {},
     "output_type": "display_data"
    },
    {
     "data": {
      "application/vnd.jupyter.widget-view+json": {
       "model_id": "3b6a5a0403544997ae56597e2816eada",
       "version_major": 2,
       "version_minor": 0
      },
      "text/plain": [
       "Batches in epoch #26:   0%|          | 0/1250 [00:00<?, ?it/s]"
      ]
     },
     "metadata": {},
     "output_type": "display_data"
    },
    {
     "data": {
      "application/vnd.jupyter.widget-view+json": {
       "model_id": "52fef4849b064d36955e2480496ab363",
       "version_major": 2,
       "version_minor": 0
      },
      "text/plain": [
       "Batches in epoch #27:   0%|          | 0/1250 [00:00<?, ?it/s]"
      ]
     },
     "metadata": {},
     "output_type": "display_data"
    },
    {
     "data": {
      "application/vnd.jupyter.widget-view+json": {
       "model_id": "a852b5a04e134f66915d49f7a6605652",
       "version_major": 2,
       "version_minor": 0
      },
      "text/plain": [
       "Batches in epoch #28:   0%|          | 0/1250 [00:00<?, ?it/s]"
      ]
     },
     "metadata": {},
     "output_type": "display_data"
    },
    {
     "data": {
      "application/vnd.jupyter.widget-view+json": {
       "model_id": "98e463d8d84c4d6fbbce999f2bdb64f8",
       "version_major": 2,
       "version_minor": 0
      },
      "text/plain": [
       "Batches in epoch #29:   0%|          | 0/1250 [00:00<?, ?it/s]"
      ]
     },
     "metadata": {},
     "output_type": "display_data"
    },
    {
     "data": {
      "application/vnd.jupyter.widget-view+json": {
       "model_id": "50dc17241a3d43f2a9eb948e25d1d54c",
       "version_major": 2,
       "version_minor": 0
      },
      "text/plain": [
       "Batches in epoch #30:   0%|          | 0/1250 [00:00<?, ?it/s]"
      ]
     },
     "metadata": {},
     "output_type": "display_data"
    },
    {
     "data": {
      "application/vnd.jupyter.widget-view+json": {
       "model_id": "fcad2cd3811c45588ae3ca532c46c0d7",
       "version_major": 2,
       "version_minor": 0
      },
      "text/plain": [
       "Batches in epoch #31:   0%|          | 0/1250 [00:00<?, ?it/s]"
      ]
     },
     "metadata": {},
     "output_type": "display_data"
    },
    {
     "data": {
      "application/vnd.jupyter.widget-view+json": {
       "model_id": "d810067a55ef48349d26b6fbd8ad09d9",
       "version_major": 2,
       "version_minor": 0
      },
      "text/plain": [
       "Batches in epoch #32:   0%|          | 0/1250 [00:00<?, ?it/s]"
      ]
     },
     "metadata": {},
     "output_type": "display_data"
    },
    {
     "data": {
      "application/vnd.jupyter.widget-view+json": {
       "model_id": "5bd4f2ffb77442f688fb15ff4a425db2",
       "version_major": 2,
       "version_minor": 0
      },
      "text/plain": [
       "Batches in epoch #33:   0%|          | 0/1250 [00:00<?, ?it/s]"
      ]
     },
     "metadata": {},
     "output_type": "display_data"
    },
    {
     "data": {
      "application/vnd.jupyter.widget-view+json": {
       "model_id": "c30b177facdc4e09a7ce6e28d58f3cae",
       "version_major": 2,
       "version_minor": 0
      },
      "text/plain": [
       "Batches in epoch #34:   0%|          | 0/1250 [00:00<?, ?it/s]"
      ]
     },
     "metadata": {},
     "output_type": "display_data"
    },
    {
     "data": {
      "application/vnd.jupyter.widget-view+json": {
       "model_id": "5e908d9dc87a4511822557f72f6d3acd",
       "version_major": 2,
       "version_minor": 0
      },
      "text/plain": [
       "Batches in epoch #35:   0%|          | 0/1250 [00:00<?, ?it/s]"
      ]
     },
     "metadata": {},
     "output_type": "display_data"
    },
    {
     "data": {
      "application/vnd.jupyter.widget-view+json": {
       "model_id": "52989ce538dd4581b313996c8c70169d",
       "version_major": 2,
       "version_minor": 0
      },
      "text/plain": [
       "Batches in epoch #36:   0%|          | 0/1250 [00:00<?, ?it/s]"
      ]
     },
     "metadata": {},
     "output_type": "display_data"
    },
    {
     "data": {
      "application/vnd.jupyter.widget-view+json": {
       "model_id": "11b47ae68ba946b68e922ac98342aa31",
       "version_major": 2,
       "version_minor": 0
      },
      "text/plain": [
       "Batches in epoch #37:   0%|          | 0/1250 [00:00<?, ?it/s]"
      ]
     },
     "metadata": {},
     "output_type": "display_data"
    },
    {
     "data": {
      "application/vnd.jupyter.widget-view+json": {
       "model_id": "4eaf20ae36e74e95924c3bdab7acc4d3",
       "version_major": 2,
       "version_minor": 0
      },
      "text/plain": [
       "Batches in epoch #38:   0%|          | 0/1250 [00:00<?, ?it/s]"
      ]
     },
     "metadata": {},
     "output_type": "display_data"
    },
    {
     "data": {
      "application/vnd.jupyter.widget-view+json": {
       "model_id": "4ebd01e35a694ab1bb1b22feae629db1",
       "version_major": 2,
       "version_minor": 0
      },
      "text/plain": [
       "Batches in epoch #39:   0%|          | 0/1250 [00:00<?, ?it/s]"
      ]
     },
     "metadata": {},
     "output_type": "display_data"
    },
    {
     "data": {
      "application/vnd.jupyter.widget-view+json": {
       "model_id": "7decece153cd4a3bb19fc07a2992a90d",
       "version_major": 2,
       "version_minor": 0
      },
      "text/plain": [
       "Batches in epoch #40:   0%|          | 0/1250 [00:00<?, ?it/s]"
      ]
     },
     "metadata": {},
     "output_type": "display_data"
    },
    {
     "data": {
      "application/vnd.jupyter.widget-view+json": {
       "model_id": "7d1677264a834f1ba0abdd9b6349ce5b",
       "version_major": 2,
       "version_minor": 0
      },
      "text/plain": [
       "Batches in epoch #41:   0%|          | 0/1250 [00:00<?, ?it/s]"
      ]
     },
     "metadata": {},
     "output_type": "display_data"
    },
    {
     "data": {
      "application/vnd.jupyter.widget-view+json": {
       "model_id": "a587e259b03b4df2b50aba8e8d0c8c2a",
       "version_major": 2,
       "version_minor": 0
      },
      "text/plain": [
       "Batches in epoch #42:   0%|          | 0/1250 [00:00<?, ?it/s]"
      ]
     },
     "metadata": {},
     "output_type": "display_data"
    },
    {
     "data": {
      "application/vnd.jupyter.widget-view+json": {
       "model_id": "dd3ddc184306484bb53e9a30f63a3546",
       "version_major": 2,
       "version_minor": 0
      },
      "text/plain": [
       "Batches in epoch #43:   0%|          | 0/1250 [00:00<?, ?it/s]"
      ]
     },
     "metadata": {},
     "output_type": "display_data"
    },
    {
     "data": {
      "application/vnd.jupyter.widget-view+json": {
       "model_id": "858c7613f65b47999f87095d9c60f177",
       "version_major": 2,
       "version_minor": 0
      },
      "text/plain": [
       "Batches in epoch #44:   0%|          | 0/1250 [00:00<?, ?it/s]"
      ]
     },
     "metadata": {},
     "output_type": "display_data"
    },
    {
     "data": {
      "application/vnd.jupyter.widget-view+json": {
       "model_id": "0b2b391ff81b4387a87bf5730093047d",
       "version_major": 2,
       "version_minor": 0
      },
      "text/plain": [
       "Batches in epoch #45:   0%|          | 0/1250 [00:00<?, ?it/s]"
      ]
     },
     "metadata": {},
     "output_type": "display_data"
    },
    {
     "data": {
      "application/vnd.jupyter.widget-view+json": {
       "model_id": "1fee6ddd2a104ab99363e1d40d0eac85",
       "version_major": 2,
       "version_minor": 0
      },
      "text/plain": [
       "Batches in epoch #46:   0%|          | 0/1250 [00:00<?, ?it/s]"
      ]
     },
     "metadata": {},
     "output_type": "display_data"
    },
    {
     "data": {
      "application/vnd.jupyter.widget-view+json": {
       "model_id": "ce99858404294dd483e7e154c3a90342",
       "version_major": 2,
       "version_minor": 0
      },
      "text/plain": [
       "Batches in epoch #47:   0%|          | 0/1250 [00:00<?, ?it/s]"
      ]
     },
     "metadata": {},
     "output_type": "display_data"
    },
    {
     "data": {
      "application/vnd.jupyter.widget-view+json": {
       "model_id": "1e1475184f524522ae9cedaf0e296dad",
       "version_major": 2,
       "version_minor": 0
      },
      "text/plain": [
       "Batches in epoch #48:   0%|          | 0/1250 [00:00<?, ?it/s]"
      ]
     },
     "metadata": {},
     "output_type": "display_data"
    },
    {
     "data": {
      "application/vnd.jupyter.widget-view+json": {
       "model_id": "e57a051fc67b44b9aacc8382eb7930b7",
       "version_major": 2,
       "version_minor": 0
      },
      "text/plain": [
       "Batches in epoch #49:   0%|          | 0/1250 [00:00<?, ?it/s]"
      ]
     },
     "metadata": {},
     "output_type": "display_data"
    },
    {
     "data": {
      "application/vnd.jupyter.widget-view+json": {
       "model_id": "e09c8ce314db4aff9a54d5120791d551",
       "version_major": 2,
       "version_minor": 0
      },
      "text/plain": [
       "Batches in epoch #50:   0%|          | 0/1250 [00:00<?, ?it/s]"
      ]
     },
     "metadata": {},
     "output_type": "display_data"
    },
    {
     "name": "stdout",
     "output_type": "stream",
     "text": [
      "Iteration 5/10 complete.\n"
     ]
    },
    {
     "data": {
      "application/vnd.jupyter.widget-view+json": {
       "model_id": "1b2789df4fb6429e82dd0793445a7edf",
       "version_major": 2,
       "version_minor": 0
      },
      "text/plain": [
       "Epochs:   0%|          | 0/50 [00:00<?, ?it/s]"
      ]
     },
     "metadata": {},
     "output_type": "display_data"
    },
    {
     "data": {
      "application/vnd.jupyter.widget-view+json": {
       "model_id": "7fb5314cfea84070a17528c1f07f81ba",
       "version_major": 2,
       "version_minor": 0
      },
      "text/plain": [
       "Batches in epoch #1:   0%|          | 0/1250 [00:00<?, ?it/s]"
      ]
     },
     "metadata": {},
     "output_type": "display_data"
    },
    {
     "data": {
      "application/vnd.jupyter.widget-view+json": {
       "model_id": "a4c9a8f9c4844c3cb4fbafc984b627fb",
       "version_major": 2,
       "version_minor": 0
      },
      "text/plain": [
       "Batches in epoch #2:   0%|          | 0/1250 [00:00<?, ?it/s]"
      ]
     },
     "metadata": {},
     "output_type": "display_data"
    },
    {
     "data": {
      "application/vnd.jupyter.widget-view+json": {
       "model_id": "f44a6e42b39443edb522d6d6e7d896b1",
       "version_major": 2,
       "version_minor": 0
      },
      "text/plain": [
       "Batches in epoch #3:   0%|          | 0/1250 [00:00<?, ?it/s]"
      ]
     },
     "metadata": {},
     "output_type": "display_data"
    },
    {
     "data": {
      "application/vnd.jupyter.widget-view+json": {
       "model_id": "493eaf322f384f35a8cf44e8a71a7517",
       "version_major": 2,
       "version_minor": 0
      },
      "text/plain": [
       "Batches in epoch #4:   0%|          | 0/1250 [00:00<?, ?it/s]"
      ]
     },
     "metadata": {},
     "output_type": "display_data"
    },
    {
     "data": {
      "application/vnd.jupyter.widget-view+json": {
       "model_id": "dea1cb5330f84c6a9dbf3c73fd5d4f3e",
       "version_major": 2,
       "version_minor": 0
      },
      "text/plain": [
       "Batches in epoch #5:   0%|          | 0/1250 [00:00<?, ?it/s]"
      ]
     },
     "metadata": {},
     "output_type": "display_data"
    },
    {
     "data": {
      "application/vnd.jupyter.widget-view+json": {
       "model_id": "904cccf0d31e4dc6989f1ab968bca1ff",
       "version_major": 2,
       "version_minor": 0
      },
      "text/plain": [
       "Batches in epoch #6:   0%|          | 0/1250 [00:00<?, ?it/s]"
      ]
     },
     "metadata": {},
     "output_type": "display_data"
    },
    {
     "data": {
      "application/vnd.jupyter.widget-view+json": {
       "model_id": "80e43c27f83b41439505dca205274750",
       "version_major": 2,
       "version_minor": 0
      },
      "text/plain": [
       "Batches in epoch #7:   0%|          | 0/1250 [00:00<?, ?it/s]"
      ]
     },
     "metadata": {},
     "output_type": "display_data"
    },
    {
     "data": {
      "application/vnd.jupyter.widget-view+json": {
       "model_id": "73bc42b900c64ef3b946dd8f39e5248e",
       "version_major": 2,
       "version_minor": 0
      },
      "text/plain": [
       "Batches in epoch #8:   0%|          | 0/1250 [00:00<?, ?it/s]"
      ]
     },
     "metadata": {},
     "output_type": "display_data"
    },
    {
     "data": {
      "application/vnd.jupyter.widget-view+json": {
       "model_id": "d4e65f30e8074542ba8fed11aa33b4a3",
       "version_major": 2,
       "version_minor": 0
      },
      "text/plain": [
       "Batches in epoch #9:   0%|          | 0/1250 [00:00<?, ?it/s]"
      ]
     },
     "metadata": {},
     "output_type": "display_data"
    },
    {
     "data": {
      "application/vnd.jupyter.widget-view+json": {
       "model_id": "7fdd84c04b1b44bcb60f74a737d02583",
       "version_major": 2,
       "version_minor": 0
      },
      "text/plain": [
       "Batches in epoch #10:   0%|          | 0/1250 [00:00<?, ?it/s]"
      ]
     },
     "metadata": {},
     "output_type": "display_data"
    },
    {
     "data": {
      "application/vnd.jupyter.widget-view+json": {
       "model_id": "12f114cc77904aa9ba0a784895719b6d",
       "version_major": 2,
       "version_minor": 0
      },
      "text/plain": [
       "Batches in epoch #11:   0%|          | 0/1250 [00:00<?, ?it/s]"
      ]
     },
     "metadata": {},
     "output_type": "display_data"
    },
    {
     "data": {
      "application/vnd.jupyter.widget-view+json": {
       "model_id": "39093f2fa4f04df2927d697f14720c70",
       "version_major": 2,
       "version_minor": 0
      },
      "text/plain": [
       "Batches in epoch #12:   0%|          | 0/1250 [00:00<?, ?it/s]"
      ]
     },
     "metadata": {},
     "output_type": "display_data"
    },
    {
     "data": {
      "application/vnd.jupyter.widget-view+json": {
       "model_id": "2a3c2a25e9854227b9ba4424d6b6446a",
       "version_major": 2,
       "version_minor": 0
      },
      "text/plain": [
       "Batches in epoch #13:   0%|          | 0/1250 [00:00<?, ?it/s]"
      ]
     },
     "metadata": {},
     "output_type": "display_data"
    },
    {
     "data": {
      "application/vnd.jupyter.widget-view+json": {
       "model_id": "d2e987efa87b43ea9afe99c395041253",
       "version_major": 2,
       "version_minor": 0
      },
      "text/plain": [
       "Batches in epoch #14:   0%|          | 0/1250 [00:00<?, ?it/s]"
      ]
     },
     "metadata": {},
     "output_type": "display_data"
    },
    {
     "data": {
      "application/vnd.jupyter.widget-view+json": {
       "model_id": "8fb166e17dbe47c39d64758889cf96e2",
       "version_major": 2,
       "version_minor": 0
      },
      "text/plain": [
       "Batches in epoch #15:   0%|          | 0/1250 [00:00<?, ?it/s]"
      ]
     },
     "metadata": {},
     "output_type": "display_data"
    },
    {
     "data": {
      "application/vnd.jupyter.widget-view+json": {
       "model_id": "add4612ae8d9455c8ab466b98620a719",
       "version_major": 2,
       "version_minor": 0
      },
      "text/plain": [
       "Batches in epoch #16:   0%|          | 0/1250 [00:00<?, ?it/s]"
      ]
     },
     "metadata": {},
     "output_type": "display_data"
    },
    {
     "data": {
      "application/vnd.jupyter.widget-view+json": {
       "model_id": "cf93c94d698544819a78223cb3fc9a3c",
       "version_major": 2,
       "version_minor": 0
      },
      "text/plain": [
       "Batches in epoch #17:   0%|          | 0/1250 [00:00<?, ?it/s]"
      ]
     },
     "metadata": {},
     "output_type": "display_data"
    },
    {
     "data": {
      "application/vnd.jupyter.widget-view+json": {
       "model_id": "c651e0999a8545a386fa068da2733952",
       "version_major": 2,
       "version_minor": 0
      },
      "text/plain": [
       "Batches in epoch #18:   0%|          | 0/1250 [00:00<?, ?it/s]"
      ]
     },
     "metadata": {},
     "output_type": "display_data"
    },
    {
     "data": {
      "application/vnd.jupyter.widget-view+json": {
       "model_id": "9a0fe0ff36db4d8199241f6adf64e80e",
       "version_major": 2,
       "version_minor": 0
      },
      "text/plain": [
       "Batches in epoch #19:   0%|          | 0/1250 [00:00<?, ?it/s]"
      ]
     },
     "metadata": {},
     "output_type": "display_data"
    },
    {
     "data": {
      "application/vnd.jupyter.widget-view+json": {
       "model_id": "1d291cfb636049ec9c6af4022c1c9359",
       "version_major": 2,
       "version_minor": 0
      },
      "text/plain": [
       "Batches in epoch #20:   0%|          | 0/1250 [00:00<?, ?it/s]"
      ]
     },
     "metadata": {},
     "output_type": "display_data"
    },
    {
     "data": {
      "application/vnd.jupyter.widget-view+json": {
       "model_id": "60c466edf86c4152a7e40901a2ff0a8c",
       "version_major": 2,
       "version_minor": 0
      },
      "text/plain": [
       "Batches in epoch #21:   0%|          | 0/1250 [00:00<?, ?it/s]"
      ]
     },
     "metadata": {},
     "output_type": "display_data"
    },
    {
     "data": {
      "application/vnd.jupyter.widget-view+json": {
       "model_id": "86856b9cacb64df4b7fea4279e7ebd17",
       "version_major": 2,
       "version_minor": 0
      },
      "text/plain": [
       "Batches in epoch #22:   0%|          | 0/1250 [00:00<?, ?it/s]"
      ]
     },
     "metadata": {},
     "output_type": "display_data"
    },
    {
     "data": {
      "application/vnd.jupyter.widget-view+json": {
       "model_id": "b332da489e6543b4b72a9b31bd90691c",
       "version_major": 2,
       "version_minor": 0
      },
      "text/plain": [
       "Batches in epoch #23:   0%|          | 0/1250 [00:00<?, ?it/s]"
      ]
     },
     "metadata": {},
     "output_type": "display_data"
    },
    {
     "data": {
      "application/vnd.jupyter.widget-view+json": {
       "model_id": "a5f9d19aad644740a09df94b56694c77",
       "version_major": 2,
       "version_minor": 0
      },
      "text/plain": [
       "Batches in epoch #24:   0%|          | 0/1250 [00:00<?, ?it/s]"
      ]
     },
     "metadata": {},
     "output_type": "display_data"
    },
    {
     "data": {
      "application/vnd.jupyter.widget-view+json": {
       "model_id": "3300b5a95ebd4a6bae7a0b4146a09a3a",
       "version_major": 2,
       "version_minor": 0
      },
      "text/plain": [
       "Batches in epoch #25:   0%|          | 0/1250 [00:00<?, ?it/s]"
      ]
     },
     "metadata": {},
     "output_type": "display_data"
    },
    {
     "data": {
      "application/vnd.jupyter.widget-view+json": {
       "model_id": "8d5372c1201c45329329f1082cd9015d",
       "version_major": 2,
       "version_minor": 0
      },
      "text/plain": [
       "Batches in epoch #26:   0%|          | 0/1250 [00:00<?, ?it/s]"
      ]
     },
     "metadata": {},
     "output_type": "display_data"
    },
    {
     "data": {
      "application/vnd.jupyter.widget-view+json": {
       "model_id": "447a9a37013d460dbea749a544bfde11",
       "version_major": 2,
       "version_minor": 0
      },
      "text/plain": [
       "Batches in epoch #27:   0%|          | 0/1250 [00:00<?, ?it/s]"
      ]
     },
     "metadata": {},
     "output_type": "display_data"
    },
    {
     "data": {
      "application/vnd.jupyter.widget-view+json": {
       "model_id": "dee763b4d1ed4abebd0e67f12015a289",
       "version_major": 2,
       "version_minor": 0
      },
      "text/plain": [
       "Batches in epoch #28:   0%|          | 0/1250 [00:00<?, ?it/s]"
      ]
     },
     "metadata": {},
     "output_type": "display_data"
    },
    {
     "data": {
      "application/vnd.jupyter.widget-view+json": {
       "model_id": "a72c05ea5650479090ff081226b70bc5",
       "version_major": 2,
       "version_minor": 0
      },
      "text/plain": [
       "Batches in epoch #29:   0%|          | 0/1250 [00:00<?, ?it/s]"
      ]
     },
     "metadata": {},
     "output_type": "display_data"
    },
    {
     "data": {
      "application/vnd.jupyter.widget-view+json": {
       "model_id": "3aecef19d64f4f099464b75db3d8339b",
       "version_major": 2,
       "version_minor": 0
      },
      "text/plain": [
       "Batches in epoch #30:   0%|          | 0/1250 [00:00<?, ?it/s]"
      ]
     },
     "metadata": {},
     "output_type": "display_data"
    },
    {
     "data": {
      "application/vnd.jupyter.widget-view+json": {
       "model_id": "4a2ffcccf666433c9d322b09fae78522",
       "version_major": 2,
       "version_minor": 0
      },
      "text/plain": [
       "Batches in epoch #31:   0%|          | 0/1250 [00:00<?, ?it/s]"
      ]
     },
     "metadata": {},
     "output_type": "display_data"
    },
    {
     "data": {
      "application/vnd.jupyter.widget-view+json": {
       "model_id": "b9052867adf246eeb51bc749c7bc71fc",
       "version_major": 2,
       "version_minor": 0
      },
      "text/plain": [
       "Batches in epoch #32:   0%|          | 0/1250 [00:00<?, ?it/s]"
      ]
     },
     "metadata": {},
     "output_type": "display_data"
    },
    {
     "data": {
      "application/vnd.jupyter.widget-view+json": {
       "model_id": "fecface949cf4c99b8bfc3a9149984c1",
       "version_major": 2,
       "version_minor": 0
      },
      "text/plain": [
       "Batches in epoch #33:   0%|          | 0/1250 [00:00<?, ?it/s]"
      ]
     },
     "metadata": {},
     "output_type": "display_data"
    },
    {
     "data": {
      "application/vnd.jupyter.widget-view+json": {
       "model_id": "38d734dc323c40fcba89b4e8188449da",
       "version_major": 2,
       "version_minor": 0
      },
      "text/plain": [
       "Batches in epoch #34:   0%|          | 0/1250 [00:00<?, ?it/s]"
      ]
     },
     "metadata": {},
     "output_type": "display_data"
    },
    {
     "data": {
      "application/vnd.jupyter.widget-view+json": {
       "model_id": "033fcc436d9a4a61b71fb41230238fbf",
       "version_major": 2,
       "version_minor": 0
      },
      "text/plain": [
       "Batches in epoch #35:   0%|          | 0/1250 [00:00<?, ?it/s]"
      ]
     },
     "metadata": {},
     "output_type": "display_data"
    },
    {
     "data": {
      "application/vnd.jupyter.widget-view+json": {
       "model_id": "2afe598a1bb344e0b371191d2e48580c",
       "version_major": 2,
       "version_minor": 0
      },
      "text/plain": [
       "Batches in epoch #36:   0%|          | 0/1250 [00:00<?, ?it/s]"
      ]
     },
     "metadata": {},
     "output_type": "display_data"
    },
    {
     "data": {
      "application/vnd.jupyter.widget-view+json": {
       "model_id": "30ed2017d8564929aec7a8850f421bea",
       "version_major": 2,
       "version_minor": 0
      },
      "text/plain": [
       "Batches in epoch #37:   0%|          | 0/1250 [00:00<?, ?it/s]"
      ]
     },
     "metadata": {},
     "output_type": "display_data"
    },
    {
     "data": {
      "application/vnd.jupyter.widget-view+json": {
       "model_id": "aa6deda498a94305aa62ac365628cb50",
       "version_major": 2,
       "version_minor": 0
      },
      "text/plain": [
       "Batches in epoch #38:   0%|          | 0/1250 [00:00<?, ?it/s]"
      ]
     },
     "metadata": {},
     "output_type": "display_data"
    },
    {
     "data": {
      "application/vnd.jupyter.widget-view+json": {
       "model_id": "3a5f231d4c76424da9c7c34ca536b80c",
       "version_major": 2,
       "version_minor": 0
      },
      "text/plain": [
       "Batches in epoch #39:   0%|          | 0/1250 [00:00<?, ?it/s]"
      ]
     },
     "metadata": {},
     "output_type": "display_data"
    },
    {
     "data": {
      "application/vnd.jupyter.widget-view+json": {
       "model_id": "9ad8421cc8c9442c8009a7d449e6f72f",
       "version_major": 2,
       "version_minor": 0
      },
      "text/plain": [
       "Batches in epoch #40:   0%|          | 0/1250 [00:00<?, ?it/s]"
      ]
     },
     "metadata": {},
     "output_type": "display_data"
    },
    {
     "data": {
      "application/vnd.jupyter.widget-view+json": {
       "model_id": "1425afddb1f249979efb4fb1a6fd8568",
       "version_major": 2,
       "version_minor": 0
      },
      "text/plain": [
       "Batches in epoch #41:   0%|          | 0/1250 [00:00<?, ?it/s]"
      ]
     },
     "metadata": {},
     "output_type": "display_data"
    },
    {
     "data": {
      "application/vnd.jupyter.widget-view+json": {
       "model_id": "550c8437da4e4e148cfb663a05e77348",
       "version_major": 2,
       "version_minor": 0
      },
      "text/plain": [
       "Batches in epoch #42:   0%|          | 0/1250 [00:00<?, ?it/s]"
      ]
     },
     "metadata": {},
     "output_type": "display_data"
    },
    {
     "data": {
      "application/vnd.jupyter.widget-view+json": {
       "model_id": "d03886dbc431438f998fe97692e063c6",
       "version_major": 2,
       "version_minor": 0
      },
      "text/plain": [
       "Batches in epoch #43:   0%|          | 0/1250 [00:00<?, ?it/s]"
      ]
     },
     "metadata": {},
     "output_type": "display_data"
    },
    {
     "data": {
      "application/vnd.jupyter.widget-view+json": {
       "model_id": "20d444da2e13450895a2d4bdc4d780a2",
       "version_major": 2,
       "version_minor": 0
      },
      "text/plain": [
       "Batches in epoch #44:   0%|          | 0/1250 [00:00<?, ?it/s]"
      ]
     },
     "metadata": {},
     "output_type": "display_data"
    },
    {
     "data": {
      "application/vnd.jupyter.widget-view+json": {
       "model_id": "c79b8597d06c439f966d41efa016e8cf",
       "version_major": 2,
       "version_minor": 0
      },
      "text/plain": [
       "Batches in epoch #45:   0%|          | 0/1250 [00:00<?, ?it/s]"
      ]
     },
     "metadata": {},
     "output_type": "display_data"
    },
    {
     "data": {
      "application/vnd.jupyter.widget-view+json": {
       "model_id": "57a2f28202ec4d32a8e0bc96b2ae486a",
       "version_major": 2,
       "version_minor": 0
      },
      "text/plain": [
       "Batches in epoch #46:   0%|          | 0/1250 [00:00<?, ?it/s]"
      ]
     },
     "metadata": {},
     "output_type": "display_data"
    },
    {
     "data": {
      "application/vnd.jupyter.widget-view+json": {
       "model_id": "b1594d12f255400589310a432c8218a9",
       "version_major": 2,
       "version_minor": 0
      },
      "text/plain": [
       "Batches in epoch #47:   0%|          | 0/1250 [00:00<?, ?it/s]"
      ]
     },
     "metadata": {},
     "output_type": "display_data"
    },
    {
     "data": {
      "application/vnd.jupyter.widget-view+json": {
       "model_id": "524f1c11a358433bb2632e2056ea4dd1",
       "version_major": 2,
       "version_minor": 0
      },
      "text/plain": [
       "Batches in epoch #48:   0%|          | 0/1250 [00:00<?, ?it/s]"
      ]
     },
     "metadata": {},
     "output_type": "display_data"
    },
    {
     "data": {
      "application/vnd.jupyter.widget-view+json": {
       "model_id": "813822bfeabe4603947f0f313fb42186",
       "version_major": 2,
       "version_minor": 0
      },
      "text/plain": [
       "Batches in epoch #49:   0%|          | 0/1250 [00:00<?, ?it/s]"
      ]
     },
     "metadata": {},
     "output_type": "display_data"
    },
    {
     "data": {
      "application/vnd.jupyter.widget-view+json": {
       "model_id": "2bde11842ebe428ba3db29fcfaaad815",
       "version_major": 2,
       "version_minor": 0
      },
      "text/plain": [
       "Batches in epoch #50:   0%|          | 0/1250 [00:00<?, ?it/s]"
      ]
     },
     "metadata": {},
     "output_type": "display_data"
    },
    {
     "name": "stdout",
     "output_type": "stream",
     "text": [
      "Iteration 6/10 complete.\n"
     ]
    },
    {
     "data": {
      "application/vnd.jupyter.widget-view+json": {
       "model_id": "460c8ba0be7846c4bfebbf4a9ce597ba",
       "version_major": 2,
       "version_minor": 0
      },
      "text/plain": [
       "Epochs:   0%|          | 0/50 [00:00<?, ?it/s]"
      ]
     },
     "metadata": {},
     "output_type": "display_data"
    },
    {
     "data": {
      "application/vnd.jupyter.widget-view+json": {
       "model_id": "beb925fd82e0481c8a3f8660f57dbd8e",
       "version_major": 2,
       "version_minor": 0
      },
      "text/plain": [
       "Batches in epoch #1:   0%|          | 0/1250 [00:00<?, ?it/s]"
      ]
     },
     "metadata": {},
     "output_type": "display_data"
    },
    {
     "data": {
      "application/vnd.jupyter.widget-view+json": {
       "model_id": "445b993cc62f498ead08c8d1aded4181",
       "version_major": 2,
       "version_minor": 0
      },
      "text/plain": [
       "Batches in epoch #2:   0%|          | 0/1250 [00:00<?, ?it/s]"
      ]
     },
     "metadata": {},
     "output_type": "display_data"
    },
    {
     "data": {
      "application/vnd.jupyter.widget-view+json": {
       "model_id": "4192a87a7d374b6b9f32555050748028",
       "version_major": 2,
       "version_minor": 0
      },
      "text/plain": [
       "Batches in epoch #3:   0%|          | 0/1250 [00:00<?, ?it/s]"
      ]
     },
     "metadata": {},
     "output_type": "display_data"
    },
    {
     "data": {
      "application/vnd.jupyter.widget-view+json": {
       "model_id": "b9e0ca6e43b64b04a45e4ef8a786d584",
       "version_major": 2,
       "version_minor": 0
      },
      "text/plain": [
       "Batches in epoch #4:   0%|          | 0/1250 [00:00<?, ?it/s]"
      ]
     },
     "metadata": {},
     "output_type": "display_data"
    },
    {
     "data": {
      "application/vnd.jupyter.widget-view+json": {
       "model_id": "f5f85707f4e846d395edf1df71bb2914",
       "version_major": 2,
       "version_minor": 0
      },
      "text/plain": [
       "Batches in epoch #5:   0%|          | 0/1250 [00:00<?, ?it/s]"
      ]
     },
     "metadata": {},
     "output_type": "display_data"
    },
    {
     "data": {
      "application/vnd.jupyter.widget-view+json": {
       "model_id": "1cea5bdf35c346e0835f0ec023c57c60",
       "version_major": 2,
       "version_minor": 0
      },
      "text/plain": [
       "Batches in epoch #6:   0%|          | 0/1250 [00:00<?, ?it/s]"
      ]
     },
     "metadata": {},
     "output_type": "display_data"
    },
    {
     "data": {
      "application/vnd.jupyter.widget-view+json": {
       "model_id": "e80c383062764264929c5a3bf9829112",
       "version_major": 2,
       "version_minor": 0
      },
      "text/plain": [
       "Batches in epoch #7:   0%|          | 0/1250 [00:00<?, ?it/s]"
      ]
     },
     "metadata": {},
     "output_type": "display_data"
    },
    {
     "data": {
      "application/vnd.jupyter.widget-view+json": {
       "model_id": "0ad0b9f7adec4dd3999d3e377b392120",
       "version_major": 2,
       "version_minor": 0
      },
      "text/plain": [
       "Batches in epoch #8:   0%|          | 0/1250 [00:00<?, ?it/s]"
      ]
     },
     "metadata": {},
     "output_type": "display_data"
    },
    {
     "data": {
      "application/vnd.jupyter.widget-view+json": {
       "model_id": "211a9ed43dc1463395fc6cdadc62da15",
       "version_major": 2,
       "version_minor": 0
      },
      "text/plain": [
       "Batches in epoch #9:   0%|          | 0/1250 [00:00<?, ?it/s]"
      ]
     },
     "metadata": {},
     "output_type": "display_data"
    },
    {
     "data": {
      "application/vnd.jupyter.widget-view+json": {
       "model_id": "197322c4daee4487996daa5915f1f13a",
       "version_major": 2,
       "version_minor": 0
      },
      "text/plain": [
       "Batches in epoch #10:   0%|          | 0/1250 [00:00<?, ?it/s]"
      ]
     },
     "metadata": {},
     "output_type": "display_data"
    },
    {
     "data": {
      "application/vnd.jupyter.widget-view+json": {
       "model_id": "70a9d86c96e84452b52f75d6df138b7b",
       "version_major": 2,
       "version_minor": 0
      },
      "text/plain": [
       "Batches in epoch #11:   0%|          | 0/1250 [00:00<?, ?it/s]"
      ]
     },
     "metadata": {},
     "output_type": "display_data"
    },
    {
     "data": {
      "application/vnd.jupyter.widget-view+json": {
       "model_id": "bbab05de4751414e81b585eafa075541",
       "version_major": 2,
       "version_minor": 0
      },
      "text/plain": [
       "Batches in epoch #12:   0%|          | 0/1250 [00:00<?, ?it/s]"
      ]
     },
     "metadata": {},
     "output_type": "display_data"
    },
    {
     "data": {
      "application/vnd.jupyter.widget-view+json": {
       "model_id": "d041f28225524df7819836141d59597b",
       "version_major": 2,
       "version_minor": 0
      },
      "text/plain": [
       "Batches in epoch #13:   0%|          | 0/1250 [00:00<?, ?it/s]"
      ]
     },
     "metadata": {},
     "output_type": "display_data"
    },
    {
     "data": {
      "application/vnd.jupyter.widget-view+json": {
       "model_id": "5f3b052430964787838839124de3bfac",
       "version_major": 2,
       "version_minor": 0
      },
      "text/plain": [
       "Batches in epoch #14:   0%|          | 0/1250 [00:00<?, ?it/s]"
      ]
     },
     "metadata": {},
     "output_type": "display_data"
    },
    {
     "data": {
      "application/vnd.jupyter.widget-view+json": {
       "model_id": "39b44d9251bb4bbca75c2fb21d8c8778",
       "version_major": 2,
       "version_minor": 0
      },
      "text/plain": [
       "Batches in epoch #15:   0%|          | 0/1250 [00:00<?, ?it/s]"
      ]
     },
     "metadata": {},
     "output_type": "display_data"
    },
    {
     "data": {
      "application/vnd.jupyter.widget-view+json": {
       "model_id": "866491c6bbed441f8714bf82081681fb",
       "version_major": 2,
       "version_minor": 0
      },
      "text/plain": [
       "Batches in epoch #16:   0%|          | 0/1250 [00:00<?, ?it/s]"
      ]
     },
     "metadata": {},
     "output_type": "display_data"
    },
    {
     "data": {
      "application/vnd.jupyter.widget-view+json": {
       "model_id": "1732ed874bf04617abd4dcfb5d9ab5d5",
       "version_major": 2,
       "version_minor": 0
      },
      "text/plain": [
       "Batches in epoch #17:   0%|          | 0/1250 [00:00<?, ?it/s]"
      ]
     },
     "metadata": {},
     "output_type": "display_data"
    },
    {
     "data": {
      "application/vnd.jupyter.widget-view+json": {
       "model_id": "2713c0733a80438b8176f1eb9d02f8cb",
       "version_major": 2,
       "version_minor": 0
      },
      "text/plain": [
       "Batches in epoch #18:   0%|          | 0/1250 [00:00<?, ?it/s]"
      ]
     },
     "metadata": {},
     "output_type": "display_data"
    },
    {
     "data": {
      "application/vnd.jupyter.widget-view+json": {
       "model_id": "333e3c2f44024bc88357a99ab77dd0d1",
       "version_major": 2,
       "version_minor": 0
      },
      "text/plain": [
       "Batches in epoch #19:   0%|          | 0/1250 [00:00<?, ?it/s]"
      ]
     },
     "metadata": {},
     "output_type": "display_data"
    },
    {
     "data": {
      "application/vnd.jupyter.widget-view+json": {
       "model_id": "99b15fb7b5824d2fac74749430957b76",
       "version_major": 2,
       "version_minor": 0
      },
      "text/plain": [
       "Batches in epoch #20:   0%|          | 0/1250 [00:00<?, ?it/s]"
      ]
     },
     "metadata": {},
     "output_type": "display_data"
    },
    {
     "data": {
      "application/vnd.jupyter.widget-view+json": {
       "model_id": "63ea371009ac41d6a5e9989ee52646b9",
       "version_major": 2,
       "version_minor": 0
      },
      "text/plain": [
       "Batches in epoch #21:   0%|          | 0/1250 [00:00<?, ?it/s]"
      ]
     },
     "metadata": {},
     "output_type": "display_data"
    },
    {
     "data": {
      "application/vnd.jupyter.widget-view+json": {
       "model_id": "6ff2ba2fee3c44c2a0576badd7d03567",
       "version_major": 2,
       "version_minor": 0
      },
      "text/plain": [
       "Batches in epoch #22:   0%|          | 0/1250 [00:00<?, ?it/s]"
      ]
     },
     "metadata": {},
     "output_type": "display_data"
    },
    {
     "data": {
      "application/vnd.jupyter.widget-view+json": {
       "model_id": "a34063bd52e54d26a51d4bd1c76ebb79",
       "version_major": 2,
       "version_minor": 0
      },
      "text/plain": [
       "Batches in epoch #23:   0%|          | 0/1250 [00:00<?, ?it/s]"
      ]
     },
     "metadata": {},
     "output_type": "display_data"
    },
    {
     "data": {
      "application/vnd.jupyter.widget-view+json": {
       "model_id": "609aa59f971c4b20b5d48f3d69b98404",
       "version_major": 2,
       "version_minor": 0
      },
      "text/plain": [
       "Batches in epoch #24:   0%|          | 0/1250 [00:00<?, ?it/s]"
      ]
     },
     "metadata": {},
     "output_type": "display_data"
    },
    {
     "data": {
      "application/vnd.jupyter.widget-view+json": {
       "model_id": "7b6a35f273e74063978b954e56683efc",
       "version_major": 2,
       "version_minor": 0
      },
      "text/plain": [
       "Batches in epoch #25:   0%|          | 0/1250 [00:00<?, ?it/s]"
      ]
     },
     "metadata": {},
     "output_type": "display_data"
    },
    {
     "data": {
      "application/vnd.jupyter.widget-view+json": {
       "model_id": "9023814b9d6643aabe5bdcb57a15b966",
       "version_major": 2,
       "version_minor": 0
      },
      "text/plain": [
       "Batches in epoch #26:   0%|          | 0/1250 [00:00<?, ?it/s]"
      ]
     },
     "metadata": {},
     "output_type": "display_data"
    },
    {
     "data": {
      "application/vnd.jupyter.widget-view+json": {
       "model_id": "b13b552832b749f393f79179abc00b9d",
       "version_major": 2,
       "version_minor": 0
      },
      "text/plain": [
       "Batches in epoch #27:   0%|          | 0/1250 [00:00<?, ?it/s]"
      ]
     },
     "metadata": {},
     "output_type": "display_data"
    },
    {
     "data": {
      "application/vnd.jupyter.widget-view+json": {
       "model_id": "456e4742832846c28dd4b3d14599de10",
       "version_major": 2,
       "version_minor": 0
      },
      "text/plain": [
       "Batches in epoch #28:   0%|          | 0/1250 [00:00<?, ?it/s]"
      ]
     },
     "metadata": {},
     "output_type": "display_data"
    },
    {
     "data": {
      "application/vnd.jupyter.widget-view+json": {
       "model_id": "ad1375b0782d4ae59782f31cfde373ca",
       "version_major": 2,
       "version_minor": 0
      },
      "text/plain": [
       "Batches in epoch #29:   0%|          | 0/1250 [00:00<?, ?it/s]"
      ]
     },
     "metadata": {},
     "output_type": "display_data"
    },
    {
     "data": {
      "application/vnd.jupyter.widget-view+json": {
       "model_id": "49857eb885ec4e1f8f0c8d422f2b6594",
       "version_major": 2,
       "version_minor": 0
      },
      "text/plain": [
       "Batches in epoch #30:   0%|          | 0/1250 [00:00<?, ?it/s]"
      ]
     },
     "metadata": {},
     "output_type": "display_data"
    },
    {
     "data": {
      "application/vnd.jupyter.widget-view+json": {
       "model_id": "277a6b177ba1472cb61eeb9461a766d8",
       "version_major": 2,
       "version_minor": 0
      },
      "text/plain": [
       "Batches in epoch #31:   0%|          | 0/1250 [00:00<?, ?it/s]"
      ]
     },
     "metadata": {},
     "output_type": "display_data"
    },
    {
     "data": {
      "application/vnd.jupyter.widget-view+json": {
       "model_id": "4f4184582fd64a479158885ad8a1a957",
       "version_major": 2,
       "version_minor": 0
      },
      "text/plain": [
       "Batches in epoch #32:   0%|          | 0/1250 [00:00<?, ?it/s]"
      ]
     },
     "metadata": {},
     "output_type": "display_data"
    },
    {
     "data": {
      "application/vnd.jupyter.widget-view+json": {
       "model_id": "59f10baa64a34ae4bda7f8e9a08d1f17",
       "version_major": 2,
       "version_minor": 0
      },
      "text/plain": [
       "Batches in epoch #33:   0%|          | 0/1250 [00:00<?, ?it/s]"
      ]
     },
     "metadata": {},
     "output_type": "display_data"
    },
    {
     "data": {
      "application/vnd.jupyter.widget-view+json": {
       "model_id": "a22af8be47964abeac88bea63135ac55",
       "version_major": 2,
       "version_minor": 0
      },
      "text/plain": [
       "Batches in epoch #34:   0%|          | 0/1250 [00:00<?, ?it/s]"
      ]
     },
     "metadata": {},
     "output_type": "display_data"
    },
    {
     "data": {
      "application/vnd.jupyter.widget-view+json": {
       "model_id": "595a7b26742140c5b65249cacf81d35c",
       "version_major": 2,
       "version_minor": 0
      },
      "text/plain": [
       "Batches in epoch #35:   0%|          | 0/1250 [00:00<?, ?it/s]"
      ]
     },
     "metadata": {},
     "output_type": "display_data"
    },
    {
     "data": {
      "application/vnd.jupyter.widget-view+json": {
       "model_id": "4c90f344db9748168c7d7a3d5ab81ed6",
       "version_major": 2,
       "version_minor": 0
      },
      "text/plain": [
       "Batches in epoch #36:   0%|          | 0/1250 [00:00<?, ?it/s]"
      ]
     },
     "metadata": {},
     "output_type": "display_data"
    },
    {
     "data": {
      "application/vnd.jupyter.widget-view+json": {
       "model_id": "1454f73866604fa1b9a966a46e7c977b",
       "version_major": 2,
       "version_minor": 0
      },
      "text/plain": [
       "Batches in epoch #37:   0%|          | 0/1250 [00:00<?, ?it/s]"
      ]
     },
     "metadata": {},
     "output_type": "display_data"
    },
    {
     "data": {
      "application/vnd.jupyter.widget-view+json": {
       "model_id": "f33eae322f6d4d39949d522b43466dba",
       "version_major": 2,
       "version_minor": 0
      },
      "text/plain": [
       "Batches in epoch #38:   0%|          | 0/1250 [00:00<?, ?it/s]"
      ]
     },
     "metadata": {},
     "output_type": "display_data"
    },
    {
     "data": {
      "application/vnd.jupyter.widget-view+json": {
       "model_id": "c4fb58a9cec147a0ade4c70e4cb5f61f",
       "version_major": 2,
       "version_minor": 0
      },
      "text/plain": [
       "Batches in epoch #39:   0%|          | 0/1250 [00:00<?, ?it/s]"
      ]
     },
     "metadata": {},
     "output_type": "display_data"
    },
    {
     "data": {
      "application/vnd.jupyter.widget-view+json": {
       "model_id": "e2b46364abd64756a6d99accde2c4440",
       "version_major": 2,
       "version_minor": 0
      },
      "text/plain": [
       "Batches in epoch #40:   0%|          | 0/1250 [00:00<?, ?it/s]"
      ]
     },
     "metadata": {},
     "output_type": "display_data"
    },
    {
     "data": {
      "application/vnd.jupyter.widget-view+json": {
       "model_id": "8aa842f6a5c740df9f1e88a73279289c",
       "version_major": 2,
       "version_minor": 0
      },
      "text/plain": [
       "Batches in epoch #41:   0%|          | 0/1250 [00:00<?, ?it/s]"
      ]
     },
     "metadata": {},
     "output_type": "display_data"
    },
    {
     "data": {
      "application/vnd.jupyter.widget-view+json": {
       "model_id": "48be90822bfa436090459a249eb46d5c",
       "version_major": 2,
       "version_minor": 0
      },
      "text/plain": [
       "Batches in epoch #42:   0%|          | 0/1250 [00:00<?, ?it/s]"
      ]
     },
     "metadata": {},
     "output_type": "display_data"
    },
    {
     "data": {
      "application/vnd.jupyter.widget-view+json": {
       "model_id": "9eb4b6368ad84cff9b73b12bbc8811a4",
       "version_major": 2,
       "version_minor": 0
      },
      "text/plain": [
       "Batches in epoch #43:   0%|          | 0/1250 [00:00<?, ?it/s]"
      ]
     },
     "metadata": {},
     "output_type": "display_data"
    },
    {
     "data": {
      "application/vnd.jupyter.widget-view+json": {
       "model_id": "6e38c99b33e3480b864254c989af3c3e",
       "version_major": 2,
       "version_minor": 0
      },
      "text/plain": [
       "Batches in epoch #44:   0%|          | 0/1250 [00:00<?, ?it/s]"
      ]
     },
     "metadata": {},
     "output_type": "display_data"
    },
    {
     "data": {
      "application/vnd.jupyter.widget-view+json": {
       "model_id": "e424976947e64d58ae36ae0a89d97ae0",
       "version_major": 2,
       "version_minor": 0
      },
      "text/plain": [
       "Batches in epoch #45:   0%|          | 0/1250 [00:00<?, ?it/s]"
      ]
     },
     "metadata": {},
     "output_type": "display_data"
    },
    {
     "data": {
      "application/vnd.jupyter.widget-view+json": {
       "model_id": "eee12319566943b9a33f536899c6f693",
       "version_major": 2,
       "version_minor": 0
      },
      "text/plain": [
       "Batches in epoch #46:   0%|          | 0/1250 [00:00<?, ?it/s]"
      ]
     },
     "metadata": {},
     "output_type": "display_data"
    },
    {
     "data": {
      "application/vnd.jupyter.widget-view+json": {
       "model_id": "003d1bc8058b4d6ba48f27827ce8bb41",
       "version_major": 2,
       "version_minor": 0
      },
      "text/plain": [
       "Batches in epoch #47:   0%|          | 0/1250 [00:00<?, ?it/s]"
      ]
     },
     "metadata": {},
     "output_type": "display_data"
    },
    {
     "data": {
      "application/vnd.jupyter.widget-view+json": {
       "model_id": "0ea0757269bb4dae8cf1d52b5017b521",
       "version_major": 2,
       "version_minor": 0
      },
      "text/plain": [
       "Batches in epoch #48:   0%|          | 0/1250 [00:00<?, ?it/s]"
      ]
     },
     "metadata": {},
     "output_type": "display_data"
    },
    {
     "data": {
      "application/vnd.jupyter.widget-view+json": {
       "model_id": "f555dff617b448b28e139b7b7db5ae89",
       "version_major": 2,
       "version_minor": 0
      },
      "text/plain": [
       "Batches in epoch #49:   0%|          | 0/1250 [00:00<?, ?it/s]"
      ]
     },
     "metadata": {},
     "output_type": "display_data"
    },
    {
     "data": {
      "application/vnd.jupyter.widget-view+json": {
       "model_id": "a1f30b2aeaec4181a54117cf95df7b96",
       "version_major": 2,
       "version_minor": 0
      },
      "text/plain": [
       "Batches in epoch #50:   0%|          | 0/1250 [00:00<?, ?it/s]"
      ]
     },
     "metadata": {},
     "output_type": "display_data"
    },
    {
     "name": "stdout",
     "output_type": "stream",
     "text": [
      "Iteration 7/10 complete.\n"
     ]
    },
    {
     "data": {
      "application/vnd.jupyter.widget-view+json": {
       "model_id": "a69f5e8bc1104ac280dc4463490133db",
       "version_major": 2,
       "version_minor": 0
      },
      "text/plain": [
       "Epochs:   0%|          | 0/50 [00:00<?, ?it/s]"
      ]
     },
     "metadata": {},
     "output_type": "display_data"
    },
    {
     "data": {
      "application/vnd.jupyter.widget-view+json": {
       "model_id": "fce7ef8ab67345b0aedf35b020b34b17",
       "version_major": 2,
       "version_minor": 0
      },
      "text/plain": [
       "Batches in epoch #1:   0%|          | 0/1250 [00:00<?, ?it/s]"
      ]
     },
     "metadata": {},
     "output_type": "display_data"
    },
    {
     "data": {
      "application/vnd.jupyter.widget-view+json": {
       "model_id": "64741dcb1f864a92b9df195963ef19bf",
       "version_major": 2,
       "version_minor": 0
      },
      "text/plain": [
       "Batches in epoch #2:   0%|          | 0/1250 [00:00<?, ?it/s]"
      ]
     },
     "metadata": {},
     "output_type": "display_data"
    },
    {
     "data": {
      "application/vnd.jupyter.widget-view+json": {
       "model_id": "5a64d5fbbf164445989d60735b487eab",
       "version_major": 2,
       "version_minor": 0
      },
      "text/plain": [
       "Batches in epoch #3:   0%|          | 0/1250 [00:00<?, ?it/s]"
      ]
     },
     "metadata": {},
     "output_type": "display_data"
    },
    {
     "data": {
      "application/vnd.jupyter.widget-view+json": {
       "model_id": "d540e4e25ebd4aadbc44487f7f4c600e",
       "version_major": 2,
       "version_minor": 0
      },
      "text/plain": [
       "Batches in epoch #4:   0%|          | 0/1250 [00:00<?, ?it/s]"
      ]
     },
     "metadata": {},
     "output_type": "display_data"
    },
    {
     "data": {
      "application/vnd.jupyter.widget-view+json": {
       "model_id": "ee121275bb4946f491ccb553a6de7fe3",
       "version_major": 2,
       "version_minor": 0
      },
      "text/plain": [
       "Batches in epoch #5:   0%|          | 0/1250 [00:00<?, ?it/s]"
      ]
     },
     "metadata": {},
     "output_type": "display_data"
    },
    {
     "data": {
      "application/vnd.jupyter.widget-view+json": {
       "model_id": "5057bf59cbb34036af0d7c940838117b",
       "version_major": 2,
       "version_minor": 0
      },
      "text/plain": [
       "Batches in epoch #6:   0%|          | 0/1250 [00:00<?, ?it/s]"
      ]
     },
     "metadata": {},
     "output_type": "display_data"
    },
    {
     "data": {
      "application/vnd.jupyter.widget-view+json": {
       "model_id": "1b2e96f2c6a440faa59ab0bf33f36543",
       "version_major": 2,
       "version_minor": 0
      },
      "text/plain": [
       "Batches in epoch #7:   0%|          | 0/1250 [00:00<?, ?it/s]"
      ]
     },
     "metadata": {},
     "output_type": "display_data"
    },
    {
     "data": {
      "application/vnd.jupyter.widget-view+json": {
       "model_id": "b4283fa9b7734cc6a584cc060ad00c84",
       "version_major": 2,
       "version_minor": 0
      },
      "text/plain": [
       "Batches in epoch #8:   0%|          | 0/1250 [00:00<?, ?it/s]"
      ]
     },
     "metadata": {},
     "output_type": "display_data"
    },
    {
     "data": {
      "application/vnd.jupyter.widget-view+json": {
       "model_id": "c2166bb884f144a0b8330bee16b4e53c",
       "version_major": 2,
       "version_minor": 0
      },
      "text/plain": [
       "Batches in epoch #9:   0%|          | 0/1250 [00:00<?, ?it/s]"
      ]
     },
     "metadata": {},
     "output_type": "display_data"
    },
    {
     "data": {
      "application/vnd.jupyter.widget-view+json": {
       "model_id": "1424846195e54e39aad46836cc0b0b1b",
       "version_major": 2,
       "version_minor": 0
      },
      "text/plain": [
       "Batches in epoch #10:   0%|          | 0/1250 [00:00<?, ?it/s]"
      ]
     },
     "metadata": {},
     "output_type": "display_data"
    },
    {
     "data": {
      "application/vnd.jupyter.widget-view+json": {
       "model_id": "7be7f3b75b45405b9db5050f008b7511",
       "version_major": 2,
       "version_minor": 0
      },
      "text/plain": [
       "Batches in epoch #11:   0%|          | 0/1250 [00:00<?, ?it/s]"
      ]
     },
     "metadata": {},
     "output_type": "display_data"
    },
    {
     "data": {
      "application/vnd.jupyter.widget-view+json": {
       "model_id": "ea9eef5a134e46b78386a72fc0c13e96",
       "version_major": 2,
       "version_minor": 0
      },
      "text/plain": [
       "Batches in epoch #12:   0%|          | 0/1250 [00:00<?, ?it/s]"
      ]
     },
     "metadata": {},
     "output_type": "display_data"
    },
    {
     "data": {
      "application/vnd.jupyter.widget-view+json": {
       "model_id": "781512d11f42423ca7e883688613e08d",
       "version_major": 2,
       "version_minor": 0
      },
      "text/plain": [
       "Batches in epoch #13:   0%|          | 0/1250 [00:00<?, ?it/s]"
      ]
     },
     "metadata": {},
     "output_type": "display_data"
    },
    {
     "data": {
      "application/vnd.jupyter.widget-view+json": {
       "model_id": "a614a459969342768bc3a4df87cd5585",
       "version_major": 2,
       "version_minor": 0
      },
      "text/plain": [
       "Batches in epoch #14:   0%|          | 0/1250 [00:00<?, ?it/s]"
      ]
     },
     "metadata": {},
     "output_type": "display_data"
    },
    {
     "data": {
      "application/vnd.jupyter.widget-view+json": {
       "model_id": "1bbc31746d6f4b7088bf9e37257be109",
       "version_major": 2,
       "version_minor": 0
      },
      "text/plain": [
       "Batches in epoch #15:   0%|          | 0/1250 [00:00<?, ?it/s]"
      ]
     },
     "metadata": {},
     "output_type": "display_data"
    },
    {
     "data": {
      "application/vnd.jupyter.widget-view+json": {
       "model_id": "37474b1a26ce462096739cad1fab7d29",
       "version_major": 2,
       "version_minor": 0
      },
      "text/plain": [
       "Batches in epoch #16:   0%|          | 0/1250 [00:00<?, ?it/s]"
      ]
     },
     "metadata": {},
     "output_type": "display_data"
    },
    {
     "data": {
      "application/vnd.jupyter.widget-view+json": {
       "model_id": "bdf5780955a14a1182e0c3e8689a23fe",
       "version_major": 2,
       "version_minor": 0
      },
      "text/plain": [
       "Batches in epoch #17:   0%|          | 0/1250 [00:00<?, ?it/s]"
      ]
     },
     "metadata": {},
     "output_type": "display_data"
    },
    {
     "data": {
      "application/vnd.jupyter.widget-view+json": {
       "model_id": "fe8d897a346a41c1ac5f38550b993f91",
       "version_major": 2,
       "version_minor": 0
      },
      "text/plain": [
       "Batches in epoch #18:   0%|          | 0/1250 [00:00<?, ?it/s]"
      ]
     },
     "metadata": {},
     "output_type": "display_data"
    },
    {
     "data": {
      "application/vnd.jupyter.widget-view+json": {
       "model_id": "01bd68a7181d444d81a2234f6bc53b0b",
       "version_major": 2,
       "version_minor": 0
      },
      "text/plain": [
       "Batches in epoch #19:   0%|          | 0/1250 [00:00<?, ?it/s]"
      ]
     },
     "metadata": {},
     "output_type": "display_data"
    },
    {
     "data": {
      "application/vnd.jupyter.widget-view+json": {
       "model_id": "89ed6eb0d43b4f94b0f5faa4eea29de2",
       "version_major": 2,
       "version_minor": 0
      },
      "text/plain": [
       "Batches in epoch #20:   0%|          | 0/1250 [00:00<?, ?it/s]"
      ]
     },
     "metadata": {},
     "output_type": "display_data"
    },
    {
     "data": {
      "application/vnd.jupyter.widget-view+json": {
       "model_id": "632c36de6ddb42168986bc3f311495b7",
       "version_major": 2,
       "version_minor": 0
      },
      "text/plain": [
       "Batches in epoch #21:   0%|          | 0/1250 [00:00<?, ?it/s]"
      ]
     },
     "metadata": {},
     "output_type": "display_data"
    },
    {
     "data": {
      "application/vnd.jupyter.widget-view+json": {
       "model_id": "ead74c88ee83412893942d59568dfe10",
       "version_major": 2,
       "version_minor": 0
      },
      "text/plain": [
       "Batches in epoch #22:   0%|          | 0/1250 [00:00<?, ?it/s]"
      ]
     },
     "metadata": {},
     "output_type": "display_data"
    },
    {
     "data": {
      "application/vnd.jupyter.widget-view+json": {
       "model_id": "0327d4259ba444f28557b89f0a507f28",
       "version_major": 2,
       "version_minor": 0
      },
      "text/plain": [
       "Batches in epoch #23:   0%|          | 0/1250 [00:00<?, ?it/s]"
      ]
     },
     "metadata": {},
     "output_type": "display_data"
    },
    {
     "data": {
      "application/vnd.jupyter.widget-view+json": {
       "model_id": "93f25f80778b4bb99d1028ddbae156f3",
       "version_major": 2,
       "version_minor": 0
      },
      "text/plain": [
       "Batches in epoch #24:   0%|          | 0/1250 [00:00<?, ?it/s]"
      ]
     },
     "metadata": {},
     "output_type": "display_data"
    },
    {
     "data": {
      "application/vnd.jupyter.widget-view+json": {
       "model_id": "f9d00ab54ad64e9a8f230a7f83ea60b9",
       "version_major": 2,
       "version_minor": 0
      },
      "text/plain": [
       "Batches in epoch #25:   0%|          | 0/1250 [00:00<?, ?it/s]"
      ]
     },
     "metadata": {},
     "output_type": "display_data"
    },
    {
     "data": {
      "application/vnd.jupyter.widget-view+json": {
       "model_id": "7f03ea0ed96f4b69a70fc6f661b2f2e2",
       "version_major": 2,
       "version_minor": 0
      },
      "text/plain": [
       "Batches in epoch #26:   0%|          | 0/1250 [00:00<?, ?it/s]"
      ]
     },
     "metadata": {},
     "output_type": "display_data"
    },
    {
     "data": {
      "application/vnd.jupyter.widget-view+json": {
       "model_id": "b48df718f03a46e9adb7c7df1a5da499",
       "version_major": 2,
       "version_minor": 0
      },
      "text/plain": [
       "Batches in epoch #27:   0%|          | 0/1250 [00:00<?, ?it/s]"
      ]
     },
     "metadata": {},
     "output_type": "display_data"
    },
    {
     "data": {
      "application/vnd.jupyter.widget-view+json": {
       "model_id": "5d0b9441b4124d3dabd113d543fb01b1",
       "version_major": 2,
       "version_minor": 0
      },
      "text/plain": [
       "Batches in epoch #28:   0%|          | 0/1250 [00:00<?, ?it/s]"
      ]
     },
     "metadata": {},
     "output_type": "display_data"
    },
    {
     "data": {
      "application/vnd.jupyter.widget-view+json": {
       "model_id": "846d4435b9214676afbbea4acde79f34",
       "version_major": 2,
       "version_minor": 0
      },
      "text/plain": [
       "Batches in epoch #29:   0%|          | 0/1250 [00:00<?, ?it/s]"
      ]
     },
     "metadata": {},
     "output_type": "display_data"
    },
    {
     "data": {
      "application/vnd.jupyter.widget-view+json": {
       "model_id": "5a16c3ca688b4f0190d8579d07ccdd1e",
       "version_major": 2,
       "version_minor": 0
      },
      "text/plain": [
       "Batches in epoch #30:   0%|          | 0/1250 [00:00<?, ?it/s]"
      ]
     },
     "metadata": {},
     "output_type": "display_data"
    },
    {
     "data": {
      "application/vnd.jupyter.widget-view+json": {
       "model_id": "0c6021517b7a46e5b6e78a93036ec277",
       "version_major": 2,
       "version_minor": 0
      },
      "text/plain": [
       "Batches in epoch #31:   0%|          | 0/1250 [00:00<?, ?it/s]"
      ]
     },
     "metadata": {},
     "output_type": "display_data"
    },
    {
     "data": {
      "application/vnd.jupyter.widget-view+json": {
       "model_id": "4e15c32d64604b42a2c29f9c1f6fb4af",
       "version_major": 2,
       "version_minor": 0
      },
      "text/plain": [
       "Batches in epoch #32:   0%|          | 0/1250 [00:00<?, ?it/s]"
      ]
     },
     "metadata": {},
     "output_type": "display_data"
    },
    {
     "data": {
      "application/vnd.jupyter.widget-view+json": {
       "model_id": "f2029312e9854571ab87c3e19f8c400e",
       "version_major": 2,
       "version_minor": 0
      },
      "text/plain": [
       "Batches in epoch #33:   0%|          | 0/1250 [00:00<?, ?it/s]"
      ]
     },
     "metadata": {},
     "output_type": "display_data"
    },
    {
     "data": {
      "application/vnd.jupyter.widget-view+json": {
       "model_id": "28e6f22e17cf458d9c044781bbcc42f3",
       "version_major": 2,
       "version_minor": 0
      },
      "text/plain": [
       "Batches in epoch #34:   0%|          | 0/1250 [00:00<?, ?it/s]"
      ]
     },
     "metadata": {},
     "output_type": "display_data"
    },
    {
     "data": {
      "application/vnd.jupyter.widget-view+json": {
       "model_id": "21f4fb135b6d415aab88fe2a683e6906",
       "version_major": 2,
       "version_minor": 0
      },
      "text/plain": [
       "Batches in epoch #35:   0%|          | 0/1250 [00:00<?, ?it/s]"
      ]
     },
     "metadata": {},
     "output_type": "display_data"
    },
    {
     "data": {
      "application/vnd.jupyter.widget-view+json": {
       "model_id": "c4191b3e5e8743039cbbefc50f87dd76",
       "version_major": 2,
       "version_minor": 0
      },
      "text/plain": [
       "Batches in epoch #36:   0%|          | 0/1250 [00:00<?, ?it/s]"
      ]
     },
     "metadata": {},
     "output_type": "display_data"
    },
    {
     "data": {
      "application/vnd.jupyter.widget-view+json": {
       "model_id": "bd8c97b3be504342aa35365bb0c92c07",
       "version_major": 2,
       "version_minor": 0
      },
      "text/plain": [
       "Batches in epoch #37:   0%|          | 0/1250 [00:00<?, ?it/s]"
      ]
     },
     "metadata": {},
     "output_type": "display_data"
    },
    {
     "data": {
      "application/vnd.jupyter.widget-view+json": {
       "model_id": "d771c7583f75410ea50c35cfbf261f61",
       "version_major": 2,
       "version_minor": 0
      },
      "text/plain": [
       "Batches in epoch #38:   0%|          | 0/1250 [00:00<?, ?it/s]"
      ]
     },
     "metadata": {},
     "output_type": "display_data"
    },
    {
     "data": {
      "application/vnd.jupyter.widget-view+json": {
       "model_id": "1b75c396b03e421fb31c7cd360b0c16f",
       "version_major": 2,
       "version_minor": 0
      },
      "text/plain": [
       "Batches in epoch #39:   0%|          | 0/1250 [00:00<?, ?it/s]"
      ]
     },
     "metadata": {},
     "output_type": "display_data"
    },
    {
     "data": {
      "application/vnd.jupyter.widget-view+json": {
       "model_id": "3a4511704f9349fe8325871cbadaea87",
       "version_major": 2,
       "version_minor": 0
      },
      "text/plain": [
       "Batches in epoch #40:   0%|          | 0/1250 [00:00<?, ?it/s]"
      ]
     },
     "metadata": {},
     "output_type": "display_data"
    },
    {
     "data": {
      "application/vnd.jupyter.widget-view+json": {
       "model_id": "d35ed0a54ad74966a4f1f7eef8808d46",
       "version_major": 2,
       "version_minor": 0
      },
      "text/plain": [
       "Batches in epoch #41:   0%|          | 0/1250 [00:00<?, ?it/s]"
      ]
     },
     "metadata": {},
     "output_type": "display_data"
    },
    {
     "data": {
      "application/vnd.jupyter.widget-view+json": {
       "model_id": "4610187d2a6d45148192f73cc9ccce44",
       "version_major": 2,
       "version_minor": 0
      },
      "text/plain": [
       "Batches in epoch #42:   0%|          | 0/1250 [00:00<?, ?it/s]"
      ]
     },
     "metadata": {},
     "output_type": "display_data"
    },
    {
     "data": {
      "application/vnd.jupyter.widget-view+json": {
       "model_id": "3f9746e7a09d45e88ad8e108f9af9da3",
       "version_major": 2,
       "version_minor": 0
      },
      "text/plain": [
       "Batches in epoch #43:   0%|          | 0/1250 [00:00<?, ?it/s]"
      ]
     },
     "metadata": {},
     "output_type": "display_data"
    },
    {
     "data": {
      "application/vnd.jupyter.widget-view+json": {
       "model_id": "a110d49e3691492689e5733dcb2cd034",
       "version_major": 2,
       "version_minor": 0
      },
      "text/plain": [
       "Batches in epoch #44:   0%|          | 0/1250 [00:00<?, ?it/s]"
      ]
     },
     "metadata": {},
     "output_type": "display_data"
    },
    {
     "data": {
      "application/vnd.jupyter.widget-view+json": {
       "model_id": "d47f40f442be4984b0f683ef3bf9e98b",
       "version_major": 2,
       "version_minor": 0
      },
      "text/plain": [
       "Batches in epoch #45:   0%|          | 0/1250 [00:00<?, ?it/s]"
      ]
     },
     "metadata": {},
     "output_type": "display_data"
    },
    {
     "data": {
      "application/vnd.jupyter.widget-view+json": {
       "model_id": "f6aba33587874cc785e1546ab047e5e5",
       "version_major": 2,
       "version_minor": 0
      },
      "text/plain": [
       "Batches in epoch #46:   0%|          | 0/1250 [00:00<?, ?it/s]"
      ]
     },
     "metadata": {},
     "output_type": "display_data"
    },
    {
     "data": {
      "application/vnd.jupyter.widget-view+json": {
       "model_id": "6482938c2e7e4953ab0703a37f12c525",
       "version_major": 2,
       "version_minor": 0
      },
      "text/plain": [
       "Batches in epoch #47:   0%|          | 0/1250 [00:00<?, ?it/s]"
      ]
     },
     "metadata": {},
     "output_type": "display_data"
    },
    {
     "data": {
      "application/vnd.jupyter.widget-view+json": {
       "model_id": "24d9f56dec2d4b45b3c683e315233c52",
       "version_major": 2,
       "version_minor": 0
      },
      "text/plain": [
       "Batches in epoch #48:   0%|          | 0/1250 [00:00<?, ?it/s]"
      ]
     },
     "metadata": {},
     "output_type": "display_data"
    },
    {
     "data": {
      "application/vnd.jupyter.widget-view+json": {
       "model_id": "966961ee57aa40139d4df6e6513f65fd",
       "version_major": 2,
       "version_minor": 0
      },
      "text/plain": [
       "Batches in epoch #49:   0%|          | 0/1250 [00:00<?, ?it/s]"
      ]
     },
     "metadata": {},
     "output_type": "display_data"
    },
    {
     "data": {
      "application/vnd.jupyter.widget-view+json": {
       "model_id": "fe0b7462203d455caedfb58a879858ab",
       "version_major": 2,
       "version_minor": 0
      },
      "text/plain": [
       "Batches in epoch #50:   0%|          | 0/1250 [00:00<?, ?it/s]"
      ]
     },
     "metadata": {},
     "output_type": "display_data"
    },
    {
     "name": "stdout",
     "output_type": "stream",
     "text": [
      "Iteration 8/10 complete.\n"
     ]
    },
    {
     "data": {
      "application/vnd.jupyter.widget-view+json": {
       "model_id": "115da0bc4119486bb99336f0ef9d61c0",
       "version_major": 2,
       "version_minor": 0
      },
      "text/plain": [
       "Epochs:   0%|          | 0/50 [00:00<?, ?it/s]"
      ]
     },
     "metadata": {},
     "output_type": "display_data"
    },
    {
     "data": {
      "application/vnd.jupyter.widget-view+json": {
       "model_id": "1d80330f15cb4d24883c4c604a1d1f79",
       "version_major": 2,
       "version_minor": 0
      },
      "text/plain": [
       "Batches in epoch #1:   0%|          | 0/1250 [00:00<?, ?it/s]"
      ]
     },
     "metadata": {},
     "output_type": "display_data"
    },
    {
     "data": {
      "application/vnd.jupyter.widget-view+json": {
       "model_id": "a4ce01ef8266486f9eb9e04325b56a41",
       "version_major": 2,
       "version_minor": 0
      },
      "text/plain": [
       "Batches in epoch #2:   0%|          | 0/1250 [00:00<?, ?it/s]"
      ]
     },
     "metadata": {},
     "output_type": "display_data"
    },
    {
     "data": {
      "application/vnd.jupyter.widget-view+json": {
       "model_id": "5582f8d601474991830095e4d079694c",
       "version_major": 2,
       "version_minor": 0
      },
      "text/plain": [
       "Batches in epoch #3:   0%|          | 0/1250 [00:00<?, ?it/s]"
      ]
     },
     "metadata": {},
     "output_type": "display_data"
    },
    {
     "data": {
      "application/vnd.jupyter.widget-view+json": {
       "model_id": "db996d69a0a140f590e67995c633dc2e",
       "version_major": 2,
       "version_minor": 0
      },
      "text/plain": [
       "Batches in epoch #4:   0%|          | 0/1250 [00:00<?, ?it/s]"
      ]
     },
     "metadata": {},
     "output_type": "display_data"
    },
    {
     "data": {
      "application/vnd.jupyter.widget-view+json": {
       "model_id": "7d7604c2731c4d28aa104d34d1644333",
       "version_major": 2,
       "version_minor": 0
      },
      "text/plain": [
       "Batches in epoch #5:   0%|          | 0/1250 [00:00<?, ?it/s]"
      ]
     },
     "metadata": {},
     "output_type": "display_data"
    },
    {
     "data": {
      "application/vnd.jupyter.widget-view+json": {
       "model_id": "91135667bd924d2da9d4a5e77cf51eca",
       "version_major": 2,
       "version_minor": 0
      },
      "text/plain": [
       "Batches in epoch #6:   0%|          | 0/1250 [00:00<?, ?it/s]"
      ]
     },
     "metadata": {},
     "output_type": "display_data"
    },
    {
     "data": {
      "application/vnd.jupyter.widget-view+json": {
       "model_id": "29703b6f424f4e8fb94e3004d9f1621c",
       "version_major": 2,
       "version_minor": 0
      },
      "text/plain": [
       "Batches in epoch #7:   0%|          | 0/1250 [00:00<?, ?it/s]"
      ]
     },
     "metadata": {},
     "output_type": "display_data"
    },
    {
     "data": {
      "application/vnd.jupyter.widget-view+json": {
       "model_id": "53d942101e4d4012a28f22a3d4b9fcba",
       "version_major": 2,
       "version_minor": 0
      },
      "text/plain": [
       "Batches in epoch #8:   0%|          | 0/1250 [00:00<?, ?it/s]"
      ]
     },
     "metadata": {},
     "output_type": "display_data"
    },
    {
     "data": {
      "application/vnd.jupyter.widget-view+json": {
       "model_id": "18a7a72e6cb74e749569dc2e25c9b553",
       "version_major": 2,
       "version_minor": 0
      },
      "text/plain": [
       "Batches in epoch #9:   0%|          | 0/1250 [00:00<?, ?it/s]"
      ]
     },
     "metadata": {},
     "output_type": "display_data"
    },
    {
     "data": {
      "application/vnd.jupyter.widget-view+json": {
       "model_id": "212815afb15d47df8b38b3e3f3bc41a0",
       "version_major": 2,
       "version_minor": 0
      },
      "text/plain": [
       "Batches in epoch #10:   0%|          | 0/1250 [00:00<?, ?it/s]"
      ]
     },
     "metadata": {},
     "output_type": "display_data"
    },
    {
     "data": {
      "application/vnd.jupyter.widget-view+json": {
       "model_id": "fd38d06d6ac04345a3f85bac6dcff3e4",
       "version_major": 2,
       "version_minor": 0
      },
      "text/plain": [
       "Batches in epoch #11:   0%|          | 0/1250 [00:00<?, ?it/s]"
      ]
     },
     "metadata": {},
     "output_type": "display_data"
    },
    {
     "data": {
      "application/vnd.jupyter.widget-view+json": {
       "model_id": "42ab149f134547a18553552e0e8d5b13",
       "version_major": 2,
       "version_minor": 0
      },
      "text/plain": [
       "Batches in epoch #12:   0%|          | 0/1250 [00:00<?, ?it/s]"
      ]
     },
     "metadata": {},
     "output_type": "display_data"
    },
    {
     "data": {
      "application/vnd.jupyter.widget-view+json": {
       "model_id": "0ed22b72344b488f819ff91c89b584de",
       "version_major": 2,
       "version_minor": 0
      },
      "text/plain": [
       "Batches in epoch #13:   0%|          | 0/1250 [00:00<?, ?it/s]"
      ]
     },
     "metadata": {},
     "output_type": "display_data"
    },
    {
     "data": {
      "application/vnd.jupyter.widget-view+json": {
       "model_id": "108b9df0c634492b8014e02397d3f054",
       "version_major": 2,
       "version_minor": 0
      },
      "text/plain": [
       "Batches in epoch #14:   0%|          | 0/1250 [00:00<?, ?it/s]"
      ]
     },
     "metadata": {},
     "output_type": "display_data"
    },
    {
     "data": {
      "application/vnd.jupyter.widget-view+json": {
       "model_id": "5ca88825927d4336b5c9911e5324b60d",
       "version_major": 2,
       "version_minor": 0
      },
      "text/plain": [
       "Batches in epoch #15:   0%|          | 0/1250 [00:00<?, ?it/s]"
      ]
     },
     "metadata": {},
     "output_type": "display_data"
    },
    {
     "data": {
      "application/vnd.jupyter.widget-view+json": {
       "model_id": "60016f8164d84ef1a0dc504de29237ff",
       "version_major": 2,
       "version_minor": 0
      },
      "text/plain": [
       "Batches in epoch #16:   0%|          | 0/1250 [00:00<?, ?it/s]"
      ]
     },
     "metadata": {},
     "output_type": "display_data"
    },
    {
     "data": {
      "application/vnd.jupyter.widget-view+json": {
       "model_id": "b94bb85e61864f9c98b59175c2df85b6",
       "version_major": 2,
       "version_minor": 0
      },
      "text/plain": [
       "Batches in epoch #17:   0%|          | 0/1250 [00:00<?, ?it/s]"
      ]
     },
     "metadata": {},
     "output_type": "display_data"
    },
    {
     "data": {
      "application/vnd.jupyter.widget-view+json": {
       "model_id": "bf9709123c3d4023afdaa67d8b09142d",
       "version_major": 2,
       "version_minor": 0
      },
      "text/plain": [
       "Batches in epoch #18:   0%|          | 0/1250 [00:00<?, ?it/s]"
      ]
     },
     "metadata": {},
     "output_type": "display_data"
    },
    {
     "data": {
      "application/vnd.jupyter.widget-view+json": {
       "model_id": "3dcb5b18a45f4055961fff424a22a7a6",
       "version_major": 2,
       "version_minor": 0
      },
      "text/plain": [
       "Batches in epoch #19:   0%|          | 0/1250 [00:00<?, ?it/s]"
      ]
     },
     "metadata": {},
     "output_type": "display_data"
    },
    {
     "data": {
      "application/vnd.jupyter.widget-view+json": {
       "model_id": "5b567c6c59254f71a37cdaca6c42c3ea",
       "version_major": 2,
       "version_minor": 0
      },
      "text/plain": [
       "Batches in epoch #20:   0%|          | 0/1250 [00:00<?, ?it/s]"
      ]
     },
     "metadata": {},
     "output_type": "display_data"
    },
    {
     "data": {
      "application/vnd.jupyter.widget-view+json": {
       "model_id": "555beaf244994f6195dc9172a114be13",
       "version_major": 2,
       "version_minor": 0
      },
      "text/plain": [
       "Batches in epoch #21:   0%|          | 0/1250 [00:00<?, ?it/s]"
      ]
     },
     "metadata": {},
     "output_type": "display_data"
    },
    {
     "data": {
      "application/vnd.jupyter.widget-view+json": {
       "model_id": "75b4aedf5ead4b22b45d062fa3425f79",
       "version_major": 2,
       "version_minor": 0
      },
      "text/plain": [
       "Batches in epoch #22:   0%|          | 0/1250 [00:00<?, ?it/s]"
      ]
     },
     "metadata": {},
     "output_type": "display_data"
    },
    {
     "data": {
      "application/vnd.jupyter.widget-view+json": {
       "model_id": "af7f7fc884bb4e339aa326c52abf3d44",
       "version_major": 2,
       "version_minor": 0
      },
      "text/plain": [
       "Batches in epoch #23:   0%|          | 0/1250 [00:00<?, ?it/s]"
      ]
     },
     "metadata": {},
     "output_type": "display_data"
    },
    {
     "data": {
      "application/vnd.jupyter.widget-view+json": {
       "model_id": "b9a686c2dc81451790a15f109f2fe467",
       "version_major": 2,
       "version_minor": 0
      },
      "text/plain": [
       "Batches in epoch #24:   0%|          | 0/1250 [00:00<?, ?it/s]"
      ]
     },
     "metadata": {},
     "output_type": "display_data"
    },
    {
     "data": {
      "application/vnd.jupyter.widget-view+json": {
       "model_id": "69d4dfbdfe0d4ae29b3e099814ae4ea8",
       "version_major": 2,
       "version_minor": 0
      },
      "text/plain": [
       "Batches in epoch #25:   0%|          | 0/1250 [00:00<?, ?it/s]"
      ]
     },
     "metadata": {},
     "output_type": "display_data"
    },
    {
     "data": {
      "application/vnd.jupyter.widget-view+json": {
       "model_id": "669625f6856b471b8216f89bbf1c684c",
       "version_major": 2,
       "version_minor": 0
      },
      "text/plain": [
       "Batches in epoch #26:   0%|          | 0/1250 [00:00<?, ?it/s]"
      ]
     },
     "metadata": {},
     "output_type": "display_data"
    },
    {
     "data": {
      "application/vnd.jupyter.widget-view+json": {
       "model_id": "e2d727d5be55452d9a770b266a457f7f",
       "version_major": 2,
       "version_minor": 0
      },
      "text/plain": [
       "Batches in epoch #27:   0%|          | 0/1250 [00:00<?, ?it/s]"
      ]
     },
     "metadata": {},
     "output_type": "display_data"
    },
    {
     "data": {
      "application/vnd.jupyter.widget-view+json": {
       "model_id": "4dfb651666894406b714569f8a50ed74",
       "version_major": 2,
       "version_minor": 0
      },
      "text/plain": [
       "Batches in epoch #28:   0%|          | 0/1250 [00:00<?, ?it/s]"
      ]
     },
     "metadata": {},
     "output_type": "display_data"
    },
    {
     "data": {
      "application/vnd.jupyter.widget-view+json": {
       "model_id": "d0c8588e3aea44bb8f1e0ad375c4b6d5",
       "version_major": 2,
       "version_minor": 0
      },
      "text/plain": [
       "Batches in epoch #29:   0%|          | 0/1250 [00:00<?, ?it/s]"
      ]
     },
     "metadata": {},
     "output_type": "display_data"
    },
    {
     "data": {
      "application/vnd.jupyter.widget-view+json": {
       "model_id": "8332ef30109640c28808198e8bb9da58",
       "version_major": 2,
       "version_minor": 0
      },
      "text/plain": [
       "Batches in epoch #30:   0%|          | 0/1250 [00:00<?, ?it/s]"
      ]
     },
     "metadata": {},
     "output_type": "display_data"
    },
    {
     "data": {
      "application/vnd.jupyter.widget-view+json": {
       "model_id": "d2cf5031052740b88da53856d898080a",
       "version_major": 2,
       "version_minor": 0
      },
      "text/plain": [
       "Batches in epoch #31:   0%|          | 0/1250 [00:00<?, ?it/s]"
      ]
     },
     "metadata": {},
     "output_type": "display_data"
    },
    {
     "data": {
      "application/vnd.jupyter.widget-view+json": {
       "model_id": "1b976814f7264e878c55fd71524c31f7",
       "version_major": 2,
       "version_minor": 0
      },
      "text/plain": [
       "Batches in epoch #32:   0%|          | 0/1250 [00:00<?, ?it/s]"
      ]
     },
     "metadata": {},
     "output_type": "display_data"
    },
    {
     "data": {
      "application/vnd.jupyter.widget-view+json": {
       "model_id": "86668f759abd47a59071f1ac2267860f",
       "version_major": 2,
       "version_minor": 0
      },
      "text/plain": [
       "Batches in epoch #33:   0%|          | 0/1250 [00:00<?, ?it/s]"
      ]
     },
     "metadata": {},
     "output_type": "display_data"
    },
    {
     "data": {
      "application/vnd.jupyter.widget-view+json": {
       "model_id": "e279571b0d4b4bdfbd7b32e2f176ffd4",
       "version_major": 2,
       "version_minor": 0
      },
      "text/plain": [
       "Batches in epoch #34:   0%|          | 0/1250 [00:00<?, ?it/s]"
      ]
     },
     "metadata": {},
     "output_type": "display_data"
    },
    {
     "data": {
      "application/vnd.jupyter.widget-view+json": {
       "model_id": "43347a5988804546b7fd445463c5371a",
       "version_major": 2,
       "version_minor": 0
      },
      "text/plain": [
       "Batches in epoch #35:   0%|          | 0/1250 [00:00<?, ?it/s]"
      ]
     },
     "metadata": {},
     "output_type": "display_data"
    },
    {
     "data": {
      "application/vnd.jupyter.widget-view+json": {
       "model_id": "9c6ef1a9201642e59ca1414a3986f40e",
       "version_major": 2,
       "version_minor": 0
      },
      "text/plain": [
       "Batches in epoch #36:   0%|          | 0/1250 [00:00<?, ?it/s]"
      ]
     },
     "metadata": {},
     "output_type": "display_data"
    },
    {
     "data": {
      "application/vnd.jupyter.widget-view+json": {
       "model_id": "2c25ee1a3bdb4a858c978fa2a44522d8",
       "version_major": 2,
       "version_minor": 0
      },
      "text/plain": [
       "Batches in epoch #37:   0%|          | 0/1250 [00:00<?, ?it/s]"
      ]
     },
     "metadata": {},
     "output_type": "display_data"
    },
    {
     "data": {
      "application/vnd.jupyter.widget-view+json": {
       "model_id": "c7186e27126542a0a0a6456396e2064b",
       "version_major": 2,
       "version_minor": 0
      },
      "text/plain": [
       "Batches in epoch #38:   0%|          | 0/1250 [00:00<?, ?it/s]"
      ]
     },
     "metadata": {},
     "output_type": "display_data"
    },
    {
     "data": {
      "application/vnd.jupyter.widget-view+json": {
       "model_id": "2f2cfdb9400148b6b2b348b31575cb78",
       "version_major": 2,
       "version_minor": 0
      },
      "text/plain": [
       "Batches in epoch #39:   0%|          | 0/1250 [00:00<?, ?it/s]"
      ]
     },
     "metadata": {},
     "output_type": "display_data"
    },
    {
     "data": {
      "application/vnd.jupyter.widget-view+json": {
       "model_id": "b32a27ef97024282963e6f95fdf8ded9",
       "version_major": 2,
       "version_minor": 0
      },
      "text/plain": [
       "Batches in epoch #40:   0%|          | 0/1250 [00:00<?, ?it/s]"
      ]
     },
     "metadata": {},
     "output_type": "display_data"
    },
    {
     "data": {
      "application/vnd.jupyter.widget-view+json": {
       "model_id": "9cbb86406a8b43bb8da6fdf52857d048",
       "version_major": 2,
       "version_minor": 0
      },
      "text/plain": [
       "Batches in epoch #41:   0%|          | 0/1250 [00:00<?, ?it/s]"
      ]
     },
     "metadata": {},
     "output_type": "display_data"
    },
    {
     "data": {
      "application/vnd.jupyter.widget-view+json": {
       "model_id": "c7c8bbd76c764affb5ada2f934b9fe91",
       "version_major": 2,
       "version_minor": 0
      },
      "text/plain": [
       "Batches in epoch #42:   0%|          | 0/1250 [00:00<?, ?it/s]"
      ]
     },
     "metadata": {},
     "output_type": "display_data"
    },
    {
     "data": {
      "application/vnd.jupyter.widget-view+json": {
       "model_id": "ddd6c246d91c45c9b57ae722b05bcf55",
       "version_major": 2,
       "version_minor": 0
      },
      "text/plain": [
       "Batches in epoch #43:   0%|          | 0/1250 [00:00<?, ?it/s]"
      ]
     },
     "metadata": {},
     "output_type": "display_data"
    },
    {
     "data": {
      "application/vnd.jupyter.widget-view+json": {
       "model_id": "6bc963be09654ba498d81adee3c4ef49",
       "version_major": 2,
       "version_minor": 0
      },
      "text/plain": [
       "Batches in epoch #44:   0%|          | 0/1250 [00:00<?, ?it/s]"
      ]
     },
     "metadata": {},
     "output_type": "display_data"
    },
    {
     "data": {
      "application/vnd.jupyter.widget-view+json": {
       "model_id": "782679328825457299d373fe8d15221c",
       "version_major": 2,
       "version_minor": 0
      },
      "text/plain": [
       "Batches in epoch #45:   0%|          | 0/1250 [00:00<?, ?it/s]"
      ]
     },
     "metadata": {},
     "output_type": "display_data"
    },
    {
     "data": {
      "application/vnd.jupyter.widget-view+json": {
       "model_id": "aaa48147d9334f11ac7f3daae8b0797b",
       "version_major": 2,
       "version_minor": 0
      },
      "text/plain": [
       "Batches in epoch #46:   0%|          | 0/1250 [00:00<?, ?it/s]"
      ]
     },
     "metadata": {},
     "output_type": "display_data"
    },
    {
     "data": {
      "application/vnd.jupyter.widget-view+json": {
       "model_id": "ec36b8631e4846b6b4badb79f9292567",
       "version_major": 2,
       "version_minor": 0
      },
      "text/plain": [
       "Batches in epoch #47:   0%|          | 0/1250 [00:00<?, ?it/s]"
      ]
     },
     "metadata": {},
     "output_type": "display_data"
    },
    {
     "data": {
      "application/vnd.jupyter.widget-view+json": {
       "model_id": "e5c691bb5f6a485db6584e0ff84bce04",
       "version_major": 2,
       "version_minor": 0
      },
      "text/plain": [
       "Batches in epoch #48:   0%|          | 0/1250 [00:00<?, ?it/s]"
      ]
     },
     "metadata": {},
     "output_type": "display_data"
    },
    {
     "data": {
      "application/vnd.jupyter.widget-view+json": {
       "model_id": "2ee2963c28944867a8723275c282c7a4",
       "version_major": 2,
       "version_minor": 0
      },
      "text/plain": [
       "Batches in epoch #49:   0%|          | 0/1250 [00:00<?, ?it/s]"
      ]
     },
     "metadata": {},
     "output_type": "display_data"
    },
    {
     "data": {
      "application/vnd.jupyter.widget-view+json": {
       "model_id": "d4850701d6a74a7da7b73c1dbf8038ba",
       "version_major": 2,
       "version_minor": 0
      },
      "text/plain": [
       "Batches in epoch #50:   0%|          | 0/1250 [00:00<?, ?it/s]"
      ]
     },
     "metadata": {},
     "output_type": "display_data"
    },
    {
     "name": "stdout",
     "output_type": "stream",
     "text": [
      "Iteration 9/10 complete.\n"
     ]
    },
    {
     "data": {
      "application/vnd.jupyter.widget-view+json": {
       "model_id": "b6bd534e3daf453ba3e05077e32c6aa0",
       "version_major": 2,
       "version_minor": 0
      },
      "text/plain": [
       "Epochs:   0%|          | 0/50 [00:00<?, ?it/s]"
      ]
     },
     "metadata": {},
     "output_type": "display_data"
    },
    {
     "data": {
      "application/vnd.jupyter.widget-view+json": {
       "model_id": "64ba523ffdef47dd90f90a9770d8a255",
       "version_major": 2,
       "version_minor": 0
      },
      "text/plain": [
       "Batches in epoch #1:   0%|          | 0/1250 [00:00<?, ?it/s]"
      ]
     },
     "metadata": {},
     "output_type": "display_data"
    },
    {
     "data": {
      "application/vnd.jupyter.widget-view+json": {
       "model_id": "85ca6b2c4b1c4a4b839264d5289599d1",
       "version_major": 2,
       "version_minor": 0
      },
      "text/plain": [
       "Batches in epoch #2:   0%|          | 0/1250 [00:00<?, ?it/s]"
      ]
     },
     "metadata": {},
     "output_type": "display_data"
    },
    {
     "data": {
      "application/vnd.jupyter.widget-view+json": {
       "model_id": "2d3c761eaffc4fae813ed8d724c7e18d",
       "version_major": 2,
       "version_minor": 0
      },
      "text/plain": [
       "Batches in epoch #3:   0%|          | 0/1250 [00:00<?, ?it/s]"
      ]
     },
     "metadata": {},
     "output_type": "display_data"
    },
    {
     "data": {
      "application/vnd.jupyter.widget-view+json": {
       "model_id": "0b79242183cf418da4c87694c823ab16",
       "version_major": 2,
       "version_minor": 0
      },
      "text/plain": [
       "Batches in epoch #4:   0%|          | 0/1250 [00:00<?, ?it/s]"
      ]
     },
     "metadata": {},
     "output_type": "display_data"
    },
    {
     "data": {
      "application/vnd.jupyter.widget-view+json": {
       "model_id": "c92a9c0a9e82491a8fcdada82f45dbf7",
       "version_major": 2,
       "version_minor": 0
      },
      "text/plain": [
       "Batches in epoch #5:   0%|          | 0/1250 [00:00<?, ?it/s]"
      ]
     },
     "metadata": {},
     "output_type": "display_data"
    },
    {
     "data": {
      "application/vnd.jupyter.widget-view+json": {
       "model_id": "4640c2c0e6244ed6b3522ae28f3a30a1",
       "version_major": 2,
       "version_minor": 0
      },
      "text/plain": [
       "Batches in epoch #6:   0%|          | 0/1250 [00:00<?, ?it/s]"
      ]
     },
     "metadata": {},
     "output_type": "display_data"
    },
    {
     "data": {
      "application/vnd.jupyter.widget-view+json": {
       "model_id": "2edbece4878c45bd8c72d0c99ac391cf",
       "version_major": 2,
       "version_minor": 0
      },
      "text/plain": [
       "Batches in epoch #7:   0%|          | 0/1250 [00:00<?, ?it/s]"
      ]
     },
     "metadata": {},
     "output_type": "display_data"
    },
    {
     "data": {
      "application/vnd.jupyter.widget-view+json": {
       "model_id": "036466cfda0f43c8aae19e8eec9bc211",
       "version_major": 2,
       "version_minor": 0
      },
      "text/plain": [
       "Batches in epoch #8:   0%|          | 0/1250 [00:00<?, ?it/s]"
      ]
     },
     "metadata": {},
     "output_type": "display_data"
    },
    {
     "data": {
      "application/vnd.jupyter.widget-view+json": {
       "model_id": "c2f71f87dcde433d80f5575a2775f4c0",
       "version_major": 2,
       "version_minor": 0
      },
      "text/plain": [
       "Batches in epoch #9:   0%|          | 0/1250 [00:00<?, ?it/s]"
      ]
     },
     "metadata": {},
     "output_type": "display_data"
    },
    {
     "data": {
      "application/vnd.jupyter.widget-view+json": {
       "model_id": "0de0bab6e69e4a30bc046bd1a8fe7e94",
       "version_major": 2,
       "version_minor": 0
      },
      "text/plain": [
       "Batches in epoch #10:   0%|          | 0/1250 [00:00<?, ?it/s]"
      ]
     },
     "metadata": {},
     "output_type": "display_data"
    },
    {
     "data": {
      "application/vnd.jupyter.widget-view+json": {
       "model_id": "d13ecea0f06741fbaed86374f73acd91",
       "version_major": 2,
       "version_minor": 0
      },
      "text/plain": [
       "Batches in epoch #11:   0%|          | 0/1250 [00:00<?, ?it/s]"
      ]
     },
     "metadata": {},
     "output_type": "display_data"
    },
    {
     "data": {
      "application/vnd.jupyter.widget-view+json": {
       "model_id": "4005a15c426340a3aa168e0d397b0b27",
       "version_major": 2,
       "version_minor": 0
      },
      "text/plain": [
       "Batches in epoch #12:   0%|          | 0/1250 [00:00<?, ?it/s]"
      ]
     },
     "metadata": {},
     "output_type": "display_data"
    },
    {
     "data": {
      "application/vnd.jupyter.widget-view+json": {
       "model_id": "4733302b18be401893b5d15ddd788ef9",
       "version_major": 2,
       "version_minor": 0
      },
      "text/plain": [
       "Batches in epoch #13:   0%|          | 0/1250 [00:00<?, ?it/s]"
      ]
     },
     "metadata": {},
     "output_type": "display_data"
    },
    {
     "data": {
      "application/vnd.jupyter.widget-view+json": {
       "model_id": "85bf7ea41d0148e890557e241e2cf959",
       "version_major": 2,
       "version_minor": 0
      },
      "text/plain": [
       "Batches in epoch #14:   0%|          | 0/1250 [00:00<?, ?it/s]"
      ]
     },
     "metadata": {},
     "output_type": "display_data"
    },
    {
     "data": {
      "application/vnd.jupyter.widget-view+json": {
       "model_id": "96489c7604f64d6685e8f23bd73631a2",
       "version_major": 2,
       "version_minor": 0
      },
      "text/plain": [
       "Batches in epoch #15:   0%|          | 0/1250 [00:00<?, ?it/s]"
      ]
     },
     "metadata": {},
     "output_type": "display_data"
    },
    {
     "data": {
      "application/vnd.jupyter.widget-view+json": {
       "model_id": "0faedd35da0e4f3082a8b32fc9d20306",
       "version_major": 2,
       "version_minor": 0
      },
      "text/plain": [
       "Batches in epoch #16:   0%|          | 0/1250 [00:00<?, ?it/s]"
      ]
     },
     "metadata": {},
     "output_type": "display_data"
    },
    {
     "data": {
      "application/vnd.jupyter.widget-view+json": {
       "model_id": "3301a41f8c5c4178acf2f814d15d58c8",
       "version_major": 2,
       "version_minor": 0
      },
      "text/plain": [
       "Batches in epoch #17:   0%|          | 0/1250 [00:00<?, ?it/s]"
      ]
     },
     "metadata": {},
     "output_type": "display_data"
    },
    {
     "data": {
      "application/vnd.jupyter.widget-view+json": {
       "model_id": "acc15852e42049b6b5577244ceb5172d",
       "version_major": 2,
       "version_minor": 0
      },
      "text/plain": [
       "Batches in epoch #18:   0%|          | 0/1250 [00:00<?, ?it/s]"
      ]
     },
     "metadata": {},
     "output_type": "display_data"
    },
    {
     "data": {
      "application/vnd.jupyter.widget-view+json": {
       "model_id": "79f70ce174a34c36bac5988e0e4029c1",
       "version_major": 2,
       "version_minor": 0
      },
      "text/plain": [
       "Batches in epoch #19:   0%|          | 0/1250 [00:00<?, ?it/s]"
      ]
     },
     "metadata": {},
     "output_type": "display_data"
    },
    {
     "data": {
      "application/vnd.jupyter.widget-view+json": {
       "model_id": "0419e992e86841e49aeb039875767c69",
       "version_major": 2,
       "version_minor": 0
      },
      "text/plain": [
       "Batches in epoch #20:   0%|          | 0/1250 [00:00<?, ?it/s]"
      ]
     },
     "metadata": {},
     "output_type": "display_data"
    },
    {
     "data": {
      "application/vnd.jupyter.widget-view+json": {
       "model_id": "ffd9c5d46bc84854b57c6015849f2aa2",
       "version_major": 2,
       "version_minor": 0
      },
      "text/plain": [
       "Batches in epoch #21:   0%|          | 0/1250 [00:00<?, ?it/s]"
      ]
     },
     "metadata": {},
     "output_type": "display_data"
    },
    {
     "data": {
      "application/vnd.jupyter.widget-view+json": {
       "model_id": "0e5c749ff9474f7ab5273dbb59111496",
       "version_major": 2,
       "version_minor": 0
      },
      "text/plain": [
       "Batches in epoch #22:   0%|          | 0/1250 [00:00<?, ?it/s]"
      ]
     },
     "metadata": {},
     "output_type": "display_data"
    },
    {
     "data": {
      "application/vnd.jupyter.widget-view+json": {
       "model_id": "77d9745f5e92440597b0958444fbc3a4",
       "version_major": 2,
       "version_minor": 0
      },
      "text/plain": [
       "Batches in epoch #23:   0%|          | 0/1250 [00:00<?, ?it/s]"
      ]
     },
     "metadata": {},
     "output_type": "display_data"
    },
    {
     "data": {
      "application/vnd.jupyter.widget-view+json": {
       "model_id": "764f457eedac451888869555ce00669b",
       "version_major": 2,
       "version_minor": 0
      },
      "text/plain": [
       "Batches in epoch #24:   0%|          | 0/1250 [00:00<?, ?it/s]"
      ]
     },
     "metadata": {},
     "output_type": "display_data"
    },
    {
     "data": {
      "application/vnd.jupyter.widget-view+json": {
       "model_id": "5bcb773a21614abfa590cba7f7b2d695",
       "version_major": 2,
       "version_minor": 0
      },
      "text/plain": [
       "Batches in epoch #25:   0%|          | 0/1250 [00:00<?, ?it/s]"
      ]
     },
     "metadata": {},
     "output_type": "display_data"
    },
    {
     "data": {
      "application/vnd.jupyter.widget-view+json": {
       "model_id": "187d0ab8d3c24f41b9acb55c6778d0f4",
       "version_major": 2,
       "version_minor": 0
      },
      "text/plain": [
       "Batches in epoch #26:   0%|          | 0/1250 [00:00<?, ?it/s]"
      ]
     },
     "metadata": {},
     "output_type": "display_data"
    },
    {
     "data": {
      "application/vnd.jupyter.widget-view+json": {
       "model_id": "4cf2cffcde0c440283dabfacd0a49679",
       "version_major": 2,
       "version_minor": 0
      },
      "text/plain": [
       "Batches in epoch #27:   0%|          | 0/1250 [00:00<?, ?it/s]"
      ]
     },
     "metadata": {},
     "output_type": "display_data"
    },
    {
     "data": {
      "application/vnd.jupyter.widget-view+json": {
       "model_id": "4ba35d9453204978878428113add620a",
       "version_major": 2,
       "version_minor": 0
      },
      "text/plain": [
       "Batches in epoch #28:   0%|          | 0/1250 [00:00<?, ?it/s]"
      ]
     },
     "metadata": {},
     "output_type": "display_data"
    },
    {
     "data": {
      "application/vnd.jupyter.widget-view+json": {
       "model_id": "c02ad1c59ae4450aac627adb336ce977",
       "version_major": 2,
       "version_minor": 0
      },
      "text/plain": [
       "Batches in epoch #29:   0%|          | 0/1250 [00:00<?, ?it/s]"
      ]
     },
     "metadata": {},
     "output_type": "display_data"
    },
    {
     "data": {
      "application/vnd.jupyter.widget-view+json": {
       "model_id": "734c3c9995a341d98d980d8d81cff629",
       "version_major": 2,
       "version_minor": 0
      },
      "text/plain": [
       "Batches in epoch #30:   0%|          | 0/1250 [00:00<?, ?it/s]"
      ]
     },
     "metadata": {},
     "output_type": "display_data"
    },
    {
     "data": {
      "application/vnd.jupyter.widget-view+json": {
       "model_id": "01ac30ebf55d4b84ab060a01211d9fe8",
       "version_major": 2,
       "version_minor": 0
      },
      "text/plain": [
       "Batches in epoch #31:   0%|          | 0/1250 [00:00<?, ?it/s]"
      ]
     },
     "metadata": {},
     "output_type": "display_data"
    },
    {
     "data": {
      "application/vnd.jupyter.widget-view+json": {
       "model_id": "a4bee9166f0c4390a918bfac864ec783",
       "version_major": 2,
       "version_minor": 0
      },
      "text/plain": [
       "Batches in epoch #32:   0%|          | 0/1250 [00:00<?, ?it/s]"
      ]
     },
     "metadata": {},
     "output_type": "display_data"
    },
    {
     "data": {
      "application/vnd.jupyter.widget-view+json": {
       "model_id": "7727fabe866540caa379b516d7dbb256",
       "version_major": 2,
       "version_minor": 0
      },
      "text/plain": [
       "Batches in epoch #33:   0%|          | 0/1250 [00:00<?, ?it/s]"
      ]
     },
     "metadata": {},
     "output_type": "display_data"
    },
    {
     "data": {
      "application/vnd.jupyter.widget-view+json": {
       "model_id": "5bd86cad9c114e7687750b5755db1f2b",
       "version_major": 2,
       "version_minor": 0
      },
      "text/plain": [
       "Batches in epoch #34:   0%|          | 0/1250 [00:00<?, ?it/s]"
      ]
     },
     "metadata": {},
     "output_type": "display_data"
    },
    {
     "data": {
      "application/vnd.jupyter.widget-view+json": {
       "model_id": "177c543c140c49488db7fcc85f8a576c",
       "version_major": 2,
       "version_minor": 0
      },
      "text/plain": [
       "Batches in epoch #35:   0%|          | 0/1250 [00:00<?, ?it/s]"
      ]
     },
     "metadata": {},
     "output_type": "display_data"
    },
    {
     "data": {
      "application/vnd.jupyter.widget-view+json": {
       "model_id": "8f90de79935846ed8c0a12e700d50fd2",
       "version_major": 2,
       "version_minor": 0
      },
      "text/plain": [
       "Batches in epoch #36:   0%|          | 0/1250 [00:00<?, ?it/s]"
      ]
     },
     "metadata": {},
     "output_type": "display_data"
    },
    {
     "data": {
      "application/vnd.jupyter.widget-view+json": {
       "model_id": "29243178e6144276bb3a6fb498ae2b1c",
       "version_major": 2,
       "version_minor": 0
      },
      "text/plain": [
       "Batches in epoch #37:   0%|          | 0/1250 [00:00<?, ?it/s]"
      ]
     },
     "metadata": {},
     "output_type": "display_data"
    },
    {
     "data": {
      "application/vnd.jupyter.widget-view+json": {
       "model_id": "b47fc8b67eca4a26be557ce71030cab6",
       "version_major": 2,
       "version_minor": 0
      },
      "text/plain": [
       "Batches in epoch #38:   0%|          | 0/1250 [00:00<?, ?it/s]"
      ]
     },
     "metadata": {},
     "output_type": "display_data"
    },
    {
     "data": {
      "application/vnd.jupyter.widget-view+json": {
       "model_id": "9ee2399cd15041d287cd16af41b48e56",
       "version_major": 2,
       "version_minor": 0
      },
      "text/plain": [
       "Batches in epoch #39:   0%|          | 0/1250 [00:00<?, ?it/s]"
      ]
     },
     "metadata": {},
     "output_type": "display_data"
    },
    {
     "data": {
      "application/vnd.jupyter.widget-view+json": {
       "model_id": "3e04e0f5f5f440199ab1e2f14e48b0fb",
       "version_major": 2,
       "version_minor": 0
      },
      "text/plain": [
       "Batches in epoch #40:   0%|          | 0/1250 [00:00<?, ?it/s]"
      ]
     },
     "metadata": {},
     "output_type": "display_data"
    },
    {
     "data": {
      "application/vnd.jupyter.widget-view+json": {
       "model_id": "a71df4df55794e8da2adc59908dfa9e6",
       "version_major": 2,
       "version_minor": 0
      },
      "text/plain": [
       "Batches in epoch #41:   0%|          | 0/1250 [00:00<?, ?it/s]"
      ]
     },
     "metadata": {},
     "output_type": "display_data"
    },
    {
     "data": {
      "application/vnd.jupyter.widget-view+json": {
       "model_id": "9b3f5f0ae4ca412480a00be32fb2a11e",
       "version_major": 2,
       "version_minor": 0
      },
      "text/plain": [
       "Batches in epoch #42:   0%|          | 0/1250 [00:00<?, ?it/s]"
      ]
     },
     "metadata": {},
     "output_type": "display_data"
    },
    {
     "data": {
      "application/vnd.jupyter.widget-view+json": {
       "model_id": "1ed8199904044714876254eaa863ccdf",
       "version_major": 2,
       "version_minor": 0
      },
      "text/plain": [
       "Batches in epoch #43:   0%|          | 0/1250 [00:00<?, ?it/s]"
      ]
     },
     "metadata": {},
     "output_type": "display_data"
    },
    {
     "data": {
      "application/vnd.jupyter.widget-view+json": {
       "model_id": "41df5f9f92384f17a6ca4658b12e01c8",
       "version_major": 2,
       "version_minor": 0
      },
      "text/plain": [
       "Batches in epoch #44:   0%|          | 0/1250 [00:00<?, ?it/s]"
      ]
     },
     "metadata": {},
     "output_type": "display_data"
    },
    {
     "data": {
      "application/vnd.jupyter.widget-view+json": {
       "model_id": "d51ff37885a54a1db13eb2c15f48f2d7",
       "version_major": 2,
       "version_minor": 0
      },
      "text/plain": [
       "Batches in epoch #45:   0%|          | 0/1250 [00:00<?, ?it/s]"
      ]
     },
     "metadata": {},
     "output_type": "display_data"
    },
    {
     "data": {
      "application/vnd.jupyter.widget-view+json": {
       "model_id": "77a79bdf2bcb490aa1c197b42f9696c7",
       "version_major": 2,
       "version_minor": 0
      },
      "text/plain": [
       "Batches in epoch #46:   0%|          | 0/1250 [00:00<?, ?it/s]"
      ]
     },
     "metadata": {},
     "output_type": "display_data"
    },
    {
     "data": {
      "application/vnd.jupyter.widget-view+json": {
       "model_id": "a0069279e31b4aaf8b17e9744b551da3",
       "version_major": 2,
       "version_minor": 0
      },
      "text/plain": [
       "Batches in epoch #47:   0%|          | 0/1250 [00:00<?, ?it/s]"
      ]
     },
     "metadata": {},
     "output_type": "display_data"
    },
    {
     "data": {
      "application/vnd.jupyter.widget-view+json": {
       "model_id": "78bcac18df9c4da0b6e3ef86feb55c0a",
       "version_major": 2,
       "version_minor": 0
      },
      "text/plain": [
       "Batches in epoch #48:   0%|          | 0/1250 [00:00<?, ?it/s]"
      ]
     },
     "metadata": {},
     "output_type": "display_data"
    },
    {
     "data": {
      "application/vnd.jupyter.widget-view+json": {
       "model_id": "d2aef168ede8445cbf17688d5f829a47",
       "version_major": 2,
       "version_minor": 0
      },
      "text/plain": [
       "Batches in epoch #49:   0%|          | 0/1250 [00:00<?, ?it/s]"
      ]
     },
     "metadata": {},
     "output_type": "display_data"
    },
    {
     "data": {
      "application/vnd.jupyter.widget-view+json": {
       "model_id": "d7288a72d2124b829e612ebee321693d",
       "version_major": 2,
       "version_minor": 0
      },
      "text/plain": [
       "Batches in epoch #50:   0%|          | 0/1250 [00:00<?, ?it/s]"
      ]
     },
     "metadata": {},
     "output_type": "display_data"
    },
    {
     "name": "stdout",
     "output_type": "stream",
     "text": [
      "Iteration 10/10 complete.\n"
     ]
    }
   ],
   "source": [
    "#### stability plots ####\n",
    "results = {\n",
    "    'idx': [],\n",
    "    'gabor_acc': [],\n",
    "    'cifar_acc': [],\n",
    "}\n",
    "\n",
    "noise_results = {\n",
    "    'idx': [],\n",
    "    'noise_level': [],\n",
    "    'noisy1_gabor_acc': [],\n",
    "    'noisy1_cifar_acc': [],\n",
    "    'noisy2_gabor_acc': [],\n",
    "    'noisy2_cifar_acc': [],\n",
    "}\n",
    "noise_levels = np.arange(0, 1.05, 0.05)\n",
    "\n",
    "for i in range(10):\n",
    "    model = modeling.ConvNet(in_channels=1, height=32, width=32)\n",
    "    model, losses, _, _ = modeling.train_model(model, combined_loader, num_epochs=50)\n",
    "    \n",
    "    gabor_acc = modeling.evaluate_gabor_accuracy(model, gabor_test_loader)\n",
    "    cifar_acc = modeling.evaluate_cifar_accuracy(model, cifar_test_loader)\n",
    "\n",
    "    results['idx'].append(i)\n",
    "    results['gabor_acc'].append(gabor_acc)\n",
    "    results['cifar_acc'].append(cifar_acc)\n",
    "\n",
    "    for noise in noise_levels:\n",
    "        noisy_model = copy.deepcopy(model)\n",
    "\n",
    "        noisy_first_model = modeling.add_noise_to_first_layer(noisy_model, noise_level=noise)\n",
    "        noisy1_gabor_acc = modeling.evaluate_gabor_accuracy(noisy_model, gabor_test_loader)\n",
    "        noisy1_cifar_acc = modeling.evaluate_cifar_accuracy(noisy_model, cifar_test_loader)\n",
    "\n",
    "        noisy_model = copy.deepcopy(model)\n",
    "        noisy_middle_model = modeling.add_noise_to_middle_layer(noisy_model, noise_level=noise)\n",
    "        noisy2_gabor_acc = modeling.evaluate_gabor_accuracy(noisy_model, gabor_test_loader)\n",
    "        noisy2_cifar_acc = modeling.evaluate_cifar_accuracy(noisy_model, cifar_test_loader)\n",
    "\n",
    "        noise_results['idx'].append(i)\n",
    "        noise_results['noise_level'].append(noise)\n",
    "        noise_results['noisy1_gabor_acc'].append(noisy1_gabor_acc)\n",
    "        noise_results['noisy1_cifar_acc'].append(noisy1_cifar_acc)\n",
    "        noise_results['noisy2_gabor_acc'].append(noisy2_gabor_acc)\n",
    "        noise_results['noisy2_cifar_acc'].append(noisy2_cifar_acc)\n",
    "    \n",
    "    print(f'Iteration {i+1}/10 complete.')"
   ]
  },
  {
   "cell_type": "code",
   "execution_count": 19,
   "id": "eeb33125",
   "metadata": {},
   "outputs": [
    {
     "data": {
      "text/html": [
       "<div>\n",
       "<style scoped>\n",
       "    .dataframe tbody tr th:only-of-type {\n",
       "        vertical-align: middle;\n",
       "    }\n",
       "\n",
       "    .dataframe tbody tr th {\n",
       "        vertical-align: top;\n",
       "    }\n",
       "\n",
       "    .dataframe thead th {\n",
       "        text-align: right;\n",
       "    }\n",
       "</style>\n",
       "<table border=\"1\" class=\"dataframe\">\n",
       "  <thead>\n",
       "    <tr style=\"text-align: right;\">\n",
       "      <th></th>\n",
       "      <th>idx</th>\n",
       "      <th>noise_level</th>\n",
       "      <th>noisy1_gabor_acc</th>\n",
       "      <th>noisy1_cifar_acc</th>\n",
       "      <th>noisy2_gabor_acc</th>\n",
       "      <th>noisy2_cifar_acc</th>\n",
       "    </tr>\n",
       "  </thead>\n",
       "  <tbody>\n",
       "    <tr>\n",
       "      <th>0</th>\n",
       "      <td>0</td>\n",
       "      <td>0.00</td>\n",
       "      <td>100.00</td>\n",
       "      <td>58.24</td>\n",
       "      <td>100.00</td>\n",
       "      <td>58.24</td>\n",
       "    </tr>\n",
       "    <tr>\n",
       "      <th>1</th>\n",
       "      <td>0</td>\n",
       "      <td>0.05</td>\n",
       "      <td>100.00</td>\n",
       "      <td>56.41</td>\n",
       "      <td>100.00</td>\n",
       "      <td>57.12</td>\n",
       "    </tr>\n",
       "    <tr>\n",
       "      <th>2</th>\n",
       "      <td>0</td>\n",
       "      <td>0.10</td>\n",
       "      <td>100.00</td>\n",
       "      <td>55.29</td>\n",
       "      <td>100.00</td>\n",
       "      <td>57.14</td>\n",
       "    </tr>\n",
       "    <tr>\n",
       "      <th>3</th>\n",
       "      <td>0</td>\n",
       "      <td>0.15</td>\n",
       "      <td>100.00</td>\n",
       "      <td>46.84</td>\n",
       "      <td>100.00</td>\n",
       "      <td>55.51</td>\n",
       "    </tr>\n",
       "    <tr>\n",
       "      <th>4</th>\n",
       "      <td>0</td>\n",
       "      <td>0.20</td>\n",
       "      <td>100.00</td>\n",
       "      <td>43.79</td>\n",
       "      <td>100.00</td>\n",
       "      <td>51.93</td>\n",
       "    </tr>\n",
       "    <tr>\n",
       "      <th>...</th>\n",
       "      <td>...</td>\n",
       "      <td>...</td>\n",
       "      <td>...</td>\n",
       "      <td>...</td>\n",
       "      <td>...</td>\n",
       "      <td>...</td>\n",
       "    </tr>\n",
       "    <tr>\n",
       "      <th>205</th>\n",
       "      <td>9</td>\n",
       "      <td>0.80</td>\n",
       "      <td>73.72</td>\n",
       "      <td>14.10</td>\n",
       "      <td>100.00</td>\n",
       "      <td>25.87</td>\n",
       "    </tr>\n",
       "    <tr>\n",
       "      <th>206</th>\n",
       "      <td>9</td>\n",
       "      <td>0.85</td>\n",
       "      <td>42.92</td>\n",
       "      <td>8.95</td>\n",
       "      <td>99.94</td>\n",
       "      <td>22.16</td>\n",
       "    </tr>\n",
       "    <tr>\n",
       "      <th>207</th>\n",
       "      <td>9</td>\n",
       "      <td>0.90</td>\n",
       "      <td>64.92</td>\n",
       "      <td>10.88</td>\n",
       "      <td>99.85</td>\n",
       "      <td>19.84</td>\n",
       "    </tr>\n",
       "    <tr>\n",
       "      <th>208</th>\n",
       "      <td>9</td>\n",
       "      <td>0.95</td>\n",
       "      <td>84.99</td>\n",
       "      <td>17.04</td>\n",
       "      <td>100.00</td>\n",
       "      <td>20.57</td>\n",
       "    </tr>\n",
       "    <tr>\n",
       "      <th>209</th>\n",
       "      <td>9</td>\n",
       "      <td>1.00</td>\n",
       "      <td>72.26</td>\n",
       "      <td>11.91</td>\n",
       "      <td>100.00</td>\n",
       "      <td>20.97</td>\n",
       "    </tr>\n",
       "  </tbody>\n",
       "</table>\n",
       "<p>210 rows × 6 columns</p>\n",
       "</div>"
      ],
      "text/plain": [
       "     idx  noise_level  noisy1_gabor_acc  noisy1_cifar_acc  noisy2_gabor_acc  \\\n",
       "0      0         0.00            100.00             58.24            100.00   \n",
       "1      0         0.05            100.00             56.41            100.00   \n",
       "2      0         0.10            100.00             55.29            100.00   \n",
       "3      0         0.15            100.00             46.84            100.00   \n",
       "4      0         0.20            100.00             43.79            100.00   \n",
       "..   ...          ...               ...               ...               ...   \n",
       "205    9         0.80             73.72             14.10            100.00   \n",
       "206    9         0.85             42.92              8.95             99.94   \n",
       "207    9         0.90             64.92             10.88             99.85   \n",
       "208    9         0.95             84.99             17.04            100.00   \n",
       "209    9         1.00             72.26             11.91            100.00   \n",
       "\n",
       "     noisy2_cifar_acc  \n",
       "0               58.24  \n",
       "1               57.12  \n",
       "2               57.14  \n",
       "3               55.51  \n",
       "4               51.93  \n",
       "..                ...  \n",
       "205             25.87  \n",
       "206             22.16  \n",
       "207             19.84  \n",
       "208             20.57  \n",
       "209             20.97  \n",
       "\n",
       "[210 rows x 6 columns]"
      ]
     },
     "execution_count": 19,
     "metadata": {},
     "output_type": "execute_result"
    }
   ],
   "source": [
    "import pandas as pd\n",
    "noise_results_df = pd.DataFrame(noise_results)\n",
    "noise_results_df"
   ]
  },
  {
   "cell_type": "code",
   "execution_count": 20,
   "id": "94a8552b",
   "metadata": {},
   "outputs": [
    {
     "data": {
      "text/plain": [
       "(0.0, 104.38434413683949)"
      ]
     },
     "execution_count": 20,
     "metadata": {},
     "output_type": "execute_result"
    },
    {
     "data": {
      "image/png": "[encoded data removed]",
      "text/plain": [
       "<Figure size 640x480 with 1 Axes>"
      ]
     },
     "metadata": {},
     "output_type": "display_data"
    }
   ],
   "source": [
    "import seaborn as sns\n",
    "\n",
    "sns.lineplot(\n",
    "    data=noise_results_df, \n",
    "    x='noise_level', \n",
    "    y='noisy1_gabor_acc', \n",
    "    err_style='band',\n",
    "    errorbar='se',\n",
    "    markers='o',\n",
    "    linestyle='--',\n",
    "    color='red',\n",
    "    label='Gabor (1st layer)'\n",
    "    )\n",
    "\n",
    "sns.lineplot(\n",
    "    data=noise_results_df, \n",
    "    x='noise_level', \n",
    "    y='noisy2_gabor_acc', \n",
    "    err_style='band',\n",
    "    errorbar='se',\n",
    "    markers='o',\n",
    "    color='red',\n",
    "    label='Gabor (2nd layer)'\n",
    "    )\n",
    "\n",
    "sns.lineplot(\n",
    "    data=noise_results_df, \n",
    "    x='noise_level', \n",
    "    y='noisy1_cifar_acc', \n",
    "    err_style='band',\n",
    "    errorbar='se',\n",
    "    color='blue',\n",
    "    linestyle='--',\n",
    "    label='CIFAR (1st layer)'\n",
    "    )\n",
    "\n",
    "sns.lineplot(\n",
    "    data=noise_results_df, \n",
    "    x='noise_level', \n",
    "    y='noisy2_cifar_acc', \n",
    "    err_style='band',\n",
    "    errorbar='se',\n",
    "    color='blue',\n",
    "    label='CIFAR (2nd layer)'\n",
    "    )\n",
    "\n",
    "plt.xlabel('Noise Level')\n",
    "plt.ylabel('Accuracy (%)')\n",
    "plt.title('Model Performance vs. Noise Level')\n",
    "# plt.legend(['Gabor Accuracy', '', 'CIFAR Accuracy', ''])\n",
    "plt.legend()\n",
    "plt.xlim(0, 1)\n",
    "plt.ylim(bottom=0)"
   ]
  },
  {
   "cell_type": "code",
   "execution_count": 21,
   "id": "0a82fe99",
   "metadata": {},
   "outputs": [
    {
     "name": "stderr",
     "output_type": "stream",
     "text": [
      "/tmp/ipykernel_835966/2653124574.py:5: SettingWithCopyWarning: \n",
      "A value is trying to be set on a copy of a slice from a DataFrame.\n",
      "Try using .loc[row_indexer,col_indexer] = value instead\n",
      "\n",
      "See the caveats in the documentation: https://pandas.pydata.org/pandas-docs/stable/user_guide/indexing.html#returning-a-view-versus-a-copy\n",
      "  temp_df['noisy1_gabor_pctchange'] = (temp_df['noisy1_gabor_acc'].iloc[0] - temp_df['noisy1_gabor_acc']) / temp_df['noisy1_gabor_acc'].iloc[0] * 100\n",
      "/tmp/ipykernel_835966/2653124574.py:6: SettingWithCopyWarning: \n",
      "A value is trying to be set on a copy of a slice from a DataFrame.\n",
      "Try using .loc[row_indexer,col_indexer] = value instead\n",
      "\n",
      "See the caveats in the documentation: https://pandas.pydata.org/pandas-docs/stable/user_guide/indexing.html#returning-a-view-versus-a-copy\n",
      "  temp_df['noisy2_gabor_pctchange'] = (temp_df['noisy2_gabor_acc'].iloc[0] - temp_df['noisy2_gabor_acc']) / temp_df['noisy2_gabor_acc'].iloc[0] * 100\n",
      "/tmp/ipykernel_835966/2653124574.py:7: SettingWithCopyWarning: \n",
      "A value is trying to be set on a copy of a slice from a DataFrame.\n",
      "Try using .loc[row_indexer,col_indexer] = value instead\n",
      "\n",
      "See the caveats in the documentation: https://pandas.pydata.org/pandas-docs/stable/user_guide/indexing.html#returning-a-view-versus-a-copy\n",
      "  temp_df['noisy1_cifar_pctchange'] = (temp_df['noisy1_cifar_acc'].iloc[0] - temp_df['noisy1_cifar_acc']) / temp_df['noisy1_cifar_acc'].iloc[0] * 100\n",
      "/tmp/ipykernel_835966/2653124574.py:8: SettingWithCopyWarning: \n",
      "A value is trying to be set on a copy of a slice from a DataFrame.\n",
      "Try using .loc[row_indexer,col_indexer] = value instead\n",
      "\n",
      "See the caveats in the documentation: https://pandas.pydata.org/pandas-docs/stable/user_guide/indexing.html#returning-a-view-versus-a-copy\n",
      "  temp_df['noisy2_cifar_pctchange'] = (temp_df['noisy2_cifar_acc'].iloc[0] - temp_df['noisy2_cifar_acc']) / temp_df['noisy2_cifar_acc'].iloc[0] * 100\n",
      "/tmp/ipykernel_835966/2653124574.py:5: SettingWithCopyWarning: \n",
      "A value is trying to be set on a copy of a slice from a DataFrame.\n",
      "Try using .loc[row_indexer,col_indexer] = value instead\n",
      "\n",
      "See the caveats in the documentation: https://pandas.pydata.org/pandas-docs/stable/user_guide/indexing.html#returning-a-view-versus-a-copy\n",
      "  temp_df['noisy1_gabor_pctchange'] = (temp_df['noisy1_gabor_acc'].iloc[0] - temp_df['noisy1_gabor_acc']) / temp_df['noisy1_gabor_acc'].iloc[0] * 100\n",
      "/tmp/ipykernel_835966/2653124574.py:6: SettingWithCopyWarning: \n",
      "A value is trying to be set on a copy of a slice from a DataFrame.\n",
      "Try using .loc[row_indexer,col_indexer] = value instead\n",
      "\n",
      "See the caveats in the documentation: https://pandas.pydata.org/pandas-docs/stable/user_guide/indexing.html#returning-a-view-versus-a-copy\n",
      "  temp_df['noisy2_gabor_pctchange'] = (temp_df['noisy2_gabor_acc'].iloc[0] - temp_df['noisy2_gabor_acc']) / temp_df['noisy2_gabor_acc'].iloc[0] * 100\n",
      "/tmp/ipykernel_835966/2653124574.py:7: SettingWithCopyWarning: \n",
      "A value is trying to be set on a copy of a slice from a DataFrame.\n",
      "Try using .loc[row_indexer,col_indexer] = value instead\n",
      "\n",
      "See the caveats in the documentation: https://pandas.pydata.org/pandas-docs/stable/user_guide/indexing.html#returning-a-view-versus-a-copy\n",
      "  temp_df['noisy1_cifar_pctchange'] = (temp_df['noisy1_cifar_acc'].iloc[0] - temp_df['noisy1_cifar_acc']) / temp_df['noisy1_cifar_acc'].iloc[0] * 100\n",
      "/tmp/ipykernel_835966/2653124574.py:8: SettingWithCopyWarning: \n",
      "A value is trying to be set on a copy of a slice from a DataFrame.\n",
      "Try using .loc[row_indexer,col_indexer] = value instead\n",
      "\n",
      "See the caveats in the documentation: https://pandas.pydata.org/pandas-docs/stable/user_guide/indexing.html#returning-a-view-versus-a-copy\n",
      "  temp_df['noisy2_cifar_pctchange'] = (temp_df['noisy2_cifar_acc'].iloc[0] - temp_df['noisy2_cifar_acc']) / temp_df['noisy2_cifar_acc'].iloc[0] * 100\n",
      "/tmp/ipykernel_835966/2653124574.py:5: SettingWithCopyWarning: \n",
      "A value is trying to be set on a copy of a slice from a DataFrame.\n",
      "Try using .loc[row_indexer,col_indexer] = value instead\n",
      "\n",
      "See the caveats in the documentation: https://pandas.pydata.org/pandas-docs/stable/user_guide/indexing.html#returning-a-view-versus-a-copy\n",
      "  temp_df['noisy1_gabor_pctchange'] = (temp_df['noisy1_gabor_acc'].iloc[0] - temp_df['noisy1_gabor_acc']) / temp_df['noisy1_gabor_acc'].iloc[0] * 100\n",
      "/tmp/ipykernel_835966/2653124574.py:6: SettingWithCopyWarning: \n",
      "A value is trying to be set on a copy of a slice from a DataFrame.\n",
      "Try using .loc[row_indexer,col_indexer] = value instead\n",
      "\n",
      "See the caveats in the documentation: https://pandas.pydata.org/pandas-docs/stable/user_guide/indexing.html#returning-a-view-versus-a-copy\n",
      "  temp_df['noisy2_gabor_pctchange'] = (temp_df['noisy2_gabor_acc'].iloc[0] - temp_df['noisy2_gabor_acc']) / temp_df['noisy2_gabor_acc'].iloc[0] * 100\n",
      "/tmp/ipykernel_835966/2653124574.py:7: SettingWithCopyWarning: \n",
      "A value is trying to be set on a copy of a slice from a DataFrame.\n",
      "Try using .loc[row_indexer,col_indexer] = value instead\n",
      "\n",
      "See the caveats in the documentation: https://pandas.pydata.org/pandas-docs/stable/user_guide/indexing.html#returning-a-view-versus-a-copy\n",
      "  temp_df['noisy1_cifar_pctchange'] = (temp_df['noisy1_cifar_acc'].iloc[0] - temp_df['noisy1_cifar_acc']) / temp_df['noisy1_cifar_acc'].iloc[0] * 100\n",
      "/tmp/ipykernel_835966/2653124574.py:8: SettingWithCopyWarning: \n",
      "A value is trying to be set on a copy of a slice from a DataFrame.\n",
      "Try using .loc[row_indexer,col_indexer] = value instead\n",
      "\n",
      "See the caveats in the documentation: https://pandas.pydata.org/pandas-docs/stable/user_guide/indexing.html#returning-a-view-versus-a-copy\n",
      "  temp_df['noisy2_cifar_pctchange'] = (temp_df['noisy2_cifar_acc'].iloc[0] - temp_df['noisy2_cifar_acc']) / temp_df['noisy2_cifar_acc'].iloc[0] * 100\n",
      "/tmp/ipykernel_835966/2653124574.py:5: SettingWithCopyWarning: \n",
      "A value is trying to be set on a copy of a slice from a DataFrame.\n",
      "Try using .loc[row_indexer,col_indexer] = value instead\n",
      "\n",
      "See the caveats in the documentation: https://pandas.pydata.org/pandas-docs/stable/user_guide/indexing.html#returning-a-view-versus-a-copy\n",
      "  temp_df['noisy1_gabor_pctchange'] = (temp_df['noisy1_gabor_acc'].iloc[0] - temp_df['noisy1_gabor_acc']) / temp_df['noisy1_gabor_acc'].iloc[0] * 100\n",
      "/tmp/ipykernel_835966/2653124574.py:6: SettingWithCopyWarning: \n",
      "A value is trying to be set on a copy of a slice from a DataFrame.\n",
      "Try using .loc[row_indexer,col_indexer] = value instead\n",
      "\n",
      "See the caveats in the documentation: https://pandas.pydata.org/pandas-docs/stable/user_guide/indexing.html#returning-a-view-versus-a-copy\n",
      "  temp_df['noisy2_gabor_pctchange'] = (temp_df['noisy2_gabor_acc'].iloc[0] - temp_df['noisy2_gabor_acc']) / temp_df['noisy2_gabor_acc'].iloc[0] * 100\n",
      "/tmp/ipykernel_835966/2653124574.py:7: SettingWithCopyWarning: \n",
      "A value is trying to be set on a copy of a slice from a DataFrame.\n",
      "Try using .loc[row_indexer,col_indexer] = value instead\n",
      "\n",
      "See the caveats in the documentation: https://pandas.pydata.org/pandas-docs/stable/user_guide/indexing.html#returning-a-view-versus-a-copy\n",
      "  temp_df['noisy1_cifar_pctchange'] = (temp_df['noisy1_cifar_acc'].iloc[0] - temp_df['noisy1_cifar_acc']) / temp_df['noisy1_cifar_acc'].iloc[0] * 100\n",
      "/tmp/ipykernel_835966/2653124574.py:8: SettingWithCopyWarning: \n",
      "A value is trying to be set on a copy of a slice from a DataFrame.\n",
      "Try using .loc[row_indexer,col_indexer] = value instead\n",
      "\n",
      "See the caveats in the documentation: https://pandas.pydata.org/pandas-docs/stable/user_guide/indexing.html#returning-a-view-versus-a-copy\n",
      "  temp_df['noisy2_cifar_pctchange'] = (temp_df['noisy2_cifar_acc'].iloc[0] - temp_df['noisy2_cifar_acc']) / temp_df['noisy2_cifar_acc'].iloc[0] * 100\n",
      "/tmp/ipykernel_835966/2653124574.py:5: SettingWithCopyWarning: \n",
      "A value is trying to be set on a copy of a slice from a DataFrame.\n",
      "Try using .loc[row_indexer,col_indexer] = value instead\n",
      "\n",
      "See the caveats in the documentation: https://pandas.pydata.org/pandas-docs/stable/user_guide/indexing.html#returning-a-view-versus-a-copy\n",
      "  temp_df['noisy1_gabor_pctchange'] = (temp_df['noisy1_gabor_acc'].iloc[0] - temp_df['noisy1_gabor_acc']) / temp_df['noisy1_gabor_acc'].iloc[0] * 100\n",
      "/tmp/ipykernel_835966/2653124574.py:6: SettingWithCopyWarning: \n",
      "A value is trying to be set on a copy of a slice from a DataFrame.\n",
      "Try using .loc[row_indexer,col_indexer] = value instead\n",
      "\n",
      "See the caveats in the documentation: https://pandas.pydata.org/pandas-docs/stable/user_guide/indexing.html#returning-a-view-versus-a-copy\n",
      "  temp_df['noisy2_gabor_pctchange'] = (temp_df['noisy2_gabor_acc'].iloc[0] - temp_df['noisy2_gabor_acc']) / temp_df['noisy2_gabor_acc'].iloc[0] * 100\n",
      "/tmp/ipykernel_835966/2653124574.py:7: SettingWithCopyWarning: \n",
      "A value is trying to be set on a copy of a slice from a DataFrame.\n",
      "Try using .loc[row_indexer,col_indexer] = value instead\n",
      "\n",
      "See the caveats in the documentation: https://pandas.pydata.org/pandas-docs/stable/user_guide/indexing.html#returning-a-view-versus-a-copy\n",
      "  temp_df['noisy1_cifar_pctchange'] = (temp_df['noisy1_cifar_acc'].iloc[0] - temp_df['noisy1_cifar_acc']) / temp_df['noisy1_cifar_acc'].iloc[0] * 100\n",
      "/tmp/ipykernel_835966/2653124574.py:8: SettingWithCopyWarning: \n",
      "A value is trying to be set on a copy of a slice from a DataFrame.\n",
      "Try using .loc[row_indexer,col_indexer] = value instead\n",
      "\n",
      "See the caveats in the documentation: https://pandas.pydata.org/pandas-docs/stable/user_guide/indexing.html#returning-a-view-versus-a-copy\n",
      "  temp_df['noisy2_cifar_pctchange'] = (temp_df['noisy2_cifar_acc'].iloc[0] - temp_df['noisy2_cifar_acc']) / temp_df['noisy2_cifar_acc'].iloc[0] * 100\n",
      "/tmp/ipykernel_835966/2653124574.py:5: SettingWithCopyWarning: \n",
      "A value is trying to be set on a copy of a slice from a DataFrame.\n",
      "Try using .loc[row_indexer,col_indexer] = value instead\n",
      "\n",
      "See the caveats in the documentation: https://pandas.pydata.org/pandas-docs/stable/user_guide/indexing.html#returning-a-view-versus-a-copy\n",
      "  temp_df['noisy1_gabor_pctchange'] = (temp_df['noisy1_gabor_acc'].iloc[0] - temp_df['noisy1_gabor_acc']) / temp_df['noisy1_gabor_acc'].iloc[0] * 100\n",
      "/tmp/ipykernel_835966/2653124574.py:6: SettingWithCopyWarning: \n",
      "A value is trying to be set on a copy of a slice from a DataFrame.\n",
      "Try using .loc[row_indexer,col_indexer] = value instead\n",
      "\n",
      "See the caveats in the documentation: https://pandas.pydata.org/pandas-docs/stable/user_guide/indexing.html#returning-a-view-versus-a-copy\n",
      "  temp_df['noisy2_gabor_pctchange'] = (temp_df['noisy2_gabor_acc'].iloc[0] - temp_df['noisy2_gabor_acc']) / temp_df['noisy2_gabor_acc'].iloc[0] * 100\n",
      "/tmp/ipykernel_835966/2653124574.py:7: SettingWithCopyWarning: \n",
      "A value is trying to be set on a copy of a slice from a DataFrame.\n",
      "Try using .loc[row_indexer,col_indexer] = value instead\n",
      "\n",
      "See the caveats in the documentation: https://pandas.pydata.org/pandas-docs/stable/user_guide/indexing.html#returning-a-view-versus-a-copy\n",
      "  temp_df['noisy1_cifar_pctchange'] = (temp_df['noisy1_cifar_acc'].iloc[0] - temp_df['noisy1_cifar_acc']) / temp_df['noisy1_cifar_acc'].iloc[0] * 100\n",
      "/tmp/ipykernel_835966/2653124574.py:8: SettingWithCopyWarning: \n",
      "A value is trying to be set on a copy of a slice from a DataFrame.\n",
      "Try using .loc[row_indexer,col_indexer] = value instead\n",
      "\n",
      "See the caveats in the documentation: https://pandas.pydata.org/pandas-docs/stable/user_guide/indexing.html#returning-a-view-versus-a-copy\n",
      "  temp_df['noisy2_cifar_pctchange'] = (temp_df['noisy2_cifar_acc'].iloc[0] - temp_df['noisy2_cifar_acc']) / temp_df['noisy2_cifar_acc'].iloc[0] * 100\n",
      "/tmp/ipykernel_835966/2653124574.py:5: SettingWithCopyWarning: \n",
      "A value is trying to be set on a copy of a slice from a DataFrame.\n",
      "Try using .loc[row_indexer,col_indexer] = value instead\n",
      "\n",
      "See the caveats in the documentation: https://pandas.pydata.org/pandas-docs/stable/user_guide/indexing.html#returning-a-view-versus-a-copy\n",
      "  temp_df['noisy1_gabor_pctchange'] = (temp_df['noisy1_gabor_acc'].iloc[0] - temp_df['noisy1_gabor_acc']) / temp_df['noisy1_gabor_acc'].iloc[0] * 100\n",
      "/tmp/ipykernel_835966/2653124574.py:6: SettingWithCopyWarning: \n",
      "A value is trying to be set on a copy of a slice from a DataFrame.\n",
      "Try using .loc[row_indexer,col_indexer] = value instead\n",
      "\n",
      "See the caveats in the documentation: https://pandas.pydata.org/pandas-docs/stable/user_guide/indexing.html#returning-a-view-versus-a-copy\n",
      "  temp_df['noisy2_gabor_pctchange'] = (temp_df['noisy2_gabor_acc'].iloc[0] - temp_df['noisy2_gabor_acc']) / temp_df['noisy2_gabor_acc'].iloc[0] * 100\n",
      "/tmp/ipykernel_835966/2653124574.py:7: SettingWithCopyWarning: \n",
      "A value is trying to be set on a copy of a slice from a DataFrame.\n",
      "Try using .loc[row_indexer,col_indexer] = value instead\n",
      "\n",
      "See the caveats in the documentation: https://pandas.pydata.org/pandas-docs/stable/user_guide/indexing.html#returning-a-view-versus-a-copy\n",
      "  temp_df['noisy1_cifar_pctchange'] = (temp_df['noisy1_cifar_acc'].iloc[0] - temp_df['noisy1_cifar_acc']) / temp_df['noisy1_cifar_acc'].iloc[0] * 100\n",
      "/tmp/ipykernel_835966/2653124574.py:8: SettingWithCopyWarning: \n",
      "A value is trying to be set on a copy of a slice from a DataFrame.\n",
      "Try using .loc[row_indexer,col_indexer] = value instead\n",
      "\n",
      "See the caveats in the documentation: https://pandas.pydata.org/pandas-docs/stable/user_guide/indexing.html#returning-a-view-versus-a-copy\n",
      "  temp_df['noisy2_cifar_pctchange'] = (temp_df['noisy2_cifar_acc'].iloc[0] - temp_df['noisy2_cifar_acc']) / temp_df['noisy2_cifar_acc'].iloc[0] * 100\n",
      "/tmp/ipykernel_835966/2653124574.py:5: SettingWithCopyWarning: \n",
      "A value is trying to be set on a copy of a slice from a DataFrame.\n",
      "Try using .loc[row_indexer,col_indexer] = value instead\n",
      "\n",
      "See the caveats in the documentation: https://pandas.pydata.org/pandas-docs/stable/user_guide/indexing.html#returning-a-view-versus-a-copy\n",
      "  temp_df['noisy1_gabor_pctchange'] = (temp_df['noisy1_gabor_acc'].iloc[0] - temp_df['noisy1_gabor_acc']) / temp_df['noisy1_gabor_acc'].iloc[0] * 100\n",
      "/tmp/ipykernel_835966/2653124574.py:6: SettingWithCopyWarning: \n",
      "A value is trying to be set on a copy of a slice from a DataFrame.\n",
      "Try using .loc[row_indexer,col_indexer] = value instead\n",
      "\n",
      "See the caveats in the documentation: https://pandas.pydata.org/pandas-docs/stable/user_guide/indexing.html#returning-a-view-versus-a-copy\n",
      "  temp_df['noisy2_gabor_pctchange'] = (temp_df['noisy2_gabor_acc'].iloc[0] - temp_df['noisy2_gabor_acc']) / temp_df['noisy2_gabor_acc'].iloc[0] * 100\n",
      "/tmp/ipykernel_835966/2653124574.py:7: SettingWithCopyWarning: \n",
      "A value is trying to be set on a copy of a slice from a DataFrame.\n",
      "Try using .loc[row_indexer,col_indexer] = value instead\n",
      "\n",
      "See the caveats in the documentation: https://pandas.pydata.org/pandas-docs/stable/user_guide/indexing.html#returning-a-view-versus-a-copy\n",
      "  temp_df['noisy1_cifar_pctchange'] = (temp_df['noisy1_cifar_acc'].iloc[0] - temp_df['noisy1_cifar_acc']) / temp_df['noisy1_cifar_acc'].iloc[0] * 100\n",
      "/tmp/ipykernel_835966/2653124574.py:8: SettingWithCopyWarning: \n",
      "A value is trying to be set on a copy of a slice from a DataFrame.\n",
      "Try using .loc[row_indexer,col_indexer] = value instead\n",
      "\n",
      "See the caveats in the documentation: https://pandas.pydata.org/pandas-docs/stable/user_guide/indexing.html#returning-a-view-versus-a-copy\n",
      "  temp_df['noisy2_cifar_pctchange'] = (temp_df['noisy2_cifar_acc'].iloc[0] - temp_df['noisy2_cifar_acc']) / temp_df['noisy2_cifar_acc'].iloc[0] * 100\n",
      "/tmp/ipykernel_835966/2653124574.py:5: SettingWithCopyWarning: \n",
      "A value is trying to be set on a copy of a slice from a DataFrame.\n",
      "Try using .loc[row_indexer,col_indexer] = value instead\n",
      "\n",
      "See the caveats in the documentation: https://pandas.pydata.org/pandas-docs/stable/user_guide/indexing.html#returning-a-view-versus-a-copy\n",
      "  temp_df['noisy1_gabor_pctchange'] = (temp_df['noisy1_gabor_acc'].iloc[0] - temp_df['noisy1_gabor_acc']) / temp_df['noisy1_gabor_acc'].iloc[0] * 100\n",
      "/tmp/ipykernel_835966/2653124574.py:6: SettingWithCopyWarning: \n",
      "A value is trying to be set on a copy of a slice from a DataFrame.\n",
      "Try using .loc[row_indexer,col_indexer] = value instead\n",
      "\n",
      "See the caveats in the documentation: https://pandas.pydata.org/pandas-docs/stable/user_guide/indexing.html#returning-a-view-versus-a-copy\n",
      "  temp_df['noisy2_gabor_pctchange'] = (temp_df['noisy2_gabor_acc'].iloc[0] - temp_df['noisy2_gabor_acc']) / temp_df['noisy2_gabor_acc'].iloc[0] * 100\n",
      "/tmp/ipykernel_835966/2653124574.py:7: SettingWithCopyWarning: \n",
      "A value is trying to be set on a copy of a slice from a DataFrame.\n",
      "Try using .loc[row_indexer,col_indexer] = value instead\n",
      "\n",
      "See the caveats in the documentation: https://pandas.pydata.org/pandas-docs/stable/user_guide/indexing.html#returning-a-view-versus-a-copy\n",
      "  temp_df['noisy1_cifar_pctchange'] = (temp_df['noisy1_cifar_acc'].iloc[0] - temp_df['noisy1_cifar_acc']) / temp_df['noisy1_cifar_acc'].iloc[0] * 100\n",
      "/tmp/ipykernel_835966/2653124574.py:8: SettingWithCopyWarning: \n",
      "A value is trying to be set on a copy of a slice from a DataFrame.\n",
      "Try using .loc[row_indexer,col_indexer] = value instead\n",
      "\n",
      "See the caveats in the documentation: https://pandas.pydata.org/pandas-docs/stable/user_guide/indexing.html#returning-a-view-versus-a-copy\n",
      "  temp_df['noisy2_cifar_pctchange'] = (temp_df['noisy2_cifar_acc'].iloc[0] - temp_df['noisy2_cifar_acc']) / temp_df['noisy2_cifar_acc'].iloc[0] * 100\n",
      "/tmp/ipykernel_835966/2653124574.py:5: SettingWithCopyWarning: \n",
      "A value is trying to be set on a copy of a slice from a DataFrame.\n",
      "Try using .loc[row_indexer,col_indexer] = value instead\n",
      "\n",
      "See the caveats in the documentation: https://pandas.pydata.org/pandas-docs/stable/user_guide/indexing.html#returning-a-view-versus-a-copy\n",
      "  temp_df['noisy1_gabor_pctchange'] = (temp_df['noisy1_gabor_acc'].iloc[0] - temp_df['noisy1_gabor_acc']) / temp_df['noisy1_gabor_acc'].iloc[0] * 100\n",
      "/tmp/ipykernel_835966/2653124574.py:6: SettingWithCopyWarning: \n",
      "A value is trying to be set on a copy of a slice from a DataFrame.\n",
      "Try using .loc[row_indexer,col_indexer] = value instead\n",
      "\n",
      "See the caveats in the documentation: https://pandas.pydata.org/pandas-docs/stable/user_guide/indexing.html#returning-a-view-versus-a-copy\n",
      "  temp_df['noisy2_gabor_pctchange'] = (temp_df['noisy2_gabor_acc'].iloc[0] - temp_df['noisy2_gabor_acc']) / temp_df['noisy2_gabor_acc'].iloc[0] * 100\n",
      "/tmp/ipykernel_835966/2653124574.py:7: SettingWithCopyWarning: \n",
      "A value is trying to be set on a copy of a slice from a DataFrame.\n",
      "Try using .loc[row_indexer,col_indexer] = value instead\n",
      "\n",
      "See the caveats in the documentation: https://pandas.pydata.org/pandas-docs/stable/user_guide/indexing.html#returning-a-view-versus-a-copy\n",
      "  temp_df['noisy1_cifar_pctchange'] = (temp_df['noisy1_cifar_acc'].iloc[0] - temp_df['noisy1_cifar_acc']) / temp_df['noisy1_cifar_acc'].iloc[0] * 100\n",
      "/tmp/ipykernel_835966/2653124574.py:8: SettingWithCopyWarning: \n",
      "A value is trying to be set on a copy of a slice from a DataFrame.\n",
      "Try using .loc[row_indexer,col_indexer] = value instead\n",
      "\n",
      "See the caveats in the documentation: https://pandas.pydata.org/pandas-docs/stable/user_guide/indexing.html#returning-a-view-versus-a-copy\n",
      "  temp_df['noisy2_cifar_pctchange'] = (temp_df['noisy2_cifar_acc'].iloc[0] - temp_df['noisy2_cifar_acc']) / temp_df['noisy2_cifar_acc'].iloc[0] * 100\n"
     ]
    }
   ],
   "source": [
    "pct_change_dfs = []\n",
    "\n",
    "for i in range(10):\n",
    "    temp_df = noise_results_df[noise_results_df['idx'] == i]\n",
    "    temp_df['noisy1_gabor_pctchange'] = (temp_df['noisy1_gabor_acc'].iloc[0] - temp_df['noisy1_gabor_acc']) / temp_df['noisy1_gabor_acc'].iloc[0] * 100\n",
    "    temp_df['noisy2_gabor_pctchange'] = (temp_df['noisy2_gabor_acc'].iloc[0] - temp_df['noisy2_gabor_acc']) / temp_df['noisy2_gabor_acc'].iloc[0] * 100\n",
    "    temp_df['noisy1_cifar_pctchange'] = (temp_df['noisy1_cifar_acc'].iloc[0] - temp_df['noisy1_cifar_acc']) / temp_df['noisy1_cifar_acc'].iloc[0] * 100\n",
    "    temp_df['noisy2_cifar_pctchange'] = (temp_df['noisy2_cifar_acc'].iloc[0] - temp_df['noisy2_cifar_acc']) / temp_df['noisy2_cifar_acc'].iloc[0] * 100\n",
    "\n",
    "    pct_change_dfs.append(temp_df)\n",
    "\n",
    "pct_change_df = pd.concat(pct_change_dfs)"
   ]
  },
  {
   "cell_type": "code",
   "execution_count": 22,
   "id": "45b7877a",
   "metadata": {},
   "outputs": [
    {
     "data": {
      "text/plain": [
       "(-10.0, 82.60591329917585)"
      ]
     },
     "execution_count": 22,
     "metadata": {},
     "output_type": "execute_result"
    },
    {
     "data": {
      "image/png": "[encoded data removed]",
      "text/plain": [
       "<Figure size 640x480 with 1 Axes>"
      ]
     },
     "metadata": {},
     "output_type": "display_data"
    }
   ],
   "source": [
    "import seaborn as sns\n",
    "\n",
    "sns.lineplot(\n",
    "    data=pct_change_df, \n",
    "    x='noise_level', \n",
    "    y='noisy1_gabor_pctchange', \n",
    "    err_style='band',\n",
    "    errorbar='se',\n",
    "    markers='o',\n",
    "    linestyle='--',\n",
    "    color='red',\n",
    "    label='Gabor (1st layer)'\n",
    "    )\n",
    "\n",
    "sns.lineplot(\n",
    "    data=pct_change_df, \n",
    "    x='noise_level', \n",
    "    y='noisy2_gabor_pctchange', \n",
    "    err_style='band',\n",
    "    errorbar='se',\n",
    "    markers='o',\n",
    "    color='red',\n",
    "    label='Gabor (2nd layer)'\n",
    "    )\n",
    "\n",
    "sns.lineplot(\n",
    "    data=pct_change_df, \n",
    "    x='noise_level', \n",
    "    y='noisy1_cifar_pctchange', \n",
    "    err_style='band',\n",
    "    errorbar='se',\n",
    "    color='blue',\n",
    "    linestyle='--',\n",
    "    label='CIFAR (1st layer)'\n",
    "    )\n",
    "\n",
    "sns.lineplot(\n",
    "    data=pct_change_df, \n",
    "    x='noise_level', \n",
    "    y='noisy2_cifar_pctchange', \n",
    "    err_style='band',\n",
    "    errorbar='se',\n",
    "    color='blue',\n",
    "    label='CIFAR (2nd layer)'\n",
    "    )\n",
    "\n",
    "plt.xlabel('Noise Level')\n",
    "plt.ylabel('% Change in Accuracy')\n",
    "plt.title('Model Performance vs. Noise Level')\n",
    "# plt.legend(['Gabor Accuracy', '', 'CIFAR Accuracy', ''])\n",
    "plt.legend()\n",
    "plt.xlim(0, 1)\n",
    "plt.ylim(bottom=-10)"
   ]
  },
  {
   "cell_type": "code",
   "execution_count": null,
   "id": "57078815",
   "metadata": {},
   "outputs": [],
   "source": []
  }
 ],
 "metadata": {
  "kernelspec": {
   "display_name": "neural_net_basics",
   "language": "python",
   "name": "python3"
  },
  "language_info": {
   "codemirror_mode": {
    "name": "ipython",
    "version": 3
   },
   "file_extension": ".py",
   "mimetype": "text/x-python",
   "name": "python",
   "nbconvert_exporter": "python",
   "pygments_lexer": "ipython3",
   "version": "3.10.15"
  }
 },
 "nbformat": 4,
 "nbformat_minor": 5
}
