{
 "cells": [
  {
   "cell_type": "markdown",
   "id": "53b8ee35",
   "metadata": {},
   "source": [
    "#### Model v2 -- to run code below I had to switch into a different virtual environment and install just these packages"
   ]
  },
  {
   "cell_type": "code",
   "execution_count": 1,
   "id": "579828f6",
   "metadata": {},
   "outputs": [],
   "source": [
    "import torch\n",
    "import torch.nn as nn\n",
    "import torch.optim as optim\n",
    "import torchvision\n",
    "import torchvision.transforms as transforms\n",
    "from torch.utils.data import Dataset, DataLoader, ConcatDataset\n",
    "import numpy as np\n",
    "from skimage.filters import gabor_kernel\n",
    "import copy\n",
    "from PIL import Image\n",
    "import matplotlib.pyplot as plt\n",
    "from torch.utils.data import random_split\n",
    "import copy\n",
    "\n",
    "import modeling"
   ]
  },
  {
   "cell_type": "code",
   "execution_count": 2,
   "id": "91f46832",
   "metadata": {},
   "outputs": [],
   "source": [
    "transform_cifar = transforms.Compose([\n",
    "    transforms.Grayscale(num_output_channels=1),\n",
    "    transforms.Resize((32, 32)),\n",
    "    transforms.ToTensor(),\n",
    "    transforms.Normalize((0.5,), (0.5,))\n",
    "])\n",
    "\n",
    "batch_size = 64\n",
    "\n",
    "cifar_trainset = torchvision.datasets.CIFAR10(root='./data', train=True, download=True, transform=transform_cifar)\n",
    "cifar_testset = torchvision.datasets.CIFAR10(root='./data', train=False, download=True, transform=transform_cifar)\n",
    "cifar_trainset, cifar_valset = random_split(cifar_trainset, [int(len(cifar_trainset) * 0.8), int(len(cifar_trainset) * 0.2)])\n",
    "cifar_train_loader = DataLoader(cifar_trainset, batch_size=batch_size, shuffle=True)\n",
    "cifar_val_loader = DataLoader(cifar_valset, batch_size=batch_size, shuffle=False)\n",
    "cifar_test_loader = DataLoader(cifar_testset, batch_size=batch_size, shuffle=False)\n",
    "\n",
    "gabor_sets = modeling.GaborDataset(num_images=1000, img_size=32, orientations=10, frequencies=(0.08, 0.04,))\n",
    "train_idx = int(0.8 * len(gabor_sets))\n",
    "val_idx = int(0.1 * len(gabor_sets))\n",
    "test_idx = len(gabor_sets) - train_idx - val_idx\n",
    "gabor_trainset, gabor_valset, gabor_testset = random_split(gabor_sets, [train_idx, val_idx, test_idx])\n",
    "gabor_train_loader = DataLoader(gabor_trainset, batch_size=batch_size, shuffle=True)\n",
    "gabor_val_loader = DataLoader(gabor_valset, batch_size=batch_size, shuffle=False)\n",
    "gabor_test_loader = DataLoader(gabor_testset, batch_size=batch_size, shuffle=False)\n",
    "\n",
    "combined_trainset = ConcatDataset([cifar_trainset, gabor_trainset])\n",
    "combined_loader = DataLoader(combined_trainset, batch_size=batch_size, shuffle=True)"
   ]
  },
  {
   "cell_type": "code",
   "execution_count": 13,
   "id": "54939997",
   "metadata": {},
   "outputs": [
    {
     "data": {
      "application/vnd.jupyter.widget-view+json": {
       "model_id": "209b2ac79ad941a08f86a2a129cc8e24",
       "version_major": 2,
       "version_minor": 0
      },
      "text/plain": [
       "Epochs:   0%|          | 0/50 [00:00<?, ?it/s]"
      ]
     },
     "metadata": {},
     "output_type": "display_data"
    },
    {
     "data": {
      "application/vnd.jupyter.widget-view+json": {
       "model_id": "e21efbe8e9a14b2b821af852225e64d2",
       "version_major": 2,
       "version_minor": 0
      },
      "text/plain": [
       "Batches in epoch #1:   0%|          | 0/638 [00:00<?, ?it/s]"
      ]
     },
     "metadata": {},
     "output_type": "display_data"
    },
    {
     "data": {
      "application/vnd.jupyter.widget-view+json": {
       "model_id": "31b83096235e4f6ea3a72734c6c57261",
       "version_major": 2,
       "version_minor": 0
      },
      "text/plain": [
       "Batches in epoch #2:   0%|          | 0/638 [00:00<?, ?it/s]"
      ]
     },
     "metadata": {},
     "output_type": "display_data"
    },
    {
     "data": {
      "application/vnd.jupyter.widget-view+json": {
       "model_id": "c1c1a8ac0b6647e4a3274e04b77c16f0",
       "version_major": 2,
       "version_minor": 0
      },
      "text/plain": [
       "Batches in epoch #3:   0%|          | 0/638 [00:00<?, ?it/s]"
      ]
     },
     "metadata": {},
     "output_type": "display_data"
    },
    {
     "data": {
      "application/vnd.jupyter.widget-view+json": {
       "model_id": "bf74225dc0d2412eaa7a55a201cf3f00",
       "version_major": 2,
       "version_minor": 0
      },
      "text/plain": [
       "Batches in epoch #4:   0%|          | 0/638 [00:00<?, ?it/s]"
      ]
     },
     "metadata": {},
     "output_type": "display_data"
    },
    {
     "data": {
      "application/vnd.jupyter.widget-view+json": {
       "model_id": "ad275e7480994ee18cc5c23d26ef2b77",
       "version_major": 2,
       "version_minor": 0
      },
      "text/plain": [
       "Batches in epoch #5:   0%|          | 0/638 [00:00<?, ?it/s]"
      ]
     },
     "metadata": {},
     "output_type": "display_data"
    },
    {
     "data": {
      "application/vnd.jupyter.widget-view+json": {
       "model_id": "5b5128ec2d214238a3d0700a89cd3b5a",
       "version_major": 2,
       "version_minor": 0
      },
      "text/plain": [
       "Batches in epoch #6:   0%|          | 0/638 [00:00<?, ?it/s]"
      ]
     },
     "metadata": {},
     "output_type": "display_data"
    },
    {
     "data": {
      "application/vnd.jupyter.widget-view+json": {
       "model_id": "cd5b19a09e3f4bcd95035149d40b3e80",
       "version_major": 2,
       "version_minor": 0
      },
      "text/plain": [
       "Batches in epoch #7:   0%|          | 0/638 [00:00<?, ?it/s]"
      ]
     },
     "metadata": {},
     "output_type": "display_data"
    },
    {
     "data": {
      "application/vnd.jupyter.widget-view+json": {
       "model_id": "e1ac6deb715d417a81935c90014fdec9",
       "version_major": 2,
       "version_minor": 0
      },
      "text/plain": [
       "Batches in epoch #8:   0%|          | 0/638 [00:00<?, ?it/s]"
      ]
     },
     "metadata": {},
     "output_type": "display_data"
    },
    {
     "data": {
      "application/vnd.jupyter.widget-view+json": {
       "model_id": "56d05603d1674467820587181c6339ba",
       "version_major": 2,
       "version_minor": 0
      },
      "text/plain": [
       "Batches in epoch #9:   0%|          | 0/638 [00:00<?, ?it/s]"
      ]
     },
     "metadata": {},
     "output_type": "display_data"
    },
    {
     "data": {
      "application/vnd.jupyter.widget-view+json": {
       "model_id": "611f0d5dbcde45efa6a74f8a456272e0",
       "version_major": 2,
       "version_minor": 0
      },
      "text/plain": [
       "Batches in epoch #10:   0%|          | 0/638 [00:00<?, ?it/s]"
      ]
     },
     "metadata": {},
     "output_type": "display_data"
    },
    {
     "data": {
      "application/vnd.jupyter.widget-view+json": {
       "model_id": "cdedfdbb330f44a18da796b57ca161d1",
       "version_major": 2,
       "version_minor": 0
      },
      "text/plain": [
       "Batches in epoch #11:   0%|          | 0/638 [00:00<?, ?it/s]"
      ]
     },
     "metadata": {},
     "output_type": "display_data"
    },
    {
     "data": {
      "application/vnd.jupyter.widget-view+json": {
       "model_id": "2a04d7720956479c90f9a9659276887c",
       "version_major": 2,
       "version_minor": 0
      },
      "text/plain": [
       "Batches in epoch #12:   0%|          | 0/638 [00:00<?, ?it/s]"
      ]
     },
     "metadata": {},
     "output_type": "display_data"
    },
    {
     "data": {
      "application/vnd.jupyter.widget-view+json": {
       "model_id": "0e9670d07a5c4286a4a71c75c79bb4da",
       "version_major": 2,
       "version_minor": 0
      },
      "text/plain": [
       "Batches in epoch #13:   0%|          | 0/638 [00:00<?, ?it/s]"
      ]
     },
     "metadata": {},
     "output_type": "display_data"
    },
    {
     "data": {
      "application/vnd.jupyter.widget-view+json": {
       "model_id": "59ab752dfa1f4bab8a03f7d4b041e138",
       "version_major": 2,
       "version_minor": 0
      },
      "text/plain": [
       "Batches in epoch #14:   0%|          | 0/638 [00:00<?, ?it/s]"
      ]
     },
     "metadata": {},
     "output_type": "display_data"
    },
    {
     "data": {
      "application/vnd.jupyter.widget-view+json": {
       "model_id": "712516845da74ffba91ad76f8e09989a",
       "version_major": 2,
       "version_minor": 0
      },
      "text/plain": [
       "Batches in epoch #15:   0%|          | 0/638 [00:00<?, ?it/s]"
      ]
     },
     "metadata": {},
     "output_type": "display_data"
    },
    {
     "data": {
      "application/vnd.jupyter.widget-view+json": {
       "model_id": "63bfcf8d6eab4386995e1b5cb99b6941",
       "version_major": 2,
       "version_minor": 0
      },
      "text/plain": [
       "Batches in epoch #16:   0%|          | 0/638 [00:00<?, ?it/s]"
      ]
     },
     "metadata": {},
     "output_type": "display_data"
    },
    {
     "data": {
      "application/vnd.jupyter.widget-view+json": {
       "model_id": "918c7bc9a05f476d8f6b666366699497",
       "version_major": 2,
       "version_minor": 0
      },
      "text/plain": [
       "Batches in epoch #17:   0%|          | 0/638 [00:00<?, ?it/s]"
      ]
     },
     "metadata": {},
     "output_type": "display_data"
    },
    {
     "data": {
      "application/vnd.jupyter.widget-view+json": {
       "model_id": "ac41de42a4954b809710f5c3926ab2ff",
       "version_major": 2,
       "version_minor": 0
      },
      "text/plain": [
       "Batches in epoch #18:   0%|          | 0/638 [00:00<?, ?it/s]"
      ]
     },
     "metadata": {},
     "output_type": "display_data"
    },
    {
     "data": {
      "application/vnd.jupyter.widget-view+json": {
       "model_id": "9b48d56b41094ad3814f7d85d0f1d0f8",
       "version_major": 2,
       "version_minor": 0
      },
      "text/plain": [
       "Batches in epoch #19:   0%|          | 0/638 [00:00<?, ?it/s]"
      ]
     },
     "metadata": {},
     "output_type": "display_data"
    },
    {
     "data": {
      "application/vnd.jupyter.widget-view+json": {
       "model_id": "5ee7353108bd41c6a030b9023827eed1",
       "version_major": 2,
       "version_minor": 0
      },
      "text/plain": [
       "Batches in epoch #20:   0%|          | 0/638 [00:00<?, ?it/s]"
      ]
     },
     "metadata": {},
     "output_type": "display_data"
    },
    {
     "data": {
      "application/vnd.jupyter.widget-view+json": {
       "model_id": "e9554c13a9b24fa6827f7154a49e713e",
       "version_major": 2,
       "version_minor": 0
      },
      "text/plain": [
       "Batches in epoch #21:   0%|          | 0/638 [00:00<?, ?it/s]"
      ]
     },
     "metadata": {},
     "output_type": "display_data"
    },
    {
     "data": {
      "application/vnd.jupyter.widget-view+json": {
       "model_id": "d3cf5d95d21945c2ac5e98fd4850802d",
       "version_major": 2,
       "version_minor": 0
      },
      "text/plain": [
       "Batches in epoch #22:   0%|          | 0/638 [00:00<?, ?it/s]"
      ]
     },
     "metadata": {},
     "output_type": "display_data"
    },
    {
     "data": {
      "application/vnd.jupyter.widget-view+json": {
       "model_id": "3afc4926adb74549b66ffd0bd7d4ceac",
       "version_major": 2,
       "version_minor": 0
      },
      "text/plain": [
       "Batches in epoch #23:   0%|          | 0/638 [00:00<?, ?it/s]"
      ]
     },
     "metadata": {},
     "output_type": "display_data"
    },
    {
     "data": {
      "application/vnd.jupyter.widget-view+json": {
       "model_id": "ab2fa229765c4a03beeed2ccc84fde5c",
       "version_major": 2,
       "version_minor": 0
      },
      "text/plain": [
       "Batches in epoch #24:   0%|          | 0/638 [00:00<?, ?it/s]"
      ]
     },
     "metadata": {},
     "output_type": "display_data"
    },
    {
     "data": {
      "application/vnd.jupyter.widget-view+json": {
       "model_id": "6e31b442c0f34477a9098abcb9cb19b6",
       "version_major": 2,
       "version_minor": 0
      },
      "text/plain": [
       "Batches in epoch #25:   0%|          | 0/638 [00:00<?, ?it/s]"
      ]
     },
     "metadata": {},
     "output_type": "display_data"
    },
    {
     "data": {
      "application/vnd.jupyter.widget-view+json": {
       "model_id": "f80e3a97b3bc40379c931ab85029691e",
       "version_major": 2,
       "version_minor": 0
      },
      "text/plain": [
       "Batches in epoch #26:   0%|          | 0/638 [00:00<?, ?it/s]"
      ]
     },
     "metadata": {},
     "output_type": "display_data"
    },
    {
     "data": {
      "application/vnd.jupyter.widget-view+json": {
       "model_id": "0f47f9abdb024c74a9ec5a51d3bbb27a",
       "version_major": 2,
       "version_minor": 0
      },
      "text/plain": [
       "Batches in epoch #27:   0%|          | 0/638 [00:00<?, ?it/s]"
      ]
     },
     "metadata": {},
     "output_type": "display_data"
    },
    {
     "data": {
      "application/vnd.jupyter.widget-view+json": {
       "model_id": "cad4055b50e34daf9f22f9388cbdd59e",
       "version_major": 2,
       "version_minor": 0
      },
      "text/plain": [
       "Batches in epoch #28:   0%|          | 0/638 [00:00<?, ?it/s]"
      ]
     },
     "metadata": {},
     "output_type": "display_data"
    },
    {
     "data": {
      "application/vnd.jupyter.widget-view+json": {
       "model_id": "15472bdb415344ae81702fdc005528b9",
       "version_major": 2,
       "version_minor": 0
      },
      "text/plain": [
       "Batches in epoch #29:   0%|          | 0/638 [00:00<?, ?it/s]"
      ]
     },
     "metadata": {},
     "output_type": "display_data"
    },
    {
     "data": {
      "application/vnd.jupyter.widget-view+json": {
       "model_id": "d32cdf628b5442e484cbe78c93e00682",
       "version_major": 2,
       "version_minor": 0
      },
      "text/plain": [
       "Batches in epoch #30:   0%|          | 0/638 [00:00<?, ?it/s]"
      ]
     },
     "metadata": {},
     "output_type": "display_data"
    },
    {
     "data": {
      "application/vnd.jupyter.widget-view+json": {
       "model_id": "9fc02acf1aa44d9eb234403440054fcb",
       "version_major": 2,
       "version_minor": 0
      },
      "text/plain": [
       "Batches in epoch #31:   0%|          | 0/638 [00:00<?, ?it/s]"
      ]
     },
     "metadata": {},
     "output_type": "display_data"
    },
    {
     "data": {
      "application/vnd.jupyter.widget-view+json": {
       "model_id": "e39705388db149da910a9c33b184445e",
       "version_major": 2,
       "version_minor": 0
      },
      "text/plain": [
       "Batches in epoch #32:   0%|          | 0/638 [00:00<?, ?it/s]"
      ]
     },
     "metadata": {},
     "output_type": "display_data"
    },
    {
     "data": {
      "application/vnd.jupyter.widget-view+json": {
       "model_id": "c6dbf8c758af4fb99bd4c3370b761d47",
       "version_major": 2,
       "version_minor": 0
      },
      "text/plain": [
       "Batches in epoch #33:   0%|          | 0/638 [00:00<?, ?it/s]"
      ]
     },
     "metadata": {},
     "output_type": "display_data"
    },
    {
     "data": {
      "application/vnd.jupyter.widget-view+json": {
       "model_id": "9fa0800d0c344ba39782cb50d52e0219",
       "version_major": 2,
       "version_minor": 0
      },
      "text/plain": [
       "Batches in epoch #34:   0%|          | 0/638 [00:00<?, ?it/s]"
      ]
     },
     "metadata": {},
     "output_type": "display_data"
    },
    {
     "data": {
      "application/vnd.jupyter.widget-view+json": {
       "model_id": "4c3f54e76a234c41a8e55c056597afc1",
       "version_major": 2,
       "version_minor": 0
      },
      "text/plain": [
       "Batches in epoch #35:   0%|          | 0/638 [00:00<?, ?it/s]"
      ]
     },
     "metadata": {},
     "output_type": "display_data"
    },
    {
     "data": {
      "application/vnd.jupyter.widget-view+json": {
       "model_id": "714cfa3b9b874ccda0a6b3c493aa7cef",
       "version_major": 2,
       "version_minor": 0
      },
      "text/plain": [
       "Batches in epoch #36:   0%|          | 0/638 [00:00<?, ?it/s]"
      ]
     },
     "metadata": {},
     "output_type": "display_data"
    },
    {
     "data": {
      "application/vnd.jupyter.widget-view+json": {
       "model_id": "f7a26333c2584aef8b5625590f031bcd",
       "version_major": 2,
       "version_minor": 0
      },
      "text/plain": [
       "Batches in epoch #37:   0%|          | 0/638 [00:00<?, ?it/s]"
      ]
     },
     "metadata": {},
     "output_type": "display_data"
    },
    {
     "data": {
      "application/vnd.jupyter.widget-view+json": {
       "model_id": "6b2857ff212b41c68a2687d40c13eec2",
       "version_major": 2,
       "version_minor": 0
      },
      "text/plain": [
       "Batches in epoch #38:   0%|          | 0/638 [00:00<?, ?it/s]"
      ]
     },
     "metadata": {},
     "output_type": "display_data"
    },
    {
     "data": {
      "application/vnd.jupyter.widget-view+json": {
       "model_id": "7fdf592f5d534e1cbd38430936e4a60e",
       "version_major": 2,
       "version_minor": 0
      },
      "text/plain": [
       "Batches in epoch #39:   0%|          | 0/638 [00:00<?, ?it/s]"
      ]
     },
     "metadata": {},
     "output_type": "display_data"
    },
    {
     "data": {
      "application/vnd.jupyter.widget-view+json": {
       "model_id": "4ed9ce7ff94d4ad6ab5420e108620ea4",
       "version_major": 2,
       "version_minor": 0
      },
      "text/plain": [
       "Batches in epoch #40:   0%|          | 0/638 [00:00<?, ?it/s]"
      ]
     },
     "metadata": {},
     "output_type": "display_data"
    },
    {
     "data": {
      "application/vnd.jupyter.widget-view+json": {
       "model_id": "cb946520a61a4a9fbc4a45fc0dec7974",
       "version_major": 2,
       "version_minor": 0
      },
      "text/plain": [
       "Batches in epoch #41:   0%|          | 0/638 [00:00<?, ?it/s]"
      ]
     },
     "metadata": {},
     "output_type": "display_data"
    },
    {
     "data": {
      "application/vnd.jupyter.widget-view+json": {
       "model_id": "9af6d80b17c94387b37e8757749242be",
       "version_major": 2,
       "version_minor": 0
      },
      "text/plain": [
       "Batches in epoch #42:   0%|          | 0/638 [00:00<?, ?it/s]"
      ]
     },
     "metadata": {},
     "output_type": "display_data"
    },
    {
     "data": {
      "application/vnd.jupyter.widget-view+json": {
       "model_id": "b7c995a2ac6547c7aa8fdc2d1a2b7bc1",
       "version_major": 2,
       "version_minor": 0
      },
      "text/plain": [
       "Batches in epoch #43:   0%|          | 0/638 [00:00<?, ?it/s]"
      ]
     },
     "metadata": {},
     "output_type": "display_data"
    },
    {
     "data": {
      "application/vnd.jupyter.widget-view+json": {
       "model_id": "5fae970e8f32449e978f549edd522eec",
       "version_major": 2,
       "version_minor": 0
      },
      "text/plain": [
       "Batches in epoch #44:   0%|          | 0/638 [00:00<?, ?it/s]"
      ]
     },
     "metadata": {},
     "output_type": "display_data"
    },
    {
     "data": {
      "application/vnd.jupyter.widget-view+json": {
       "model_id": "a54acd21def94378bd6046dad17d2897",
       "version_major": 2,
       "version_minor": 0
      },
      "text/plain": [
       "Batches in epoch #45:   0%|          | 0/638 [00:00<?, ?it/s]"
      ]
     },
     "metadata": {},
     "output_type": "display_data"
    },
    {
     "data": {
      "application/vnd.jupyter.widget-view+json": {
       "model_id": "e73ee2bc957049f588beddb54f46ddec",
       "version_major": 2,
       "version_minor": 0
      },
      "text/plain": [
       "Batches in epoch #46:   0%|          | 0/638 [00:00<?, ?it/s]"
      ]
     },
     "metadata": {},
     "output_type": "display_data"
    },
    {
     "data": {
      "application/vnd.jupyter.widget-view+json": {
       "model_id": "e98c155b644d4a4eb4f6f087a5cfcff7",
       "version_major": 2,
       "version_minor": 0
      },
      "text/plain": [
       "Batches in epoch #47:   0%|          | 0/638 [00:00<?, ?it/s]"
      ]
     },
     "metadata": {},
     "output_type": "display_data"
    },
    {
     "data": {
      "application/vnd.jupyter.widget-view+json": {
       "model_id": "c8d9838d8ab741aea7c98cbde8216c38",
       "version_major": 2,
       "version_minor": 0
      },
      "text/plain": [
       "Batches in epoch #48:   0%|          | 0/638 [00:00<?, ?it/s]"
      ]
     },
     "metadata": {},
     "output_type": "display_data"
    },
    {
     "data": {
      "application/vnd.jupyter.widget-view+json": {
       "model_id": "5715fbfed23f40dfa1b2802ac564da39",
       "version_major": 2,
       "version_minor": 0
      },
      "text/plain": [
       "Batches in epoch #49:   0%|          | 0/638 [00:00<?, ?it/s]"
      ]
     },
     "metadata": {},
     "output_type": "display_data"
    },
    {
     "data": {
      "application/vnd.jupyter.widget-view+json": {
       "model_id": "adcecaff91bf4c2c935337045870d2ac",
       "version_major": 2,
       "version_minor": 0
      },
      "text/plain": [
       "Batches in epoch #50:   0%|          | 0/638 [00:00<?, ?it/s]"
      ]
     },
     "metadata": {},
     "output_type": "display_data"
    }
   ],
   "source": [
    "model = modeling.ConvNet(in_channels=1, height=32, width=32)\n",
    "model, losses, gabor_vals, cifar_vals = modeling.train_model(\n",
    "    model, \n",
    "    combined_loader, \n",
    "    gabor_val_loader=gabor_val_loader, \n",
    "    cifar_val_loader=cifar_val_loader, \n",
    "    num_epochs=50\n",
    "    )"
   ]
  },
  {
   "cell_type": "code",
   "execution_count": 14,
   "id": "0c00de67",
   "metadata": {},
   "outputs": [
    {
     "data": {
      "image/png": "[encoded data removed]",
      "text/plain": [
       "<Figure size 600x400 with 1 Axes>"
      ]
     },
     "metadata": {},
     "output_type": "display_data"
    }
   ],
   "source": [
    "fig, axs = modeling.plot_losses(losses)"
   ]
  },
  {
   "cell_type": "code",
   "execution_count": 15,
   "id": "73be5248",
   "metadata": {},
   "outputs": [
    {
     "data": {
      "text/plain": [
       "Text(0.5, 1.0, 'Validation Accuracy over Epochs')"
      ]
     },
     "execution_count": 15,
     "metadata": {},
     "output_type": "execute_result"
    },
    {
     "data": {
      "image/png": "[encoded data removed]",
      "text/plain": [
       "<Figure size 640x480 with 1 Axes>"
      ]
     },
     "metadata": {},
     "output_type": "display_data"
    }
   ],
   "source": [
    "plt.plot(gabor_vals, label='Gabor', color='red')\n",
    "plt.plot(cifar_vals, label='CIFAR', color='blue')\n",
    "\n",
    "plt.xlabel('Epoch')\n",
    "plt.ylabel('Accuracy')\n",
    "plt.legend()\n",
    "plt.title('Validation Accuracy over Epochs')"
   ]
  },
  {
   "cell_type": "code",
   "execution_count": 3,
   "id": "8621f125",
   "metadata": {},
   "outputs": [
    {
     "data": {
      "application/vnd.jupyter.widget-view+json": {
       "model_id": "1996fb07aafc4963a01db7b55514b3ad",
       "version_major": 2,
       "version_minor": 0
      },
      "text/plain": [
       "Epochs:   0%|          | 0/3 [00:00<?, ?it/s]"
      ]
     },
     "metadata": {},
     "output_type": "display_data"
    },
    {
     "data": {
      "application/vnd.jupyter.widget-view+json": {
       "model_id": "2d26d75757e44c7db72216004019b619",
       "version_major": 2,
       "version_minor": 0
      },
      "text/plain": [
       "Batches in epoch #1:   0%|          | 0/638 [00:00<?, ?it/s]"
      ]
     },
     "metadata": {},
     "output_type": "display_data"
    },
    {
     "data": {
      "application/vnd.jupyter.widget-view+json": {
       "model_id": "cf1c8744bb3f4c4c9f9dbc6b21e78969",
       "version_major": 2,
       "version_minor": 0
      },
      "text/plain": [
       "Batches in epoch #2:   0%|          | 0/638 [00:00<?, ?it/s]"
      ]
     },
     "metadata": {},
     "output_type": "display_data"
    },
    {
     "data": {
      "application/vnd.jupyter.widget-view+json": {
       "model_id": "2d9a4bff3e3b48b3aec4bd9c229ccbe3",
       "version_major": 2,
       "version_minor": 0
      },
      "text/plain": [
       "Batches in epoch #3:   0%|          | 0/638 [00:00<?, ?it/s]"
      ]
     },
     "metadata": {},
     "output_type": "display_data"
    },
    {
     "name": "stdout",
     "output_type": "stream",
     "text": [
      "Iteration 1/10 complete.\n"
     ]
    },
    {
     "data": {
      "application/vnd.jupyter.widget-view+json": {
       "model_id": "61b6364055f340c9a8d48475061c8353",
       "version_major": 2,
       "version_minor": 0
      },
      "text/plain": [
       "Epochs:   0%|          | 0/3 [00:00<?, ?it/s]"
      ]
     },
     "metadata": {},
     "output_type": "display_data"
    },
    {
     "data": {
      "application/vnd.jupyter.widget-view+json": {
       "model_id": "968c8bfd9cc54c42af80f2c853c0fde5",
       "version_major": 2,
       "version_minor": 0
      },
      "text/plain": [
       "Batches in epoch #1:   0%|          | 0/638 [00:00<?, ?it/s]"
      ]
     },
     "metadata": {},
     "output_type": "display_data"
    },
    {
     "data": {
      "application/vnd.jupyter.widget-view+json": {
       "model_id": "99afb8cd89824a31819fb487ceef5fe1",
       "version_major": 2,
       "version_minor": 0
      },
      "text/plain": [
       "Batches in epoch #2:   0%|          | 0/638 [00:00<?, ?it/s]"
      ]
     },
     "metadata": {},
     "output_type": "display_data"
    },
    {
     "data": {
      "application/vnd.jupyter.widget-view+json": {
       "model_id": "cef16b7a8d404793ac04630a5639156f",
       "version_major": 2,
       "version_minor": 0
      },
      "text/plain": [
       "Batches in epoch #3:   0%|          | 0/638 [00:00<?, ?it/s]"
      ]
     },
     "metadata": {},
     "output_type": "display_data"
    },
    {
     "name": "stdout",
     "output_type": "stream",
     "text": [
      "Iteration 2/10 complete.\n"
     ]
    },
    {
     "data": {
      "application/vnd.jupyter.widget-view+json": {
       "model_id": "a049540bba1d4c619d4ec26b7cb8a246",
       "version_major": 2,
       "version_minor": 0
      },
      "text/plain": [
       "Epochs:   0%|          | 0/3 [00:00<?, ?it/s]"
      ]
     },
     "metadata": {},
     "output_type": "display_data"
    },
    {
     "data": {
      "application/vnd.jupyter.widget-view+json": {
       "model_id": "7a1a01c784494ed882226b24f3f74967",
       "version_major": 2,
       "version_minor": 0
      },
      "text/plain": [
       "Batches in epoch #1:   0%|          | 0/638 [00:00<?, ?it/s]"
      ]
     },
     "metadata": {},
     "output_type": "display_data"
    },
    {
     "data": {
      "application/vnd.jupyter.widget-view+json": {
       "model_id": "bb770c75ea5f43eabbe2b3c71113c380",
       "version_major": 2,
       "version_minor": 0
      },
      "text/plain": [
       "Batches in epoch #2:   0%|          | 0/638 [00:00<?, ?it/s]"
      ]
     },
     "metadata": {},
     "output_type": "display_data"
    },
    {
     "data": {
      "application/vnd.jupyter.widget-view+json": {
       "model_id": "ab9095d2c4ae44d7a6841f2ac684777c",
       "version_major": 2,
       "version_minor": 0
      },
      "text/plain": [
       "Batches in epoch #3:   0%|          | 0/638 [00:00<?, ?it/s]"
      ]
     },
     "metadata": {},
     "output_type": "display_data"
    },
    {
     "name": "stdout",
     "output_type": "stream",
     "text": [
      "Iteration 3/10 complete.\n"
     ]
    },
    {
     "data": {
      "application/vnd.jupyter.widget-view+json": {
       "model_id": "f3407810572a4bcdb7a455d98bb96ff9",
       "version_major": 2,
       "version_minor": 0
      },
      "text/plain": [
       "Epochs:   0%|          | 0/3 [00:00<?, ?it/s]"
      ]
     },
     "metadata": {},
     "output_type": "display_data"
    },
    {
     "data": {
      "application/vnd.jupyter.widget-view+json": {
       "model_id": "a95e7c00985b416aa9a7dcce98caf6bc",
       "version_major": 2,
       "version_minor": 0
      },
      "text/plain": [
       "Batches in epoch #1:   0%|          | 0/638 [00:00<?, ?it/s]"
      ]
     },
     "metadata": {},
     "output_type": "display_data"
    },
    {
     "data": {
      "application/vnd.jupyter.widget-view+json": {
       "model_id": "8b0c340b42af4a209a40b229fca7566b",
       "version_major": 2,
       "version_minor": 0
      },
      "text/plain": [
       "Batches in epoch #2:   0%|          | 0/638 [00:00<?, ?it/s]"
      ]
     },
     "metadata": {},
     "output_type": "display_data"
    },
    {
     "data": {
      "application/vnd.jupyter.widget-view+json": {
       "model_id": "a80e4009ba314b0eb9cccd7ad3956231",
       "version_major": 2,
       "version_minor": 0
      },
      "text/plain": [
       "Batches in epoch #3:   0%|          | 0/638 [00:00<?, ?it/s]"
      ]
     },
     "metadata": {},
     "output_type": "display_data"
    },
    {
     "name": "stdout",
     "output_type": "stream",
     "text": [
      "Iteration 4/10 complete.\n"
     ]
    },
    {
     "data": {
      "application/vnd.jupyter.widget-view+json": {
       "model_id": "69b04ae6fec04ebeb742d25815f3eb8f",
       "version_major": 2,
       "version_minor": 0
      },
      "text/plain": [
       "Epochs:   0%|          | 0/3 [00:00<?, ?it/s]"
      ]
     },
     "metadata": {},
     "output_type": "display_data"
    },
    {
     "data": {
      "application/vnd.jupyter.widget-view+json": {
       "model_id": "3056b6ab1d044069b203e5f5c80c9db9",
       "version_major": 2,
       "version_minor": 0
      },
      "text/plain": [
       "Batches in epoch #1:   0%|          | 0/638 [00:00<?, ?it/s]"
      ]
     },
     "metadata": {},
     "output_type": "display_data"
    },
    {
     "data": {
      "application/vnd.jupyter.widget-view+json": {
       "model_id": "da78a72117c94a9cb9edeae945a70d38",
       "version_major": 2,
       "version_minor": 0
      },
      "text/plain": [
       "Batches in epoch #2:   0%|          | 0/638 [00:00<?, ?it/s]"
      ]
     },
     "metadata": {},
     "output_type": "display_data"
    },
    {
     "data": {
      "application/vnd.jupyter.widget-view+json": {
       "model_id": "1d1290da886141f1b8ac88abf7c8e73a",
       "version_major": 2,
       "version_minor": 0
      },
      "text/plain": [
       "Batches in epoch #3:   0%|          | 0/638 [00:00<?, ?it/s]"
      ]
     },
     "metadata": {},
     "output_type": "display_data"
    },
    {
     "name": "stdout",
     "output_type": "stream",
     "text": [
      "Iteration 5/10 complete.\n"
     ]
    },
    {
     "data": {
      "application/vnd.jupyter.widget-view+json": {
       "model_id": "f8b9f3087cfc41a0b136feb266ccf89a",
       "version_major": 2,
       "version_minor": 0
      },
      "text/plain": [
       "Epochs:   0%|          | 0/3 [00:00<?, ?it/s]"
      ]
     },
     "metadata": {},
     "output_type": "display_data"
    },
    {
     "data": {
      "application/vnd.jupyter.widget-view+json": {
       "model_id": "70c4511f219b4f97a6d90b94576137cd",
       "version_major": 2,
       "version_minor": 0
      },
      "text/plain": [
       "Batches in epoch #1:   0%|          | 0/638 [00:00<?, ?it/s]"
      ]
     },
     "metadata": {},
     "output_type": "display_data"
    },
    {
     "data": {
      "application/vnd.jupyter.widget-view+json": {
       "model_id": "4c561f84469f4dd580a92053a7b5e3ec",
       "version_major": 2,
       "version_minor": 0
      },
      "text/plain": [
       "Batches in epoch #2:   0%|          | 0/638 [00:00<?, ?it/s]"
      ]
     },
     "metadata": {},
     "output_type": "display_data"
    },
    {
     "data": {
      "application/vnd.jupyter.widget-view+json": {
       "model_id": "6ab762ec2aac4df791647f909782d812",
       "version_major": 2,
       "version_minor": 0
      },
      "text/plain": [
       "Batches in epoch #3:   0%|          | 0/638 [00:00<?, ?it/s]"
      ]
     },
     "metadata": {},
     "output_type": "display_data"
    },
    {
     "name": "stdout",
     "output_type": "stream",
     "text": [
      "Iteration 6/10 complete.\n"
     ]
    },
    {
     "data": {
      "application/vnd.jupyter.widget-view+json": {
       "model_id": "b17fad9df4ef4c51b244f88b40b6bf3c",
       "version_major": 2,
       "version_minor": 0
      },
      "text/plain": [
       "Epochs:   0%|          | 0/3 [00:00<?, ?it/s]"
      ]
     },
     "metadata": {},
     "output_type": "display_data"
    },
    {
     "data": {
      "application/vnd.jupyter.widget-view+json": {
       "model_id": "df45ab67a2c54d7fbcd90f47de83446f",
       "version_major": 2,
       "version_minor": 0
      },
      "text/plain": [
       "Batches in epoch #1:   0%|          | 0/638 [00:00<?, ?it/s]"
      ]
     },
     "metadata": {},
     "output_type": "display_data"
    },
    {
     "data": {
      "application/vnd.jupyter.widget-view+json": {
       "model_id": "7502c2b15f744f768e9c370a2f19d4f5",
       "version_major": 2,
       "version_minor": 0
      },
      "text/plain": [
       "Batches in epoch #2:   0%|          | 0/638 [00:00<?, ?it/s]"
      ]
     },
     "metadata": {},
     "output_type": "display_data"
    },
    {
     "data": {
      "application/vnd.jupyter.widget-view+json": {
       "model_id": "600872411f2d4808992a2fe1e492ea90",
       "version_major": 2,
       "version_minor": 0
      },
      "text/plain": [
       "Batches in epoch #3:   0%|          | 0/638 [00:00<?, ?it/s]"
      ]
     },
     "metadata": {},
     "output_type": "display_data"
    },
    {
     "name": "stdout",
     "output_type": "stream",
     "text": [
      "Iteration 7/10 complete.\n"
     ]
    },
    {
     "data": {
      "application/vnd.jupyter.widget-view+json": {
       "model_id": "0650ca5f8d0b4572ac87a6b1fdf58f7f",
       "version_major": 2,
       "version_minor": 0
      },
      "text/plain": [
       "Epochs:   0%|          | 0/3 [00:00<?, ?it/s]"
      ]
     },
     "metadata": {},
     "output_type": "display_data"
    },
    {
     "data": {
      "application/vnd.jupyter.widget-view+json": {
       "model_id": "f2a503e5198647ea89a424bb8eb7d1fe",
       "version_major": 2,
       "version_minor": 0
      },
      "text/plain": [
       "Batches in epoch #1:   0%|          | 0/638 [00:00<?, ?it/s]"
      ]
     },
     "metadata": {},
     "output_type": "display_data"
    },
    {
     "data": {
      "application/vnd.jupyter.widget-view+json": {
       "model_id": "ecd61b6ed64b4c0bb09832f52c87c66e",
       "version_major": 2,
       "version_minor": 0
      },
      "text/plain": [
       "Batches in epoch #2:   0%|          | 0/638 [00:00<?, ?it/s]"
      ]
     },
     "metadata": {},
     "output_type": "display_data"
    },
    {
     "data": {
      "application/vnd.jupyter.widget-view+json": {
       "model_id": "46c2ea9e9a2a41239db1e8a0d6ffe08a",
       "version_major": 2,
       "version_minor": 0
      },
      "text/plain": [
       "Batches in epoch #3:   0%|          | 0/638 [00:00<?, ?it/s]"
      ]
     },
     "metadata": {},
     "output_type": "display_data"
    },
    {
     "name": "stdout",
     "output_type": "stream",
     "text": [
      "Iteration 8/10 complete.\n"
     ]
    },
    {
     "data": {
      "application/vnd.jupyter.widget-view+json": {
       "model_id": "14184902abf94bd78a2bc07569d60de4",
       "version_major": 2,
       "version_minor": 0
      },
      "text/plain": [
       "Epochs:   0%|          | 0/3 [00:00<?, ?it/s]"
      ]
     },
     "metadata": {},
     "output_type": "display_data"
    },
    {
     "data": {
      "application/vnd.jupyter.widget-view+json": {
       "model_id": "dbf72462c49e4c55bfcc6b8fac5aa22e",
       "version_major": 2,
       "version_minor": 0
      },
      "text/plain": [
       "Batches in epoch #1:   0%|          | 0/638 [00:00<?, ?it/s]"
      ]
     },
     "metadata": {},
     "output_type": "display_data"
    },
    {
     "data": {
      "application/vnd.jupyter.widget-view+json": {
       "model_id": "1fab32dc013045f0a0c1a6c98075bfb6",
       "version_major": 2,
       "version_minor": 0
      },
      "text/plain": [
       "Batches in epoch #2:   0%|          | 0/638 [00:00<?, ?it/s]"
      ]
     },
     "metadata": {},
     "output_type": "display_data"
    },
    {
     "data": {
      "application/vnd.jupyter.widget-view+json": {
       "model_id": "5caed7fe5aa04c17894e82ca472ef98c",
       "version_major": 2,
       "version_minor": 0
      },
      "text/plain": [
       "Batches in epoch #3:   0%|          | 0/638 [00:00<?, ?it/s]"
      ]
     },
     "metadata": {},
     "output_type": "display_data"
    },
    {
     "name": "stdout",
     "output_type": "stream",
     "text": [
      "Iteration 9/10 complete.\n"
     ]
    },
    {
     "data": {
      "application/vnd.jupyter.widget-view+json": {
       "model_id": "70c686f945ff45f98a48cebccc14a497",
       "version_major": 2,
       "version_minor": 0
      },
      "text/plain": [
       "Epochs:   0%|          | 0/3 [00:00<?, ?it/s]"
      ]
     },
     "metadata": {},
     "output_type": "display_data"
    },
    {
     "data": {
      "application/vnd.jupyter.widget-view+json": {
       "model_id": "b9d0f7c4d28442b6afd6c78c1954a2d2",
       "version_major": 2,
       "version_minor": 0
      },
      "text/plain": [
       "Batches in epoch #1:   0%|          | 0/638 [00:00<?, ?it/s]"
      ]
     },
     "metadata": {},
     "output_type": "display_data"
    },
    {
     "data": {
      "application/vnd.jupyter.widget-view+json": {
       "model_id": "94f0ecf53c9442cb9216e0a4dcb703b4",
       "version_major": 2,
       "version_minor": 0
      },
      "text/plain": [
       "Batches in epoch #2:   0%|          | 0/638 [00:00<?, ?it/s]"
      ]
     },
     "metadata": {},
     "output_type": "display_data"
    },
    {
     "data": {
      "application/vnd.jupyter.widget-view+json": {
       "model_id": "b533b5f74f864932b343ba669803d036",
       "version_major": 2,
       "version_minor": 0
      },
      "text/plain": [
       "Batches in epoch #3:   0%|          | 0/638 [00:00<?, ?it/s]"
      ]
     },
     "metadata": {},
     "output_type": "display_data"
    },
    {
     "name": "stdout",
     "output_type": "stream",
     "text": [
      "Iteration 10/10 complete.\n"
     ]
    }
   ],
   "source": [
    "#### stability plots ####\n",
    "results = {\n",
    "    'idx': [],\n",
    "    'gabor_acc': [],\n",
    "    'cifar_acc': [],\n",
    "}\n",
    "\n",
    "noise_results = {\n",
    "    'idx': [],\n",
    "    'noise_level': [],\n",
    "    'noisy1_gabor_acc': [],\n",
    "    'noisy1_cifar_acc': [],\n",
    "    'noisy2_gabor_acc': [],\n",
    "    'noisy2_cifar_acc': [],\n",
    "    'noisy3_gabor_acc': [],\n",
    "    'noisy3_cifar_acc': []\n",
    "}\n",
    "noise_levels = np.arange(0, 1.05, 0.05)\n",
    "\n",
    "for i in range(10):\n",
    "    model = modeling.ConvNet(in_channels=1, height=32, width=32)\n",
    "    model, losses, _, _ = modeling.train_model(model, combined_loader, num_epochs=3)\n",
    "    \n",
    "    gabor_acc = modeling.evaluate_gabor_accuracy(model, gabor_test_loader)\n",
    "    cifar_acc = modeling.evaluate_cifar_accuracy(model, cifar_test_loader)\n",
    "\n",
    "    results['idx'].append(i)\n",
    "    results['gabor_acc'].append(gabor_acc)\n",
    "    results['cifar_acc'].append(cifar_acc)\n",
    "\n",
    "    for noise in noise_levels:\n",
    "        noisy_model = copy.deepcopy(model)\n",
    "\n",
    "        noisy_first_model = modeling.add_noise_to_first_layer(noisy_model, noise_level=noise)\n",
    "        noisy1_gabor_acc = modeling.evaluate_gabor_accuracy(noisy_model, gabor_test_loader)\n",
    "        noisy1_cifar_acc = modeling.evaluate_cifar_accuracy(noisy_model, cifar_test_loader)\n",
    "\n",
    "        noisy_model = copy.deepcopy(model)\n",
    "        noisy_middle_model = modeling.add_noise_to_middle_layer(noisy_model, noise_level=noise)\n",
    "        noisy2_gabor_acc = modeling.evaluate_gabor_accuracy(noisy_model, gabor_test_loader)\n",
    "        noisy2_cifar_acc = modeling.evaluate_cifar_accuracy(noisy_model, cifar_test_loader)\n",
    "\n",
    "        noisy_last_model = modeling.add_noise_to_last_layer(noisy_model, noise_level=noise)\n",
    "        noisy3_gabor_acc = modeling.evaluate_gabor_accuracy(noisy_model, gabor_test_loader)\n",
    "        noisy3_cifar_acc = modeling.evaluate_cifar_accuracy(noisy_model, cifar_test_loader)\n",
    "\n",
    "        noise_results['idx'].append(i)\n",
    "        noise_results['noise_level'].append(noise)\n",
    "        noise_results['noisy1_gabor_acc'].append(noisy1_gabor_acc)\n",
    "        noise_results['noisy1_cifar_acc'].append(noisy1_cifar_acc)\n",
    "        noise_results['noisy2_gabor_acc'].append(noisy2_gabor_acc)\n",
    "        noise_results['noisy2_cifar_acc'].append(noisy2_cifar_acc)\n",
    "        noise_results['noisy3_gabor_acc'].append(noisy3_gabor_acc)\n",
    "        noise_results['noisy3_cifar_acc'].append(noisy3_cifar_acc)\n",
    "    \n",
    "    print(f'Iteration {i+1}/10 complete.')"
   ]
  },
  {
   "cell_type": "code",
   "execution_count": 4,
   "id": "eeb33125",
   "metadata": {},
   "outputs": [
    {
     "data": {
      "text/html": [
       "<div>\n",
       "<style scoped>\n",
       "    .dataframe tbody tr th:only-of-type {\n",
       "        vertical-align: middle;\n",
       "    }\n",
       "\n",
       "    .dataframe tbody tr th {\n",
       "        vertical-align: top;\n",
       "    }\n",
       "\n",
       "    .dataframe thead th {\n",
       "        text-align: right;\n",
       "    }\n",
       "</style>\n",
       "<table border=\"1\" class=\"dataframe\">\n",
       "  <thead>\n",
       "    <tr style=\"text-align: right;\">\n",
       "      <th></th>\n",
       "      <th>idx</th>\n",
       "      <th>noise_level</th>\n",
       "      <th>noisy1_gabor_acc</th>\n",
       "      <th>noisy1_cifar_acc</th>\n",
       "      <th>noisy2_gabor_acc</th>\n",
       "      <th>noisy2_cifar_acc</th>\n",
       "      <th>noisy3_gabor_acc</th>\n",
       "      <th>noisy3_cifar_acc</th>\n",
       "    </tr>\n",
       "  </thead>\n",
       "  <tbody>\n",
       "    <tr>\n",
       "      <th>0</th>\n",
       "      <td>0</td>\n",
       "      <td>0.00</td>\n",
       "      <td>100.0</td>\n",
       "      <td>62.83</td>\n",
       "      <td>100.0</td>\n",
       "      <td>62.83</td>\n",
       "      <td>100.0</td>\n",
       "      <td>62.83</td>\n",
       "    </tr>\n",
       "    <tr>\n",
       "      <th>1</th>\n",
       "      <td>0</td>\n",
       "      <td>0.05</td>\n",
       "      <td>100.0</td>\n",
       "      <td>60.71</td>\n",
       "      <td>100.0</td>\n",
       "      <td>60.71</td>\n",
       "      <td>100.0</td>\n",
       "      <td>58.67</td>\n",
       "    </tr>\n",
       "    <tr>\n",
       "      <th>2</th>\n",
       "      <td>0</td>\n",
       "      <td>0.10</td>\n",
       "      <td>100.0</td>\n",
       "      <td>57.10</td>\n",
       "      <td>100.0</td>\n",
       "      <td>56.23</td>\n",
       "      <td>100.0</td>\n",
       "      <td>37.52</td>\n",
       "    </tr>\n",
       "    <tr>\n",
       "      <th>3</th>\n",
       "      <td>0</td>\n",
       "      <td>0.15</td>\n",
       "      <td>100.0</td>\n",
       "      <td>57.93</td>\n",
       "      <td>95.0</td>\n",
       "      <td>49.26</td>\n",
       "      <td>100.0</td>\n",
       "      <td>30.70</td>\n",
       "    </tr>\n",
       "    <tr>\n",
       "      <th>4</th>\n",
       "      <td>0</td>\n",
       "      <td>0.20</td>\n",
       "      <td>100.0</td>\n",
       "      <td>45.52</td>\n",
       "      <td>100.0</td>\n",
       "      <td>48.13</td>\n",
       "      <td>100.0</td>\n",
       "      <td>23.87</td>\n",
       "    </tr>\n",
       "    <tr>\n",
       "      <th>...</th>\n",
       "      <td>...</td>\n",
       "      <td>...</td>\n",
       "      <td>...</td>\n",
       "      <td>...</td>\n",
       "      <td>...</td>\n",
       "      <td>...</td>\n",
       "      <td>...</td>\n",
       "      <td>...</td>\n",
       "    </tr>\n",
       "    <tr>\n",
       "      <th>205</th>\n",
       "      <td>9</td>\n",
       "      <td>0.80</td>\n",
       "      <td>98.0</td>\n",
       "      <td>22.27</td>\n",
       "      <td>53.0</td>\n",
       "      <td>26.09</td>\n",
       "      <td>9.0</td>\n",
       "      <td>14.07</td>\n",
       "    </tr>\n",
       "    <tr>\n",
       "      <th>206</th>\n",
       "      <td>9</td>\n",
       "      <td>0.85</td>\n",
       "      <td>98.0</td>\n",
       "      <td>26.82</td>\n",
       "      <td>43.0</td>\n",
       "      <td>18.89</td>\n",
       "      <td>9.0</td>\n",
       "      <td>14.51</td>\n",
       "    </tr>\n",
       "    <tr>\n",
       "      <th>207</th>\n",
       "      <td>9</td>\n",
       "      <td>0.90</td>\n",
       "      <td>31.0</td>\n",
       "      <td>17.63</td>\n",
       "      <td>76.0</td>\n",
       "      <td>28.54</td>\n",
       "      <td>9.0</td>\n",
       "      <td>11.84</td>\n",
       "    </tr>\n",
       "    <tr>\n",
       "      <th>208</th>\n",
       "      <td>9</td>\n",
       "      <td>0.95</td>\n",
       "      <td>100.0</td>\n",
       "      <td>28.81</td>\n",
       "      <td>67.0</td>\n",
       "      <td>12.18</td>\n",
       "      <td>10.0</td>\n",
       "      <td>13.10</td>\n",
       "    </tr>\n",
       "    <tr>\n",
       "      <th>209</th>\n",
       "      <td>9</td>\n",
       "      <td>1.00</td>\n",
       "      <td>86.0</td>\n",
       "      <td>22.11</td>\n",
       "      <td>45.0</td>\n",
       "      <td>13.22</td>\n",
       "      <td>9.0</td>\n",
       "      <td>9.66</td>\n",
       "    </tr>\n",
       "  </tbody>\n",
       "</table>\n",
       "<p>210 rows × 8 columns</p>\n",
       "</div>"
      ],
      "text/plain": [
       "     idx  noise_level  noisy1_gabor_acc  noisy1_cifar_acc  noisy2_gabor_acc  \\\n",
       "0      0         0.00             100.0             62.83             100.0   \n",
       "1      0         0.05             100.0             60.71             100.0   \n",
       "2      0         0.10             100.0             57.10             100.0   \n",
       "3      0         0.15             100.0             57.93              95.0   \n",
       "4      0         0.20             100.0             45.52             100.0   \n",
       "..   ...          ...               ...               ...               ...   \n",
       "205    9         0.80              98.0             22.27              53.0   \n",
       "206    9         0.85              98.0             26.82              43.0   \n",
       "207    9         0.90              31.0             17.63              76.0   \n",
       "208    9         0.95             100.0             28.81              67.0   \n",
       "209    9         1.00              86.0             22.11              45.0   \n",
       "\n",
       "     noisy2_cifar_acc  noisy3_gabor_acc  noisy3_cifar_acc  \n",
       "0               62.83             100.0             62.83  \n",
       "1               60.71             100.0             58.67  \n",
       "2               56.23             100.0             37.52  \n",
       "3               49.26             100.0             30.70  \n",
       "4               48.13             100.0             23.87  \n",
       "..                ...               ...               ...  \n",
       "205             26.09               9.0             14.07  \n",
       "206             18.89               9.0             14.51  \n",
       "207             28.54               9.0             11.84  \n",
       "208             12.18              10.0             13.10  \n",
       "209             13.22               9.0              9.66  \n",
       "\n",
       "[210 rows x 8 columns]"
      ]
     },
     "execution_count": 4,
     "metadata": {},
     "output_type": "execute_result"
    }
   ],
   "source": [
    "import pandas as pd\n",
    "noise_results_df = pd.DataFrame(noise_results)\n",
    "noise_results_df"
   ]
  },
  {
   "cell_type": "code",
   "execution_count": 12,
   "id": "94a8552b",
   "metadata": {},
   "outputs": [
    {
     "data": {
      "text/plain": [
       "<matplotlib.legend.Legend at 0x7f51124529e0>"
      ]
     },
     "execution_count": 12,
     "metadata": {},
     "output_type": "execute_result"
    },
    {
     "data": {
      "image/png": "[encoded data removed]",
      "text/plain": [
       "<Figure size 640x480 with 1 Axes>"
      ]
     },
     "metadata": {},
     "output_type": "display_data"
    }
   ],
   "source": [
    "import seaborn as sns\n",
    "\n",
    "sns.lineplot(\n",
    "    data=noise_results_df, \n",
    "    x='noise_level', \n",
    "    y='noisy3_gabor_acc', \n",
    "    err_style='band',\n",
    "    errorbar='se',\n",
    "    markers='o',\n",
    "    color='red',\n",
    "    label='Gabor'\n",
    "    )\n",
    "\n",
    "sns.lineplot(\n",
    "    data=noise_results_df, \n",
    "    x='noise_level', \n",
    "    y='noisy3_cifar_acc', \n",
    "    err_style='band',\n",
    "    errorbar='se',\n",
    "    color='blue',\n",
    "    label='CIFAR'\n",
    "    )\n",
    "\n",
    "plt.xlabel('Noise Level')\n",
    "plt.ylabel('Accuracy (%)')\n",
    "plt.title('Model Performance vs. Noise Level\\n(Noise Added to Last Layer)')\n",
    "# plt.legend(['Gabor Accuracy', '', 'CIFAR Accuracy', ''])\n",
    "plt.legend()\n",
    "# plt.xlim(0, 0.65)"
   ]
  },
  {
   "cell_type": "code",
   "execution_count": 15,
   "id": "0ad0b573",
   "metadata": {},
   "outputs": [
    {
     "name": "stdout",
     "output_type": "stream",
     "text": [
      "Evaluating model performance...\n",
      "Original Model - Gabor Accuracy: 100.00%, CIFAR-10 Accuracy: 63.86%\n",
      "Noisy Middle Layer Model - Gabor Accuracy: 59.56%, CIFAR-10 Accuracy: 24.22%\n"
     ]
    }
   ],
   "source": [
    "print(\"Evaluating model performance...\")\n",
    "gabor_acc = modeling.evaluate_gabor_accuracy(model, gabor_test_loader)\n",
    "cifar_acc = modeling.evaluate_cifar_accuracy(model, cifar_test_loader)\n",
    "\n",
    "print(f'Original Model - Gabor Accuracy: {gabor_acc:.2f}%, CIFAR-10 Accuracy: {cifar_acc:.2f}%')\n",
    "\n",
    "noisy_middle_model = copy.deepcopy(model)\n",
    "noisy_middle_model = modeling.add_noise_to_middle_layer(noisy_middle_model, noise_level=0.8)\n",
    "grating_acc, cifar_acc = modeling.evaluate_gabor_accuracy(noisy_middle_model, gabor_test_loader), modeling.evaluate_cifar_accuracy(noisy_middle_model, cifar_test_loader)\n",
    "\n",
    "print(f'Noisy Middle Layer Model - Gabor Accuracy: {grating_acc:.2f}%, CIFAR-10 Accuracy: {cifar_acc:.2f}%')"
   ]
  },
  {
   "cell_type": "code",
   "execution_count": 16,
   "id": "90d2fe0b",
   "metadata": {},
   "outputs": [],
   "source": [
    "noise_levels = [0, 0.1, 0.2, 0.3, 0.4, 0.5, 0.6, 0.7, 0.8]\n",
    "grating_accuracies = []\n",
    "cifar_accuracies = []\n",
    "for noises in noise_levels:\n",
    "    noisy_first_model = copy.deepcopy(model)\n",
    "    noisy_first_model = modeling.add_noise_to_first_layer(noisy_first_model, noise_level=noises)\n",
    "    grating_acc, cifar_acc = modeling.evaluate_gabor_accuracy(noisy_first_model, gabor_test_loader), modeling.evaluate_cifar_accuracy(noisy_first_model, cifar_test_loader)\n",
    "\n",
    "    grating_accuracies.append(grating_acc)\n",
    "    cifar_accuracies.append(cifar_acc)"
   ]
  },
  {
   "cell_type": "code",
   "execution_count": 17,
   "id": "f92a1da0",
   "metadata": {},
   "outputs": [
    {
     "data": {
      "text/plain": [
       "[<matplotlib.lines.Line2D at 0x7fc7540c9a80>]"
      ]
     },
     "execution_count": 17,
     "metadata": {},
     "output_type": "execute_result"
    },
    {
     "data": {
      "image/png": "[encoded data removed]",
      "text/plain": [
       "<Figure size 640x480 with 1 Axes>"
      ]
     },
     "metadata": {},
     "output_type": "display_data"
    }
   ],
   "source": [
    "plt.plot(noise_levels, grating_accuracies, label='Gabor Accuracy')\n",
    "plt.plot(noise_levels, cifar_accuracies, label='CIFAR-10 Accuracy')"
   ]
  },
  {
   "cell_type": "code",
   "execution_count": null,
   "id": "fdd502b7",
   "metadata": {},
   "outputs": [],
   "source": []
  }
 ],
 "metadata": {
  "kernelspec": {
   "display_name": "neural_net_basics",
   "language": "python",
   "name": "python3"
  },
  "language_info": {
   "codemirror_mode": {
    "name": "ipython",
    "version": 3
   },
   "file_extension": ".py",
   "mimetype": "text/x-python",
   "name": "python",
   "nbconvert_exporter": "python",
   "pygments_lexer": "ipython3",
   "version": "3.10.16"
  }
 },
 "nbformat": 4,
 "nbformat_minor": 5
}
