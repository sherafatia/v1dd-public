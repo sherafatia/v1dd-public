{
 "cells": [
  {
   "cell_type": "markdown",
   "id": "53b8ee35",
   "metadata": {},
   "source": [
    "#### Model v2 -- to run code below I had to switch into a different virtual environment and install just these packages"
   ]
  },
  {
   "cell_type": "code",
   "execution_count": 18,
   "id": "579828f6",
   "metadata": {},
   "outputs": [],
   "source": [
    "import torch\n",
    "import torch.nn as nn\n",
    "import torch.optim as optim\n",
    "import torchvision\n",
    "import torchvision.transforms as transforms\n",
    "from torch.utils.data import Dataset, DataLoader, ConcatDataset\n",
    "import numpy as np\n",
    "from skimage.filters import gabor_kernel\n",
    "import copy\n",
    "from PIL import Image\n",
    "import matplotlib.pyplot as plt\n",
    "import copy\n",
    "\n",
    "import modeling"
   ]
  },
  {
   "cell_type": "code",
   "execution_count": 11,
   "id": "91f46832",
   "metadata": {},
   "outputs": [],
   "source": [
    "transform_cifar = transforms.Compose([\n",
    "    transforms.Grayscale(num_output_channels=1),\n",
    "    transforms.Resize((32, 32)),\n",
    "    transforms.ToTensor(),\n",
    "    transforms.Normalize((0.5,), (0.5,))\n",
    "])\n",
    "\n",
    "batch_size = 64\n",
    "\n",
    "cifar_trainset = torchvision.datasets.CIFAR10(root='./data', train=True, download=True, transform=transform_cifar)\n",
    "cifar_testset = torchvision.datasets.CIFAR10(root='./data', train=False, download=True, transform=transform_cifar)\n",
    "cifar_train_loader = DataLoader(cifar_trainset, batch_size=batch_size, shuffle=True)\n",
    "cifar_test_loader = DataLoader(cifar_testset, batch_size=batch_size, shuffle=False)\n",
    "\n",
    "gabor_trainset = modeling.GaborDataset(num_images=5000, img_size=32, orientations=10, frequencies=(0.08,))\n",
    "gabor_testset = modeling.GaborDataset(num_images=5000, img_size=32, orientations=10, frequencies=(0.08,))\n",
    "gabor_train_loader = DataLoader(gabor_trainset, batch_size=batch_size, shuffle=True)\n",
    "gabor_test_loader = DataLoader(gabor_testset, batch_size=batch_size, shuffle=False)\n",
    "\n",
    "combined_trainset = ConcatDataset([cifar_trainset, gabor_trainset])\n",
    "combined_loader = DataLoader(combined_trainset, batch_size=batch_size, shuffle=True)"
   ]
  },
  {
   "cell_type": "code",
   "execution_count": 12,
   "id": "54939997",
   "metadata": {},
   "outputs": [
    {
     "data": {
      "application/vnd.jupyter.widget-view+json": {
       "model_id": "a21dcba35f8844fea4d855902baf5e5f",
       "version_major": 2,
       "version_minor": 0
      },
      "text/plain": [
       "Epochs:   0%|          | 0/50 [00:00<?, ?it/s]"
      ]
     },
     "metadata": {},
     "output_type": "display_data"
    },
    {
     "data": {
      "application/vnd.jupyter.widget-view+json": {
       "model_id": "224c26ec1cfb4e19bc766d1ce2eeb7fd",
       "version_major": 2,
       "version_minor": 0
      },
      "text/plain": [
       "Batches in epoch #1:   0%|          | 0/860 [00:00<?, ?it/s]"
      ]
     },
     "metadata": {},
     "output_type": "display_data"
    },
    {
     "data": {
      "application/vnd.jupyter.widget-view+json": {
       "model_id": "42b4e33911f54f49b493f97f4b4b5cd1",
       "version_major": 2,
       "version_minor": 0
      },
      "text/plain": [
       "Batches in epoch #2:   0%|          | 0/860 [00:00<?, ?it/s]"
      ]
     },
     "metadata": {},
     "output_type": "display_data"
    },
    {
     "data": {
      "application/vnd.jupyter.widget-view+json": {
       "model_id": "bad685bb686646499c6fb42c83b0715a",
       "version_major": 2,
       "version_minor": 0
      },
      "text/plain": [
       "Batches in epoch #3:   0%|          | 0/860 [00:00<?, ?it/s]"
      ]
     },
     "metadata": {},
     "output_type": "display_data"
    },
    {
     "data": {
      "application/vnd.jupyter.widget-view+json": {
       "model_id": "611b60bae0aa4efba2d1007613294727",
       "version_major": 2,
       "version_minor": 0
      },
      "text/plain": [
       "Batches in epoch #4:   0%|          | 0/860 [00:00<?, ?it/s]"
      ]
     },
     "metadata": {},
     "output_type": "display_data"
    },
    {
     "data": {
      "application/vnd.jupyter.widget-view+json": {
       "model_id": "489d1b0bbd87447dbd5fefc8b9feb1d2",
       "version_major": 2,
       "version_minor": 0
      },
      "text/plain": [
       "Batches in epoch #5:   0%|          | 0/860 [00:00<?, ?it/s]"
      ]
     },
     "metadata": {},
     "output_type": "display_data"
    },
    {
     "data": {
      "application/vnd.jupyter.widget-view+json": {
       "model_id": "9ec69f3cc016433fbb80c36e83faaf21",
       "version_major": 2,
       "version_minor": 0
      },
      "text/plain": [
       "Batches in epoch #6:   0%|          | 0/860 [00:00<?, ?it/s]"
      ]
     },
     "metadata": {},
     "output_type": "display_data"
    },
    {
     "data": {
      "application/vnd.jupyter.widget-view+json": {
       "model_id": "f78c8b62cbc7419b80e4dade8b96db26",
       "version_major": 2,
       "version_minor": 0
      },
      "text/plain": [
       "Batches in epoch #7:   0%|          | 0/860 [00:00<?, ?it/s]"
      ]
     },
     "metadata": {},
     "output_type": "display_data"
    },
    {
     "data": {
      "application/vnd.jupyter.widget-view+json": {
       "model_id": "1e3c0919b8bd4cb1a4ed143311cba259",
       "version_major": 2,
       "version_minor": 0
      },
      "text/plain": [
       "Batches in epoch #8:   0%|          | 0/860 [00:00<?, ?it/s]"
      ]
     },
     "metadata": {},
     "output_type": "display_data"
    },
    {
     "data": {
      "application/vnd.jupyter.widget-view+json": {
       "model_id": "085cd506f12c4ea8a9e24d7696e5bfc6",
       "version_major": 2,
       "version_minor": 0
      },
      "text/plain": [
       "Batches in epoch #9:   0%|          | 0/860 [00:00<?, ?it/s]"
      ]
     },
     "metadata": {},
     "output_type": "display_data"
    },
    {
     "data": {
      "application/vnd.jupyter.widget-view+json": {
       "model_id": "1da3b0bcb92b40af98f5c860e3d099dc",
       "version_major": 2,
       "version_minor": 0
      },
      "text/plain": [
       "Batches in epoch #10:   0%|          | 0/860 [00:00<?, ?it/s]"
      ]
     },
     "metadata": {},
     "output_type": "display_data"
    },
    {
     "data": {
      "application/vnd.jupyter.widget-view+json": {
       "model_id": "98b5209eb4ef4381a06491632030c264",
       "version_major": 2,
       "version_minor": 0
      },
      "text/plain": [
       "Batches in epoch #11:   0%|          | 0/860 [00:00<?, ?it/s]"
      ]
     },
     "metadata": {},
     "output_type": "display_data"
    },
    {
     "data": {
      "application/vnd.jupyter.widget-view+json": {
       "model_id": "06ef889098fb456395c6b39fe145981e",
       "version_major": 2,
       "version_minor": 0
      },
      "text/plain": [
       "Batches in epoch #12:   0%|          | 0/860 [00:00<?, ?it/s]"
      ]
     },
     "metadata": {},
     "output_type": "display_data"
    },
    {
     "data": {
      "application/vnd.jupyter.widget-view+json": {
       "model_id": "b6602127ae0d42a3b20acd58ae4f8b82",
       "version_major": 2,
       "version_minor": 0
      },
      "text/plain": [
       "Batches in epoch #13:   0%|          | 0/860 [00:00<?, ?it/s]"
      ]
     },
     "metadata": {},
     "output_type": "display_data"
    },
    {
     "data": {
      "application/vnd.jupyter.widget-view+json": {
       "model_id": "7ebc5e71bd674608a4cbab6ca6eb3316",
       "version_major": 2,
       "version_minor": 0
      },
      "text/plain": [
       "Batches in epoch #14:   0%|          | 0/860 [00:00<?, ?it/s]"
      ]
     },
     "metadata": {},
     "output_type": "display_data"
    },
    {
     "data": {
      "application/vnd.jupyter.widget-view+json": {
       "model_id": "8a8c4730a71d4bbeaf1c8a7db29e8e3d",
       "version_major": 2,
       "version_minor": 0
      },
      "text/plain": [
       "Batches in epoch #15:   0%|          | 0/860 [00:00<?, ?it/s]"
      ]
     },
     "metadata": {},
     "output_type": "display_data"
    },
    {
     "data": {
      "application/vnd.jupyter.widget-view+json": {
       "model_id": "fd778fdd82ff4d4a8d2a96797bc95dc8",
       "version_major": 2,
       "version_minor": 0
      },
      "text/plain": [
       "Batches in epoch #16:   0%|          | 0/860 [00:00<?, ?it/s]"
      ]
     },
     "metadata": {},
     "output_type": "display_data"
    },
    {
     "data": {
      "application/vnd.jupyter.widget-view+json": {
       "model_id": "f6851b580e6b43d0b5962f442a09797b",
       "version_major": 2,
       "version_minor": 0
      },
      "text/plain": [
       "Batches in epoch #17:   0%|          | 0/860 [00:00<?, ?it/s]"
      ]
     },
     "metadata": {},
     "output_type": "display_data"
    },
    {
     "data": {
      "application/vnd.jupyter.widget-view+json": {
       "model_id": "0a784cbfc76d4d90b8bbe866ce3b168b",
       "version_major": 2,
       "version_minor": 0
      },
      "text/plain": [
       "Batches in epoch #18:   0%|          | 0/860 [00:00<?, ?it/s]"
      ]
     },
     "metadata": {},
     "output_type": "display_data"
    },
    {
     "data": {
      "application/vnd.jupyter.widget-view+json": {
       "model_id": "6693a60edaa74b8d83e1ba5cad2e4225",
       "version_major": 2,
       "version_minor": 0
      },
      "text/plain": [
       "Batches in epoch #19:   0%|          | 0/860 [00:00<?, ?it/s]"
      ]
     },
     "metadata": {},
     "output_type": "display_data"
    },
    {
     "data": {
      "application/vnd.jupyter.widget-view+json": {
       "model_id": "a1180893f44f4ec494f188db7a7d0c5e",
       "version_major": 2,
       "version_minor": 0
      },
      "text/plain": [
       "Batches in epoch #20:   0%|          | 0/860 [00:00<?, ?it/s]"
      ]
     },
     "metadata": {},
     "output_type": "display_data"
    },
    {
     "data": {
      "application/vnd.jupyter.widget-view+json": {
       "model_id": "eb55b40d5cb44c9499f0a351e557e767",
       "version_major": 2,
       "version_minor": 0
      },
      "text/plain": [
       "Batches in epoch #21:   0%|          | 0/860 [00:00<?, ?it/s]"
      ]
     },
     "metadata": {},
     "output_type": "display_data"
    },
    {
     "data": {
      "application/vnd.jupyter.widget-view+json": {
       "model_id": "91fbe56871ee49f191e624b1106c2c3c",
       "version_major": 2,
       "version_minor": 0
      },
      "text/plain": [
       "Batches in epoch #22:   0%|          | 0/860 [00:00<?, ?it/s]"
      ]
     },
     "metadata": {},
     "output_type": "display_data"
    },
    {
     "data": {
      "application/vnd.jupyter.widget-view+json": {
       "model_id": "9e6bd6bf2d2942128e762d7aa5ed4d55",
       "version_major": 2,
       "version_minor": 0
      },
      "text/plain": [
       "Batches in epoch #23:   0%|          | 0/860 [00:00<?, ?it/s]"
      ]
     },
     "metadata": {},
     "output_type": "display_data"
    },
    {
     "data": {
      "application/vnd.jupyter.widget-view+json": {
       "model_id": "60615799038c48fca63fcd5972fb6e3f",
       "version_major": 2,
       "version_minor": 0
      },
      "text/plain": [
       "Batches in epoch #24:   0%|          | 0/860 [00:00<?, ?it/s]"
      ]
     },
     "metadata": {},
     "output_type": "display_data"
    },
    {
     "data": {
      "application/vnd.jupyter.widget-view+json": {
       "model_id": "62d1ad53aac04543a2f6219dc5ecbfb6",
       "version_major": 2,
       "version_minor": 0
      },
      "text/plain": [
       "Batches in epoch #25:   0%|          | 0/860 [00:00<?, ?it/s]"
      ]
     },
     "metadata": {},
     "output_type": "display_data"
    },
    {
     "data": {
      "application/vnd.jupyter.widget-view+json": {
       "model_id": "eab80ee152664d9ab40d646872dc9600",
       "version_major": 2,
       "version_minor": 0
      },
      "text/plain": [
       "Batches in epoch #26:   0%|          | 0/860 [00:00<?, ?it/s]"
      ]
     },
     "metadata": {},
     "output_type": "display_data"
    },
    {
     "data": {
      "application/vnd.jupyter.widget-view+json": {
       "model_id": "ce3678036bc14ab393f245e62709a8f0",
       "version_major": 2,
       "version_minor": 0
      },
      "text/plain": [
       "Batches in epoch #27:   0%|          | 0/860 [00:00<?, ?it/s]"
      ]
     },
     "metadata": {},
     "output_type": "display_data"
    },
    {
     "data": {
      "application/vnd.jupyter.widget-view+json": {
       "model_id": "e7ed19a806144647b3961afac9b3be78",
       "version_major": 2,
       "version_minor": 0
      },
      "text/plain": [
       "Batches in epoch #28:   0%|          | 0/860 [00:00<?, ?it/s]"
      ]
     },
     "metadata": {},
     "output_type": "display_data"
    },
    {
     "data": {
      "application/vnd.jupyter.widget-view+json": {
       "model_id": "ded1f8052b39479cac91edcf4a08767e",
       "version_major": 2,
       "version_minor": 0
      },
      "text/plain": [
       "Batches in epoch #29:   0%|          | 0/860 [00:00<?, ?it/s]"
      ]
     },
     "metadata": {},
     "output_type": "display_data"
    },
    {
     "data": {
      "application/vnd.jupyter.widget-view+json": {
       "model_id": "782b8d7fc4c14c978a1b020969fb6250",
       "version_major": 2,
       "version_minor": 0
      },
      "text/plain": [
       "Batches in epoch #30:   0%|          | 0/860 [00:00<?, ?it/s]"
      ]
     },
     "metadata": {},
     "output_type": "display_data"
    },
    {
     "data": {
      "application/vnd.jupyter.widget-view+json": {
       "model_id": "b0ae9a38feb6422da901b1b3883cd310",
       "version_major": 2,
       "version_minor": 0
      },
      "text/plain": [
       "Batches in epoch #31:   0%|          | 0/860 [00:00<?, ?it/s]"
      ]
     },
     "metadata": {},
     "output_type": "display_data"
    },
    {
     "data": {
      "application/vnd.jupyter.widget-view+json": {
       "model_id": "99d13d8cf6c740988a277729efe4f837",
       "version_major": 2,
       "version_minor": 0
      },
      "text/plain": [
       "Batches in epoch #32:   0%|          | 0/860 [00:00<?, ?it/s]"
      ]
     },
     "metadata": {},
     "output_type": "display_data"
    },
    {
     "data": {
      "application/vnd.jupyter.widget-view+json": {
       "model_id": "6ae598fa581944268c01e83153ddbdb4",
       "version_major": 2,
       "version_minor": 0
      },
      "text/plain": [
       "Batches in epoch #33:   0%|          | 0/860 [00:00<?, ?it/s]"
      ]
     },
     "metadata": {},
     "output_type": "display_data"
    },
    {
     "data": {
      "application/vnd.jupyter.widget-view+json": {
       "model_id": "273e7bf30ccc4ee6be3c0fffdcbb39ca",
       "version_major": 2,
       "version_minor": 0
      },
      "text/plain": [
       "Batches in epoch #34:   0%|          | 0/860 [00:00<?, ?it/s]"
      ]
     },
     "metadata": {},
     "output_type": "display_data"
    },
    {
     "data": {
      "application/vnd.jupyter.widget-view+json": {
       "model_id": "d83a6a24002c46a9acf75db572282528",
       "version_major": 2,
       "version_minor": 0
      },
      "text/plain": [
       "Batches in epoch #35:   0%|          | 0/860 [00:00<?, ?it/s]"
      ]
     },
     "metadata": {},
     "output_type": "display_data"
    },
    {
     "data": {
      "application/vnd.jupyter.widget-view+json": {
       "model_id": "5341e8637d154ffd96ff4bfb0069be46",
       "version_major": 2,
       "version_minor": 0
      },
      "text/plain": [
       "Batches in epoch #36:   0%|          | 0/860 [00:00<?, ?it/s]"
      ]
     },
     "metadata": {},
     "output_type": "display_data"
    },
    {
     "data": {
      "application/vnd.jupyter.widget-view+json": {
       "model_id": "c66f1bc5cee245448bc9b5d472d070b7",
       "version_major": 2,
       "version_minor": 0
      },
      "text/plain": [
       "Batches in epoch #37:   0%|          | 0/860 [00:00<?, ?it/s]"
      ]
     },
     "metadata": {},
     "output_type": "display_data"
    },
    {
     "data": {
      "application/vnd.jupyter.widget-view+json": {
       "model_id": "f8a680de188a40ab986dab3ff54738c1",
       "version_major": 2,
       "version_minor": 0
      },
      "text/plain": [
       "Batches in epoch #38:   0%|          | 0/860 [00:00<?, ?it/s]"
      ]
     },
     "metadata": {},
     "output_type": "display_data"
    },
    {
     "data": {
      "application/vnd.jupyter.widget-view+json": {
       "model_id": "67ea8815464a4bf6a1eb49e180cdf4a2",
       "version_major": 2,
       "version_minor": 0
      },
      "text/plain": [
       "Batches in epoch #39:   0%|          | 0/860 [00:00<?, ?it/s]"
      ]
     },
     "metadata": {},
     "output_type": "display_data"
    },
    {
     "data": {
      "application/vnd.jupyter.widget-view+json": {
       "model_id": "9cffee31e542494289fe8f2fef7093b1",
       "version_major": 2,
       "version_minor": 0
      },
      "text/plain": [
       "Batches in epoch #40:   0%|          | 0/860 [00:00<?, ?it/s]"
      ]
     },
     "metadata": {},
     "output_type": "display_data"
    },
    {
     "data": {
      "application/vnd.jupyter.widget-view+json": {
       "model_id": "a4633265a6d5455391bb7bc073d33716",
       "version_major": 2,
       "version_minor": 0
      },
      "text/plain": [
       "Batches in epoch #41:   0%|          | 0/860 [00:00<?, ?it/s]"
      ]
     },
     "metadata": {},
     "output_type": "display_data"
    },
    {
     "data": {
      "application/vnd.jupyter.widget-view+json": {
       "model_id": "f75c7345a2c44dcdb3eb334e7f53a2af",
       "version_major": 2,
       "version_minor": 0
      },
      "text/plain": [
       "Batches in epoch #42:   0%|          | 0/860 [00:00<?, ?it/s]"
      ]
     },
     "metadata": {},
     "output_type": "display_data"
    },
    {
     "data": {
      "application/vnd.jupyter.widget-view+json": {
       "model_id": "8e4e6926536e46bda9eb064caeb4b641",
       "version_major": 2,
       "version_minor": 0
      },
      "text/plain": [
       "Batches in epoch #43:   0%|          | 0/860 [00:00<?, ?it/s]"
      ]
     },
     "metadata": {},
     "output_type": "display_data"
    },
    {
     "data": {
      "application/vnd.jupyter.widget-view+json": {
       "model_id": "51fcc010bd904c398d20be7c46596e22",
       "version_major": 2,
       "version_minor": 0
      },
      "text/plain": [
       "Batches in epoch #44:   0%|          | 0/860 [00:00<?, ?it/s]"
      ]
     },
     "metadata": {},
     "output_type": "display_data"
    },
    {
     "data": {
      "application/vnd.jupyter.widget-view+json": {
       "model_id": "d92136e216f44a33acadfa9e01dc5833",
       "version_major": 2,
       "version_minor": 0
      },
      "text/plain": [
       "Batches in epoch #45:   0%|          | 0/860 [00:00<?, ?it/s]"
      ]
     },
     "metadata": {},
     "output_type": "display_data"
    },
    {
     "data": {
      "application/vnd.jupyter.widget-view+json": {
       "model_id": "d86c5bc309a7453e895b873f3f12c521",
       "version_major": 2,
       "version_minor": 0
      },
      "text/plain": [
       "Batches in epoch #46:   0%|          | 0/860 [00:00<?, ?it/s]"
      ]
     },
     "metadata": {},
     "output_type": "display_data"
    },
    {
     "data": {
      "application/vnd.jupyter.widget-view+json": {
       "model_id": "f977ce0ef3754f8b833baa37c841b52a",
       "version_major": 2,
       "version_minor": 0
      },
      "text/plain": [
       "Batches in epoch #47:   0%|          | 0/860 [00:00<?, ?it/s]"
      ]
     },
     "metadata": {},
     "output_type": "display_data"
    },
    {
     "data": {
      "application/vnd.jupyter.widget-view+json": {
       "model_id": "f3ccc628808d4341ab387d05a1b9d611",
       "version_major": 2,
       "version_minor": 0
      },
      "text/plain": [
       "Batches in epoch #48:   0%|          | 0/860 [00:00<?, ?it/s]"
      ]
     },
     "metadata": {},
     "output_type": "display_data"
    },
    {
     "data": {
      "application/vnd.jupyter.widget-view+json": {
       "model_id": "224bb23990da4dc3b7146ba72126b98a",
       "version_major": 2,
       "version_minor": 0
      },
      "text/plain": [
       "Batches in epoch #49:   0%|          | 0/860 [00:00<?, ?it/s]"
      ]
     },
     "metadata": {},
     "output_type": "display_data"
    },
    {
     "data": {
      "application/vnd.jupyter.widget-view+json": {
       "model_id": "65260a8d88cd450dbf77f5f79c919ad3",
       "version_major": 2,
       "version_minor": 0
      },
      "text/plain": [
       "Batches in epoch #50:   0%|          | 0/860 [00:00<?, ?it/s]"
      ]
     },
     "metadata": {},
     "output_type": "display_data"
    }
   ],
   "source": [
    "model = modeling.ConvNet(in_channels=1, height=32, width=32)\n",
    "model, losses = modeling.train_model(model, combined_loader, num_epochs=50)"
   ]
  },
  {
   "cell_type": "code",
   "execution_count": 13,
   "id": "0c00de67",
   "metadata": {},
   "outputs": [
    {
     "data": {
      "image/png": "[encoded data removed]",
      "text/plain": [
       "<Figure size 600x400 with 1 Axes>"
      ]
     },
     "metadata": {},
     "output_type": "display_data"
    }
   ],
   "source": [
    "fig, axs = modeling.plot_losses(losses)"
   ]
  },
  {
   "cell_type": "code",
   "execution_count": 21,
   "id": "b5d37e7d",
   "metadata": {},
   "outputs": [],
   "source": [
    "from tqdm.notebook import tqdm, trange"
   ]
  },
  {
   "cell_type": "code",
   "execution_count": 23,
   "id": "8621f125",
   "metadata": {},
   "outputs": [
    {
     "data": {
      "application/vnd.jupyter.widget-view+json": {
       "model_id": "e1a8395bff174a478d0d4c21f3191529",
       "version_major": 2,
       "version_minor": 0
      },
      "text/plain": [
       "Epochs:   0%|          | 0/50 [00:00<?, ?it/s]"
      ]
     },
     "metadata": {},
     "output_type": "display_data"
    },
    {
     "data": {
      "application/vnd.jupyter.widget-view+json": {
       "model_id": "fa0b5368e4214023b008edaccbe3d2b4",
       "version_major": 2,
       "version_minor": 0
      },
      "text/plain": [
       "Batches in epoch #1:   0%|          | 0/860 [00:00<?, ?it/s]"
      ]
     },
     "metadata": {},
     "output_type": "display_data"
    },
    {
     "data": {
      "application/vnd.jupyter.widget-view+json": {
       "model_id": "7afa2f56785042368706b026653d6d5b",
       "version_major": 2,
       "version_minor": 0
      },
      "text/plain": [
       "Batches in epoch #2:   0%|          | 0/860 [00:00<?, ?it/s]"
      ]
     },
     "metadata": {},
     "output_type": "display_data"
    },
    {
     "data": {
      "application/vnd.jupyter.widget-view+json": {
       "model_id": "4e11decbd56b4556b0ae34467cec6150",
       "version_major": 2,
       "version_minor": 0
      },
      "text/plain": [
       "Batches in epoch #3:   0%|          | 0/860 [00:00<?, ?it/s]"
      ]
     },
     "metadata": {},
     "output_type": "display_data"
    },
    {
     "data": {
      "application/vnd.jupyter.widget-view+json": {
       "model_id": "e876ef4ccf7a4cd9a2acae28cb31cdb4",
       "version_major": 2,
       "version_minor": 0
      },
      "text/plain": [
       "Batches in epoch #4:   0%|          | 0/860 [00:00<?, ?it/s]"
      ]
     },
     "metadata": {},
     "output_type": "display_data"
    },
    {
     "data": {
      "application/vnd.jupyter.widget-view+json": {
       "model_id": "0df521dfa3654d348a83d9c553d8eb3d",
       "version_major": 2,
       "version_minor": 0
      },
      "text/plain": [
       "Batches in epoch #5:   0%|          | 0/860 [00:00<?, ?it/s]"
      ]
     },
     "metadata": {},
     "output_type": "display_data"
    },
    {
     "data": {
      "application/vnd.jupyter.widget-view+json": {
       "model_id": "7d6adaf4ee414f1c8409894214ee4b4c",
       "version_major": 2,
       "version_minor": 0
      },
      "text/plain": [
       "Batches in epoch #6:   0%|          | 0/860 [00:00<?, ?it/s]"
      ]
     },
     "metadata": {},
     "output_type": "display_data"
    },
    {
     "data": {
      "application/vnd.jupyter.widget-view+json": {
       "model_id": "0209ad03f40c4b90a2e553fa4f1f4352",
       "version_major": 2,
       "version_minor": 0
      },
      "text/plain": [
       "Batches in epoch #7:   0%|          | 0/860 [00:00<?, ?it/s]"
      ]
     },
     "metadata": {},
     "output_type": "display_data"
    },
    {
     "data": {
      "application/vnd.jupyter.widget-view+json": {
       "model_id": "19c9c6266e744773ab3a7ee70bf75273",
       "version_major": 2,
       "version_minor": 0
      },
      "text/plain": [
       "Batches in epoch #8:   0%|          | 0/860 [00:00<?, ?it/s]"
      ]
     },
     "metadata": {},
     "output_type": "display_data"
    },
    {
     "data": {
      "application/vnd.jupyter.widget-view+json": {
       "model_id": "42a089bd9852406bafdd1e903d508bca",
       "version_major": 2,
       "version_minor": 0
      },
      "text/plain": [
       "Batches in epoch #9:   0%|          | 0/860 [00:00<?, ?it/s]"
      ]
     },
     "metadata": {},
     "output_type": "display_data"
    },
    {
     "data": {
      "application/vnd.jupyter.widget-view+json": {
       "model_id": "3ae5299c90fa46389d549101e76f6a66",
       "version_major": 2,
       "version_minor": 0
      },
      "text/plain": [
       "Batches in epoch #10:   0%|          | 0/860 [00:00<?, ?it/s]"
      ]
     },
     "metadata": {},
     "output_type": "display_data"
    },
    {
     "data": {
      "application/vnd.jupyter.widget-view+json": {
       "model_id": "1e82accecade42759a4f2486bc55175b",
       "version_major": 2,
       "version_minor": 0
      },
      "text/plain": [
       "Batches in epoch #11:   0%|          | 0/860 [00:00<?, ?it/s]"
      ]
     },
     "metadata": {},
     "output_type": "display_data"
    },
    {
     "data": {
      "application/vnd.jupyter.widget-view+json": {
       "model_id": "6db4c2b7cd7049ee9d26c107e0ef97ab",
       "version_major": 2,
       "version_minor": 0
      },
      "text/plain": [
       "Batches in epoch #12:   0%|          | 0/860 [00:00<?, ?it/s]"
      ]
     },
     "metadata": {},
     "output_type": "display_data"
    },
    {
     "data": {
      "application/vnd.jupyter.widget-view+json": {
       "model_id": "25371a99881b401d98989bb420695c43",
       "version_major": 2,
       "version_minor": 0
      },
      "text/plain": [
       "Batches in epoch #13:   0%|          | 0/860 [00:00<?, ?it/s]"
      ]
     },
     "metadata": {},
     "output_type": "display_data"
    },
    {
     "data": {
      "application/vnd.jupyter.widget-view+json": {
       "model_id": "bc8fb2f0d3c549d1bc56fb63d75a6256",
       "version_major": 2,
       "version_minor": 0
      },
      "text/plain": [
       "Batches in epoch #14:   0%|          | 0/860 [00:00<?, ?it/s]"
      ]
     },
     "metadata": {},
     "output_type": "display_data"
    },
    {
     "data": {
      "application/vnd.jupyter.widget-view+json": {
       "model_id": "492aa0e49bcd492e80b888200667fb03",
       "version_major": 2,
       "version_minor": 0
      },
      "text/plain": [
       "Batches in epoch #15:   0%|          | 0/860 [00:00<?, ?it/s]"
      ]
     },
     "metadata": {},
     "output_type": "display_data"
    },
    {
     "data": {
      "application/vnd.jupyter.widget-view+json": {
       "model_id": "db1b36b89fd04f6487336cf2798c20f0",
       "version_major": 2,
       "version_minor": 0
      },
      "text/plain": [
       "Batches in epoch #16:   0%|          | 0/860 [00:00<?, ?it/s]"
      ]
     },
     "metadata": {},
     "output_type": "display_data"
    },
    {
     "data": {
      "application/vnd.jupyter.widget-view+json": {
       "model_id": "1add42699f024ea285043be12295f9a7",
       "version_major": 2,
       "version_minor": 0
      },
      "text/plain": [
       "Batches in epoch #17:   0%|          | 0/860 [00:00<?, ?it/s]"
      ]
     },
     "metadata": {},
     "output_type": "display_data"
    },
    {
     "data": {
      "application/vnd.jupyter.widget-view+json": {
       "model_id": "2f414aed55df4d41ab898dd8dfc14a72",
       "version_major": 2,
       "version_minor": 0
      },
      "text/plain": [
       "Batches in epoch #18:   0%|          | 0/860 [00:00<?, ?it/s]"
      ]
     },
     "metadata": {},
     "output_type": "display_data"
    },
    {
     "data": {
      "application/vnd.jupyter.widget-view+json": {
       "model_id": "1e2d6917f6624bdd842e0525640fa1cb",
       "version_major": 2,
       "version_minor": 0
      },
      "text/plain": [
       "Batches in epoch #19:   0%|          | 0/860 [00:00<?, ?it/s]"
      ]
     },
     "metadata": {},
     "output_type": "display_data"
    },
    {
     "data": {
      "application/vnd.jupyter.widget-view+json": {
       "model_id": "474f7406711749cc889fd79dc4f7b795",
       "version_major": 2,
       "version_minor": 0
      },
      "text/plain": [
       "Batches in epoch #20:   0%|          | 0/860 [00:00<?, ?it/s]"
      ]
     },
     "metadata": {},
     "output_type": "display_data"
    },
    {
     "data": {
      "application/vnd.jupyter.widget-view+json": {
       "model_id": "c8359a85b6c745c3a2bf3b625bb62ea9",
       "version_major": 2,
       "version_minor": 0
      },
      "text/plain": [
       "Batches in epoch #21:   0%|          | 0/860 [00:00<?, ?it/s]"
      ]
     },
     "metadata": {},
     "output_type": "display_data"
    },
    {
     "data": {
      "application/vnd.jupyter.widget-view+json": {
       "model_id": "45c72b741d1a464b85cf612c03b788ca",
       "version_major": 2,
       "version_minor": 0
      },
      "text/plain": [
       "Batches in epoch #22:   0%|          | 0/860 [00:00<?, ?it/s]"
      ]
     },
     "metadata": {},
     "output_type": "display_data"
    },
    {
     "data": {
      "application/vnd.jupyter.widget-view+json": {
       "model_id": "291d9b179b3c4412992fb9e73903efc5",
       "version_major": 2,
       "version_minor": 0
      },
      "text/plain": [
       "Batches in epoch #23:   0%|          | 0/860 [00:00<?, ?it/s]"
      ]
     },
     "metadata": {},
     "output_type": "display_data"
    },
    {
     "data": {
      "application/vnd.jupyter.widget-view+json": {
       "model_id": "9720daff41c04688a63a97c26151eedf",
       "version_major": 2,
       "version_minor": 0
      },
      "text/plain": [
       "Batches in epoch #24:   0%|          | 0/860 [00:00<?, ?it/s]"
      ]
     },
     "metadata": {},
     "output_type": "display_data"
    },
    {
     "data": {
      "application/vnd.jupyter.widget-view+json": {
       "model_id": "74e97ebbd2224b84875db7b0fb43c0ee",
       "version_major": 2,
       "version_minor": 0
      },
      "text/plain": [
       "Batches in epoch #25:   0%|          | 0/860 [00:00<?, ?it/s]"
      ]
     },
     "metadata": {},
     "output_type": "display_data"
    },
    {
     "data": {
      "application/vnd.jupyter.widget-view+json": {
       "model_id": "c0538942f50d43a59ee24e816b378529",
       "version_major": 2,
       "version_minor": 0
      },
      "text/plain": [
       "Batches in epoch #26:   0%|          | 0/860 [00:00<?, ?it/s]"
      ]
     },
     "metadata": {},
     "output_type": "display_data"
    },
    {
     "data": {
      "application/vnd.jupyter.widget-view+json": {
       "model_id": "253b5b5bcd7048c588f82f1c845717bc",
       "version_major": 2,
       "version_minor": 0
      },
      "text/plain": [
       "Batches in epoch #27:   0%|          | 0/860 [00:00<?, ?it/s]"
      ]
     },
     "metadata": {},
     "output_type": "display_data"
    },
    {
     "data": {
      "application/vnd.jupyter.widget-view+json": {
       "model_id": "bc60415ab04e4e919abd00f8d9823907",
       "version_major": 2,
       "version_minor": 0
      },
      "text/plain": [
       "Batches in epoch #28:   0%|          | 0/860 [00:00<?, ?it/s]"
      ]
     },
     "metadata": {},
     "output_type": "display_data"
    },
    {
     "data": {
      "application/vnd.jupyter.widget-view+json": {
       "model_id": "76dad2b853a04c6ea1808787e602e9fa",
       "version_major": 2,
       "version_minor": 0
      },
      "text/plain": [
       "Batches in epoch #29:   0%|          | 0/860 [00:00<?, ?it/s]"
      ]
     },
     "metadata": {},
     "output_type": "display_data"
    },
    {
     "data": {
      "application/vnd.jupyter.widget-view+json": {
       "model_id": "55928a4c1de841af95a5c8df64410c00",
       "version_major": 2,
       "version_minor": 0
      },
      "text/plain": [
       "Batches in epoch #30:   0%|          | 0/860 [00:00<?, ?it/s]"
      ]
     },
     "metadata": {},
     "output_type": "display_data"
    },
    {
     "data": {
      "application/vnd.jupyter.widget-view+json": {
       "model_id": "11466c37d6b9453883345244f911de77",
       "version_major": 2,
       "version_minor": 0
      },
      "text/plain": [
       "Batches in epoch #31:   0%|          | 0/860 [00:00<?, ?it/s]"
      ]
     },
     "metadata": {},
     "output_type": "display_data"
    },
    {
     "data": {
      "application/vnd.jupyter.widget-view+json": {
       "model_id": "ccc21731935949db8afd4c171f92d8c9",
       "version_major": 2,
       "version_minor": 0
      },
      "text/plain": [
       "Batches in epoch #32:   0%|          | 0/860 [00:00<?, ?it/s]"
      ]
     },
     "metadata": {},
     "output_type": "display_data"
    },
    {
     "data": {
      "application/vnd.jupyter.widget-view+json": {
       "model_id": "a92f5ed35c484fc6bb3624e123e940a7",
       "version_major": 2,
       "version_minor": 0
      },
      "text/plain": [
       "Batches in epoch #33:   0%|          | 0/860 [00:00<?, ?it/s]"
      ]
     },
     "metadata": {},
     "output_type": "display_data"
    },
    {
     "data": {
      "application/vnd.jupyter.widget-view+json": {
       "model_id": "d1b4dcbface3415cb67fe1182d7dec78",
       "version_major": 2,
       "version_minor": 0
      },
      "text/plain": [
       "Batches in epoch #34:   0%|          | 0/860 [00:00<?, ?it/s]"
      ]
     },
     "metadata": {},
     "output_type": "display_data"
    },
    {
     "data": {
      "application/vnd.jupyter.widget-view+json": {
       "model_id": "f6d3c6ee39a04ab1b2e7b2c967197798",
       "version_major": 2,
       "version_minor": 0
      },
      "text/plain": [
       "Batches in epoch #35:   0%|          | 0/860 [00:00<?, ?it/s]"
      ]
     },
     "metadata": {},
     "output_type": "display_data"
    },
    {
     "data": {
      "application/vnd.jupyter.widget-view+json": {
       "model_id": "b3b55f8460454306b0d1b26b500bebf4",
       "version_major": 2,
       "version_minor": 0
      },
      "text/plain": [
       "Batches in epoch #36:   0%|          | 0/860 [00:00<?, ?it/s]"
      ]
     },
     "metadata": {},
     "output_type": "display_data"
    },
    {
     "data": {
      "application/vnd.jupyter.widget-view+json": {
       "model_id": "98b1509952344aff8e2c6a5d56753fdc",
       "version_major": 2,
       "version_minor": 0
      },
      "text/plain": [
       "Batches in epoch #37:   0%|          | 0/860 [00:00<?, ?it/s]"
      ]
     },
     "metadata": {},
     "output_type": "display_data"
    },
    {
     "data": {
      "application/vnd.jupyter.widget-view+json": {
       "model_id": "5c71dad32e3a4a02ba3b7fc5fd057805",
       "version_major": 2,
       "version_minor": 0
      },
      "text/plain": [
       "Batches in epoch #38:   0%|          | 0/860 [00:00<?, ?it/s]"
      ]
     },
     "metadata": {},
     "output_type": "display_data"
    },
    {
     "data": {
      "application/vnd.jupyter.widget-view+json": {
       "model_id": "b4c7e135ab7847b787ec96d9c90ea50e",
       "version_major": 2,
       "version_minor": 0
      },
      "text/plain": [
       "Batches in epoch #39:   0%|          | 0/860 [00:00<?, ?it/s]"
      ]
     },
     "metadata": {},
     "output_type": "display_data"
    },
    {
     "data": {
      "application/vnd.jupyter.widget-view+json": {
       "model_id": "424581c2a9eb40d193cfbd8da1eab6ff",
       "version_major": 2,
       "version_minor": 0
      },
      "text/plain": [
       "Batches in epoch #40:   0%|          | 0/860 [00:00<?, ?it/s]"
      ]
     },
     "metadata": {},
     "output_type": "display_data"
    },
    {
     "data": {
      "application/vnd.jupyter.widget-view+json": {
       "model_id": "561177f1cf1b4b2e8d5ee6aed9fa9727",
       "version_major": 2,
       "version_minor": 0
      },
      "text/plain": [
       "Batches in epoch #41:   0%|          | 0/860 [00:00<?, ?it/s]"
      ]
     },
     "metadata": {},
     "output_type": "display_data"
    },
    {
     "data": {
      "application/vnd.jupyter.widget-view+json": {
       "model_id": "08f4cfa8a7f6465c809c0e674e7e0a75",
       "version_major": 2,
       "version_minor": 0
      },
      "text/plain": [
       "Batches in epoch #42:   0%|          | 0/860 [00:00<?, ?it/s]"
      ]
     },
     "metadata": {},
     "output_type": "display_data"
    },
    {
     "data": {
      "application/vnd.jupyter.widget-view+json": {
       "model_id": "8478d86ad6904aa8b627218d50b193fb",
       "version_major": 2,
       "version_minor": 0
      },
      "text/plain": [
       "Batches in epoch #43:   0%|          | 0/860 [00:00<?, ?it/s]"
      ]
     },
     "metadata": {},
     "output_type": "display_data"
    },
    {
     "data": {
      "application/vnd.jupyter.widget-view+json": {
       "model_id": "a3b4eacedecb481f9820f0c7a449adb1",
       "version_major": 2,
       "version_minor": 0
      },
      "text/plain": [
       "Batches in epoch #44:   0%|          | 0/860 [00:00<?, ?it/s]"
      ]
     },
     "metadata": {},
     "output_type": "display_data"
    },
    {
     "data": {
      "application/vnd.jupyter.widget-view+json": {
       "model_id": "ad9d6207ff00427b8f3cce56c961b928",
       "version_major": 2,
       "version_minor": 0
      },
      "text/plain": [
       "Batches in epoch #45:   0%|          | 0/860 [00:00<?, ?it/s]"
      ]
     },
     "metadata": {},
     "output_type": "display_data"
    },
    {
     "data": {
      "application/vnd.jupyter.widget-view+json": {
       "model_id": "92d2467032734d7f916ada22d7cd9a09",
       "version_major": 2,
       "version_minor": 0
      },
      "text/plain": [
       "Batches in epoch #46:   0%|          | 0/860 [00:00<?, ?it/s]"
      ]
     },
     "metadata": {},
     "output_type": "display_data"
    },
    {
     "data": {
      "application/vnd.jupyter.widget-view+json": {
       "model_id": "a03b80e3d9ff45339e7bb9aabf4f9547",
       "version_major": 2,
       "version_minor": 0
      },
      "text/plain": [
       "Batches in epoch #47:   0%|          | 0/860 [00:00<?, ?it/s]"
      ]
     },
     "metadata": {},
     "output_type": "display_data"
    },
    {
     "data": {
      "application/vnd.jupyter.widget-view+json": {
       "model_id": "430cb7d281494954afd4ebcd4e7098ca",
       "version_major": 2,
       "version_minor": 0
      },
      "text/plain": [
       "Batches in epoch #48:   0%|          | 0/860 [00:00<?, ?it/s]"
      ]
     },
     "metadata": {},
     "output_type": "display_data"
    },
    {
     "data": {
      "application/vnd.jupyter.widget-view+json": {
       "model_id": "90e427a6c4bf481bbd09038f5949f185",
       "version_major": 2,
       "version_minor": 0
      },
      "text/plain": [
       "Batches in epoch #49:   0%|          | 0/860 [00:00<?, ?it/s]"
      ]
     },
     "metadata": {},
     "output_type": "display_data"
    },
    {
     "data": {
      "application/vnd.jupyter.widget-view+json": {
       "model_id": "0840151f47f24db19c7674673e3acecb",
       "version_major": 2,
       "version_minor": 0
      },
      "text/plain": [
       "Batches in epoch #50:   0%|          | 0/860 [00:00<?, ?it/s]"
      ]
     },
     "metadata": {},
     "output_type": "display_data"
    },
    {
     "name": "stdout",
     "output_type": "stream",
     "text": [
      "Iteration 1/10 complete.\n"
     ]
    },
    {
     "data": {
      "application/vnd.jupyter.widget-view+json": {
       "model_id": "60abe8ff75404d59a367f677210a8811",
       "version_major": 2,
       "version_minor": 0
      },
      "text/plain": [
       "Epochs:   0%|          | 0/50 [00:00<?, ?it/s]"
      ]
     },
     "metadata": {},
     "output_type": "display_data"
    },
    {
     "data": {
      "application/vnd.jupyter.widget-view+json": {
       "model_id": "abfd803a1d6e444a9014b550d1996a08",
       "version_major": 2,
       "version_minor": 0
      },
      "text/plain": [
       "Batches in epoch #1:   0%|          | 0/860 [00:00<?, ?it/s]"
      ]
     },
     "metadata": {},
     "output_type": "display_data"
    },
    {
     "data": {
      "application/vnd.jupyter.widget-view+json": {
       "model_id": "37e5b71587dc4f9f960faab6c2ed575c",
       "version_major": 2,
       "version_minor": 0
      },
      "text/plain": [
       "Batches in epoch #2:   0%|          | 0/860 [00:00<?, ?it/s]"
      ]
     },
     "metadata": {},
     "output_type": "display_data"
    },
    {
     "data": {
      "application/vnd.jupyter.widget-view+json": {
       "model_id": "14c2e9e3fcb34c9eb2466b361c907369",
       "version_major": 2,
       "version_minor": 0
      },
      "text/plain": [
       "Batches in epoch #3:   0%|          | 0/860 [00:00<?, ?it/s]"
      ]
     },
     "metadata": {},
     "output_type": "display_data"
    },
    {
     "data": {
      "application/vnd.jupyter.widget-view+json": {
       "model_id": "e51074af4c50449bbf2688a0ba2ddb10",
       "version_major": 2,
       "version_minor": 0
      },
      "text/plain": [
       "Batches in epoch #4:   0%|          | 0/860 [00:00<?, ?it/s]"
      ]
     },
     "metadata": {},
     "output_type": "display_data"
    },
    {
     "data": {
      "application/vnd.jupyter.widget-view+json": {
       "model_id": "606f1eaf70b84deb8a391b6517dcfec1",
       "version_major": 2,
       "version_minor": 0
      },
      "text/plain": [
       "Batches in epoch #5:   0%|          | 0/860 [00:00<?, ?it/s]"
      ]
     },
     "metadata": {},
     "output_type": "display_data"
    },
    {
     "data": {
      "application/vnd.jupyter.widget-view+json": {
       "model_id": "17c96886a5dc4758bcee68ffdfed996b",
       "version_major": 2,
       "version_minor": 0
      },
      "text/plain": [
       "Batches in epoch #6:   0%|          | 0/860 [00:00<?, ?it/s]"
      ]
     },
     "metadata": {},
     "output_type": "display_data"
    },
    {
     "data": {
      "application/vnd.jupyter.widget-view+json": {
       "model_id": "e09ce4c303e54b568d496c3f83660239",
       "version_major": 2,
       "version_minor": 0
      },
      "text/plain": [
       "Batches in epoch #7:   0%|          | 0/860 [00:00<?, ?it/s]"
      ]
     },
     "metadata": {},
     "output_type": "display_data"
    },
    {
     "data": {
      "application/vnd.jupyter.widget-view+json": {
       "model_id": "6542bf4968814285a4b79be7eb80a7b0",
       "version_major": 2,
       "version_minor": 0
      },
      "text/plain": [
       "Batches in epoch #8:   0%|          | 0/860 [00:00<?, ?it/s]"
      ]
     },
     "metadata": {},
     "output_type": "display_data"
    },
    {
     "data": {
      "application/vnd.jupyter.widget-view+json": {
       "model_id": "58e12b05fea04347a984f9c9c06c50a4",
       "version_major": 2,
       "version_minor": 0
      },
      "text/plain": [
       "Batches in epoch #9:   0%|          | 0/860 [00:00<?, ?it/s]"
      ]
     },
     "metadata": {},
     "output_type": "display_data"
    },
    {
     "data": {
      "application/vnd.jupyter.widget-view+json": {
       "model_id": "780c4d8f01594a0ba0c2e1b9711d794a",
       "version_major": 2,
       "version_minor": 0
      },
      "text/plain": [
       "Batches in epoch #10:   0%|          | 0/860 [00:00<?, ?it/s]"
      ]
     },
     "metadata": {},
     "output_type": "display_data"
    },
    {
     "data": {
      "application/vnd.jupyter.widget-view+json": {
       "model_id": "93419c1ced9949d794a5c720122f547c",
       "version_major": 2,
       "version_minor": 0
      },
      "text/plain": [
       "Batches in epoch #11:   0%|          | 0/860 [00:00<?, ?it/s]"
      ]
     },
     "metadata": {},
     "output_type": "display_data"
    },
    {
     "data": {
      "application/vnd.jupyter.widget-view+json": {
       "model_id": "d7491d90da98408b9f1b95438d43ab26",
       "version_major": 2,
       "version_minor": 0
      },
      "text/plain": [
       "Batches in epoch #12:   0%|          | 0/860 [00:00<?, ?it/s]"
      ]
     },
     "metadata": {},
     "output_type": "display_data"
    },
    {
     "data": {
      "application/vnd.jupyter.widget-view+json": {
       "model_id": "82d56a6ce51b451b911047da05e8a53c",
       "version_major": 2,
       "version_minor": 0
      },
      "text/plain": [
       "Batches in epoch #13:   0%|          | 0/860 [00:00<?, ?it/s]"
      ]
     },
     "metadata": {},
     "output_type": "display_data"
    },
    {
     "data": {
      "application/vnd.jupyter.widget-view+json": {
       "model_id": "5e3697e9279248cd859700ac0e893534",
       "version_major": 2,
       "version_minor": 0
      },
      "text/plain": [
       "Batches in epoch #14:   0%|          | 0/860 [00:00<?, ?it/s]"
      ]
     },
     "metadata": {},
     "output_type": "display_data"
    },
    {
     "data": {
      "application/vnd.jupyter.widget-view+json": {
       "model_id": "5ddd2e0aa94246e78ecb88d3897425a7",
       "version_major": 2,
       "version_minor": 0
      },
      "text/plain": [
       "Batches in epoch #15:   0%|          | 0/860 [00:00<?, ?it/s]"
      ]
     },
     "metadata": {},
     "output_type": "display_data"
    },
    {
     "data": {
      "application/vnd.jupyter.widget-view+json": {
       "model_id": "4e88d658881044989336b8ad87f6c494",
       "version_major": 2,
       "version_minor": 0
      },
      "text/plain": [
       "Batches in epoch #16:   0%|          | 0/860 [00:00<?, ?it/s]"
      ]
     },
     "metadata": {},
     "output_type": "display_data"
    },
    {
     "data": {
      "application/vnd.jupyter.widget-view+json": {
       "model_id": "880d1b83b5184a4ca57c3460900a8b6b",
       "version_major": 2,
       "version_minor": 0
      },
      "text/plain": [
       "Batches in epoch #17:   0%|          | 0/860 [00:00<?, ?it/s]"
      ]
     },
     "metadata": {},
     "output_type": "display_data"
    },
    {
     "data": {
      "application/vnd.jupyter.widget-view+json": {
       "model_id": "758ae34aedf94d6e8d6da87042d9131a",
       "version_major": 2,
       "version_minor": 0
      },
      "text/plain": [
       "Batches in epoch #18:   0%|          | 0/860 [00:00<?, ?it/s]"
      ]
     },
     "metadata": {},
     "output_type": "display_data"
    },
    {
     "data": {
      "application/vnd.jupyter.widget-view+json": {
       "model_id": "3a49789e99584c3fb44f8d2df09143f6",
       "version_major": 2,
       "version_minor": 0
      },
      "text/plain": [
       "Batches in epoch #19:   0%|          | 0/860 [00:00<?, ?it/s]"
      ]
     },
     "metadata": {},
     "output_type": "display_data"
    },
    {
     "data": {
      "application/vnd.jupyter.widget-view+json": {
       "model_id": "c128b361c03b43e79a74093f7cc0781e",
       "version_major": 2,
       "version_minor": 0
      },
      "text/plain": [
       "Batches in epoch #20:   0%|          | 0/860 [00:00<?, ?it/s]"
      ]
     },
     "metadata": {},
     "output_type": "display_data"
    },
    {
     "data": {
      "application/vnd.jupyter.widget-view+json": {
       "model_id": "7b14c5035d5c487ca91f94d5a8fac56a",
       "version_major": 2,
       "version_minor": 0
      },
      "text/plain": [
       "Batches in epoch #21:   0%|          | 0/860 [00:00<?, ?it/s]"
      ]
     },
     "metadata": {},
     "output_type": "display_data"
    },
    {
     "data": {
      "application/vnd.jupyter.widget-view+json": {
       "model_id": "89e441f9a9e94f94bba0550802ef0e9e",
       "version_major": 2,
       "version_minor": 0
      },
      "text/plain": [
       "Batches in epoch #22:   0%|          | 0/860 [00:00<?, ?it/s]"
      ]
     },
     "metadata": {},
     "output_type": "display_data"
    },
    {
     "data": {
      "application/vnd.jupyter.widget-view+json": {
       "model_id": "8ed040babf4b4cad9c3bf1a8723d6fc8",
       "version_major": 2,
       "version_minor": 0
      },
      "text/plain": [
       "Batches in epoch #23:   0%|          | 0/860 [00:00<?, ?it/s]"
      ]
     },
     "metadata": {},
     "output_type": "display_data"
    },
    {
     "data": {
      "application/vnd.jupyter.widget-view+json": {
       "model_id": "31040d7b9299425c841c6d749f964720",
       "version_major": 2,
       "version_minor": 0
      },
      "text/plain": [
       "Batches in epoch #24:   0%|          | 0/860 [00:00<?, ?it/s]"
      ]
     },
     "metadata": {},
     "output_type": "display_data"
    },
    {
     "data": {
      "application/vnd.jupyter.widget-view+json": {
       "model_id": "f0a870d89e3d4a02b6526955ff16882c",
       "version_major": 2,
       "version_minor": 0
      },
      "text/plain": [
       "Batches in epoch #25:   0%|          | 0/860 [00:00<?, ?it/s]"
      ]
     },
     "metadata": {},
     "output_type": "display_data"
    },
    {
     "data": {
      "application/vnd.jupyter.widget-view+json": {
       "model_id": "3d4e5b7bb276400abe875a95e8f095ee",
       "version_major": 2,
       "version_minor": 0
      },
      "text/plain": [
       "Batches in epoch #26:   0%|          | 0/860 [00:00<?, ?it/s]"
      ]
     },
     "metadata": {},
     "output_type": "display_data"
    },
    {
     "data": {
      "application/vnd.jupyter.widget-view+json": {
       "model_id": "01d86bdb696549d2a208c8d5580a8b33",
       "version_major": 2,
       "version_minor": 0
      },
      "text/plain": [
       "Batches in epoch #27:   0%|          | 0/860 [00:00<?, ?it/s]"
      ]
     },
     "metadata": {},
     "output_type": "display_data"
    },
    {
     "data": {
      "application/vnd.jupyter.widget-view+json": {
       "model_id": "0aafed99393b4b00afa102021e7d291d",
       "version_major": 2,
       "version_minor": 0
      },
      "text/plain": [
       "Batches in epoch #28:   0%|          | 0/860 [00:00<?, ?it/s]"
      ]
     },
     "metadata": {},
     "output_type": "display_data"
    },
    {
     "data": {
      "application/vnd.jupyter.widget-view+json": {
       "model_id": "6bd5de2d60b84be1a7e848afd68d1d61",
       "version_major": 2,
       "version_minor": 0
      },
      "text/plain": [
       "Batches in epoch #29:   0%|          | 0/860 [00:00<?, ?it/s]"
      ]
     },
     "metadata": {},
     "output_type": "display_data"
    },
    {
     "data": {
      "application/vnd.jupyter.widget-view+json": {
       "model_id": "5a2432b79ff0460d9f9e635db812ee40",
       "version_major": 2,
       "version_minor": 0
      },
      "text/plain": [
       "Batches in epoch #30:   0%|          | 0/860 [00:00<?, ?it/s]"
      ]
     },
     "metadata": {},
     "output_type": "display_data"
    },
    {
     "data": {
      "application/vnd.jupyter.widget-view+json": {
       "model_id": "31f4b81b48b840d38cf82d701f5898bc",
       "version_major": 2,
       "version_minor": 0
      },
      "text/plain": [
       "Batches in epoch #31:   0%|          | 0/860 [00:00<?, ?it/s]"
      ]
     },
     "metadata": {},
     "output_type": "display_data"
    },
    {
     "data": {
      "application/vnd.jupyter.widget-view+json": {
       "model_id": "7dbc3c0b4f2243bea2a8457ada7e9c50",
       "version_major": 2,
       "version_minor": 0
      },
      "text/plain": [
       "Batches in epoch #32:   0%|          | 0/860 [00:00<?, ?it/s]"
      ]
     },
     "metadata": {},
     "output_type": "display_data"
    },
    {
     "data": {
      "application/vnd.jupyter.widget-view+json": {
       "model_id": "4eb9b8e470b14167b1ab927c41bc0cfb",
       "version_major": 2,
       "version_minor": 0
      },
      "text/plain": [
       "Batches in epoch #33:   0%|          | 0/860 [00:00<?, ?it/s]"
      ]
     },
     "metadata": {},
     "output_type": "display_data"
    },
    {
     "data": {
      "application/vnd.jupyter.widget-view+json": {
       "model_id": "3cf2b501d8be44adb68ca976315c69ff",
       "version_major": 2,
       "version_minor": 0
      },
      "text/plain": [
       "Batches in epoch #34:   0%|          | 0/860 [00:00<?, ?it/s]"
      ]
     },
     "metadata": {},
     "output_type": "display_data"
    },
    {
     "data": {
      "application/vnd.jupyter.widget-view+json": {
       "model_id": "539f6db8eb6849d686a42a38770ad9dd",
       "version_major": 2,
       "version_minor": 0
      },
      "text/plain": [
       "Batches in epoch #35:   0%|          | 0/860 [00:00<?, ?it/s]"
      ]
     },
     "metadata": {},
     "output_type": "display_data"
    },
    {
     "data": {
      "application/vnd.jupyter.widget-view+json": {
       "model_id": "f9d4d87294e04f8392785db0938af7fb",
       "version_major": 2,
       "version_minor": 0
      },
      "text/plain": [
       "Batches in epoch #36:   0%|          | 0/860 [00:00<?, ?it/s]"
      ]
     },
     "metadata": {},
     "output_type": "display_data"
    },
    {
     "data": {
      "application/vnd.jupyter.widget-view+json": {
       "model_id": "7a46f73ac5e14b60812be952c9e64d7b",
       "version_major": 2,
       "version_minor": 0
      },
      "text/plain": [
       "Batches in epoch #37:   0%|          | 0/860 [00:00<?, ?it/s]"
      ]
     },
     "metadata": {},
     "output_type": "display_data"
    },
    {
     "data": {
      "application/vnd.jupyter.widget-view+json": {
       "model_id": "81792151255a4c1887b0dede2e00fe72",
       "version_major": 2,
       "version_minor": 0
      },
      "text/plain": [
       "Batches in epoch #38:   0%|          | 0/860 [00:00<?, ?it/s]"
      ]
     },
     "metadata": {},
     "output_type": "display_data"
    },
    {
     "data": {
      "application/vnd.jupyter.widget-view+json": {
       "model_id": "38e7248dac484286b0a80cf003d71b0c",
       "version_major": 2,
       "version_minor": 0
      },
      "text/plain": [
       "Batches in epoch #39:   0%|          | 0/860 [00:00<?, ?it/s]"
      ]
     },
     "metadata": {},
     "output_type": "display_data"
    },
    {
     "data": {
      "application/vnd.jupyter.widget-view+json": {
       "model_id": "c04f128755064ca3af38bb5dac35f273",
       "version_major": 2,
       "version_minor": 0
      },
      "text/plain": [
       "Batches in epoch #40:   0%|          | 0/860 [00:00<?, ?it/s]"
      ]
     },
     "metadata": {},
     "output_type": "display_data"
    },
    {
     "data": {
      "application/vnd.jupyter.widget-view+json": {
       "model_id": "3502b13ac2c84a73947ae2bb883f134d",
       "version_major": 2,
       "version_minor": 0
      },
      "text/plain": [
       "Batches in epoch #41:   0%|          | 0/860 [00:00<?, ?it/s]"
      ]
     },
     "metadata": {},
     "output_type": "display_data"
    },
    {
     "data": {
      "application/vnd.jupyter.widget-view+json": {
       "model_id": "86a1f671c38a40fbab26ee092c821c56",
       "version_major": 2,
       "version_minor": 0
      },
      "text/plain": [
       "Batches in epoch #42:   0%|          | 0/860 [00:00<?, ?it/s]"
      ]
     },
     "metadata": {},
     "output_type": "display_data"
    },
    {
     "data": {
      "application/vnd.jupyter.widget-view+json": {
       "model_id": "d387fa10ca664e75a16c41dd9217108a",
       "version_major": 2,
       "version_minor": 0
      },
      "text/plain": [
       "Batches in epoch #43:   0%|          | 0/860 [00:00<?, ?it/s]"
      ]
     },
     "metadata": {},
     "output_type": "display_data"
    },
    {
     "data": {
      "application/vnd.jupyter.widget-view+json": {
       "model_id": "d825fcd9bfcb46af9dff622b91273b47",
       "version_major": 2,
       "version_minor": 0
      },
      "text/plain": [
       "Batches in epoch #44:   0%|          | 0/860 [00:00<?, ?it/s]"
      ]
     },
     "metadata": {},
     "output_type": "display_data"
    },
    {
     "data": {
      "application/vnd.jupyter.widget-view+json": {
       "model_id": "364ffe23cf4a44d0911415105b23e02e",
       "version_major": 2,
       "version_minor": 0
      },
      "text/plain": [
       "Batches in epoch #45:   0%|          | 0/860 [00:00<?, ?it/s]"
      ]
     },
     "metadata": {},
     "output_type": "display_data"
    },
    {
     "data": {
      "application/vnd.jupyter.widget-view+json": {
       "model_id": "4dc0dbfe96da44a195e80dd36f570cb1",
       "version_major": 2,
       "version_minor": 0
      },
      "text/plain": [
       "Batches in epoch #46:   0%|          | 0/860 [00:00<?, ?it/s]"
      ]
     },
     "metadata": {},
     "output_type": "display_data"
    },
    {
     "data": {
      "application/vnd.jupyter.widget-view+json": {
       "model_id": "29e0f1fc311a46aeb5f92d66e8419c33",
       "version_major": 2,
       "version_minor": 0
      },
      "text/plain": [
       "Batches in epoch #47:   0%|          | 0/860 [00:00<?, ?it/s]"
      ]
     },
     "metadata": {},
     "output_type": "display_data"
    },
    {
     "data": {
      "application/vnd.jupyter.widget-view+json": {
       "model_id": "a0584460f2fa4d888ec91bfa43faace6",
       "version_major": 2,
       "version_minor": 0
      },
      "text/plain": [
       "Batches in epoch #48:   0%|          | 0/860 [00:00<?, ?it/s]"
      ]
     },
     "metadata": {},
     "output_type": "display_data"
    },
    {
     "data": {
      "application/vnd.jupyter.widget-view+json": {
       "model_id": "562b5f2f2b914e0f9227655a9f974007",
       "version_major": 2,
       "version_minor": 0
      },
      "text/plain": [
       "Batches in epoch #49:   0%|          | 0/860 [00:00<?, ?it/s]"
      ]
     },
     "metadata": {},
     "output_type": "display_data"
    },
    {
     "data": {
      "application/vnd.jupyter.widget-view+json": {
       "model_id": "939c3da7ab234de8b4a1e14a7a77bde5",
       "version_major": 2,
       "version_minor": 0
      },
      "text/plain": [
       "Batches in epoch #50:   0%|          | 0/860 [00:00<?, ?it/s]"
      ]
     },
     "metadata": {},
     "output_type": "display_data"
    },
    {
     "name": "stdout",
     "output_type": "stream",
     "text": [
      "Iteration 2/10 complete.\n"
     ]
    },
    {
     "data": {
      "application/vnd.jupyter.widget-view+json": {
       "model_id": "ac56a4bc789d4805a3909b48693af087",
       "version_major": 2,
       "version_minor": 0
      },
      "text/plain": [
       "Epochs:   0%|          | 0/50 [00:00<?, ?it/s]"
      ]
     },
     "metadata": {},
     "output_type": "display_data"
    },
    {
     "data": {
      "application/vnd.jupyter.widget-view+json": {
       "model_id": "8765afc5c0954b08b3795f4e2df2824e",
       "version_major": 2,
       "version_minor": 0
      },
      "text/plain": [
       "Batches in epoch #1:   0%|          | 0/860 [00:00<?, ?it/s]"
      ]
     },
     "metadata": {},
     "output_type": "display_data"
    },
    {
     "data": {
      "application/vnd.jupyter.widget-view+json": {
       "model_id": "a8199bbc692548d698e6089d96d0cfce",
       "version_major": 2,
       "version_minor": 0
      },
      "text/plain": [
       "Batches in epoch #2:   0%|          | 0/860 [00:00<?, ?it/s]"
      ]
     },
     "metadata": {},
     "output_type": "display_data"
    },
    {
     "data": {
      "application/vnd.jupyter.widget-view+json": {
       "model_id": "658a16e788c44fa5a02bc18a86b14eae",
       "version_major": 2,
       "version_minor": 0
      },
      "text/plain": [
       "Batches in epoch #3:   0%|          | 0/860 [00:00<?, ?it/s]"
      ]
     },
     "metadata": {},
     "output_type": "display_data"
    },
    {
     "data": {
      "application/vnd.jupyter.widget-view+json": {
       "model_id": "a53420d362594c87b69ab56fe7190fa0",
       "version_major": 2,
       "version_minor": 0
      },
      "text/plain": [
       "Batches in epoch #4:   0%|          | 0/860 [00:00<?, ?it/s]"
      ]
     },
     "metadata": {},
     "output_type": "display_data"
    },
    {
     "data": {
      "application/vnd.jupyter.widget-view+json": {
       "model_id": "e20569a47fc0470dbd36b2ab0e01eb69",
       "version_major": 2,
       "version_minor": 0
      },
      "text/plain": [
       "Batches in epoch #5:   0%|          | 0/860 [00:00<?, ?it/s]"
      ]
     },
     "metadata": {},
     "output_type": "display_data"
    },
    {
     "data": {
      "application/vnd.jupyter.widget-view+json": {
       "model_id": "3e9f155c27d64388bb5c465b03a5c0e1",
       "version_major": 2,
       "version_minor": 0
      },
      "text/plain": [
       "Batches in epoch #6:   0%|          | 0/860 [00:00<?, ?it/s]"
      ]
     },
     "metadata": {},
     "output_type": "display_data"
    },
    {
     "data": {
      "application/vnd.jupyter.widget-view+json": {
       "model_id": "983ab2754d024e50af40fb5421a8717d",
       "version_major": 2,
       "version_minor": 0
      },
      "text/plain": [
       "Batches in epoch #7:   0%|          | 0/860 [00:00<?, ?it/s]"
      ]
     },
     "metadata": {},
     "output_type": "display_data"
    },
    {
     "data": {
      "application/vnd.jupyter.widget-view+json": {
       "model_id": "281af5e6ed164dfda7518625a08f80b6",
       "version_major": 2,
       "version_minor": 0
      },
      "text/plain": [
       "Batches in epoch #8:   0%|          | 0/860 [00:00<?, ?it/s]"
      ]
     },
     "metadata": {},
     "output_type": "display_data"
    },
    {
     "data": {
      "application/vnd.jupyter.widget-view+json": {
       "model_id": "488b62ad6a9949f99c8a7a1c34292361",
       "version_major": 2,
       "version_minor": 0
      },
      "text/plain": [
       "Batches in epoch #9:   0%|          | 0/860 [00:00<?, ?it/s]"
      ]
     },
     "metadata": {},
     "output_type": "display_data"
    },
    {
     "data": {
      "application/vnd.jupyter.widget-view+json": {
       "model_id": "a5e4153708764d498ebddaf0618a7e4f",
       "version_major": 2,
       "version_minor": 0
      },
      "text/plain": [
       "Batches in epoch #10:   0%|          | 0/860 [00:00<?, ?it/s]"
      ]
     },
     "metadata": {},
     "output_type": "display_data"
    },
    {
     "data": {
      "application/vnd.jupyter.widget-view+json": {
       "model_id": "f596cf65c5aa43f09f324352485ff6ab",
       "version_major": 2,
       "version_minor": 0
      },
      "text/plain": [
       "Batches in epoch #11:   0%|          | 0/860 [00:00<?, ?it/s]"
      ]
     },
     "metadata": {},
     "output_type": "display_data"
    },
    {
     "data": {
      "application/vnd.jupyter.widget-view+json": {
       "model_id": "1317d621390f48c4a8399c1d54f666b2",
       "version_major": 2,
       "version_minor": 0
      },
      "text/plain": [
       "Batches in epoch #12:   0%|          | 0/860 [00:00<?, ?it/s]"
      ]
     },
     "metadata": {},
     "output_type": "display_data"
    },
    {
     "data": {
      "application/vnd.jupyter.widget-view+json": {
       "model_id": "ceed95b19d3e4724ae3119b73facf78b",
       "version_major": 2,
       "version_minor": 0
      },
      "text/plain": [
       "Batches in epoch #13:   0%|          | 0/860 [00:00<?, ?it/s]"
      ]
     },
     "metadata": {},
     "output_type": "display_data"
    },
    {
     "data": {
      "application/vnd.jupyter.widget-view+json": {
       "model_id": "1bcd0e0739dc464cb1195ba4489da21f",
       "version_major": 2,
       "version_minor": 0
      },
      "text/plain": [
       "Batches in epoch #14:   0%|          | 0/860 [00:00<?, ?it/s]"
      ]
     },
     "metadata": {},
     "output_type": "display_data"
    },
    {
     "data": {
      "application/vnd.jupyter.widget-view+json": {
       "model_id": "2bf09a853a4748b78fdf4a1ce13d8e23",
       "version_major": 2,
       "version_minor": 0
      },
      "text/plain": [
       "Batches in epoch #15:   0%|          | 0/860 [00:00<?, ?it/s]"
      ]
     },
     "metadata": {},
     "output_type": "display_data"
    },
    {
     "data": {
      "application/vnd.jupyter.widget-view+json": {
       "model_id": "51a5de229eca4353b1c4cca155189aeb",
       "version_major": 2,
       "version_minor": 0
      },
      "text/plain": [
       "Batches in epoch #16:   0%|          | 0/860 [00:00<?, ?it/s]"
      ]
     },
     "metadata": {},
     "output_type": "display_data"
    },
    {
     "data": {
      "application/vnd.jupyter.widget-view+json": {
       "model_id": "87523a61893f4802a8dccdd15cbc17b2",
       "version_major": 2,
       "version_minor": 0
      },
      "text/plain": [
       "Batches in epoch #17:   0%|          | 0/860 [00:00<?, ?it/s]"
      ]
     },
     "metadata": {},
     "output_type": "display_data"
    },
    {
     "data": {
      "application/vnd.jupyter.widget-view+json": {
       "model_id": "d0683a6ba97f448f944b8f5d21f75b1c",
       "version_major": 2,
       "version_minor": 0
      },
      "text/plain": [
       "Batches in epoch #18:   0%|          | 0/860 [00:00<?, ?it/s]"
      ]
     },
     "metadata": {},
     "output_type": "display_data"
    },
    {
     "data": {
      "application/vnd.jupyter.widget-view+json": {
       "model_id": "eb33384df7234587929a0746788bac4f",
       "version_major": 2,
       "version_minor": 0
      },
      "text/plain": [
       "Batches in epoch #19:   0%|          | 0/860 [00:00<?, ?it/s]"
      ]
     },
     "metadata": {},
     "output_type": "display_data"
    },
    {
     "data": {
      "application/vnd.jupyter.widget-view+json": {
       "model_id": "1a459cfa53ca47b7bc35ec72f04048b4",
       "version_major": 2,
       "version_minor": 0
      },
      "text/plain": [
       "Batches in epoch #20:   0%|          | 0/860 [00:00<?, ?it/s]"
      ]
     },
     "metadata": {},
     "output_type": "display_data"
    },
    {
     "data": {
      "application/vnd.jupyter.widget-view+json": {
       "model_id": "9f31a7ae3a9e4236858bcba64c562cbd",
       "version_major": 2,
       "version_minor": 0
      },
      "text/plain": [
       "Batches in epoch #21:   0%|          | 0/860 [00:00<?, ?it/s]"
      ]
     },
     "metadata": {},
     "output_type": "display_data"
    },
    {
     "data": {
      "application/vnd.jupyter.widget-view+json": {
       "model_id": "6174332ae5bd473e9411e4112a962dcf",
       "version_major": 2,
       "version_minor": 0
      },
      "text/plain": [
       "Batches in epoch #22:   0%|          | 0/860 [00:00<?, ?it/s]"
      ]
     },
     "metadata": {},
     "output_type": "display_data"
    },
    {
     "data": {
      "application/vnd.jupyter.widget-view+json": {
       "model_id": "c70cbefb9dbb445a9a1216c0cac0e1dc",
       "version_major": 2,
       "version_minor": 0
      },
      "text/plain": [
       "Batches in epoch #23:   0%|          | 0/860 [00:00<?, ?it/s]"
      ]
     },
     "metadata": {},
     "output_type": "display_data"
    },
    {
     "data": {
      "application/vnd.jupyter.widget-view+json": {
       "model_id": "7b9f71052a134ef2ae8d01d56a259d5e",
       "version_major": 2,
       "version_minor": 0
      },
      "text/plain": [
       "Batches in epoch #24:   0%|          | 0/860 [00:00<?, ?it/s]"
      ]
     },
     "metadata": {},
     "output_type": "display_data"
    },
    {
     "data": {
      "application/vnd.jupyter.widget-view+json": {
       "model_id": "ecc85ef146c74e548444f8155e1c9a44",
       "version_major": 2,
       "version_minor": 0
      },
      "text/plain": [
       "Batches in epoch #25:   0%|          | 0/860 [00:00<?, ?it/s]"
      ]
     },
     "metadata": {},
     "output_type": "display_data"
    },
    {
     "data": {
      "application/vnd.jupyter.widget-view+json": {
       "model_id": "97f3a30b7fae4c199e2f37eef29f643d",
       "version_major": 2,
       "version_minor": 0
      },
      "text/plain": [
       "Batches in epoch #26:   0%|          | 0/860 [00:00<?, ?it/s]"
      ]
     },
     "metadata": {},
     "output_type": "display_data"
    },
    {
     "data": {
      "application/vnd.jupyter.widget-view+json": {
       "model_id": "33c286003972480aaf0557b1a4a0be18",
       "version_major": 2,
       "version_minor": 0
      },
      "text/plain": [
       "Batches in epoch #27:   0%|          | 0/860 [00:00<?, ?it/s]"
      ]
     },
     "metadata": {},
     "output_type": "display_data"
    },
    {
     "data": {
      "application/vnd.jupyter.widget-view+json": {
       "model_id": "3ae7cedd3662496892434deb1dd89607",
       "version_major": 2,
       "version_minor": 0
      },
      "text/plain": [
       "Batches in epoch #28:   0%|          | 0/860 [00:00<?, ?it/s]"
      ]
     },
     "metadata": {},
     "output_type": "display_data"
    },
    {
     "data": {
      "application/vnd.jupyter.widget-view+json": {
       "model_id": "752871265f8947299a9e1dbdef48b4d0",
       "version_major": 2,
       "version_minor": 0
      },
      "text/plain": [
       "Batches in epoch #29:   0%|          | 0/860 [00:00<?, ?it/s]"
      ]
     },
     "metadata": {},
     "output_type": "display_data"
    },
    {
     "data": {
      "application/vnd.jupyter.widget-view+json": {
       "model_id": "4bbc7ca961e146cfa7f1aa5f4c855ac3",
       "version_major": 2,
       "version_minor": 0
      },
      "text/plain": [
       "Batches in epoch #30:   0%|          | 0/860 [00:00<?, ?it/s]"
      ]
     },
     "metadata": {},
     "output_type": "display_data"
    },
    {
     "data": {
      "application/vnd.jupyter.widget-view+json": {
       "model_id": "cd2dac620f024121b1916b374f027c34",
       "version_major": 2,
       "version_minor": 0
      },
      "text/plain": [
       "Batches in epoch #31:   0%|          | 0/860 [00:00<?, ?it/s]"
      ]
     },
     "metadata": {},
     "output_type": "display_data"
    },
    {
     "data": {
      "application/vnd.jupyter.widget-view+json": {
       "model_id": "f6d3fc7d9a3e4ffcb6f132511af5099e",
       "version_major": 2,
       "version_minor": 0
      },
      "text/plain": [
       "Batches in epoch #32:   0%|          | 0/860 [00:00<?, ?it/s]"
      ]
     },
     "metadata": {},
     "output_type": "display_data"
    },
    {
     "data": {
      "application/vnd.jupyter.widget-view+json": {
       "model_id": "665dd575a5fd4a3cbc0ef77b366d5459",
       "version_major": 2,
       "version_minor": 0
      },
      "text/plain": [
       "Batches in epoch #33:   0%|          | 0/860 [00:00<?, ?it/s]"
      ]
     },
     "metadata": {},
     "output_type": "display_data"
    },
    {
     "data": {
      "application/vnd.jupyter.widget-view+json": {
       "model_id": "c7bfeda78c334f1789bdeb75a51add40",
       "version_major": 2,
       "version_minor": 0
      },
      "text/plain": [
       "Batches in epoch #34:   0%|          | 0/860 [00:00<?, ?it/s]"
      ]
     },
     "metadata": {},
     "output_type": "display_data"
    },
    {
     "data": {
      "application/vnd.jupyter.widget-view+json": {
       "model_id": "19c5d455e0e34678bf9150555a0cfd34",
       "version_major": 2,
       "version_minor": 0
      },
      "text/plain": [
       "Batches in epoch #35:   0%|          | 0/860 [00:00<?, ?it/s]"
      ]
     },
     "metadata": {},
     "output_type": "display_data"
    },
    {
     "data": {
      "application/vnd.jupyter.widget-view+json": {
       "model_id": "9760c84380d54c71933c3b2ec28d91cb",
       "version_major": 2,
       "version_minor": 0
      },
      "text/plain": [
       "Batches in epoch #36:   0%|          | 0/860 [00:00<?, ?it/s]"
      ]
     },
     "metadata": {},
     "output_type": "display_data"
    },
    {
     "data": {
      "application/vnd.jupyter.widget-view+json": {
       "model_id": "40cd0bc3b4d04ac4aacae77acde221df",
       "version_major": 2,
       "version_minor": 0
      },
      "text/plain": [
       "Batches in epoch #37:   0%|          | 0/860 [00:00<?, ?it/s]"
      ]
     },
     "metadata": {},
     "output_type": "display_data"
    },
    {
     "data": {
      "application/vnd.jupyter.widget-view+json": {
       "model_id": "b6dd26f34d7043a4acc80012e986f086",
       "version_major": 2,
       "version_minor": 0
      },
      "text/plain": [
       "Batches in epoch #38:   0%|          | 0/860 [00:00<?, ?it/s]"
      ]
     },
     "metadata": {},
     "output_type": "display_data"
    },
    {
     "data": {
      "application/vnd.jupyter.widget-view+json": {
       "model_id": "3abf4c49bc23447fbf3777904396762d",
       "version_major": 2,
       "version_minor": 0
      },
      "text/plain": [
       "Batches in epoch #39:   0%|          | 0/860 [00:00<?, ?it/s]"
      ]
     },
     "metadata": {},
     "output_type": "display_data"
    },
    {
     "data": {
      "application/vnd.jupyter.widget-view+json": {
       "model_id": "087c401e2ea94b7381b608fcc6829487",
       "version_major": 2,
       "version_minor": 0
      },
      "text/plain": [
       "Batches in epoch #40:   0%|          | 0/860 [00:00<?, ?it/s]"
      ]
     },
     "metadata": {},
     "output_type": "display_data"
    },
    {
     "data": {
      "application/vnd.jupyter.widget-view+json": {
       "model_id": "292fd324b2bb4e1cafa50da35f911f29",
       "version_major": 2,
       "version_minor": 0
      },
      "text/plain": [
       "Batches in epoch #41:   0%|          | 0/860 [00:00<?, ?it/s]"
      ]
     },
     "metadata": {},
     "output_type": "display_data"
    },
    {
     "data": {
      "application/vnd.jupyter.widget-view+json": {
       "model_id": "fefd08d135054f8681229eb97c19f992",
       "version_major": 2,
       "version_minor": 0
      },
      "text/plain": [
       "Batches in epoch #42:   0%|          | 0/860 [00:00<?, ?it/s]"
      ]
     },
     "metadata": {},
     "output_type": "display_data"
    },
    {
     "data": {
      "application/vnd.jupyter.widget-view+json": {
       "model_id": "7f589307ec8c4cf0ab50d7c5f5960192",
       "version_major": 2,
       "version_minor": 0
      },
      "text/plain": [
       "Batches in epoch #43:   0%|          | 0/860 [00:00<?, ?it/s]"
      ]
     },
     "metadata": {},
     "output_type": "display_data"
    },
    {
     "data": {
      "application/vnd.jupyter.widget-view+json": {
       "model_id": "7fa4f2758b974ba6b8939756f7e7a712",
       "version_major": 2,
       "version_minor": 0
      },
      "text/plain": [
       "Batches in epoch #44:   0%|          | 0/860 [00:00<?, ?it/s]"
      ]
     },
     "metadata": {},
     "output_type": "display_data"
    },
    {
     "data": {
      "application/vnd.jupyter.widget-view+json": {
       "model_id": "cf4dadb7bc494c95ad7152d6fe8dd3c0",
       "version_major": 2,
       "version_minor": 0
      },
      "text/plain": [
       "Batches in epoch #45:   0%|          | 0/860 [00:00<?, ?it/s]"
      ]
     },
     "metadata": {},
     "output_type": "display_data"
    },
    {
     "data": {
      "application/vnd.jupyter.widget-view+json": {
       "model_id": "7e9a7b1ea8594d698d010d3d09bf32b3",
       "version_major": 2,
       "version_minor": 0
      },
      "text/plain": [
       "Batches in epoch #46:   0%|          | 0/860 [00:00<?, ?it/s]"
      ]
     },
     "metadata": {},
     "output_type": "display_data"
    },
    {
     "data": {
      "application/vnd.jupyter.widget-view+json": {
       "model_id": "57e4564633e9421bba43812d0593ac8a",
       "version_major": 2,
       "version_minor": 0
      },
      "text/plain": [
       "Batches in epoch #47:   0%|          | 0/860 [00:00<?, ?it/s]"
      ]
     },
     "metadata": {},
     "output_type": "display_data"
    },
    {
     "data": {
      "application/vnd.jupyter.widget-view+json": {
       "model_id": "982ed99ccfc447f2acea18b7b631c8ab",
       "version_major": 2,
       "version_minor": 0
      },
      "text/plain": [
       "Batches in epoch #48:   0%|          | 0/860 [00:00<?, ?it/s]"
      ]
     },
     "metadata": {},
     "output_type": "display_data"
    },
    {
     "data": {
      "application/vnd.jupyter.widget-view+json": {
       "model_id": "82fc531d48e349688edbb2d5ff08ef13",
       "version_major": 2,
       "version_minor": 0
      },
      "text/plain": [
       "Batches in epoch #49:   0%|          | 0/860 [00:00<?, ?it/s]"
      ]
     },
     "metadata": {},
     "output_type": "display_data"
    },
    {
     "data": {
      "application/vnd.jupyter.widget-view+json": {
       "model_id": "9b593b7e25094a749f795562f71bd612",
       "version_major": 2,
       "version_minor": 0
      },
      "text/plain": [
       "Batches in epoch #50:   0%|          | 0/860 [00:00<?, ?it/s]"
      ]
     },
     "metadata": {},
     "output_type": "display_data"
    },
    {
     "name": "stdout",
     "output_type": "stream",
     "text": [
      "Iteration 3/10 complete.\n"
     ]
    },
    {
     "data": {
      "application/vnd.jupyter.widget-view+json": {
       "model_id": "062f818433d146ce9349aa6f8300947f",
       "version_major": 2,
       "version_minor": 0
      },
      "text/plain": [
       "Epochs:   0%|          | 0/50 [00:00<?, ?it/s]"
      ]
     },
     "metadata": {},
     "output_type": "display_data"
    },
    {
     "data": {
      "application/vnd.jupyter.widget-view+json": {
       "model_id": "7e5f4c02db6b49cf80000cec2bb3a297",
       "version_major": 2,
       "version_minor": 0
      },
      "text/plain": [
       "Batches in epoch #1:   0%|          | 0/860 [00:00<?, ?it/s]"
      ]
     },
     "metadata": {},
     "output_type": "display_data"
    },
    {
     "data": {
      "application/vnd.jupyter.widget-view+json": {
       "model_id": "d36573cd867a4aae9cf1fcb0a4f702d7",
       "version_major": 2,
       "version_minor": 0
      },
      "text/plain": [
       "Batches in epoch #2:   0%|          | 0/860 [00:00<?, ?it/s]"
      ]
     },
     "metadata": {},
     "output_type": "display_data"
    },
    {
     "data": {
      "application/vnd.jupyter.widget-view+json": {
       "model_id": "395474861fea4c4db85b3b7296b1a436",
       "version_major": 2,
       "version_minor": 0
      },
      "text/plain": [
       "Batches in epoch #3:   0%|          | 0/860 [00:00<?, ?it/s]"
      ]
     },
     "metadata": {},
     "output_type": "display_data"
    },
    {
     "data": {
      "application/vnd.jupyter.widget-view+json": {
       "model_id": "0990ff197e6e4d97b9b2840bb1e0b885",
       "version_major": 2,
       "version_minor": 0
      },
      "text/plain": [
       "Batches in epoch #4:   0%|          | 0/860 [00:00<?, ?it/s]"
      ]
     },
     "metadata": {},
     "output_type": "display_data"
    },
    {
     "data": {
      "application/vnd.jupyter.widget-view+json": {
       "model_id": "21bbf8b0eb724b7abbef8001ee0fdd90",
       "version_major": 2,
       "version_minor": 0
      },
      "text/plain": [
       "Batches in epoch #5:   0%|          | 0/860 [00:00<?, ?it/s]"
      ]
     },
     "metadata": {},
     "output_type": "display_data"
    },
    {
     "data": {
      "application/vnd.jupyter.widget-view+json": {
       "model_id": "d9aadd61303742689d90341cc8772ada",
       "version_major": 2,
       "version_minor": 0
      },
      "text/plain": [
       "Batches in epoch #6:   0%|          | 0/860 [00:00<?, ?it/s]"
      ]
     },
     "metadata": {},
     "output_type": "display_data"
    },
    {
     "data": {
      "application/vnd.jupyter.widget-view+json": {
       "model_id": "4a7fb03365bc42d7ab17bafb52f2bb18",
       "version_major": 2,
       "version_minor": 0
      },
      "text/plain": [
       "Batches in epoch #7:   0%|          | 0/860 [00:00<?, ?it/s]"
      ]
     },
     "metadata": {},
     "output_type": "display_data"
    },
    {
     "data": {
      "application/vnd.jupyter.widget-view+json": {
       "model_id": "7a90056bfdeb4565983e09fa16df1f12",
       "version_major": 2,
       "version_minor": 0
      },
      "text/plain": [
       "Batches in epoch #8:   0%|          | 0/860 [00:00<?, ?it/s]"
      ]
     },
     "metadata": {},
     "output_type": "display_data"
    },
    {
     "data": {
      "application/vnd.jupyter.widget-view+json": {
       "model_id": "9240578e69ac4541898f43cf9c40e22a",
       "version_major": 2,
       "version_minor": 0
      },
      "text/plain": [
       "Batches in epoch #9:   0%|          | 0/860 [00:00<?, ?it/s]"
      ]
     },
     "metadata": {},
     "output_type": "display_data"
    },
    {
     "data": {
      "application/vnd.jupyter.widget-view+json": {
       "model_id": "fd0292ce37474aedbf14c768faf57e71",
       "version_major": 2,
       "version_minor": 0
      },
      "text/plain": [
       "Batches in epoch #10:   0%|          | 0/860 [00:00<?, ?it/s]"
      ]
     },
     "metadata": {},
     "output_type": "display_data"
    },
    {
     "data": {
      "application/vnd.jupyter.widget-view+json": {
       "model_id": "54a861a37f264d95bd0bf966321cf062",
       "version_major": 2,
       "version_minor": 0
      },
      "text/plain": [
       "Batches in epoch #11:   0%|          | 0/860 [00:00<?, ?it/s]"
      ]
     },
     "metadata": {},
     "output_type": "display_data"
    },
    {
     "data": {
      "application/vnd.jupyter.widget-view+json": {
       "model_id": "73c6cf5e905d4194a0090cb445783f26",
       "version_major": 2,
       "version_minor": 0
      },
      "text/plain": [
       "Batches in epoch #12:   0%|          | 0/860 [00:00<?, ?it/s]"
      ]
     },
     "metadata": {},
     "output_type": "display_data"
    },
    {
     "data": {
      "application/vnd.jupyter.widget-view+json": {
       "model_id": "387ae19f83b44dcf9333d3c29f7ec00b",
       "version_major": 2,
       "version_minor": 0
      },
      "text/plain": [
       "Batches in epoch #13:   0%|          | 0/860 [00:00<?, ?it/s]"
      ]
     },
     "metadata": {},
     "output_type": "display_data"
    },
    {
     "data": {
      "application/vnd.jupyter.widget-view+json": {
       "model_id": "a1ac70cf182b42e7ba535fa8838761e7",
       "version_major": 2,
       "version_minor": 0
      },
      "text/plain": [
       "Batches in epoch #14:   0%|          | 0/860 [00:00<?, ?it/s]"
      ]
     },
     "metadata": {},
     "output_type": "display_data"
    },
    {
     "data": {
      "application/vnd.jupyter.widget-view+json": {
       "model_id": "a46ffeeca18a4986bd9ccf9197eff74d",
       "version_major": 2,
       "version_minor": 0
      },
      "text/plain": [
       "Batches in epoch #15:   0%|          | 0/860 [00:00<?, ?it/s]"
      ]
     },
     "metadata": {},
     "output_type": "display_data"
    },
    {
     "data": {
      "application/vnd.jupyter.widget-view+json": {
       "model_id": "374574863b37467099cba75d56c88493",
       "version_major": 2,
       "version_minor": 0
      },
      "text/plain": [
       "Batches in epoch #16:   0%|          | 0/860 [00:00<?, ?it/s]"
      ]
     },
     "metadata": {},
     "output_type": "display_data"
    },
    {
     "data": {
      "application/vnd.jupyter.widget-view+json": {
       "model_id": "9ba21d7b8b93451bbb61ac436bbf450a",
       "version_major": 2,
       "version_minor": 0
      },
      "text/plain": [
       "Batches in epoch #17:   0%|          | 0/860 [00:00<?, ?it/s]"
      ]
     },
     "metadata": {},
     "output_type": "display_data"
    },
    {
     "data": {
      "application/vnd.jupyter.widget-view+json": {
       "model_id": "fa18d4f023a1497790188af4e13a2a62",
       "version_major": 2,
       "version_minor": 0
      },
      "text/plain": [
       "Batches in epoch #18:   0%|          | 0/860 [00:00<?, ?it/s]"
      ]
     },
     "metadata": {},
     "output_type": "display_data"
    },
    {
     "data": {
      "application/vnd.jupyter.widget-view+json": {
       "model_id": "c27be60eb5a04151a127869f0000b65a",
       "version_major": 2,
       "version_minor": 0
      },
      "text/plain": [
       "Batches in epoch #19:   0%|          | 0/860 [00:00<?, ?it/s]"
      ]
     },
     "metadata": {},
     "output_type": "display_data"
    },
    {
     "data": {
      "application/vnd.jupyter.widget-view+json": {
       "model_id": "7daf7e4732cb467fa500a21e01df5171",
       "version_major": 2,
       "version_minor": 0
      },
      "text/plain": [
       "Batches in epoch #20:   0%|          | 0/860 [00:00<?, ?it/s]"
      ]
     },
     "metadata": {},
     "output_type": "display_data"
    },
    {
     "data": {
      "application/vnd.jupyter.widget-view+json": {
       "model_id": "54a2b229583f42b3a61b6833edbab9d2",
       "version_major": 2,
       "version_minor": 0
      },
      "text/plain": [
       "Batches in epoch #21:   0%|          | 0/860 [00:00<?, ?it/s]"
      ]
     },
     "metadata": {},
     "output_type": "display_data"
    },
    {
     "data": {
      "application/vnd.jupyter.widget-view+json": {
       "model_id": "1ea2193301ee496b94942dc2b1016cc0",
       "version_major": 2,
       "version_minor": 0
      },
      "text/plain": [
       "Batches in epoch #22:   0%|          | 0/860 [00:00<?, ?it/s]"
      ]
     },
     "metadata": {},
     "output_type": "display_data"
    },
    {
     "data": {
      "application/vnd.jupyter.widget-view+json": {
       "model_id": "f41c098b1ca84226955928cee660a9bd",
       "version_major": 2,
       "version_minor": 0
      },
      "text/plain": [
       "Batches in epoch #23:   0%|          | 0/860 [00:00<?, ?it/s]"
      ]
     },
     "metadata": {},
     "output_type": "display_data"
    },
    {
     "data": {
      "application/vnd.jupyter.widget-view+json": {
       "model_id": "92d5fd9d14bb403892f204a3afec92a6",
       "version_major": 2,
       "version_minor": 0
      },
      "text/plain": [
       "Batches in epoch #24:   0%|          | 0/860 [00:00<?, ?it/s]"
      ]
     },
     "metadata": {},
     "output_type": "display_data"
    },
    {
     "data": {
      "application/vnd.jupyter.widget-view+json": {
       "model_id": "7a46c6f8179b49569d182ca2cbed40af",
       "version_major": 2,
       "version_minor": 0
      },
      "text/plain": [
       "Batches in epoch #25:   0%|          | 0/860 [00:00<?, ?it/s]"
      ]
     },
     "metadata": {},
     "output_type": "display_data"
    },
    {
     "data": {
      "application/vnd.jupyter.widget-view+json": {
       "model_id": "3c20fa3611aa4c34b0ed23d680837873",
       "version_major": 2,
       "version_minor": 0
      },
      "text/plain": [
       "Batches in epoch #26:   0%|          | 0/860 [00:00<?, ?it/s]"
      ]
     },
     "metadata": {},
     "output_type": "display_data"
    },
    {
     "data": {
      "application/vnd.jupyter.widget-view+json": {
       "model_id": "22f9ba1ddc8e4b21ac945a5a500ecc12",
       "version_major": 2,
       "version_minor": 0
      },
      "text/plain": [
       "Batches in epoch #27:   0%|          | 0/860 [00:00<?, ?it/s]"
      ]
     },
     "metadata": {},
     "output_type": "display_data"
    },
    {
     "data": {
      "application/vnd.jupyter.widget-view+json": {
       "model_id": "0306db7f9c4a454d9259191b8007198e",
       "version_major": 2,
       "version_minor": 0
      },
      "text/plain": [
       "Batches in epoch #28:   0%|          | 0/860 [00:00<?, ?it/s]"
      ]
     },
     "metadata": {},
     "output_type": "display_data"
    },
    {
     "data": {
      "application/vnd.jupyter.widget-view+json": {
       "model_id": "38bcc38992b14bef9f9e5fb8ed1db4b6",
       "version_major": 2,
       "version_minor": 0
      },
      "text/plain": [
       "Batches in epoch #29:   0%|          | 0/860 [00:00<?, ?it/s]"
      ]
     },
     "metadata": {},
     "output_type": "display_data"
    },
    {
     "data": {
      "application/vnd.jupyter.widget-view+json": {
       "model_id": "8b42c1bb58184d4a85b3e6bf6c5a30e1",
       "version_major": 2,
       "version_minor": 0
      },
      "text/plain": [
       "Batches in epoch #30:   0%|          | 0/860 [00:00<?, ?it/s]"
      ]
     },
     "metadata": {},
     "output_type": "display_data"
    },
    {
     "data": {
      "application/vnd.jupyter.widget-view+json": {
       "model_id": "7ea6bf1575264af5b089238ac5f68932",
       "version_major": 2,
       "version_minor": 0
      },
      "text/plain": [
       "Batches in epoch #31:   0%|          | 0/860 [00:00<?, ?it/s]"
      ]
     },
     "metadata": {},
     "output_type": "display_data"
    },
    {
     "data": {
      "application/vnd.jupyter.widget-view+json": {
       "model_id": "4259ad4777204c9a9c10cb3c4e35780d",
       "version_major": 2,
       "version_minor": 0
      },
      "text/plain": [
       "Batches in epoch #32:   0%|          | 0/860 [00:00<?, ?it/s]"
      ]
     },
     "metadata": {},
     "output_type": "display_data"
    },
    {
     "data": {
      "application/vnd.jupyter.widget-view+json": {
       "model_id": "708b5b9e5adc4ef1a39cbd99374a8c03",
       "version_major": 2,
       "version_minor": 0
      },
      "text/plain": [
       "Batches in epoch #33:   0%|          | 0/860 [00:00<?, ?it/s]"
      ]
     },
     "metadata": {},
     "output_type": "display_data"
    },
    {
     "data": {
      "application/vnd.jupyter.widget-view+json": {
       "model_id": "df35c9681cc243828d099194dfa5de96",
       "version_major": 2,
       "version_minor": 0
      },
      "text/plain": [
       "Batches in epoch #34:   0%|          | 0/860 [00:00<?, ?it/s]"
      ]
     },
     "metadata": {},
     "output_type": "display_data"
    },
    {
     "data": {
      "application/vnd.jupyter.widget-view+json": {
       "model_id": "d279ce7c876048b19b5b7e04c7651893",
       "version_major": 2,
       "version_minor": 0
      },
      "text/plain": [
       "Batches in epoch #35:   0%|          | 0/860 [00:00<?, ?it/s]"
      ]
     },
     "metadata": {},
     "output_type": "display_data"
    },
    {
     "data": {
      "application/vnd.jupyter.widget-view+json": {
       "model_id": "f11965fe073e4756b03131c85541b729",
       "version_major": 2,
       "version_minor": 0
      },
      "text/plain": [
       "Batches in epoch #36:   0%|          | 0/860 [00:00<?, ?it/s]"
      ]
     },
     "metadata": {},
     "output_type": "display_data"
    },
    {
     "data": {
      "application/vnd.jupyter.widget-view+json": {
       "model_id": "21f97efb1e0544029eb37c93ebb19ff4",
       "version_major": 2,
       "version_minor": 0
      },
      "text/plain": [
       "Batches in epoch #37:   0%|          | 0/860 [00:00<?, ?it/s]"
      ]
     },
     "metadata": {},
     "output_type": "display_data"
    },
    {
     "data": {
      "application/vnd.jupyter.widget-view+json": {
       "model_id": "a4b54c42b92e42e1b6465efa9a2376be",
       "version_major": 2,
       "version_minor": 0
      },
      "text/plain": [
       "Batches in epoch #38:   0%|          | 0/860 [00:00<?, ?it/s]"
      ]
     },
     "metadata": {},
     "output_type": "display_data"
    },
    {
     "data": {
      "application/vnd.jupyter.widget-view+json": {
       "model_id": "17614828f2924df298de1a909f5f670e",
       "version_major": 2,
       "version_minor": 0
      },
      "text/plain": [
       "Batches in epoch #39:   0%|          | 0/860 [00:00<?, ?it/s]"
      ]
     },
     "metadata": {},
     "output_type": "display_data"
    },
    {
     "data": {
      "application/vnd.jupyter.widget-view+json": {
       "model_id": "a023052718eb4197a92b8eea8cabe3f2",
       "version_major": 2,
       "version_minor": 0
      },
      "text/plain": [
       "Batches in epoch #40:   0%|          | 0/860 [00:00<?, ?it/s]"
      ]
     },
     "metadata": {},
     "output_type": "display_data"
    },
    {
     "data": {
      "application/vnd.jupyter.widget-view+json": {
       "model_id": "6a1e9f81a2f94e08b6c96ad17cf4753a",
       "version_major": 2,
       "version_minor": 0
      },
      "text/plain": [
       "Batches in epoch #41:   0%|          | 0/860 [00:00<?, ?it/s]"
      ]
     },
     "metadata": {},
     "output_type": "display_data"
    },
    {
     "data": {
      "application/vnd.jupyter.widget-view+json": {
       "model_id": "ea33f2b4891949089d6cc736d617dc32",
       "version_major": 2,
       "version_minor": 0
      },
      "text/plain": [
       "Batches in epoch #42:   0%|          | 0/860 [00:00<?, ?it/s]"
      ]
     },
     "metadata": {},
     "output_type": "display_data"
    },
    {
     "data": {
      "application/vnd.jupyter.widget-view+json": {
       "model_id": "22bfd2fb28344296af7101a34a7c3fa7",
       "version_major": 2,
       "version_minor": 0
      },
      "text/plain": [
       "Batches in epoch #43:   0%|          | 0/860 [00:00<?, ?it/s]"
      ]
     },
     "metadata": {},
     "output_type": "display_data"
    },
    {
     "data": {
      "application/vnd.jupyter.widget-view+json": {
       "model_id": "9e98e99a41bd43008cf31f21182eae3f",
       "version_major": 2,
       "version_minor": 0
      },
      "text/plain": [
       "Batches in epoch #44:   0%|          | 0/860 [00:00<?, ?it/s]"
      ]
     },
     "metadata": {},
     "output_type": "display_data"
    },
    {
     "data": {
      "application/vnd.jupyter.widget-view+json": {
       "model_id": "542d32d9c7124d9591f5572f793e3c26",
       "version_major": 2,
       "version_minor": 0
      },
      "text/plain": [
       "Batches in epoch #45:   0%|          | 0/860 [00:00<?, ?it/s]"
      ]
     },
     "metadata": {},
     "output_type": "display_data"
    },
    {
     "data": {
      "application/vnd.jupyter.widget-view+json": {
       "model_id": "fa5eba765f6043c893598f999cb42f24",
       "version_major": 2,
       "version_minor": 0
      },
      "text/plain": [
       "Batches in epoch #46:   0%|          | 0/860 [00:00<?, ?it/s]"
      ]
     },
     "metadata": {},
     "output_type": "display_data"
    },
    {
     "data": {
      "application/vnd.jupyter.widget-view+json": {
       "model_id": "d6ee6e83287545b9ba764da1e70f74e0",
       "version_major": 2,
       "version_minor": 0
      },
      "text/plain": [
       "Batches in epoch #47:   0%|          | 0/860 [00:00<?, ?it/s]"
      ]
     },
     "metadata": {},
     "output_type": "display_data"
    },
    {
     "data": {
      "application/vnd.jupyter.widget-view+json": {
       "model_id": "d58176d3ccce436e8667f0d7b5d363bf",
       "version_major": 2,
       "version_minor": 0
      },
      "text/plain": [
       "Batches in epoch #48:   0%|          | 0/860 [00:00<?, ?it/s]"
      ]
     },
     "metadata": {},
     "output_type": "display_data"
    },
    {
     "data": {
      "application/vnd.jupyter.widget-view+json": {
       "model_id": "e34eab528add4aa4bf6b6fc1d737ce25",
       "version_major": 2,
       "version_minor": 0
      },
      "text/plain": [
       "Batches in epoch #49:   0%|          | 0/860 [00:00<?, ?it/s]"
      ]
     },
     "metadata": {},
     "output_type": "display_data"
    },
    {
     "data": {
      "application/vnd.jupyter.widget-view+json": {
       "model_id": "76c51dd928d748189484953aa25fd420",
       "version_major": 2,
       "version_minor": 0
      },
      "text/plain": [
       "Batches in epoch #50:   0%|          | 0/860 [00:00<?, ?it/s]"
      ]
     },
     "metadata": {},
     "output_type": "display_data"
    },
    {
     "ename": "KeyboardInterrupt",
     "evalue": "",
     "output_type": "error",
     "traceback": [
      "\u001b[0;31m---------------------------------------------------------------------------\u001b[0m",
      "\u001b[0;31mKeyboardInterrupt\u001b[0m                         Traceback (most recent call last)",
      "Cell \u001b[0;32mIn[23], line 45\u001b[0m\n\u001b[1;32m     43\u001b[0m noisy_last_model \u001b[38;5;241m=\u001b[39m modeling\u001b[38;5;241m.\u001b[39madd_noise_to_last_layer(noisy_model, noise_level\u001b[38;5;241m=\u001b[39mnoise)\n\u001b[1;32m     44\u001b[0m noisy3_gabor_acc \u001b[38;5;241m=\u001b[39m modeling\u001b[38;5;241m.\u001b[39mevaluate_gabor_accuracy(noisy_model, gabor_test_loader)\n\u001b[0;32m---> 45\u001b[0m noisy3_cifar_acc \u001b[38;5;241m=\u001b[39m \u001b[43mmodeling\u001b[49m\u001b[38;5;241;43m.\u001b[39;49m\u001b[43mevaluate_cifar_accuracy\u001b[49m\u001b[43m(\u001b[49m\u001b[43mnoisy_model\u001b[49m\u001b[43m,\u001b[49m\u001b[43m \u001b[49m\u001b[43mcifar_test_loader\u001b[49m\u001b[43m)\u001b[49m\n\u001b[1;32m     47\u001b[0m noise_results[\u001b[38;5;124m'\u001b[39m\u001b[38;5;124midx\u001b[39m\u001b[38;5;124m'\u001b[39m]\u001b[38;5;241m.\u001b[39mappend(i)\n\u001b[1;32m     48\u001b[0m noise_results[\u001b[38;5;124m'\u001b[39m\u001b[38;5;124mnoise_level\u001b[39m\u001b[38;5;124m'\u001b[39m]\u001b[38;5;241m.\u001b[39mappend(noise)\n",
      "File \u001b[0;32m~/Desktop/code/v1dd-public/notebooks/modeling.py:171\u001b[0m, in \u001b[0;36mevaluate_cifar_accuracy\u001b[0;34m(model, cifar_test_loader)\u001b[0m\n\u001b[1;32m    169\u001b[0m total \u001b[38;5;241m=\u001b[39m \u001b[38;5;241m0\u001b[39m\n\u001b[1;32m    170\u001b[0m \u001b[38;5;28;01mwith\u001b[39;00m torch\u001b[38;5;241m.\u001b[39mno_grad():\n\u001b[0;32m--> 171\u001b[0m     \u001b[38;5;28;01mfor\u001b[39;00m data \u001b[38;5;129;01min\u001b[39;00m cifar_test_loader:\n\u001b[1;32m    172\u001b[0m         images, labels \u001b[38;5;241m=\u001b[39m data\n\u001b[1;32m    173\u001b[0m         images, labels \u001b[38;5;241m=\u001b[39m images\u001b[38;5;241m.\u001b[39mto(device), labels\u001b[38;5;241m.\u001b[39mto(device)\n",
      "File \u001b[0;32m~/anaconda3/envs/v1dd-public-2/lib/python3.10/site-packages/torch/utils/data/dataloader.py:734\u001b[0m, in \u001b[0;36m_BaseDataLoaderIter.__next__\u001b[0;34m(self)\u001b[0m\n\u001b[1;32m    731\u001b[0m \u001b[38;5;28;01mif\u001b[39;00m \u001b[38;5;28mself\u001b[39m\u001b[38;5;241m.\u001b[39m_sampler_iter \u001b[38;5;129;01mis\u001b[39;00m \u001b[38;5;28;01mNone\u001b[39;00m:\n\u001b[1;32m    732\u001b[0m     \u001b[38;5;66;03m# TODO(https://github.com/pytorch/pytorch/issues/76750)\u001b[39;00m\n\u001b[1;32m    733\u001b[0m     \u001b[38;5;28mself\u001b[39m\u001b[38;5;241m.\u001b[39m_reset()  \u001b[38;5;66;03m# type: ignore[call-arg]\u001b[39;00m\n\u001b[0;32m--> 734\u001b[0m data \u001b[38;5;241m=\u001b[39m \u001b[38;5;28;43mself\u001b[39;49m\u001b[38;5;241;43m.\u001b[39;49m\u001b[43m_next_data\u001b[49m\u001b[43m(\u001b[49m\u001b[43m)\u001b[49m\n\u001b[1;32m    735\u001b[0m \u001b[38;5;28mself\u001b[39m\u001b[38;5;241m.\u001b[39m_num_yielded \u001b[38;5;241m+\u001b[39m\u001b[38;5;241m=\u001b[39m \u001b[38;5;241m1\u001b[39m\n\u001b[1;32m    736\u001b[0m \u001b[38;5;28;01mif\u001b[39;00m (\n\u001b[1;32m    737\u001b[0m     \u001b[38;5;28mself\u001b[39m\u001b[38;5;241m.\u001b[39m_dataset_kind \u001b[38;5;241m==\u001b[39m _DatasetKind\u001b[38;5;241m.\u001b[39mIterable\n\u001b[1;32m    738\u001b[0m     \u001b[38;5;129;01mand\u001b[39;00m \u001b[38;5;28mself\u001b[39m\u001b[38;5;241m.\u001b[39m_IterableDataset_len_called \u001b[38;5;129;01mis\u001b[39;00m \u001b[38;5;129;01mnot\u001b[39;00m \u001b[38;5;28;01mNone\u001b[39;00m\n\u001b[1;32m    739\u001b[0m     \u001b[38;5;129;01mand\u001b[39;00m \u001b[38;5;28mself\u001b[39m\u001b[38;5;241m.\u001b[39m_num_yielded \u001b[38;5;241m>\u001b[39m \u001b[38;5;28mself\u001b[39m\u001b[38;5;241m.\u001b[39m_IterableDataset_len_called\n\u001b[1;32m    740\u001b[0m ):\n",
      "File \u001b[0;32m~/anaconda3/envs/v1dd-public-2/lib/python3.10/site-packages/torch/utils/data/dataloader.py:790\u001b[0m, in \u001b[0;36m_SingleProcessDataLoaderIter._next_data\u001b[0;34m(self)\u001b[0m\n\u001b[1;32m    788\u001b[0m \u001b[38;5;28;01mdef\u001b[39;00m \u001b[38;5;21m_next_data\u001b[39m(\u001b[38;5;28mself\u001b[39m):\n\u001b[1;32m    789\u001b[0m     index \u001b[38;5;241m=\u001b[39m \u001b[38;5;28mself\u001b[39m\u001b[38;5;241m.\u001b[39m_next_index()  \u001b[38;5;66;03m# may raise StopIteration\u001b[39;00m\n\u001b[0;32m--> 790\u001b[0m     data \u001b[38;5;241m=\u001b[39m \u001b[38;5;28;43mself\u001b[39;49m\u001b[38;5;241;43m.\u001b[39;49m\u001b[43m_dataset_fetcher\u001b[49m\u001b[38;5;241;43m.\u001b[39;49m\u001b[43mfetch\u001b[49m\u001b[43m(\u001b[49m\u001b[43mindex\u001b[49m\u001b[43m)\u001b[49m  \u001b[38;5;66;03m# may raise StopIteration\u001b[39;00m\n\u001b[1;32m    791\u001b[0m     \u001b[38;5;28;01mif\u001b[39;00m \u001b[38;5;28mself\u001b[39m\u001b[38;5;241m.\u001b[39m_pin_memory:\n\u001b[1;32m    792\u001b[0m         data \u001b[38;5;241m=\u001b[39m _utils\u001b[38;5;241m.\u001b[39mpin_memory\u001b[38;5;241m.\u001b[39mpin_memory(data, \u001b[38;5;28mself\u001b[39m\u001b[38;5;241m.\u001b[39m_pin_memory_device)\n",
      "File \u001b[0;32m~/anaconda3/envs/v1dd-public-2/lib/python3.10/site-packages/torch/utils/data/_utils/fetch.py:52\u001b[0m, in \u001b[0;36m_MapDatasetFetcher.fetch\u001b[0;34m(self, possibly_batched_index)\u001b[0m\n\u001b[1;32m     50\u001b[0m         data \u001b[38;5;241m=\u001b[39m \u001b[38;5;28mself\u001b[39m\u001b[38;5;241m.\u001b[39mdataset\u001b[38;5;241m.\u001b[39m__getitems__(possibly_batched_index)\n\u001b[1;32m     51\u001b[0m     \u001b[38;5;28;01melse\u001b[39;00m:\n\u001b[0;32m---> 52\u001b[0m         data \u001b[38;5;241m=\u001b[39m [\u001b[38;5;28mself\u001b[39m\u001b[38;5;241m.\u001b[39mdataset[idx] \u001b[38;5;28;01mfor\u001b[39;00m idx \u001b[38;5;129;01min\u001b[39;00m possibly_batched_index]\n\u001b[1;32m     53\u001b[0m \u001b[38;5;28;01melse\u001b[39;00m:\n\u001b[1;32m     54\u001b[0m     data \u001b[38;5;241m=\u001b[39m \u001b[38;5;28mself\u001b[39m\u001b[38;5;241m.\u001b[39mdataset[possibly_batched_index]\n",
      "File \u001b[0;32m~/anaconda3/envs/v1dd-public-2/lib/python3.10/site-packages/torch/utils/data/_utils/fetch.py:52\u001b[0m, in \u001b[0;36m<listcomp>\u001b[0;34m(.0)\u001b[0m\n\u001b[1;32m     50\u001b[0m         data \u001b[38;5;241m=\u001b[39m \u001b[38;5;28mself\u001b[39m\u001b[38;5;241m.\u001b[39mdataset\u001b[38;5;241m.\u001b[39m__getitems__(possibly_batched_index)\n\u001b[1;32m     51\u001b[0m     \u001b[38;5;28;01melse\u001b[39;00m:\n\u001b[0;32m---> 52\u001b[0m         data \u001b[38;5;241m=\u001b[39m [\u001b[38;5;28;43mself\u001b[39;49m\u001b[38;5;241;43m.\u001b[39;49m\u001b[43mdataset\u001b[49m\u001b[43m[\u001b[49m\u001b[43midx\u001b[49m\u001b[43m]\u001b[49m \u001b[38;5;28;01mfor\u001b[39;00m idx \u001b[38;5;129;01min\u001b[39;00m possibly_batched_index]\n\u001b[1;32m     53\u001b[0m \u001b[38;5;28;01melse\u001b[39;00m:\n\u001b[1;32m     54\u001b[0m     data \u001b[38;5;241m=\u001b[39m \u001b[38;5;28mself\u001b[39m\u001b[38;5;241m.\u001b[39mdataset[possibly_batched_index]\n",
      "File \u001b[0;32m~/anaconda3/envs/v1dd-public-2/lib/python3.10/site-packages/torchvision/datasets/cifar.py:119\u001b[0m, in \u001b[0;36mCIFAR10.__getitem__\u001b[0;34m(self, index)\u001b[0m\n\u001b[1;32m    116\u001b[0m img \u001b[38;5;241m=\u001b[39m Image\u001b[38;5;241m.\u001b[39mfromarray(img)\n\u001b[1;32m    118\u001b[0m \u001b[38;5;28;01mif\u001b[39;00m \u001b[38;5;28mself\u001b[39m\u001b[38;5;241m.\u001b[39mtransform \u001b[38;5;129;01mis\u001b[39;00m \u001b[38;5;129;01mnot\u001b[39;00m \u001b[38;5;28;01mNone\u001b[39;00m:\n\u001b[0;32m--> 119\u001b[0m     img \u001b[38;5;241m=\u001b[39m \u001b[38;5;28;43mself\u001b[39;49m\u001b[38;5;241;43m.\u001b[39;49m\u001b[43mtransform\u001b[49m\u001b[43m(\u001b[49m\u001b[43mimg\u001b[49m\u001b[43m)\u001b[49m\n\u001b[1;32m    121\u001b[0m \u001b[38;5;28;01mif\u001b[39;00m \u001b[38;5;28mself\u001b[39m\u001b[38;5;241m.\u001b[39mtarget_transform \u001b[38;5;129;01mis\u001b[39;00m \u001b[38;5;129;01mnot\u001b[39;00m \u001b[38;5;28;01mNone\u001b[39;00m:\n\u001b[1;32m    122\u001b[0m     target \u001b[38;5;241m=\u001b[39m \u001b[38;5;28mself\u001b[39m\u001b[38;5;241m.\u001b[39mtarget_transform(target)\n",
      "File \u001b[0;32m~/anaconda3/envs/v1dd-public-2/lib/python3.10/site-packages/torchvision/transforms/transforms.py:95\u001b[0m, in \u001b[0;36mCompose.__call__\u001b[0;34m(self, img)\u001b[0m\n\u001b[1;32m     93\u001b[0m \u001b[38;5;28;01mdef\u001b[39;00m \u001b[38;5;21m__call__\u001b[39m(\u001b[38;5;28mself\u001b[39m, img):\n\u001b[1;32m     94\u001b[0m     \u001b[38;5;28;01mfor\u001b[39;00m t \u001b[38;5;129;01min\u001b[39;00m \u001b[38;5;28mself\u001b[39m\u001b[38;5;241m.\u001b[39mtransforms:\n\u001b[0;32m---> 95\u001b[0m         img \u001b[38;5;241m=\u001b[39m \u001b[43mt\u001b[49m\u001b[43m(\u001b[49m\u001b[43mimg\u001b[49m\u001b[43m)\u001b[49m\n\u001b[1;32m     96\u001b[0m     \u001b[38;5;28;01mreturn\u001b[39;00m img\n",
      "File \u001b[0;32m~/anaconda3/envs/v1dd-public-2/lib/python3.10/site-packages/torchvision/transforms/transforms.py:137\u001b[0m, in \u001b[0;36mToTensor.__call__\u001b[0;34m(self, pic)\u001b[0m\n\u001b[1;32m    129\u001b[0m \u001b[38;5;28;01mdef\u001b[39;00m \u001b[38;5;21m__call__\u001b[39m(\u001b[38;5;28mself\u001b[39m, pic):\n\u001b[1;32m    130\u001b[0m \u001b[38;5;250m    \u001b[39m\u001b[38;5;124;03m\"\"\"\u001b[39;00m\n\u001b[1;32m    131\u001b[0m \u001b[38;5;124;03m    Args:\u001b[39;00m\n\u001b[1;32m    132\u001b[0m \u001b[38;5;124;03m        pic (PIL Image or numpy.ndarray): Image to be converted to tensor.\u001b[39;00m\n\u001b[0;32m   (...)\u001b[0m\n\u001b[1;32m    135\u001b[0m \u001b[38;5;124;03m        Tensor: Converted image.\u001b[39;00m\n\u001b[1;32m    136\u001b[0m \u001b[38;5;124;03m    \"\"\"\u001b[39;00m\n\u001b[0;32m--> 137\u001b[0m     \u001b[38;5;28;01mreturn\u001b[39;00m \u001b[43mF\u001b[49m\u001b[38;5;241;43m.\u001b[39;49m\u001b[43mto_tensor\u001b[49m\u001b[43m(\u001b[49m\u001b[43mpic\u001b[49m\u001b[43m)\u001b[49m\n",
      "File \u001b[0;32m~/anaconda3/envs/v1dd-public-2/lib/python3.10/site-packages/torchvision/transforms/functional.py:168\u001b[0m, in \u001b[0;36mto_tensor\u001b[0;34m(pic)\u001b[0m\n\u001b[1;32m    166\u001b[0m \u001b[38;5;66;03m# handle PIL Image\u001b[39;00m\n\u001b[1;32m    167\u001b[0m mode_to_nptype \u001b[38;5;241m=\u001b[39m {\u001b[38;5;124m\"\u001b[39m\u001b[38;5;124mI\u001b[39m\u001b[38;5;124m\"\u001b[39m: np\u001b[38;5;241m.\u001b[39mint32, \u001b[38;5;124m\"\u001b[39m\u001b[38;5;124mI;16\u001b[39m\u001b[38;5;124m\"\u001b[39m \u001b[38;5;28;01mif\u001b[39;00m sys\u001b[38;5;241m.\u001b[39mbyteorder \u001b[38;5;241m==\u001b[39m \u001b[38;5;124m\"\u001b[39m\u001b[38;5;124mlittle\u001b[39m\u001b[38;5;124m\"\u001b[39m \u001b[38;5;28;01melse\u001b[39;00m \u001b[38;5;124m\"\u001b[39m\u001b[38;5;124mI;16B\u001b[39m\u001b[38;5;124m\"\u001b[39m: np\u001b[38;5;241m.\u001b[39mint16, \u001b[38;5;124m\"\u001b[39m\u001b[38;5;124mF\u001b[39m\u001b[38;5;124m\"\u001b[39m: np\u001b[38;5;241m.\u001b[39mfloat32}\n\u001b[0;32m--> 168\u001b[0m img \u001b[38;5;241m=\u001b[39m torch\u001b[38;5;241m.\u001b[39mfrom_numpy(\u001b[43mnp\u001b[49m\u001b[38;5;241;43m.\u001b[39;49m\u001b[43marray\u001b[49m\u001b[43m(\u001b[49m\u001b[43mpic\u001b[49m\u001b[43m,\u001b[49m\u001b[43m \u001b[49m\u001b[43mmode_to_nptype\u001b[49m\u001b[38;5;241;43m.\u001b[39;49m\u001b[43mget\u001b[49m\u001b[43m(\u001b[49m\u001b[43mpic\u001b[49m\u001b[38;5;241;43m.\u001b[39;49m\u001b[43mmode\u001b[49m\u001b[43m,\u001b[49m\u001b[43m \u001b[49m\u001b[43mnp\u001b[49m\u001b[38;5;241;43m.\u001b[39;49m\u001b[43muint8\u001b[49m\u001b[43m)\u001b[49m\u001b[43m,\u001b[49m\u001b[43m \u001b[49m\u001b[43mcopy\u001b[49m\u001b[38;5;241;43m=\u001b[39;49m\u001b[38;5;28;43;01mTrue\u001b[39;49;00m\u001b[43m)\u001b[49m)\n\u001b[1;32m    170\u001b[0m \u001b[38;5;28;01mif\u001b[39;00m pic\u001b[38;5;241m.\u001b[39mmode \u001b[38;5;241m==\u001b[39m \u001b[38;5;124m\"\u001b[39m\u001b[38;5;124m1\u001b[39m\u001b[38;5;124m\"\u001b[39m:\n\u001b[1;32m    171\u001b[0m     img \u001b[38;5;241m=\u001b[39m \u001b[38;5;241m255\u001b[39m \u001b[38;5;241m*\u001b[39m img\n",
      "\u001b[0;31mKeyboardInterrupt\u001b[0m: "
     ]
    }
   ],
   "source": [
    "#### stability plots ####\n",
    "results = {\n",
    "    'idx': [],\n",
    "    'gabor_acc': [],\n",
    "    'cifar_acc': [],\n",
    "}\n",
    "\n",
    "noise_results = {\n",
    "    'idx': [],\n",
    "    'noise_level': [],\n",
    "    'noisy1_gabor_acc': [],\n",
    "    'noisy1_cifar_acc': [],\n",
    "    'noisy2_gabor_acc': [],\n",
    "    'noisy2_cifar_acc': [],\n",
    "    'noisy3_gabor_acc': [],\n",
    "    'noisy3_cifar_acc': []\n",
    "}\n",
    "noise_levels = np.arange(0, 1.05, 0.05)\n",
    "\n",
    "for i in range(10):\n",
    "    model = modeling.ConvNet(in_channels=1, height=32, width=32)\n",
    "    model, losses = modeling.train_model(model, combined_loader, num_epochs=5)\n",
    "    \n",
    "    gabor_acc = modeling.evaluate_gabor_accuracy(model, gabor_test_loader)\n",
    "    cifar_acc = modeling.evaluate_cifar_accuracy(model, cifar_test_loader)\n",
    "\n",
    "    results['idx'].append(i)\n",
    "    results['gabor_acc'].append(gabor_acc)\n",
    "    results['cifar_acc'].append(cifar_acc)\n",
    "\n",
    "    for noise in noise_levels:\n",
    "        noisy_model = copy.deepcopy(model)\n",
    "\n",
    "        noisy_first_model = modeling.add_noise_to_first_layer(noisy_model, noise_level=noise)\n",
    "        noisy1_gabor_acc = modeling.evaluate_gabor_accuracy(noisy_model, gabor_test_loader)\n",
    "        noisy1_cifar_acc = modeling.evaluate_cifar_accuracy(noisy_model, cifar_test_loader)\n",
    "\n",
    "        noisy_model = copy.deepcopy(model)\n",
    "        noisy_middle_model = modeling.add_noise_to_middle_layer(noisy_model, noise_level=noise)\n",
    "        noisy2_gabor_acc = modeling.evaluate_gabor_accuracy(noisy_model, gabor_test_loader)\n",
    "        noisy2_cifar_acc = modeling.evaluate_cifar_accuracy(noisy_model, cifar_test_loader)\n",
    "\n",
    "        noisy_last_model = modeling.add_noise_to_last_layer(noisy_model, noise_level=noise)\n",
    "        noisy3_gabor_acc = modeling.evaluate_gabor_accuracy(noisy_model, gabor_test_loader)\n",
    "        noisy3_cifar_acc = modeling.evaluate_cifar_accuracy(noisy_model, cifar_test_loader)\n",
    "\n",
    "        noise_results['idx'].append(i)\n",
    "        noise_results['noise_level'].append(noise)\n",
    "        noise_results['noisy1_gabor_acc'].append(noisy1_gabor_acc)\n",
    "        noise_results['noisy1_cifar_acc'].append(noisy1_cifar_acc)\n",
    "        noise_results['noisy2_gabor_acc'].append(noisy2_gabor_acc)\n",
    "        noise_results['noisy2_cifar_acc'].append(noisy2_cifar_acc)\n",
    "        noise_results['noisy3_gabor_acc'].append(noisy3_gabor_acc)\n",
    "        noise_results['noisy3_cifar_acc'].append(noisy3_cifar_acc)\n",
    "    \n",
    "    print(f'Iteration {i+1}/10 complete.')"
   ]
  },
  {
   "cell_type": "code",
   "execution_count": 26,
   "id": "eeb33125",
   "metadata": {},
   "outputs": [
    {
     "data": {
      "text/html": [
       "<div>\n",
       "<style scoped>\n",
       "    .dataframe tbody tr th:only-of-type {\n",
       "        vertical-align: middle;\n",
       "    }\n",
       "\n",
       "    .dataframe tbody tr th {\n",
       "        vertical-align: top;\n",
       "    }\n",
       "\n",
       "    .dataframe thead th {\n",
       "        text-align: right;\n",
       "    }\n",
       "</style>\n",
       "<table border=\"1\" class=\"dataframe\">\n",
       "  <thead>\n",
       "    <tr style=\"text-align: right;\">\n",
       "      <th></th>\n",
       "      <th>idx</th>\n",
       "      <th>noise_level</th>\n",
       "      <th>noisy1_gabor_acc</th>\n",
       "      <th>noisy1_cifar_acc</th>\n",
       "      <th>noisy2_gabor_acc</th>\n",
       "      <th>noisy2_cifar_acc</th>\n",
       "      <th>noisy3_gabor_acc</th>\n",
       "      <th>noisy3_cifar_acc</th>\n",
       "    </tr>\n",
       "  </thead>\n",
       "  <tbody>\n",
       "    <tr>\n",
       "      <th>0</th>\n",
       "      <td>0</td>\n",
       "      <td>0.00</td>\n",
       "      <td>100.00</td>\n",
       "      <td>63.39</td>\n",
       "      <td>100.0</td>\n",
       "      <td>63.39</td>\n",
       "      <td>100.00</td>\n",
       "      <td>63.39</td>\n",
       "    </tr>\n",
       "    <tr>\n",
       "      <th>1</th>\n",
       "      <td>0</td>\n",
       "      <td>0.05</td>\n",
       "      <td>100.00</td>\n",
       "      <td>63.37</td>\n",
       "      <td>100.0</td>\n",
       "      <td>63.41</td>\n",
       "      <td>100.00</td>\n",
       "      <td>63.43</td>\n",
       "    </tr>\n",
       "    <tr>\n",
       "      <th>2</th>\n",
       "      <td>0</td>\n",
       "      <td>0.10</td>\n",
       "      <td>100.00</td>\n",
       "      <td>60.45</td>\n",
       "      <td>100.0</td>\n",
       "      <td>63.01</td>\n",
       "      <td>100.00</td>\n",
       "      <td>60.04</td>\n",
       "    </tr>\n",
       "    <tr>\n",
       "      <th>3</th>\n",
       "      <td>0</td>\n",
       "      <td>0.15</td>\n",
       "      <td>100.00</td>\n",
       "      <td>58.97</td>\n",
       "      <td>100.0</td>\n",
       "      <td>61.66</td>\n",
       "      <td>100.00</td>\n",
       "      <td>59.51</td>\n",
       "    </tr>\n",
       "    <tr>\n",
       "      <th>4</th>\n",
       "      <td>0</td>\n",
       "      <td>0.20</td>\n",
       "      <td>100.00</td>\n",
       "      <td>42.79</td>\n",
       "      <td>100.0</td>\n",
       "      <td>60.84</td>\n",
       "      <td>100.00</td>\n",
       "      <td>56.39</td>\n",
       "    </tr>\n",
       "    <tr>\n",
       "      <th>...</th>\n",
       "      <td>...</td>\n",
       "      <td>...</td>\n",
       "      <td>...</td>\n",
       "      <td>...</td>\n",
       "      <td>...</td>\n",
       "      <td>...</td>\n",
       "      <td>...</td>\n",
       "      <td>...</td>\n",
       "    </tr>\n",
       "    <tr>\n",
       "      <th>76</th>\n",
       "      <td>3</td>\n",
       "      <td>0.65</td>\n",
       "      <td>80.14</td>\n",
       "      <td>23.40</td>\n",
       "      <td>60.1</td>\n",
       "      <td>22.88</td>\n",
       "      <td>100.00</td>\n",
       "      <td>21.38</td>\n",
       "    </tr>\n",
       "    <tr>\n",
       "      <th>77</th>\n",
       "      <td>3</td>\n",
       "      <td>0.70</td>\n",
       "      <td>100.00</td>\n",
       "      <td>22.28</td>\n",
       "      <td>100.0</td>\n",
       "      <td>25.26</td>\n",
       "      <td>69.30</td>\n",
       "      <td>16.22</td>\n",
       "    </tr>\n",
       "    <tr>\n",
       "      <th>78</th>\n",
       "      <td>3</td>\n",
       "      <td>0.75</td>\n",
       "      <td>79.60</td>\n",
       "      <td>24.99</td>\n",
       "      <td>9.9</td>\n",
       "      <td>16.66</td>\n",
       "      <td>29.36</td>\n",
       "      <td>18.76</td>\n",
       "    </tr>\n",
       "    <tr>\n",
       "      <th>79</th>\n",
       "      <td>3</td>\n",
       "      <td>0.80</td>\n",
       "      <td>90.36</td>\n",
       "      <td>17.62</td>\n",
       "      <td>79.6</td>\n",
       "      <td>22.73</td>\n",
       "      <td>29.58</td>\n",
       "      <td>16.35</td>\n",
       "    </tr>\n",
       "    <tr>\n",
       "      <th>80</th>\n",
       "      <td>3</td>\n",
       "      <td>0.85</td>\n",
       "      <td>60.76</td>\n",
       "      <td>20.65</td>\n",
       "      <td>30.3</td>\n",
       "      <td>17.30</td>\n",
       "      <td>89.82</td>\n",
       "      <td>15.85</td>\n",
       "    </tr>\n",
       "  </tbody>\n",
       "</table>\n",
       "<p>81 rows × 8 columns</p>\n",
       "</div>"
      ],
      "text/plain": [
       "    idx  noise_level  noisy1_gabor_acc  noisy1_cifar_acc  noisy2_gabor_acc  \\\n",
       "0     0         0.00            100.00             63.39             100.0   \n",
       "1     0         0.05            100.00             63.37             100.0   \n",
       "2     0         0.10            100.00             60.45             100.0   \n",
       "3     0         0.15            100.00             58.97             100.0   \n",
       "4     0         0.20            100.00             42.79             100.0   \n",
       "..  ...          ...               ...               ...               ...   \n",
       "76    3         0.65             80.14             23.40              60.1   \n",
       "77    3         0.70            100.00             22.28             100.0   \n",
       "78    3         0.75             79.60             24.99               9.9   \n",
       "79    3         0.80             90.36             17.62              79.6   \n",
       "80    3         0.85             60.76             20.65              30.3   \n",
       "\n",
       "    noisy2_cifar_acc  noisy3_gabor_acc  noisy3_cifar_acc  \n",
       "0              63.39            100.00             63.39  \n",
       "1              63.41            100.00             63.43  \n",
       "2              63.01            100.00             60.04  \n",
       "3              61.66            100.00             59.51  \n",
       "4              60.84            100.00             56.39  \n",
       "..               ...               ...               ...  \n",
       "76             22.88            100.00             21.38  \n",
       "77             25.26             69.30             16.22  \n",
       "78             16.66             29.36             18.76  \n",
       "79             22.73             29.58             16.35  \n",
       "80             17.30             89.82             15.85  \n",
       "\n",
       "[81 rows x 8 columns]"
      ]
     },
     "execution_count": 26,
     "metadata": {},
     "output_type": "execute_result"
    }
   ],
   "source": [
    "import pandas as pd\n",
    "noise_results_df = pd.DataFrame(noise_results)\n",
    "noise_results_df"
   ]
  },
  {
   "cell_type": "code",
   "execution_count": 54,
   "id": "94a8552b",
   "metadata": {},
   "outputs": [
    {
     "data": {
      "text/plain": [
       "Text(0.5, 1.0, 'Model Performance vs. Noise Level')"
      ]
     },
     "execution_count": 54,
     "metadata": {},
     "output_type": "execute_result"
    },
    {
     "data": {
      "image/png": "[encoded data removed]",
      "text/plain": [
       "<Figure size 640x480 with 1 Axes>"
      ]
     },
     "metadata": {},
     "output_type": "display_data"
    }
   ],
   "source": [
    "import seaborn as sns\n",
    "\n",
    "sns.lineplot(\n",
    "    data=noise_results_df, \n",
    "    x='noise_level', \n",
    "    y='noisy1_gabor_acc', \n",
    "    err_style='band',\n",
    "    errorbar='se',\n",
    "    markers='o',\n",
    "    color='red',\n",
    "    )\n",
    "\n",
    "sns.lineplot(\n",
    "    data=noise_results_df, \n",
    "    x='noise_level', \n",
    "    y='noisy1_cifar_acc', \n",
    "    err_style='band',\n",
    "    errorbar='se',\n",
    "    color='blue',\n",
    "    )\n",
    "\n",
    "plt.xlabel('Noise Level')\n",
    "plt.ylabel('Accuracy (%)')\n",
    "plt.title('Model Performance vs. Noise Level')\n",
    "# plt.xlim(0, 0.65)"
   ]
  },
  {
   "cell_type": "code",
   "execution_count": 15,
   "id": "0ad0b573",
   "metadata": {},
   "outputs": [
    {
     "name": "stdout",
     "output_type": "stream",
     "text": [
      "Evaluating model performance...\n",
      "Original Model - Gabor Accuracy: 100.00%, CIFAR-10 Accuracy: 63.86%\n",
      "Noisy Middle Layer Model - Gabor Accuracy: 59.56%, CIFAR-10 Accuracy: 24.22%\n"
     ]
    }
   ],
   "source": [
    "print(\"Evaluating model performance...\")\n",
    "gabor_acc = modeling.evaluate_gabor_accuracy(model, gabor_test_loader)\n",
    "cifar_acc = modeling.evaluate_cifar_accuracy(model, cifar_test_loader)\n",
    "\n",
    "print(f'Original Model - Gabor Accuracy: {gabor_acc:.2f}%, CIFAR-10 Accuracy: {cifar_acc:.2f}%')\n",
    "\n",
    "noisy_middle_model = copy.deepcopy(model)\n",
    "noisy_middle_model = modeling.add_noise_to_middle_layer(noisy_middle_model, noise_level=0.8)\n",
    "grating_acc, cifar_acc = modeling.evaluate_gabor_accuracy(noisy_middle_model, gabor_test_loader), modeling.evaluate_cifar_accuracy(noisy_middle_model, cifar_test_loader)\n",
    "\n",
    "print(f'Noisy Middle Layer Model - Gabor Accuracy: {grating_acc:.2f}%, CIFAR-10 Accuracy: {cifar_acc:.2f}%')"
   ]
  },
  {
   "cell_type": "code",
   "execution_count": 16,
   "id": "90d2fe0b",
   "metadata": {},
   "outputs": [],
   "source": [
    "noise_levels = [0, 0.1, 0.2, 0.3, 0.4, 0.5, 0.6, 0.7, 0.8]\n",
    "grating_accuracies = []\n",
    "cifar_accuracies = []\n",
    "for noises in noise_levels:\n",
    "    noisy_first_model = copy.deepcopy(model)\n",
    "    noisy_first_model = modeling.add_noise_to_first_layer(noisy_first_model, noise_level=noises)\n",
    "    grating_acc, cifar_acc = modeling.evaluate_gabor_accuracy(noisy_first_model, gabor_test_loader), modeling.evaluate_cifar_accuracy(noisy_first_model, cifar_test_loader)\n",
    "\n",
    "    grating_accuracies.append(grating_acc)\n",
    "    cifar_accuracies.append(cifar_acc)"
   ]
  },
  {
   "cell_type": "code",
   "execution_count": 17,
   "id": "f92a1da0",
   "metadata": {},
   "outputs": [
    {
     "data": {
      "text/plain": [
       "[<matplotlib.lines.Line2D at 0x7fc7540c9a80>]"
      ]
     },
     "execution_count": 17,
     "metadata": {},
     "output_type": "execute_result"
    },
    {
     "data": {
      "image/png": "[encoded data removed]",
      "text/plain": [
       "<Figure size 640x480 with 1 Axes>"
      ]
     },
     "metadata": {},
     "output_type": "display_data"
    }
   ],
   "source": [
    "plt.plot(noise_levels, grating_accuracies, label='Gabor Accuracy')\n",
    "plt.plot(noise_levels, cifar_accuracies, label='CIFAR-10 Accuracy')"
   ]
  },
  {
   "cell_type": "code",
   "execution_count": null,
   "id": "fdd502b7",
   "metadata": {},
   "outputs": [],
   "source": []
  }
 ],
 "metadata": {
  "kernelspec": {
   "display_name": "neural_net_basics",
   "language": "python",
   "name": "python3"
  },
  "language_info": {
   "codemirror_mode": {
    "name": "ipython",
    "version": 3
   },
   "file_extension": ".py",
   "mimetype": "text/x-python",
   "name": "python",
   "nbconvert_exporter": "python",
   "pygments_lexer": "ipython3",
   "version": "3.10.16"
  }
 },
 "nbformat": 4,
 "nbformat_minor": 5
}
