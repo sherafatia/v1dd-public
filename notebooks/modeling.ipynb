{
 "cells": [
  {
   "cell_type": "markdown",
   "id": "53b8ee35",
   "metadata": {},
   "source": [
    "#### Model v2 -- to run code below I had to switch into a different virtual environment and install just these packages"
   ]
  },
  {
   "cell_type": "code",
   "execution_count": 1,
   "id": "579828f6",
   "metadata": {},
   "outputs": [],
   "source": [
    "import torch\n",
    "import torch.nn as nn\n",
    "import torch.optim as optim\n",
    "import torchvision\n",
    "import torchvision.transforms as transforms\n",
    "from torch.utils.data import Dataset, DataLoader, ConcatDataset\n",
    "import numpy as np\n",
    "from skimage.filters import gabor_kernel\n",
    "import copy\n",
    "from PIL import Image\n",
    "import matplotlib.pyplot as plt\n",
    "from torch.utils.data import random_split\n",
    "import copy\n",
    "import datetime\n",
    "import modeling\n",
    "\n",
    "## do 16 16 \n",
    "### do percent change in accuracy instead of accuracy differences "
   ]
  },
  {
   "cell_type": "code",
   "execution_count": 2,
   "id": "91f46832",
   "metadata": {},
   "outputs": [
    {
     "name": "stdout",
     "output_type": "stream",
     "text": [
      "Files already downloaded and verified\n",
      "Files already downloaded and verified\n"
     ]
    }
   ],
   "source": [
    "transform_cifar = transforms.Compose([\n",
    "    transforms.Grayscale(num_output_channels=1),\n",
    "    transforms.Resize((32, 32)),\n",
    "    transforms.ToTensor(),\n",
    "    transforms.Normalize((0.5,), (0.5,))\n",
    "])\n",
    "\n",
    "batch_size = 64\n",
    "\n",
    "## Load CIFAR-10 dataset (training = 50,000 images, test = 10,000 images)\n",
    "\n",
    "cifar_trainset = torchvision.datasets.CIFAR10(root='./data', train=True, download=True, transform=transform_cifar)\n",
    "cifar_testset = torchvision.datasets.CIFAR10(root='./data', train=False, download=True, transform=transform_cifar)\n",
    "cifar_trainset, cifar_valset = random_split(cifar_trainset, [int(len(cifar_trainset) * 0.9), int(len(cifar_trainset) * 0.1)])\n",
    "cifar_train_loader = DataLoader(cifar_trainset, batch_size=batch_size, shuffle=True)    # shape = (40000, 1, 32, 32)\n",
    "cifar_val_loader = DataLoader(cifar_valset, batch_size=batch_size, shuffle=False)\n",
    "cifar_test_loader = DataLoader(cifar_testset, batch_size=batch_size, shuffle=False)\n",
    "\n",
    "gabor_trainset = modeling.GaborDataset(num_images=45000, img_size=32, orientations=10, frequencies=[0.08, 0.04], add_noise=True, noise_level=0.1)\n",
    "gabor_valset = modeling.GaborDataset(num_images=5000, img_size=32, orientations=10, frequencies=[0.08, 0.04], add_noise=True, noise_level=0.1)\n",
    "gabor_testset = modeling.GaborDataset(num_images=10000, img_size=32, orientations=10, frequencies=[0.08, 0.04], add_noise=True, noise_level=0.1)\n",
    "gabor_train_loader = DataLoader(gabor_trainset, batch_size=batch_size, shuffle=True)\n",
    "gabor_val_loader = DataLoader(gabor_valset, batch_size=batch_size, shuffle=False)\n",
    "gabor_test_loader = DataLoader(gabor_testset, batch_size=batch_size, shuffle=False)\n",
    "\n",
    "assert len(cifar_trainset) + len(cifar_valset) == 50000\n",
    "assert len(gabor_trainset) == len(cifar_trainset)\n",
    "assert len(gabor_valset) == len(cifar_valset)\n",
    "assert len(gabor_testset) == len(cifar_testset)\n",
    "\n",
    "combined_trainset = ConcatDataset([cifar_trainset, gabor_trainset])\n",
    "combined_loader = DataLoader(combined_trainset, batch_size=batch_size, shuffle=True)\n",
    "combined_valset = ConcatDataset([cifar_valset, gabor_valset])\n",
    "combined_val_loader = DataLoader(combined_valset, batch_size=batch_size, shuffle=True) # need to shuffle val set too because of concatdataset"
   ]
  },
  {
   "cell_type": "code",
   "execution_count": 2,
   "id": "5232524c",
   "metadata": {},
   "outputs": [],
   "source": [
    "gabor_valset = modeling.GaborDatasetNoisy(noise_level=0.05, orientation_jitter=0.05)"
   ]
  },
  {
   "cell_type": "code",
   "execution_count": 3,
   "id": "1a474482",
   "metadata": {},
   "outputs": [
    {
     "ename": "AttributeError",
     "evalue": "'numpy.random._generator.Generator' object has no attribute 'randint'",
     "output_type": "error",
     "traceback": [
      "\u001b[0;31m---------------------------------------------------------------------------\u001b[0m",
      "\u001b[0;31mAttributeError\u001b[0m                            Traceback (most recent call last)",
      "Cell \u001b[0;32mIn[3], line 1\u001b[0m\n\u001b[0;32m----> 1\u001b[0m \u001b[43mgabor_valset\u001b[49m\u001b[43m[\u001b[49m\u001b[38;5;241;43m0\u001b[39;49m\u001b[43m]\u001b[49m\n",
      "File \u001b[0;32m~/Desktop/code/v1dd-public/notebooks/modeling.py:192\u001b[0m, in \u001b[0;36mGaborDatasetNoisy.__getitem__\u001b[0;34m(self, idx)\u001b[0m\n\u001b[1;32m    182\u001b[0m phase \u001b[38;5;241m=\u001b[39m \u001b[38;5;28mself\u001b[39m\u001b[38;5;241m.\u001b[39mrng\u001b[38;5;241m.\u001b[39muniform(\u001b[38;5;241m0\u001b[39m, \u001b[38;5;241m2\u001b[39m \u001b[38;5;241m*\u001b[39m np\u001b[38;5;241m.\u001b[39mpi)\n\u001b[1;32m    184\u001b[0m kernel \u001b[38;5;241m=\u001b[39m np\u001b[38;5;241m.\u001b[39mreal(\n\u001b[1;32m    185\u001b[0m     gabor_kernel(\n\u001b[1;32m    186\u001b[0m         frequency\u001b[38;5;241m=\u001b[39mjittered_frequency,\n\u001b[0;32m   (...)\u001b[0m\n\u001b[1;32m    190\u001b[0m     )\n\u001b[1;32m    191\u001b[0m )\n\u001b[0;32m--> 192\u001b[0m offset \u001b[38;5;241m=\u001b[39m \u001b[38;5;28;43mself\u001b[39;49m\u001b[38;5;241;43m.\u001b[39;49m\u001b[43mrng\u001b[49m\u001b[38;5;241;43m.\u001b[39;49m\u001b[43mrandint\u001b[49m(\u001b[38;5;241m-\u001b[39m\u001b[38;5;241m5\u001b[39m, \u001b[38;5;241m5\u001b[39m)\n\u001b[1;32m    193\u001b[0m kernel \u001b[38;5;241m=\u001b[39m np\u001b[38;5;241m.\u001b[39mroll(kernel, shift\u001b[38;5;241m=\u001b[39m(offset, offset), axis\u001b[38;5;241m=\u001b[39m(\u001b[38;5;241m0\u001b[39m, \u001b[38;5;241m1\u001b[39m))\n\u001b[1;32m    195\u001b[0m kernel \u001b[38;5;241m=\u001b[39m (\n\u001b[1;32m    196\u001b[0m     (kernel \u001b[38;5;241m-\u001b[39m kernel\u001b[38;5;241m.\u001b[39mmin()) \u001b[38;5;241m/\u001b[39m (kernel\u001b[38;5;241m.\u001b[39mmax() \u001b[38;5;241m-\u001b[39m kernel\u001b[38;5;241m.\u001b[39mmin()) \u001b[38;5;241m*\u001b[39m \u001b[38;5;241m255\u001b[39m\n\u001b[1;32m    197\u001b[0m )  \u001b[38;5;66;03m# Normalize to [0, 255]\u001b[39;00m\n",
      "\u001b[0;31mAttributeError\u001b[0m: 'numpy.random._generator.Generator' object has no attribute 'randint'"
     ]
    }
   ],
   "source": [
    "gabor_valset[0]"
   ]
  },
  {
   "cell_type": "code",
   "execution_count": null,
   "id": "79639545",
   "metadata": {},
   "outputs": [],
   "source": [
    "np.random.seed(42)."
   ]
  },
  {
   "cell_type": "code",
   "execution_count": 54,
   "id": "704cfd56",
   "metadata": {},
   "outputs": [
    {
     "name": "stdout",
     "output_type": "stream",
     "text": [
      "11\n"
     ]
    },
    {
     "data": {
      "image/png": "[encoded data removed]",
      "text/plain": [
       "<Figure size 640x480 with 1 Axes>"
      ]
     },
     "metadata": {},
     "output_type": "display_data"
    }
   ],
   "source": [
    "data = gabor_valset[1]\n",
    "\n",
    "## add offset to the image (i.e. move it up/down/left/right by a few pixels)\n",
    "offset = np.random.randint(-3, 3)\n",
    "image = np.roll(data[0][0], shift=(offset, offset), axis=(0, 1))\n",
    "\n",
    "plt.imshow(image)\n",
    "print(data[1])\n"
   ]
  },
  {
   "cell_type": "code",
   "execution_count": 51,
   "id": "a9fc4f72",
   "metadata": {},
   "outputs": [
    {
     "data": {
      "text/plain": [
       "1.469079813843397"
      ]
     },
     "execution_count": 51,
     "metadata": {},
     "output_type": "execute_result"
    }
   ],
   "source": [
    "offset"
   ]
  },
  {
   "cell_type": "code",
   "execution_count": 45,
   "id": "57ffb6c2",
   "metadata": {},
   "outputs": [
    {
     "name": "stdout",
     "output_type": "stream",
     "text": [
      "\u001b[0;31mSignature:\u001b[0m       \u001b[0mnp\u001b[0m\u001b[0;34m.\u001b[0m\u001b[0mroll\u001b[0m\u001b[0;34m(\u001b[0m\u001b[0ma\u001b[0m\u001b[0;34m,\u001b[0m \u001b[0mshift\u001b[0m\u001b[0;34m,\u001b[0m \u001b[0maxis\u001b[0m\u001b[0;34m=\u001b[0m\u001b[0;32mNone\u001b[0m\u001b[0;34m)\u001b[0m\u001b[0;34m\u001b[0m\u001b[0;34m\u001b[0m\u001b[0m\n",
      "\u001b[0;31mCall signature:\u001b[0m  \u001b[0mnp\u001b[0m\u001b[0;34m.\u001b[0m\u001b[0mroll\u001b[0m\u001b[0;34m(\u001b[0m\u001b[0;34m*\u001b[0m\u001b[0margs\u001b[0m\u001b[0;34m,\u001b[0m \u001b[0;34m**\u001b[0m\u001b[0mkwargs\u001b[0m\u001b[0;34m)\u001b[0m\u001b[0;34m\u001b[0m\u001b[0;34m\u001b[0m\u001b[0m\n",
      "\u001b[0;31mType:\u001b[0m            _ArrayFunctionDispatcher\n",
      "\u001b[0;31mString form:\u001b[0m     <function roll at 0x7fae7d5eb400>\n",
      "\u001b[0;31mFile:\u001b[0m            ~/anaconda3/envs/neural_net_basics/lib/python3.10/site-packages/numpy/core/numeric.py\n",
      "\u001b[0;31mDocstring:\u001b[0m      \n",
      "Roll array elements along a given axis.\n",
      "\n",
      "Elements that roll beyond the last position are re-introduced at\n",
      "the first.\n",
      "\n",
      "Parameters\n",
      "----------\n",
      "a : array_like\n",
      "    Input array.\n",
      "shift : int or tuple of ints\n",
      "    The number of places by which elements are shifted.  If a tuple,\n",
      "    then `axis` must be a tuple of the same size, and each of the\n",
      "    given axes is shifted by the corresponding number.  If an int\n",
      "    while `axis` is a tuple of ints, then the same value is used for\n",
      "    all given axes.\n",
      "axis : int or tuple of ints, optional\n",
      "    Axis or axes along which elements are shifted.  By default, the\n",
      "    array is flattened before shifting, after which the original\n",
      "    shape is restored.\n",
      "\n",
      "Returns\n",
      "-------\n",
      "res : ndarray\n",
      "    Output array, with the same shape as `a`.\n",
      "\n",
      "See Also\n",
      "--------\n",
      "rollaxis : Roll the specified axis backwards, until it lies in a\n",
      "           given position.\n",
      "\n",
      "Notes\n",
      "-----\n",
      ".. versionadded:: 1.12.0\n",
      "\n",
      "Supports rolling over multiple dimensions simultaneously.\n",
      "\n",
      "Examples\n",
      "--------\n",
      ">>> x = np.arange(10)\n",
      ">>> np.roll(x, 2)\n",
      "array([8, 9, 0, 1, 2, 3, 4, 5, 6, 7])\n",
      ">>> np.roll(x, -2)\n",
      "array([2, 3, 4, 5, 6, 7, 8, 9, 0, 1])\n",
      "\n",
      ">>> x2 = np.reshape(x, (2, 5))\n",
      ">>> x2\n",
      "array([[0, 1, 2, 3, 4],\n",
      "       [5, 6, 7, 8, 9]])\n",
      ">>> np.roll(x2, 1)\n",
      "array([[9, 0, 1, 2, 3],\n",
      "       [4, 5, 6, 7, 8]])\n",
      ">>> np.roll(x2, -1)\n",
      "array([[1, 2, 3, 4, 5],\n",
      "       [6, 7, 8, 9, 0]])\n",
      ">>> np.roll(x2, 1, axis=0)\n",
      "array([[5, 6, 7, 8, 9],\n",
      "       [0, 1, 2, 3, 4]])\n",
      ">>> np.roll(x2, -1, axis=0)\n",
      "array([[5, 6, 7, 8, 9],\n",
      "       [0, 1, 2, 3, 4]])\n",
      ">>> np.roll(x2, 1, axis=1)\n",
      "array([[4, 0, 1, 2, 3],\n",
      "       [9, 5, 6, 7, 8]])\n",
      ">>> np.roll(x2, -1, axis=1)\n",
      "array([[1, 2, 3, 4, 0],\n",
      "       [6, 7, 8, 9, 5]])\n",
      ">>> np.roll(x2, (1, 1), axis=(1, 0))\n",
      "array([[9, 5, 6, 7, 8],\n",
      "       [4, 0, 1, 2, 3]])\n",
      ">>> np.roll(x2, (2, 1), axis=(1, 0))\n",
      "array([[8, 9, 5, 6, 7],\n",
      "       [3, 4, 0, 1, 2]])\n",
      "\u001b[0;31mClass docstring:\u001b[0m\n",
      "Class to wrap functions with checks for __array_function__ overrides.\n",
      "\n",
      "All arguments are required, and can only be passed by position.\n",
      "\n",
      "Parameters\n",
      "----------\n",
      "dispatcher : function or None\n",
      "    The dispatcher function that returns a single sequence-like object\n",
      "    of all arguments relevant.  It must have the same signature (except\n",
      "    the default values) as the actual implementation.\n",
      "    If ``None``, this is a ``like=`` dispatcher and the\n",
      "    ``_ArrayFunctionDispatcher`` must be called with ``like`` as the\n",
      "    first (additional and positional) argument.\n",
      "implementation : function\n",
      "    Function that implements the operation on NumPy arrays without\n",
      "    overrides.  Arguments passed calling the ``_ArrayFunctionDispatcher``\n",
      "    will be forwarded to this (and the ``dispatcher``) as if using\n",
      "    ``*args, **kwargs``.\n",
      "\n",
      "Attributes\n",
      "----------\n",
      "_implementation : function\n",
      "    The original implementation passed in."
     ]
    }
   ],
   "source": [
    "np.roll?\n"
   ]
  },
  {
   "cell_type": "code",
   "execution_count": 3,
   "id": "54939997",
   "metadata": {},
   "outputs": [
    {
     "name": "stdout",
     "output_type": "stream",
     "text": [
      "Training model with tag: 2025_10_16_19:20:06\n"
     ]
    },
    {
     "data": {
      "application/vnd.jupyter.widget-view+json": {
       "model_id": "d1ca6900e49f4e218090340c7b32f4d1",
       "version_major": 2,
       "version_minor": 0
      },
      "text/plain": [
       "Epochs:   0%|          | 0/35 [00:00<?, ?it/s]"
      ]
     },
     "metadata": {},
     "output_type": "display_data"
    },
    {
     "data": {
      "application/vnd.jupyter.widget-view+json": {
       "model_id": "07c1f501ba4a412d99a41382ac0a3cd6",
       "version_major": 2,
       "version_minor": 0
      },
      "text/plain": [
       "Batches in epoch #1:   0%|          | 0/1407 [00:00<?, ?it/s]"
      ]
     },
     "metadata": {},
     "output_type": "display_data"
    },
    {
     "data": {
      "application/vnd.jupyter.widget-view+json": {
       "model_id": "d48004e507cc4a4388f5a8c0b88f4349",
       "version_major": 2,
       "version_minor": 0
      },
      "text/plain": [
       "Batches in epoch #2:   0%|          | 0/1407 [00:00<?, ?it/s]"
      ]
     },
     "metadata": {},
     "output_type": "display_data"
    },
    {
     "data": {
      "application/vnd.jupyter.widget-view+json": {
       "model_id": "b5d3999e1a11416c88c28ebf5dc9ab98",
       "version_major": 2,
       "version_minor": 0
      },
      "text/plain": [
       "Batches in epoch #3:   0%|          | 0/1407 [00:00<?, ?it/s]"
      ]
     },
     "metadata": {},
     "output_type": "display_data"
    },
    {
     "data": {
      "application/vnd.jupyter.widget-view+json": {
       "model_id": "624d7f9c0910419788f866e7a6f8f42e",
       "version_major": 2,
       "version_minor": 0
      },
      "text/plain": [
       "Batches in epoch #4:   0%|          | 0/1407 [00:00<?, ?it/s]"
      ]
     },
     "metadata": {},
     "output_type": "display_data"
    },
    {
     "data": {
      "application/vnd.jupyter.widget-view+json": {
       "model_id": "758c7115a7164bd3a9f23dbeddcf730c",
       "version_major": 2,
       "version_minor": 0
      },
      "text/plain": [
       "Batches in epoch #5:   0%|          | 0/1407 [00:00<?, ?it/s]"
      ]
     },
     "metadata": {},
     "output_type": "display_data"
    },
    {
     "ename": "KeyboardInterrupt",
     "evalue": "",
     "output_type": "error",
     "traceback": [
      "\u001b[0;31m---------------------------------------------------------------------------\u001b[0m",
      "\u001b[0;31mKeyboardInterrupt\u001b[0m                         Traceback (most recent call last)",
      "Cell \u001b[0;32mIn[3], line 2\u001b[0m\n\u001b[1;32m      1\u001b[0m model \u001b[38;5;241m=\u001b[39m modeling\u001b[38;5;241m.\u001b[39mConvNet(in_channels\u001b[38;5;241m=\u001b[39m\u001b[38;5;241m1\u001b[39m, height\u001b[38;5;241m=\u001b[39m\u001b[38;5;241m32\u001b[39m, width\u001b[38;5;241m=\u001b[39m\u001b[38;5;241m32\u001b[39m)\n\u001b[0;32m----> 2\u001b[0m model, train_losses, val_losses, gabor_vals, cifar_vals \u001b[38;5;241m=\u001b[39m \u001b[43mmodeling\u001b[49m\u001b[38;5;241;43m.\u001b[39;49m\u001b[43mtrain_model\u001b[49m\u001b[43m(\u001b[49m\n\u001b[1;32m      3\u001b[0m \u001b[43m    \u001b[49m\u001b[43mmodel\u001b[49m\u001b[43m,\u001b[49m\u001b[43m \u001b[49m\n\u001b[1;32m      4\u001b[0m \u001b[43m    \u001b[49m\u001b[43mtrain_loader\u001b[49m\u001b[38;5;241;43m=\u001b[39;49m\u001b[43mcombined_loader\u001b[49m\u001b[43m,\u001b[49m\n\u001b[1;32m      5\u001b[0m \u001b[43m    \u001b[49m\u001b[43mbatch_size\u001b[49m\u001b[38;5;241;43m=\u001b[39;49m\u001b[38;5;241;43m64\u001b[39;49m\u001b[43m,\u001b[49m\n\u001b[1;32m      6\u001b[0m \u001b[43m    \u001b[49m\u001b[43mprobe_size\u001b[49m\u001b[38;5;241;43m=\u001b[39;49m\u001b[38;5;241;43m64\u001b[39;49m\u001b[43m,\u001b[49m\n\u001b[1;32m      7\u001b[0m \u001b[43m    \u001b[49m\u001b[43mval_dataset\u001b[49m\u001b[38;5;241;43m=\u001b[39;49m\u001b[43mcombined_valset\u001b[49m\u001b[43m,\u001b[49m\n\u001b[1;32m      8\u001b[0m \u001b[43m    \u001b[49m\u001b[43mnum_epochs\u001b[49m\u001b[38;5;241;43m=\u001b[39;49m\u001b[38;5;241;43m35\u001b[39;49m\u001b[43m,\u001b[49m\n\u001b[1;32m      9\u001b[0m \u001b[43m    \u001b[49m\u001b[43m)\u001b[49m\n",
      "File \u001b[0;32m~/Desktop/code/v1dd-public/notebooks/modeling.py:183\u001b[0m, in \u001b[0;36mtrain_model\u001b[0;34m(model, train_loader, batch_size, probe_size, val_dataset, num_epochs, tag)\u001b[0m\n\u001b[1;32m    180\u001b[0m cifar_val_accuracies \u001b[38;5;241m=\u001b[39m []\n\u001b[1;32m    181\u001b[0m \u001b[38;5;28;01mfor\u001b[39;00m epoch \u001b[38;5;129;01min\u001b[39;00m trange(num_epochs, desc\u001b[38;5;241m=\u001b[39m\u001b[38;5;124m\"\u001b[39m\u001b[38;5;124mEpochs\u001b[39m\u001b[38;5;124m\"\u001b[39m):\n\u001b[0;32m--> 183\u001b[0m     \u001b[38;5;28;01mfor\u001b[39;00m _, data \u001b[38;5;129;01min\u001b[39;00m tqdm(\n\u001b[1;32m    184\u001b[0m         \u001b[38;5;28menumerate\u001b[39m(train_loader),\n\u001b[1;32m    185\u001b[0m         desc\u001b[38;5;241m=\u001b[39m\u001b[38;5;124mf\u001b[39m\u001b[38;5;124m\"\u001b[39m\u001b[38;5;124mBatches in epoch #\u001b[39m\u001b[38;5;132;01m{\u001b[39;00mepoch\u001b[38;5;241m+\u001b[39m\u001b[38;5;241m1\u001b[39m\u001b[38;5;132;01m}\u001b[39;00m\u001b[38;5;124m\"\u001b[39m,\n\u001b[1;32m    186\u001b[0m         leave\u001b[38;5;241m=\u001b[39m\u001b[38;5;28;01mFalse\u001b[39;00m,\n\u001b[1;32m    187\u001b[0m         total\u001b[38;5;241m=\u001b[39m\u001b[38;5;28mlen\u001b[39m(train_loader),\n\u001b[1;32m    188\u001b[0m     ):\n\u001b[1;32m    189\u001b[0m         inputs, labels \u001b[38;5;241m=\u001b[39m data\n\u001b[1;32m    190\u001b[0m         inputs, labels \u001b[38;5;241m=\u001b[39m inputs\u001b[38;5;241m.\u001b[39mto(device), labels\u001b[38;5;241m.\u001b[39mto(device)\n",
      "File \u001b[0;32m~/anaconda3/envs/neural_net_basics/lib/python3.10/site-packages/tqdm/notebook.py:250\u001b[0m, in \u001b[0;36mtqdm_notebook.__iter__\u001b[0;34m(self)\u001b[0m\n\u001b[1;32m    248\u001b[0m \u001b[38;5;28;01mtry\u001b[39;00m:\n\u001b[1;32m    249\u001b[0m     it \u001b[38;5;241m=\u001b[39m \u001b[38;5;28msuper\u001b[39m()\u001b[38;5;241m.\u001b[39m\u001b[38;5;21m__iter__\u001b[39m()\n\u001b[0;32m--> 250\u001b[0m     \u001b[38;5;28;01mfor\u001b[39;00m obj \u001b[38;5;129;01min\u001b[39;00m it:\n\u001b[1;32m    251\u001b[0m         \u001b[38;5;66;03m# return super(tqdm...) will not catch exception\u001b[39;00m\n\u001b[1;32m    252\u001b[0m         \u001b[38;5;28;01myield\u001b[39;00m obj\n\u001b[1;32m    253\u001b[0m \u001b[38;5;66;03m# NB: except ... [ as ...] breaks IPython async KeyboardInterrupt\u001b[39;00m\n",
      "File \u001b[0;32m~/anaconda3/envs/neural_net_basics/lib/python3.10/site-packages/tqdm/std.py:1181\u001b[0m, in \u001b[0;36mtqdm.__iter__\u001b[0;34m(self)\u001b[0m\n\u001b[1;32m   1178\u001b[0m time \u001b[38;5;241m=\u001b[39m \u001b[38;5;28mself\u001b[39m\u001b[38;5;241m.\u001b[39m_time\n\u001b[1;32m   1180\u001b[0m \u001b[38;5;28;01mtry\u001b[39;00m:\n\u001b[0;32m-> 1181\u001b[0m     \u001b[38;5;28;01mfor\u001b[39;00m obj \u001b[38;5;129;01min\u001b[39;00m iterable:\n\u001b[1;32m   1182\u001b[0m         \u001b[38;5;28;01myield\u001b[39;00m obj\n\u001b[1;32m   1183\u001b[0m         \u001b[38;5;66;03m# Update and possibly print the progressbar.\u001b[39;00m\n\u001b[1;32m   1184\u001b[0m         \u001b[38;5;66;03m# Note: does not call self.update(1) for speed optimisation.\u001b[39;00m\n",
      "File \u001b[0;32m~/anaconda3/envs/neural_net_basics/lib/python3.10/site-packages/torch/utils/data/dataloader.py:701\u001b[0m, in \u001b[0;36m_BaseDataLoaderIter.__next__\u001b[0;34m(self)\u001b[0m\n\u001b[1;32m    698\u001b[0m \u001b[38;5;28;01mif\u001b[39;00m \u001b[38;5;28mself\u001b[39m\u001b[38;5;241m.\u001b[39m_sampler_iter \u001b[38;5;129;01mis\u001b[39;00m \u001b[38;5;28;01mNone\u001b[39;00m:\n\u001b[1;32m    699\u001b[0m     \u001b[38;5;66;03m# TODO(https://github.com/pytorch/pytorch/issues/76750)\u001b[39;00m\n\u001b[1;32m    700\u001b[0m     \u001b[38;5;28mself\u001b[39m\u001b[38;5;241m.\u001b[39m_reset()  \u001b[38;5;66;03m# type: ignore[call-arg]\u001b[39;00m\n\u001b[0;32m--> 701\u001b[0m data \u001b[38;5;241m=\u001b[39m \u001b[38;5;28;43mself\u001b[39;49m\u001b[38;5;241;43m.\u001b[39;49m\u001b[43m_next_data\u001b[49m\u001b[43m(\u001b[49m\u001b[43m)\u001b[49m\n\u001b[1;32m    702\u001b[0m \u001b[38;5;28mself\u001b[39m\u001b[38;5;241m.\u001b[39m_num_yielded \u001b[38;5;241m+\u001b[39m\u001b[38;5;241m=\u001b[39m \u001b[38;5;241m1\u001b[39m\n\u001b[1;32m    703\u001b[0m \u001b[38;5;28;01mif\u001b[39;00m (\n\u001b[1;32m    704\u001b[0m     \u001b[38;5;28mself\u001b[39m\u001b[38;5;241m.\u001b[39m_dataset_kind \u001b[38;5;241m==\u001b[39m _DatasetKind\u001b[38;5;241m.\u001b[39mIterable\n\u001b[1;32m    705\u001b[0m     \u001b[38;5;129;01mand\u001b[39;00m \u001b[38;5;28mself\u001b[39m\u001b[38;5;241m.\u001b[39m_IterableDataset_len_called \u001b[38;5;129;01mis\u001b[39;00m \u001b[38;5;129;01mnot\u001b[39;00m \u001b[38;5;28;01mNone\u001b[39;00m\n\u001b[1;32m    706\u001b[0m     \u001b[38;5;129;01mand\u001b[39;00m \u001b[38;5;28mself\u001b[39m\u001b[38;5;241m.\u001b[39m_num_yielded \u001b[38;5;241m>\u001b[39m \u001b[38;5;28mself\u001b[39m\u001b[38;5;241m.\u001b[39m_IterableDataset_len_called\n\u001b[1;32m    707\u001b[0m ):\n",
      "File \u001b[0;32m~/anaconda3/envs/neural_net_basics/lib/python3.10/site-packages/torch/utils/data/dataloader.py:757\u001b[0m, in \u001b[0;36m_SingleProcessDataLoaderIter._next_data\u001b[0;34m(self)\u001b[0m\n\u001b[1;32m    755\u001b[0m \u001b[38;5;28;01mdef\u001b[39;00m \u001b[38;5;21m_next_data\u001b[39m(\u001b[38;5;28mself\u001b[39m):\n\u001b[1;32m    756\u001b[0m     index \u001b[38;5;241m=\u001b[39m \u001b[38;5;28mself\u001b[39m\u001b[38;5;241m.\u001b[39m_next_index()  \u001b[38;5;66;03m# may raise StopIteration\u001b[39;00m\n\u001b[0;32m--> 757\u001b[0m     data \u001b[38;5;241m=\u001b[39m \u001b[38;5;28;43mself\u001b[39;49m\u001b[38;5;241;43m.\u001b[39;49m\u001b[43m_dataset_fetcher\u001b[49m\u001b[38;5;241;43m.\u001b[39;49m\u001b[43mfetch\u001b[49m\u001b[43m(\u001b[49m\u001b[43mindex\u001b[49m\u001b[43m)\u001b[49m  \u001b[38;5;66;03m# may raise StopIteration\u001b[39;00m\n\u001b[1;32m    758\u001b[0m     \u001b[38;5;28;01mif\u001b[39;00m \u001b[38;5;28mself\u001b[39m\u001b[38;5;241m.\u001b[39m_pin_memory:\n\u001b[1;32m    759\u001b[0m         data \u001b[38;5;241m=\u001b[39m _utils\u001b[38;5;241m.\u001b[39mpin_memory\u001b[38;5;241m.\u001b[39mpin_memory(data, \u001b[38;5;28mself\u001b[39m\u001b[38;5;241m.\u001b[39m_pin_memory_device)\n",
      "File \u001b[0;32m~/anaconda3/envs/neural_net_basics/lib/python3.10/site-packages/torch/utils/data/_utils/fetch.py:52\u001b[0m, in \u001b[0;36m_MapDatasetFetcher.fetch\u001b[0;34m(self, possibly_batched_index)\u001b[0m\n\u001b[1;32m     50\u001b[0m         data \u001b[38;5;241m=\u001b[39m \u001b[38;5;28mself\u001b[39m\u001b[38;5;241m.\u001b[39mdataset\u001b[38;5;241m.\u001b[39m__getitems__(possibly_batched_index)\n\u001b[1;32m     51\u001b[0m     \u001b[38;5;28;01melse\u001b[39;00m:\n\u001b[0;32m---> 52\u001b[0m         data \u001b[38;5;241m=\u001b[39m [\u001b[38;5;28mself\u001b[39m\u001b[38;5;241m.\u001b[39mdataset[idx] \u001b[38;5;28;01mfor\u001b[39;00m idx \u001b[38;5;129;01min\u001b[39;00m possibly_batched_index]\n\u001b[1;32m     53\u001b[0m \u001b[38;5;28;01melse\u001b[39;00m:\n\u001b[1;32m     54\u001b[0m     data \u001b[38;5;241m=\u001b[39m \u001b[38;5;28mself\u001b[39m\u001b[38;5;241m.\u001b[39mdataset[possibly_batched_index]\n",
      "File \u001b[0;32m~/anaconda3/envs/neural_net_basics/lib/python3.10/site-packages/torch/utils/data/_utils/fetch.py:52\u001b[0m, in \u001b[0;36m<listcomp>\u001b[0;34m(.0)\u001b[0m\n\u001b[1;32m     50\u001b[0m         data \u001b[38;5;241m=\u001b[39m \u001b[38;5;28mself\u001b[39m\u001b[38;5;241m.\u001b[39mdataset\u001b[38;5;241m.\u001b[39m__getitems__(possibly_batched_index)\n\u001b[1;32m     51\u001b[0m     \u001b[38;5;28;01melse\u001b[39;00m:\n\u001b[0;32m---> 52\u001b[0m         data \u001b[38;5;241m=\u001b[39m [\u001b[38;5;28;43mself\u001b[39;49m\u001b[38;5;241;43m.\u001b[39;49m\u001b[43mdataset\u001b[49m\u001b[43m[\u001b[49m\u001b[43midx\u001b[49m\u001b[43m]\u001b[49m \u001b[38;5;28;01mfor\u001b[39;00m idx \u001b[38;5;129;01min\u001b[39;00m possibly_batched_index]\n\u001b[1;32m     53\u001b[0m \u001b[38;5;28;01melse\u001b[39;00m:\n\u001b[1;32m     54\u001b[0m     data \u001b[38;5;241m=\u001b[39m \u001b[38;5;28mself\u001b[39m\u001b[38;5;241m.\u001b[39mdataset[possibly_batched_index]\n",
      "File \u001b[0;32m~/anaconda3/envs/neural_net_basics/lib/python3.10/site-packages/torch/utils/data/dataset.py:350\u001b[0m, in \u001b[0;36mConcatDataset.__getitem__\u001b[0;34m(self, idx)\u001b[0m\n\u001b[1;32m    348\u001b[0m \u001b[38;5;28;01melse\u001b[39;00m:\n\u001b[1;32m    349\u001b[0m     sample_idx \u001b[38;5;241m=\u001b[39m idx \u001b[38;5;241m-\u001b[39m \u001b[38;5;28mself\u001b[39m\u001b[38;5;241m.\u001b[39mcumulative_sizes[dataset_idx \u001b[38;5;241m-\u001b[39m \u001b[38;5;241m1\u001b[39m]\n\u001b[0;32m--> 350\u001b[0m \u001b[38;5;28;01mreturn\u001b[39;00m \u001b[38;5;28;43mself\u001b[39;49m\u001b[38;5;241;43m.\u001b[39;49m\u001b[43mdatasets\u001b[49m\u001b[43m[\u001b[49m\u001b[43mdataset_idx\u001b[49m\u001b[43m]\u001b[49m\u001b[43m[\u001b[49m\u001b[43msample_idx\u001b[49m\u001b[43m]\u001b[49m\n",
      "File \u001b[0;32m~/anaconda3/envs/neural_net_basics/lib/python3.10/site-packages/torch/utils/data/dataset.py:410\u001b[0m, in \u001b[0;36mSubset.__getitem__\u001b[0;34m(self, idx)\u001b[0m\n\u001b[1;32m    409\u001b[0m \u001b[38;5;28;01mdef\u001b[39;00m \u001b[38;5;21m__getitem__\u001b[39m(\u001b[38;5;28mself\u001b[39m, idx):\n\u001b[0;32m--> 410\u001b[0m     \u001b[38;5;28;01mif\u001b[39;00m \u001b[38;5;28;43misinstance\u001b[39;49m\u001b[43m(\u001b[49m\u001b[43midx\u001b[49m\u001b[43m,\u001b[49m\u001b[43m \u001b[49m\u001b[38;5;28;43mlist\u001b[39;49m\u001b[43m)\u001b[49m:\n\u001b[1;32m    411\u001b[0m         \u001b[38;5;28;01mreturn\u001b[39;00m \u001b[38;5;28mself\u001b[39m\u001b[38;5;241m.\u001b[39mdataset[[\u001b[38;5;28mself\u001b[39m\u001b[38;5;241m.\u001b[39mindices[i] \u001b[38;5;28;01mfor\u001b[39;00m i \u001b[38;5;129;01min\u001b[39;00m idx]]\n\u001b[1;32m    412\u001b[0m     \u001b[38;5;28;01mreturn\u001b[39;00m \u001b[38;5;28mself\u001b[39m\u001b[38;5;241m.\u001b[39mdataset[\u001b[38;5;28mself\u001b[39m\u001b[38;5;241m.\u001b[39mindices[idx]]\n",
      "\u001b[0;31mKeyboardInterrupt\u001b[0m: "
     ]
    }
   ],
   "source": [
    "model = modeling.ConvNet(in_channels=1, height=32, width=32)\n",
    "model, train_losses, val_losses, gabor_vals, cifar_vals = modeling.train_model(\n",
    "    model, \n",
    "    train_loader=combined_loader,\n",
    "    batch_size=64,\n",
    "    probe_size=64,\n",
    "    val_dataset=combined_valset,\n",
    "    num_epochs=35,\n",
    "    )"
   ]
  },
  {
   "cell_type": "code",
   "execution_count": 10,
   "id": "0c00de67",
   "metadata": {},
   "outputs": [
    {
     "data": {
      "image/png": "[encoded data removed]",
      "text/plain": [
       "<Figure size 1200x500 with 1 Axes>"
      ]
     },
     "metadata": {},
     "output_type": "display_data"
    }
   ],
   "source": [
    "fig, axs = plt.subplots(1, 1, figsize=(12, 5))\n",
    "axs.plot(train_losses, label=\"Training Loss\", color='dodgerblue', alpha=0.5)\n",
    "axs.plot(val_losses, label=\"Validation Loss\", color='firebrick', alpha=0.5)\n",
    "\n",
    "# plot smoothed losses\n",
    "window_size = 200\n",
    "train_losses_smooth = np.convolve(train_losses, np.ones(window_size)/window_size, mode='valid')\n",
    "val_losses_smooth = np.convolve(val_losses, np.ones(window_size)/window_size, mode='valid')\n",
    "axs.plot(range(window_size - 1, len(train_losses)), train_losses_smooth, label=\"Smoothed Training Loss\", color='dodgerblue')\n",
    "axs.plot(range(window_size - 1, len(val_losses)), val_losses_smooth, label=\"Smoothed Validation Loss\", color='firebrick')\n",
    "axs.set_xlabel(\"Epoch\")\n",
    "axs.set_ylabel(\"Loss\")\n",
    "axs.set_title(\"Training and Validation Loss Over Time\")\n",
    "axs.legend()\n",
    "# axs.set_xlim(0, 10000)\n",
    "plt.gca().spines[['top', 'right']].set_visible(False)\n"
   ]
  },
  {
   "cell_type": "code",
   "execution_count": 17,
   "id": "73be5248",
   "metadata": {},
   "outputs": [
    {
     "data": {
      "text/plain": [
       "Text(0.5, 1.0, 'Validation Accuracy over Epochs')"
      ]
     },
     "execution_count": 17,
     "metadata": {},
     "output_type": "execute_result"
    },
    {
     "data": {
      "image/png": "[encoded data removed]",
      "text/plain": [
       "<Figure size 640x480 with 1 Axes>"
      ]
     },
     "metadata": {},
     "output_type": "display_data"
    }
   ],
   "source": [
    "plt.plot(gabor_vals, label='Gabor', color='red', alpha=1)\n",
    "plt.plot(cifar_vals, label='CIFAR', color='blue', alpha=0.5)\n",
    "\n",
    "# plot smoothed accuracies\n",
    "window_size = 200\n",
    "cifar_vals_smooth = np.convolve(cifar_vals, np.ones(window_size)/window_size, mode='valid')\n",
    "plt.plot(range(window_size - 1, len(cifar_vals)), cifar_vals_smooth, label=\"Smoothed CIFAR Accuracy\", color='blue')\n",
    "\n",
    "plt.xlabel('Epoch')\n",
    "plt.ylabel('Accuracy')\n",
    "plt.legend()\n",
    "# plt.xlim(-10, 200)\n",
    "plt.title('Validation Accuracy over Epochs')"
   ]
  },
  {
   "cell_type": "code",
   "execution_count": 7,
   "id": "a8acda51",
   "metadata": {},
   "outputs": [],
   "source": [
    "noise_results = {\n",
    "    'noise_level': [],\n",
    "    'noisy1_gabor_acc': [],\n",
    "    'noisy1_cifar_acc': [],\n",
    "    'noisy2_gabor_acc': [],\n",
    "    'noisy2_cifar_acc': [],\n",
    "}\n",
    "noise_levels = np.arange(0, 1.05, 0.05)\n",
    "\n",
    "for noise in noise_levels:\n",
    "    noisy_model = copy.deepcopy(model)\n",
    "\n",
    "    noisy_first_model = modeling.add_noise_to_first_layer(noisy_model, noise_level=noise)\n",
    "    noisy1_gabor_acc = modeling.evaluate_gabor_accuracy(noisy_model, gabor_test_loader)\n",
    "    noisy1_cifar_acc = modeling.evaluate_cifar_accuracy(noisy_model, cifar_test_loader)\n",
    "\n",
    "    noisy_model = copy.deepcopy(model)\n",
    "    noisy_middle_model = modeling.add_noise_to_middle_layer(noisy_model, noise_level=noise)\n",
    "    noisy2_gabor_acc = modeling.evaluate_gabor_accuracy(noisy_model, gabor_test_loader)\n",
    "    noisy2_cifar_acc = modeling.evaluate_cifar_accuracy(noisy_model, cifar_test_loader)\n",
    "\n",
    "    noise_results['noise_level'].append(noise)\n",
    "    noise_results['noisy1_gabor_acc'].append(noisy1_gabor_acc)\n",
    "    noise_results['noisy1_cifar_acc'].append(noisy1_cifar_acc)\n",
    "    noise_results['noisy2_gabor_acc'].append(noisy2_gabor_acc)\n",
    "    noise_results['noisy2_cifar_acc'].append(noisy2_cifar_acc)\n"
   ]
  },
  {
   "cell_type": "code",
   "execution_count": 8,
   "id": "28a0b6ca",
   "metadata": {},
   "outputs": [
    {
     "data": {
      "text/html": [
       "<div>\n",
       "<style scoped>\n",
       "    .dataframe tbody tr th:only-of-type {\n",
       "        vertical-align: middle;\n",
       "    }\n",
       "\n",
       "    .dataframe tbody tr th {\n",
       "        vertical-align: top;\n",
       "    }\n",
       "\n",
       "    .dataframe thead th {\n",
       "        text-align: right;\n",
       "    }\n",
       "</style>\n",
       "<table border=\"1\" class=\"dataframe\">\n",
       "  <thead>\n",
       "    <tr style=\"text-align: right;\">\n",
       "      <th></th>\n",
       "      <th>noise_level</th>\n",
       "      <th>noisy1_gabor_acc</th>\n",
       "      <th>noisy1_cifar_acc</th>\n",
       "      <th>noisy2_gabor_acc</th>\n",
       "      <th>noisy2_cifar_acc</th>\n",
       "    </tr>\n",
       "  </thead>\n",
       "  <tbody>\n",
       "    <tr>\n",
       "      <th>0</th>\n",
       "      <td>0.00</td>\n",
       "      <td>100.00</td>\n",
       "      <td>56.58</td>\n",
       "      <td>100.00</td>\n",
       "      <td>56.58</td>\n",
       "    </tr>\n",
       "    <tr>\n",
       "      <th>1</th>\n",
       "      <td>0.05</td>\n",
       "      <td>100.00</td>\n",
       "      <td>50.16</td>\n",
       "      <td>100.00</td>\n",
       "      <td>50.31</td>\n",
       "    </tr>\n",
       "    <tr>\n",
       "      <th>2</th>\n",
       "      <td>0.10</td>\n",
       "      <td>100.00</td>\n",
       "      <td>27.00</td>\n",
       "      <td>100.00</td>\n",
       "      <td>54.55</td>\n",
       "    </tr>\n",
       "    <tr>\n",
       "      <th>3</th>\n",
       "      <td>0.15</td>\n",
       "      <td>100.00</td>\n",
       "      <td>31.07</td>\n",
       "      <td>100.00</td>\n",
       "      <td>46.05</td>\n",
       "    </tr>\n",
       "    <tr>\n",
       "      <th>4</th>\n",
       "      <td>0.20</td>\n",
       "      <td>99.99</td>\n",
       "      <td>26.81</td>\n",
       "      <td>100.00</td>\n",
       "      <td>31.32</td>\n",
       "    </tr>\n",
       "    <tr>\n",
       "      <th>5</th>\n",
       "      <td>0.25</td>\n",
       "      <td>100.00</td>\n",
       "      <td>31.07</td>\n",
       "      <td>100.00</td>\n",
       "      <td>37.44</td>\n",
       "    </tr>\n",
       "    <tr>\n",
       "      <th>6</th>\n",
       "      <td>0.30</td>\n",
       "      <td>99.97</td>\n",
       "      <td>13.76</td>\n",
       "      <td>100.00</td>\n",
       "      <td>33.27</td>\n",
       "    </tr>\n",
       "    <tr>\n",
       "      <th>7</th>\n",
       "      <td>0.35</td>\n",
       "      <td>100.00</td>\n",
       "      <td>32.41</td>\n",
       "      <td>100.00</td>\n",
       "      <td>34.60</td>\n",
       "    </tr>\n",
       "    <tr>\n",
       "      <th>8</th>\n",
       "      <td>0.40</td>\n",
       "      <td>97.08</td>\n",
       "      <td>22.69</td>\n",
       "      <td>100.00</td>\n",
       "      <td>20.41</td>\n",
       "    </tr>\n",
       "    <tr>\n",
       "      <th>9</th>\n",
       "      <td>0.45</td>\n",
       "      <td>98.49</td>\n",
       "      <td>20.44</td>\n",
       "      <td>100.00</td>\n",
       "      <td>18.27</td>\n",
       "    </tr>\n",
       "    <tr>\n",
       "      <th>10</th>\n",
       "      <td>0.50</td>\n",
       "      <td>75.90</td>\n",
       "      <td>18.93</td>\n",
       "      <td>100.00</td>\n",
       "      <td>13.91</td>\n",
       "    </tr>\n",
       "    <tr>\n",
       "      <th>11</th>\n",
       "      <td>0.55</td>\n",
       "      <td>12.68</td>\n",
       "      <td>17.86</td>\n",
       "      <td>99.94</td>\n",
       "      <td>25.45</td>\n",
       "    </tr>\n",
       "    <tr>\n",
       "      <th>12</th>\n",
       "      <td>0.60</td>\n",
       "      <td>88.43</td>\n",
       "      <td>22.44</td>\n",
       "      <td>100.00</td>\n",
       "      <td>10.78</td>\n",
       "    </tr>\n",
       "    <tr>\n",
       "      <th>13</th>\n",
       "      <td>0.65</td>\n",
       "      <td>29.79</td>\n",
       "      <td>13.77</td>\n",
       "      <td>92.86</td>\n",
       "      <td>10.67</td>\n",
       "    </tr>\n",
       "    <tr>\n",
       "      <th>14</th>\n",
       "      <td>0.70</td>\n",
       "      <td>65.64</td>\n",
       "      <td>15.24</td>\n",
       "      <td>80.04</td>\n",
       "      <td>16.38</td>\n",
       "    </tr>\n",
       "    <tr>\n",
       "      <th>15</th>\n",
       "      <td>0.75</td>\n",
       "      <td>86.59</td>\n",
       "      <td>20.84</td>\n",
       "      <td>95.26</td>\n",
       "      <td>18.42</td>\n",
       "    </tr>\n",
       "    <tr>\n",
       "      <th>16</th>\n",
       "      <td>0.80</td>\n",
       "      <td>41.91</td>\n",
       "      <td>14.22</td>\n",
       "      <td>99.08</td>\n",
       "      <td>16.83</td>\n",
       "    </tr>\n",
       "    <tr>\n",
       "      <th>17</th>\n",
       "      <td>0.85</td>\n",
       "      <td>28.27</td>\n",
       "      <td>10.84</td>\n",
       "      <td>99.54</td>\n",
       "      <td>10.49</td>\n",
       "    </tr>\n",
       "    <tr>\n",
       "      <th>18</th>\n",
       "      <td>0.90</td>\n",
       "      <td>69.14</td>\n",
       "      <td>12.53</td>\n",
       "      <td>66.65</td>\n",
       "      <td>14.36</td>\n",
       "    </tr>\n",
       "    <tr>\n",
       "      <th>19</th>\n",
       "      <td>0.95</td>\n",
       "      <td>24.83</td>\n",
       "      <td>11.57</td>\n",
       "      <td>68.61</td>\n",
       "      <td>15.24</td>\n",
       "    </tr>\n",
       "    <tr>\n",
       "      <th>20</th>\n",
       "      <td>1.00</td>\n",
       "      <td>13.97</td>\n",
       "      <td>8.83</td>\n",
       "      <td>49.32</td>\n",
       "      <td>11.21</td>\n",
       "    </tr>\n",
       "  </tbody>\n",
       "</table>\n",
       "</div>"
      ],
      "text/plain": [
       "    noise_level  noisy1_gabor_acc  noisy1_cifar_acc  noisy2_gabor_acc  \\\n",
       "0          0.00            100.00             56.58            100.00   \n",
       "1          0.05            100.00             50.16            100.00   \n",
       "2          0.10            100.00             27.00            100.00   \n",
       "3          0.15            100.00             31.07            100.00   \n",
       "4          0.20             99.99             26.81            100.00   \n",
       "5          0.25            100.00             31.07            100.00   \n",
       "6          0.30             99.97             13.76            100.00   \n",
       "7          0.35            100.00             32.41            100.00   \n",
       "8          0.40             97.08             22.69            100.00   \n",
       "9          0.45             98.49             20.44            100.00   \n",
       "10         0.50             75.90             18.93            100.00   \n",
       "11         0.55             12.68             17.86             99.94   \n",
       "12         0.60             88.43             22.44            100.00   \n",
       "13         0.65             29.79             13.77             92.86   \n",
       "14         0.70             65.64             15.24             80.04   \n",
       "15         0.75             86.59             20.84             95.26   \n",
       "16         0.80             41.91             14.22             99.08   \n",
       "17         0.85             28.27             10.84             99.54   \n",
       "18         0.90             69.14             12.53             66.65   \n",
       "19         0.95             24.83             11.57             68.61   \n",
       "20         1.00             13.97              8.83             49.32   \n",
       "\n",
       "    noisy2_cifar_acc  \n",
       "0              56.58  \n",
       "1              50.31  \n",
       "2              54.55  \n",
       "3              46.05  \n",
       "4              31.32  \n",
       "5              37.44  \n",
       "6              33.27  \n",
       "7              34.60  \n",
       "8              20.41  \n",
       "9              18.27  \n",
       "10             13.91  \n",
       "11             25.45  \n",
       "12             10.78  \n",
       "13             10.67  \n",
       "14             16.38  \n",
       "15             18.42  \n",
       "16             16.83  \n",
       "17             10.49  \n",
       "18             14.36  \n",
       "19             15.24  \n",
       "20             11.21  "
      ]
     },
     "execution_count": 8,
     "metadata": {},
     "output_type": "execute_result"
    }
   ],
   "source": [
    "import pandas as pd\n",
    "noise_results_df = pd.DataFrame(noise_results)\n",
    "noise_results_df"
   ]
  },
  {
   "cell_type": "code",
   "execution_count": 9,
   "id": "8a80c3b3",
   "metadata": {},
   "outputs": [],
   "source": [
    "noise_results_df['noisy1_gabor_pctchange'] = (noise_results_df['noisy1_gabor_acc'].iloc[0] - noise_results_df['noisy1_gabor_acc']) / noise_results_df['noisy1_gabor_acc'].iloc[0] * 100\n",
    "noise_results_df['noisy2_gabor_pctchange'] = (noise_results_df['noisy2_gabor_acc'].iloc[0] - noise_results_df['noisy2_gabor_acc']) / noise_results_df['noisy2_gabor_acc'].iloc[0] * 100\n",
    "noise_results_df['noisy1_cifar_pctchange'] = (noise_results_df['noisy1_cifar_acc'].iloc[0] - noise_results_df['noisy1_cifar_acc']) / noise_results_df['noisy1_cifar_acc'].iloc[0] * 100\n",
    "noise_results_df['noisy2_cifar_pctchange'] = (noise_results_df['noisy2_cifar_acc'].iloc[0] - noise_results_df['noisy2_cifar_acc']) / noise_results_df['noisy2_cifar_acc'].iloc[0] * 100"
   ]
  },
  {
   "cell_type": "code",
   "execution_count": 10,
   "id": "63cc0851",
   "metadata": {},
   "outputs": [
    {
     "data": {
      "text/plain": [
       "<matplotlib.legend.Legend at 0x7f38f06d45b0>"
      ]
     },
     "execution_count": 10,
     "metadata": {},
     "output_type": "execute_result"
    },
    {
     "data": {
      "image/png": "[encoded data removed]",
      "text/plain": [
       "<Figure size 640x480 with 1 Axes>"
      ]
     },
     "metadata": {},
     "output_type": "display_data"
    }
   ],
   "source": [
    "import seaborn as sns\n",
    "sns.lineplot(data=noise_results_df, x='noise_level', y='noisy1_gabor_pctchange', label='Gabor - First Layer', color='red', linestyle='--')\n",
    "sns.lineplot(data=noise_results_df, x='noise_level', y='noisy1_cifar_pctchange', label='CIFAR - First Layer', color='blue', linestyle='--')\n",
    "\n",
    "sns.lineplot(data=noise_results_df, x='noise_level', y='noisy2_gabor_pctchange', label='Gabor - Second Layer', color='red')\n",
    "sns.lineplot(data=noise_results_df, x='noise_level', y='noisy2_cifar_pctchange', label='CIFAR - Second Layer', color='blue')\n",
    "\n",
    "plt.xlabel('Noise Level')\n",
    "plt.ylabel('% Change in Accuracy')\n",
    "plt.title('Model Performance vs. Noise Level')\n",
    "plt.legend()"
   ]
  },
  {
   "cell_type": "code",
   "execution_count": 12,
   "id": "8621f125",
   "metadata": {},
   "outputs": [
    {
     "name": "stdout",
     "output_type": "stream",
     "text": [
      "Training model with tag: 2025_10_16_17:20:05\n"
     ]
    },
    {
     "data": {
      "application/vnd.jupyter.widget-view+json": {
       "model_id": "8de134d839cd4d00bf2630c625f784bf",
       "version_major": 2,
       "version_minor": 0
      },
      "text/plain": [
       "Epochs:   0%|          | 0/10 [00:00<?, ?it/s]"
      ]
     },
     "metadata": {},
     "output_type": "display_data"
    },
    {
     "data": {
      "application/vnd.jupyter.widget-view+json": {
       "model_id": "2a1efae29f02402dbb5ad7bc0be12471",
       "version_major": 2,
       "version_minor": 0
      },
      "text/plain": [
       "Batches in epoch #1:   0%|          | 0/1407 [00:00<?, ?it/s]"
      ]
     },
     "metadata": {},
     "output_type": "display_data"
    },
    {
     "data": {
      "application/vnd.jupyter.widget-view+json": {
       "model_id": "a60d8ec33791452aaf9acd9258f2761e",
       "version_major": 2,
       "version_minor": 0
      },
      "text/plain": [
       "Batches in epoch #2:   0%|          | 0/1407 [00:00<?, ?it/s]"
      ]
     },
     "metadata": {},
     "output_type": "display_data"
    },
    {
     "data": {
      "application/vnd.jupyter.widget-view+json": {
       "model_id": "ed8a727ca6a14c3a845452db1145bb8d",
       "version_major": 2,
       "version_minor": 0
      },
      "text/plain": [
       "Batches in epoch #3:   0%|          | 0/1407 [00:00<?, ?it/s]"
      ]
     },
     "metadata": {},
     "output_type": "display_data"
    },
    {
     "data": {
      "application/vnd.jupyter.widget-view+json": {
       "model_id": "e0f4686858fc4118b1a21684d5eaca55",
       "version_major": 2,
       "version_minor": 0
      },
      "text/plain": [
       "Batches in epoch #4:   0%|          | 0/1407 [00:00<?, ?it/s]"
      ]
     },
     "metadata": {},
     "output_type": "display_data"
    },
    {
     "name": "stdout",
     "output_type": "stream",
     "text": [
      "Early stopping triggered.\n",
      "Iteration 1/10 complete.\n",
      "Training model with tag: 2025_10_16_17:21:48\n"
     ]
    },
    {
     "data": {
      "application/vnd.jupyter.widget-view+json": {
       "model_id": "7f8ef2781bee480f9c9e4863b9604e45",
       "version_major": 2,
       "version_minor": 0
      },
      "text/plain": [
       "Epochs:   0%|          | 0/10 [00:00<?, ?it/s]"
      ]
     },
     "metadata": {},
     "output_type": "display_data"
    },
    {
     "data": {
      "application/vnd.jupyter.widget-view+json": {
       "model_id": "5803f753f4f74c38ae87b617a175776f",
       "version_major": 2,
       "version_minor": 0
      },
      "text/plain": [
       "Batches in epoch #1:   0%|          | 0/1407 [00:00<?, ?it/s]"
      ]
     },
     "metadata": {},
     "output_type": "display_data"
    },
    {
     "data": {
      "application/vnd.jupyter.widget-view+json": {
       "model_id": "7838fba5c1084f28ab1eb28d78b46393",
       "version_major": 2,
       "version_minor": 0
      },
      "text/plain": [
       "Batches in epoch #2:   0%|          | 0/1407 [00:00<?, ?it/s]"
      ]
     },
     "metadata": {},
     "output_type": "display_data"
    },
    {
     "name": "stdout",
     "output_type": "stream",
     "text": [
      "Early stopping triggered.\n",
      "Iteration 2/10 complete.\n",
      "Training model with tag: 2025_10_16_17:22:49\n"
     ]
    },
    {
     "data": {
      "application/vnd.jupyter.widget-view+json": {
       "model_id": "9b4e787e6f834299987f7554283a7508",
       "version_major": 2,
       "version_minor": 0
      },
      "text/plain": [
       "Epochs:   0%|          | 0/10 [00:00<?, ?it/s]"
      ]
     },
     "metadata": {},
     "output_type": "display_data"
    },
    {
     "data": {
      "application/vnd.jupyter.widget-view+json": {
       "model_id": "eead50f7440e49c7a41bc085b9d3d466",
       "version_major": 2,
       "version_minor": 0
      },
      "text/plain": [
       "Batches in epoch #1:   0%|          | 0/1407 [00:00<?, ?it/s]"
      ]
     },
     "metadata": {},
     "output_type": "display_data"
    },
    {
     "data": {
      "application/vnd.jupyter.widget-view+json": {
       "model_id": "d21e6fec9e68470fb1f0db93fdcf802b",
       "version_major": 2,
       "version_minor": 0
      },
      "text/plain": [
       "Batches in epoch #2:   0%|          | 0/1407 [00:00<?, ?it/s]"
      ]
     },
     "metadata": {},
     "output_type": "display_data"
    },
    {
     "name": "stdout",
     "output_type": "stream",
     "text": [
      "Early stopping triggered.\n",
      "Iteration 3/10 complete.\n",
      "Training model with tag: 2025_10_16_17:23:53\n"
     ]
    },
    {
     "data": {
      "application/vnd.jupyter.widget-view+json": {
       "model_id": "d1e579d62e684265b44e69736dc1b405",
       "version_major": 2,
       "version_minor": 0
      },
      "text/plain": [
       "Epochs:   0%|          | 0/10 [00:00<?, ?it/s]"
      ]
     },
     "metadata": {},
     "output_type": "display_data"
    },
    {
     "data": {
      "application/vnd.jupyter.widget-view+json": {
       "model_id": "da551e75839c4179ac06f2bd30956ecd",
       "version_major": 2,
       "version_minor": 0
      },
      "text/plain": [
       "Batches in epoch #1:   0%|          | 0/1407 [00:00<?, ?it/s]"
      ]
     },
     "metadata": {},
     "output_type": "display_data"
    },
    {
     "data": {
      "application/vnd.jupyter.widget-view+json": {
       "model_id": "f7d234fc20e84b9f99e28d20e042429e",
       "version_major": 2,
       "version_minor": 0
      },
      "text/plain": [
       "Batches in epoch #2:   0%|          | 0/1407 [00:00<?, ?it/s]"
      ]
     },
     "metadata": {},
     "output_type": "display_data"
    },
    {
     "data": {
      "application/vnd.jupyter.widget-view+json": {
       "model_id": "b474878a4dbd49a384d9e51626241a96",
       "version_major": 2,
       "version_minor": 0
      },
      "text/plain": [
       "Batches in epoch #3:   0%|          | 0/1407 [00:00<?, ?it/s]"
      ]
     },
     "metadata": {},
     "output_type": "display_data"
    },
    {
     "name": "stdout",
     "output_type": "stream",
     "text": [
      "Early stopping triggered.\n",
      "Iteration 4/10 complete.\n",
      "Training model with tag: 2025_10_16_17:25:15\n"
     ]
    },
    {
     "data": {
      "application/vnd.jupyter.widget-view+json": {
       "model_id": "db7f77b8d41f4067a426f6e4567917c0",
       "version_major": 2,
       "version_minor": 0
      },
      "text/plain": [
       "Epochs:   0%|          | 0/10 [00:00<?, ?it/s]"
      ]
     },
     "metadata": {},
     "output_type": "display_data"
    },
    {
     "data": {
      "application/vnd.jupyter.widget-view+json": {
       "model_id": "bbac114bd7e1499fb035f0e360030c9b",
       "version_major": 2,
       "version_minor": 0
      },
      "text/plain": [
       "Batches in epoch #1:   0%|          | 0/1407 [00:00<?, ?it/s]"
      ]
     },
     "metadata": {},
     "output_type": "display_data"
    },
    {
     "data": {
      "application/vnd.jupyter.widget-view+json": {
       "model_id": "bb71d1a7589e454bae5f703503a682d4",
       "version_major": 2,
       "version_minor": 0
      },
      "text/plain": [
       "Batches in epoch #2:   0%|          | 0/1407 [00:00<?, ?it/s]"
      ]
     },
     "metadata": {},
     "output_type": "display_data"
    },
    {
     "data": {
      "application/vnd.jupyter.widget-view+json": {
       "model_id": "7dcce2b7fbb3452e9b7159427dfb7889",
       "version_major": 2,
       "version_minor": 0
      },
      "text/plain": [
       "Batches in epoch #3:   0%|          | 0/1407 [00:00<?, ?it/s]"
      ]
     },
     "metadata": {},
     "output_type": "display_data"
    },
    {
     "name": "stdout",
     "output_type": "stream",
     "text": [
      "Early stopping triggered.\n",
      "Iteration 5/10 complete.\n",
      "Training model with tag: 2025_10_16_17:26:37\n"
     ]
    },
    {
     "data": {
      "application/vnd.jupyter.widget-view+json": {
       "model_id": "c0a83a6f4075442baf7d8adbcdaa7d8e",
       "version_major": 2,
       "version_minor": 0
      },
      "text/plain": [
       "Epochs:   0%|          | 0/10 [00:00<?, ?it/s]"
      ]
     },
     "metadata": {},
     "output_type": "display_data"
    },
    {
     "data": {
      "application/vnd.jupyter.widget-view+json": {
       "model_id": "438132547c5b4911911f751f07bfdec7",
       "version_major": 2,
       "version_minor": 0
      },
      "text/plain": [
       "Batches in epoch #1:   0%|          | 0/1407 [00:00<?, ?it/s]"
      ]
     },
     "metadata": {},
     "output_type": "display_data"
    },
    {
     "data": {
      "application/vnd.jupyter.widget-view+json": {
       "model_id": "0f07c9238fd04016b2816571b7117909",
       "version_major": 2,
       "version_minor": 0
      },
      "text/plain": [
       "Batches in epoch #2:   0%|          | 0/1407 [00:00<?, ?it/s]"
      ]
     },
     "metadata": {},
     "output_type": "display_data"
    },
    {
     "data": {
      "application/vnd.jupyter.widget-view+json": {
       "model_id": "c2a7d9a6318741ecb57aad538453fe59",
       "version_major": 2,
       "version_minor": 0
      },
      "text/plain": [
       "Batches in epoch #3:   0%|          | 0/1407 [00:00<?, ?it/s]"
      ]
     },
     "metadata": {},
     "output_type": "display_data"
    },
    {
     "name": "stdout",
     "output_type": "stream",
     "text": [
      "Early stopping triggered.\n",
      "Iteration 6/10 complete.\n",
      "Training model with tag: 2025_10_16_17:27:59\n"
     ]
    },
    {
     "data": {
      "application/vnd.jupyter.widget-view+json": {
       "model_id": "e0859bb2a70840359d32b45451d96e8b",
       "version_major": 2,
       "version_minor": 0
      },
      "text/plain": [
       "Epochs:   0%|          | 0/10 [00:00<?, ?it/s]"
      ]
     },
     "metadata": {},
     "output_type": "display_data"
    },
    {
     "data": {
      "application/vnd.jupyter.widget-view+json": {
       "model_id": "76b39f042203447c805d7c04082c6b02",
       "version_major": 2,
       "version_minor": 0
      },
      "text/plain": [
       "Batches in epoch #1:   0%|          | 0/1407 [00:00<?, ?it/s]"
      ]
     },
     "metadata": {},
     "output_type": "display_data"
    },
    {
     "data": {
      "application/vnd.jupyter.widget-view+json": {
       "model_id": "e789b318dde94c5f984c541af0166374",
       "version_major": 2,
       "version_minor": 0
      },
      "text/plain": [
       "Batches in epoch #2:   0%|          | 0/1407 [00:00<?, ?it/s]"
      ]
     },
     "metadata": {},
     "output_type": "display_data"
    },
    {
     "name": "stdout",
     "output_type": "stream",
     "text": [
      "Early stopping triggered.\n",
      "Iteration 7/10 complete.\n",
      "Training model with tag: 2025_10_16_17:29:09\n"
     ]
    },
    {
     "data": {
      "application/vnd.jupyter.widget-view+json": {
       "model_id": "6dde688a840a43dc835e0b67386bc5af",
       "version_major": 2,
       "version_minor": 0
      },
      "text/plain": [
       "Epochs:   0%|          | 0/10 [00:00<?, ?it/s]"
      ]
     },
     "metadata": {},
     "output_type": "display_data"
    },
    {
     "data": {
      "application/vnd.jupyter.widget-view+json": {
       "model_id": "c76f96a750744653a42ed5709461fac0",
       "version_major": 2,
       "version_minor": 0
      },
      "text/plain": [
       "Batches in epoch #1:   0%|          | 0/1407 [00:00<?, ?it/s]"
      ]
     },
     "metadata": {},
     "output_type": "display_data"
    },
    {
     "data": {
      "application/vnd.jupyter.widget-view+json": {
       "model_id": "c04c80dcd3ee4f5bb9b870f5b882459e",
       "version_major": 2,
       "version_minor": 0
      },
      "text/plain": [
       "Batches in epoch #2:   0%|          | 0/1407 [00:00<?, ?it/s]"
      ]
     },
     "metadata": {},
     "output_type": "display_data"
    },
    {
     "data": {
      "application/vnd.jupyter.widget-view+json": {
       "model_id": "0005ddadcfaf44ef93602a4adbb802e2",
       "version_major": 2,
       "version_minor": 0
      },
      "text/plain": [
       "Batches in epoch #3:   0%|          | 0/1407 [00:00<?, ?it/s]"
      ]
     },
     "metadata": {},
     "output_type": "display_data"
    },
    {
     "data": {
      "application/vnd.jupyter.widget-view+json": {
       "model_id": "7dbde67235904750bea335a17ae1f302",
       "version_major": 2,
       "version_minor": 0
      },
      "text/plain": [
       "Batches in epoch #4:   0%|          | 0/1407 [00:00<?, ?it/s]"
      ]
     },
     "metadata": {},
     "output_type": "display_data"
    },
    {
     "name": "stdout",
     "output_type": "stream",
     "text": [
      "Early stopping triggered.\n",
      "Iteration 8/10 complete.\n",
      "Training model with tag: 2025_10_16_17:30:51\n"
     ]
    },
    {
     "data": {
      "application/vnd.jupyter.widget-view+json": {
       "model_id": "afd6af12482d4881beb1fe63a344d2a7",
       "version_major": 2,
       "version_minor": 0
      },
      "text/plain": [
       "Epochs:   0%|          | 0/10 [00:00<?, ?it/s]"
      ]
     },
     "metadata": {},
     "output_type": "display_data"
    },
    {
     "data": {
      "application/vnd.jupyter.widget-view+json": {
       "model_id": "3c820cee844d4a548d8e92adbde6e29b",
       "version_major": 2,
       "version_minor": 0
      },
      "text/plain": [
       "Batches in epoch #1:   0%|          | 0/1407 [00:00<?, ?it/s]"
      ]
     },
     "metadata": {},
     "output_type": "display_data"
    },
    {
     "data": {
      "application/vnd.jupyter.widget-view+json": {
       "model_id": "13b04d1316044696af9827630b626523",
       "version_major": 2,
       "version_minor": 0
      },
      "text/plain": [
       "Batches in epoch #2:   0%|          | 0/1407 [00:00<?, ?it/s]"
      ]
     },
     "metadata": {},
     "output_type": "display_data"
    },
    {
     "data": {
      "application/vnd.jupyter.widget-view+json": {
       "model_id": "5868d41592bb4e4d86d05631a40d1377",
       "version_major": 2,
       "version_minor": 0
      },
      "text/plain": [
       "Batches in epoch #3:   0%|          | 0/1407 [00:00<?, ?it/s]"
      ]
     },
     "metadata": {},
     "output_type": "display_data"
    },
    {
     "data": {
      "application/vnd.jupyter.widget-view+json": {
       "model_id": "a75ac24dadd34375948fae4fc7a04be5",
       "version_major": 2,
       "version_minor": 0
      },
      "text/plain": [
       "Batches in epoch #4:   0%|          | 0/1407 [00:00<?, ?it/s]"
      ]
     },
     "metadata": {},
     "output_type": "display_data"
    },
    {
     "name": "stdout",
     "output_type": "stream",
     "text": [
      "Early stopping triggered.\n",
      "Iteration 9/10 complete.\n",
      "Training model with tag: 2025_10_16_17:32:38\n"
     ]
    },
    {
     "data": {
      "application/vnd.jupyter.widget-view+json": {
       "model_id": "1a7df081c6de4ef0bf8ca0cffb94bd9b",
       "version_major": 2,
       "version_minor": 0
      },
      "text/plain": [
       "Epochs:   0%|          | 0/10 [00:00<?, ?it/s]"
      ]
     },
     "metadata": {},
     "output_type": "display_data"
    },
    {
     "data": {
      "application/vnd.jupyter.widget-view+json": {
       "model_id": "b2f5b6348ab5404288a9454db56ba364",
       "version_major": 2,
       "version_minor": 0
      },
      "text/plain": [
       "Batches in epoch #1:   0%|          | 0/1407 [00:00<?, ?it/s]"
      ]
     },
     "metadata": {},
     "output_type": "display_data"
    },
    {
     "data": {
      "application/vnd.jupyter.widget-view+json": {
       "model_id": "92973bdc4785422db271068e45251802",
       "version_major": 2,
       "version_minor": 0
      },
      "text/plain": [
       "Batches in epoch #2:   0%|          | 0/1407 [00:00<?, ?it/s]"
      ]
     },
     "metadata": {},
     "output_type": "display_data"
    },
    {
     "data": {
      "application/vnd.jupyter.widget-view+json": {
       "model_id": "2ea43153da0244e490d2358808173969",
       "version_major": 2,
       "version_minor": 0
      },
      "text/plain": [
       "Batches in epoch #3:   0%|          | 0/1407 [00:00<?, ?it/s]"
      ]
     },
     "metadata": {},
     "output_type": "display_data"
    },
    {
     "name": "stdout",
     "output_type": "stream",
     "text": [
      "Early stopping triggered.\n",
      "Iteration 10/10 complete.\n",
      "Training model with tag: 2025_10_16_17:34:01\n"
     ]
    },
    {
     "data": {
      "application/vnd.jupyter.widget-view+json": {
       "model_id": "e260386e476642a0acc54605e712a4f5",
       "version_major": 2,
       "version_minor": 0
      },
      "text/plain": [
       "Epochs:   0%|          | 0/10 [00:00<?, ?it/s]"
      ]
     },
     "metadata": {},
     "output_type": "display_data"
    },
    {
     "data": {
      "application/vnd.jupyter.widget-view+json": {
       "model_id": "fd4187c1481243888d12348ffdad4d88",
       "version_major": 2,
       "version_minor": 0
      },
      "text/plain": [
       "Batches in epoch #1:   0%|          | 0/1407 [00:00<?, ?it/s]"
      ]
     },
     "metadata": {},
     "output_type": "display_data"
    },
    {
     "data": {
      "application/vnd.jupyter.widget-view+json": {
       "model_id": "29e5029705b04abd8809a9c3b393b0e0",
       "version_major": 2,
       "version_minor": 0
      },
      "text/plain": [
       "Batches in epoch #2:   0%|          | 0/1407 [00:00<?, ?it/s]"
      ]
     },
     "metadata": {},
     "output_type": "display_data"
    },
    {
     "data": {
      "application/vnd.jupyter.widget-view+json": {
       "model_id": "81e9af00f97e4d899cb83b63c6633af5",
       "version_major": 2,
       "version_minor": 0
      },
      "text/plain": [
       "Batches in epoch #3:   0%|          | 0/1407 [00:00<?, ?it/s]"
      ]
     },
     "metadata": {},
     "output_type": "display_data"
    },
    {
     "name": "stdout",
     "output_type": "stream",
     "text": [
      "Early stopping triggered.\n",
      "Iteration 11/10 complete.\n",
      "Training model with tag: 2025_10_16_17:35:29\n"
     ]
    },
    {
     "data": {
      "application/vnd.jupyter.widget-view+json": {
       "model_id": "6caeb88e47b845e9948afcdfec9f7659",
       "version_major": 2,
       "version_minor": 0
      },
      "text/plain": [
       "Epochs:   0%|          | 0/10 [00:00<?, ?it/s]"
      ]
     },
     "metadata": {},
     "output_type": "display_data"
    },
    {
     "data": {
      "application/vnd.jupyter.widget-view+json": {
       "model_id": "a8c4c660f8cd43569d5f3fba0d90f174",
       "version_major": 2,
       "version_minor": 0
      },
      "text/plain": [
       "Batches in epoch #1:   0%|          | 0/1407 [00:00<?, ?it/s]"
      ]
     },
     "metadata": {},
     "output_type": "display_data"
    },
    {
     "data": {
      "application/vnd.jupyter.widget-view+json": {
       "model_id": "f1fa98d2c08a4870b7b8f217842e340f",
       "version_major": 2,
       "version_minor": 0
      },
      "text/plain": [
       "Batches in epoch #2:   0%|          | 0/1407 [00:00<?, ?it/s]"
      ]
     },
     "metadata": {},
     "output_type": "display_data"
    },
    {
     "name": "stdout",
     "output_type": "stream",
     "text": [
      "Early stopping triggered.\n",
      "Iteration 12/10 complete.\n",
      "Training model with tag: 2025_10_16_17:36:34\n"
     ]
    },
    {
     "data": {
      "application/vnd.jupyter.widget-view+json": {
       "model_id": "c11875db2f264e8b873274ac54755c03",
       "version_major": 2,
       "version_minor": 0
      },
      "text/plain": [
       "Epochs:   0%|          | 0/10 [00:00<?, ?it/s]"
      ]
     },
     "metadata": {},
     "output_type": "display_data"
    },
    {
     "data": {
      "application/vnd.jupyter.widget-view+json": {
       "model_id": "f2fc7bcd8f034008bc927be927e7e6cf",
       "version_major": 2,
       "version_minor": 0
      },
      "text/plain": [
       "Batches in epoch #1:   0%|          | 0/1407 [00:00<?, ?it/s]"
      ]
     },
     "metadata": {},
     "output_type": "display_data"
    },
    {
     "data": {
      "application/vnd.jupyter.widget-view+json": {
       "model_id": "efa77a652f214d8a9170b21b36400a3f",
       "version_major": 2,
       "version_minor": 0
      },
      "text/plain": [
       "Batches in epoch #2:   0%|          | 0/1407 [00:00<?, ?it/s]"
      ]
     },
     "metadata": {},
     "output_type": "display_data"
    },
    {
     "data": {
      "application/vnd.jupyter.widget-view+json": {
       "model_id": "66dbf8f58919487893b00d3d686da52f",
       "version_major": 2,
       "version_minor": 0
      },
      "text/plain": [
       "Batches in epoch #3:   0%|          | 0/1407 [00:00<?, ?it/s]"
      ]
     },
     "metadata": {},
     "output_type": "display_data"
    },
    {
     "name": "stdout",
     "output_type": "stream",
     "text": [
      "Early stopping triggered.\n",
      "Iteration 13/10 complete.\n",
      "Training model with tag: 2025_10_16_17:38:00\n"
     ]
    },
    {
     "data": {
      "application/vnd.jupyter.widget-view+json": {
       "model_id": "134537559a7e4b0d9ced0b1116c0e31f",
       "version_major": 2,
       "version_minor": 0
      },
      "text/plain": [
       "Epochs:   0%|          | 0/10 [00:00<?, ?it/s]"
      ]
     },
     "metadata": {},
     "output_type": "display_data"
    },
    {
     "data": {
      "application/vnd.jupyter.widget-view+json": {
       "model_id": "f34ef0ffa7ff4d78b4c51f0a2815b1cc",
       "version_major": 2,
       "version_minor": 0
      },
      "text/plain": [
       "Batches in epoch #1:   0%|          | 0/1407 [00:00<?, ?it/s]"
      ]
     },
     "metadata": {},
     "output_type": "display_data"
    },
    {
     "data": {
      "application/vnd.jupyter.widget-view+json": {
       "model_id": "6ffaddf5094d4e799638b8c9368c8c51",
       "version_major": 2,
       "version_minor": 0
      },
      "text/plain": [
       "Batches in epoch #2:   0%|          | 0/1407 [00:00<?, ?it/s]"
      ]
     },
     "metadata": {},
     "output_type": "display_data"
    },
    {
     "data": {
      "application/vnd.jupyter.widget-view+json": {
       "model_id": "bbcb830e16414085b50168d8e5dfe4b4",
       "version_major": 2,
       "version_minor": 0
      },
      "text/plain": [
       "Batches in epoch #3:   0%|          | 0/1407 [00:00<?, ?it/s]"
      ]
     },
     "metadata": {},
     "output_type": "display_data"
    },
    {
     "name": "stdout",
     "output_type": "stream",
     "text": [
      "Early stopping triggered.\n",
      "Iteration 14/10 complete.\n",
      "Training model with tag: 2025_10_16_17:39:26\n"
     ]
    },
    {
     "data": {
      "application/vnd.jupyter.widget-view+json": {
       "model_id": "b66e9b0ebb7b42c39b57ea53453fa6dc",
       "version_major": 2,
       "version_minor": 0
      },
      "text/plain": [
       "Epochs:   0%|          | 0/10 [00:00<?, ?it/s]"
      ]
     },
     "metadata": {},
     "output_type": "display_data"
    },
    {
     "data": {
      "application/vnd.jupyter.widget-view+json": {
       "model_id": "2adf8a78da234ba08caf492b693f036f",
       "version_major": 2,
       "version_minor": 0
      },
      "text/plain": [
       "Batches in epoch #1:   0%|          | 0/1407 [00:00<?, ?it/s]"
      ]
     },
     "metadata": {},
     "output_type": "display_data"
    },
    {
     "data": {
      "application/vnd.jupyter.widget-view+json": {
       "model_id": "253e6e96216b498ca3438e37d7936163",
       "version_major": 2,
       "version_minor": 0
      },
      "text/plain": [
       "Batches in epoch #2:   0%|          | 0/1407 [00:00<?, ?it/s]"
      ]
     },
     "metadata": {},
     "output_type": "display_data"
    },
    {
     "data": {
      "application/vnd.jupyter.widget-view+json": {
       "model_id": "b30ae06e7ed141649d65bced0e4347dc",
       "version_major": 2,
       "version_minor": 0
      },
      "text/plain": [
       "Batches in epoch #3:   0%|          | 0/1407 [00:00<?, ?it/s]"
      ]
     },
     "metadata": {},
     "output_type": "display_data"
    },
    {
     "name": "stdout",
     "output_type": "stream",
     "text": [
      "Early stopping triggered.\n",
      "Iteration 15/10 complete.\n",
      "Training model with tag: 2025_10_16_17:40:47\n"
     ]
    },
    {
     "data": {
      "application/vnd.jupyter.widget-view+json": {
       "model_id": "0e0c55527dec40ea96a20c814d9405df",
       "version_major": 2,
       "version_minor": 0
      },
      "text/plain": [
       "Epochs:   0%|          | 0/10 [00:00<?, ?it/s]"
      ]
     },
     "metadata": {},
     "output_type": "display_data"
    },
    {
     "data": {
      "application/vnd.jupyter.widget-view+json": {
       "model_id": "9556d9c38846402a88ccbe779aaeab0b",
       "version_major": 2,
       "version_minor": 0
      },
      "text/plain": [
       "Batches in epoch #1:   0%|          | 0/1407 [00:00<?, ?it/s]"
      ]
     },
     "metadata": {},
     "output_type": "display_data"
    },
    {
     "data": {
      "application/vnd.jupyter.widget-view+json": {
       "model_id": "f0286c55ceaa4caca2fbd4bc6d54acac",
       "version_major": 2,
       "version_minor": 0
      },
      "text/plain": [
       "Batches in epoch #2:   0%|          | 0/1407 [00:00<?, ?it/s]"
      ]
     },
     "metadata": {},
     "output_type": "display_data"
    },
    {
     "data": {
      "application/vnd.jupyter.widget-view+json": {
       "model_id": "2d697dcae0bf46d2b3bca7f236ae8366",
       "version_major": 2,
       "version_minor": 0
      },
      "text/plain": [
       "Batches in epoch #3:   0%|          | 0/1407 [00:00<?, ?it/s]"
      ]
     },
     "metadata": {},
     "output_type": "display_data"
    },
    {
     "data": {
      "application/vnd.jupyter.widget-view+json": {
       "model_id": "af5e7b8fd06f46ee9c0182f3ee349657",
       "version_major": 2,
       "version_minor": 0
      },
      "text/plain": [
       "Batches in epoch #4:   0%|          | 0/1407 [00:00<?, ?it/s]"
      ]
     },
     "metadata": {},
     "output_type": "display_data"
    },
    {
     "name": "stdout",
     "output_type": "stream",
     "text": [
      "Early stopping triggered.\n",
      "Iteration 16/10 complete.\n",
      "Training model with tag: 2025_10_16_17:42:41\n"
     ]
    },
    {
     "data": {
      "application/vnd.jupyter.widget-view+json": {
       "model_id": "d5133abeb15b4f7ebc5c1de73ad1fc34",
       "version_major": 2,
       "version_minor": 0
      },
      "text/plain": [
       "Epochs:   0%|          | 0/10 [00:00<?, ?it/s]"
      ]
     },
     "metadata": {},
     "output_type": "display_data"
    },
    {
     "data": {
      "application/vnd.jupyter.widget-view+json": {
       "model_id": "f127abc2d2a945debe1c2627eeb19041",
       "version_major": 2,
       "version_minor": 0
      },
      "text/plain": [
       "Batches in epoch #1:   0%|          | 0/1407 [00:00<?, ?it/s]"
      ]
     },
     "metadata": {},
     "output_type": "display_data"
    },
    {
     "data": {
      "application/vnd.jupyter.widget-view+json": {
       "model_id": "6a096a68cf954813ae8eb46c041bd2cf",
       "version_major": 2,
       "version_minor": 0
      },
      "text/plain": [
       "Batches in epoch #2:   0%|          | 0/1407 [00:00<?, ?it/s]"
      ]
     },
     "metadata": {},
     "output_type": "display_data"
    },
    {
     "data": {
      "application/vnd.jupyter.widget-view+json": {
       "model_id": "35d6c286e4cc4643a6afcf8252dc3173",
       "version_major": 2,
       "version_minor": 0
      },
      "text/plain": [
       "Batches in epoch #3:   0%|          | 0/1407 [00:00<?, ?it/s]"
      ]
     },
     "metadata": {},
     "output_type": "display_data"
    },
    {
     "name": "stdout",
     "output_type": "stream",
     "text": [
      "Early stopping triggered.\n",
      "Iteration 17/10 complete.\n",
      "Training model with tag: 2025_10_16_17:44:08\n"
     ]
    },
    {
     "data": {
      "application/vnd.jupyter.widget-view+json": {
       "model_id": "4b9d9a7c62a14c2ea22349f14f9eff5b",
       "version_major": 2,
       "version_minor": 0
      },
      "text/plain": [
       "Epochs:   0%|          | 0/10 [00:00<?, ?it/s]"
      ]
     },
     "metadata": {},
     "output_type": "display_data"
    },
    {
     "data": {
      "application/vnd.jupyter.widget-view+json": {
       "model_id": "ac23d82ca3e14cb6ac1fa66915286999",
       "version_major": 2,
       "version_minor": 0
      },
      "text/plain": [
       "Batches in epoch #1:   0%|          | 0/1407 [00:00<?, ?it/s]"
      ]
     },
     "metadata": {},
     "output_type": "display_data"
    },
    {
     "data": {
      "application/vnd.jupyter.widget-view+json": {
       "model_id": "38f169c4774940fb924779a208b4a10b",
       "version_major": 2,
       "version_minor": 0
      },
      "text/plain": [
       "Batches in epoch #2:   0%|          | 0/1407 [00:00<?, ?it/s]"
      ]
     },
     "metadata": {},
     "output_type": "display_data"
    },
    {
     "name": "stdout",
     "output_type": "stream",
     "text": [
      "Early stopping triggered.\n",
      "Iteration 18/10 complete.\n",
      "Training model with tag: 2025_10_16_17:45:15\n"
     ]
    },
    {
     "data": {
      "application/vnd.jupyter.widget-view+json": {
       "model_id": "c7fb89003e9d44f689083af9d0a514de",
       "version_major": 2,
       "version_minor": 0
      },
      "text/plain": [
       "Epochs:   0%|          | 0/10 [00:00<?, ?it/s]"
      ]
     },
     "metadata": {},
     "output_type": "display_data"
    },
    {
     "data": {
      "application/vnd.jupyter.widget-view+json": {
       "model_id": "8a7c8708844746299c38eeaa7b608677",
       "version_major": 2,
       "version_minor": 0
      },
      "text/plain": [
       "Batches in epoch #1:   0%|          | 0/1407 [00:00<?, ?it/s]"
      ]
     },
     "metadata": {},
     "output_type": "display_data"
    },
    {
     "data": {
      "application/vnd.jupyter.widget-view+json": {
       "model_id": "2f80af0868ae4dc78fe01007cb407ea6",
       "version_major": 2,
       "version_minor": 0
      },
      "text/plain": [
       "Batches in epoch #2:   0%|          | 0/1407 [00:00<?, ?it/s]"
      ]
     },
     "metadata": {},
     "output_type": "display_data"
    },
    {
     "data": {
      "application/vnd.jupyter.widget-view+json": {
       "model_id": "65f66770eb154013a868afdd9d75230a",
       "version_major": 2,
       "version_minor": 0
      },
      "text/plain": [
       "Batches in epoch #3:   0%|          | 0/1407 [00:00<?, ?it/s]"
      ]
     },
     "metadata": {},
     "output_type": "display_data"
    },
    {
     "name": "stdout",
     "output_type": "stream",
     "text": [
      "Early stopping triggered.\n",
      "Iteration 19/10 complete.\n",
      "Training model with tag: 2025_10_16_17:46:39\n"
     ]
    },
    {
     "data": {
      "application/vnd.jupyter.widget-view+json": {
       "model_id": "4b16fa4f096e4f65adcfbf7411790d90",
       "version_major": 2,
       "version_minor": 0
      },
      "text/plain": [
       "Epochs:   0%|          | 0/10 [00:00<?, ?it/s]"
      ]
     },
     "metadata": {},
     "output_type": "display_data"
    },
    {
     "data": {
      "application/vnd.jupyter.widget-view+json": {
       "model_id": "48b027cb0f0346b2981480ab38cebfe4",
       "version_major": 2,
       "version_minor": 0
      },
      "text/plain": [
       "Batches in epoch #1:   0%|          | 0/1407 [00:00<?, ?it/s]"
      ]
     },
     "metadata": {},
     "output_type": "display_data"
    },
    {
     "data": {
      "application/vnd.jupyter.widget-view+json": {
       "model_id": "f1df00b9d5c347389c29b0b1f9a94209",
       "version_major": 2,
       "version_minor": 0
      },
      "text/plain": [
       "Batches in epoch #2:   0%|          | 0/1407 [00:00<?, ?it/s]"
      ]
     },
     "metadata": {},
     "output_type": "display_data"
    },
    {
     "data": {
      "application/vnd.jupyter.widget-view+json": {
       "model_id": "a77f057a70e24700908f4e6bb31298b1",
       "version_major": 2,
       "version_minor": 0
      },
      "text/plain": [
       "Batches in epoch #3:   0%|          | 0/1407 [00:00<?, ?it/s]"
      ]
     },
     "metadata": {},
     "output_type": "display_data"
    },
    {
     "name": "stdout",
     "output_type": "stream",
     "text": [
      "Early stopping triggered.\n",
      "Iteration 20/10 complete.\n"
     ]
    }
   ],
   "source": [
    "#### stability plots ####\n",
    "results = {\n",
    "    'idx': [],\n",
    "    'gabor_acc': [],\n",
    "    'cifar_acc': [],\n",
    "}\n",
    "\n",
    "noise_results = {\n",
    "    'idx': [],\n",
    "    'noise_level': [],\n",
    "    'noisy1_gabor_acc': [],\n",
    "    'noisy1_cifar_acc': [],\n",
    "    'noisy2_gabor_acc': [],\n",
    "    'noisy2_cifar_acc': [],\n",
    "}\n",
    "noise_levels = np.arange(0, 1.05, 0.05)\n",
    "\n",
    "for i in range(20):\n",
    "    model = modeling.ConvNet(in_channels=1, height=32, width=32)\n",
    "    model, losses, val_losses, _, _ = modeling.train_model(model, combined_loader, val_dataset=combined_valset, num_epochs=10)\n",
    "    \n",
    "    gabor_acc = modeling.evaluate_gabor_accuracy(model, gabor_test_loader)\n",
    "    cifar_acc = modeling.evaluate_cifar_accuracy(model, cifar_test_loader)\n",
    "\n",
    "    results['idx'].append(i)\n",
    "    results['gabor_acc'].append(gabor_acc)\n",
    "    results['cifar_acc'].append(cifar_acc)\n",
    "\n",
    "    for noise in noise_levels:\n",
    "        noisy_model = copy.deepcopy(model)\n",
    "\n",
    "        noisy_first_model = modeling.add_noise_to_first_layer(noisy_model, noise_level=noise)\n",
    "        noisy1_gabor_acc = modeling.evaluate_gabor_accuracy(noisy_model, gabor_test_loader)\n",
    "        noisy1_cifar_acc = modeling.evaluate_cifar_accuracy(noisy_model, cifar_test_loader)\n",
    "\n",
    "        noisy_model = copy.deepcopy(model)\n",
    "        noisy_middle_model = modeling.add_noise_to_middle_layer(noisy_model, noise_level=noise)\n",
    "        noisy2_gabor_acc = modeling.evaluate_gabor_accuracy(noisy_model, gabor_test_loader)\n",
    "        noisy2_cifar_acc = modeling.evaluate_cifar_accuracy(noisy_model, cifar_test_loader)\n",
    "\n",
    "        noise_results['idx'].append(i)\n",
    "        noise_results['noise_level'].append(noise)\n",
    "        noise_results['noisy1_gabor_acc'].append(noisy1_gabor_acc)\n",
    "        noise_results['noisy1_cifar_acc'].append(noisy1_cifar_acc)\n",
    "        noise_results['noisy2_gabor_acc'].append(noisy2_gabor_acc)\n",
    "        noise_results['noisy2_cifar_acc'].append(noisy2_cifar_acc)\n",
    "    \n",
    "    print(f'Iteration {i+1}/10 complete.')"
   ]
  },
  {
   "cell_type": "code",
   "execution_count": 13,
   "id": "eeb33125",
   "metadata": {},
   "outputs": [
    {
     "data": {
      "text/html": [
       "<div>\n",
       "<style scoped>\n",
       "    .dataframe tbody tr th:only-of-type {\n",
       "        vertical-align: middle;\n",
       "    }\n",
       "\n",
       "    .dataframe tbody tr th {\n",
       "        vertical-align: top;\n",
       "    }\n",
       "\n",
       "    .dataframe thead th {\n",
       "        text-align: right;\n",
       "    }\n",
       "</style>\n",
       "<table border=\"1\" class=\"dataframe\">\n",
       "  <thead>\n",
       "    <tr style=\"text-align: right;\">\n",
       "      <th></th>\n",
       "      <th>idx</th>\n",
       "      <th>noise_level</th>\n",
       "      <th>noisy1_gabor_acc</th>\n",
       "      <th>noisy1_cifar_acc</th>\n",
       "      <th>noisy2_gabor_acc</th>\n",
       "      <th>noisy2_cifar_acc</th>\n",
       "    </tr>\n",
       "  </thead>\n",
       "  <tbody>\n",
       "    <tr>\n",
       "      <th>0</th>\n",
       "      <td>0</td>\n",
       "      <td>0.00</td>\n",
       "      <td>100.00</td>\n",
       "      <td>61.75</td>\n",
       "      <td>100.00</td>\n",
       "      <td>61.75</td>\n",
       "    </tr>\n",
       "    <tr>\n",
       "      <th>1</th>\n",
       "      <td>0</td>\n",
       "      <td>0.05</td>\n",
       "      <td>100.00</td>\n",
       "      <td>56.49</td>\n",
       "      <td>100.00</td>\n",
       "      <td>60.19</td>\n",
       "    </tr>\n",
       "    <tr>\n",
       "      <th>2</th>\n",
       "      <td>0</td>\n",
       "      <td>0.10</td>\n",
       "      <td>100.00</td>\n",
       "      <td>37.00</td>\n",
       "      <td>100.00</td>\n",
       "      <td>58.83</td>\n",
       "    </tr>\n",
       "    <tr>\n",
       "      <th>3</th>\n",
       "      <td>0</td>\n",
       "      <td>0.15</td>\n",
       "      <td>100.00</td>\n",
       "      <td>26.45</td>\n",
       "      <td>100.00</td>\n",
       "      <td>42.11</td>\n",
       "    </tr>\n",
       "    <tr>\n",
       "      <th>4</th>\n",
       "      <td>0</td>\n",
       "      <td>0.20</td>\n",
       "      <td>100.00</td>\n",
       "      <td>12.64</td>\n",
       "      <td>100.00</td>\n",
       "      <td>51.08</td>\n",
       "    </tr>\n",
       "    <tr>\n",
       "      <th>...</th>\n",
       "      <td>...</td>\n",
       "      <td>...</td>\n",
       "      <td>...</td>\n",
       "      <td>...</td>\n",
       "      <td>...</td>\n",
       "      <td>...</td>\n",
       "    </tr>\n",
       "    <tr>\n",
       "      <th>415</th>\n",
       "      <td>19</td>\n",
       "      <td>0.80</td>\n",
       "      <td>61.74</td>\n",
       "      <td>9.66</td>\n",
       "      <td>70.01</td>\n",
       "      <td>14.01</td>\n",
       "    </tr>\n",
       "    <tr>\n",
       "      <th>416</th>\n",
       "      <td>19</td>\n",
       "      <td>0.85</td>\n",
       "      <td>29.59</td>\n",
       "      <td>16.89</td>\n",
       "      <td>69.02</td>\n",
       "      <td>15.82</td>\n",
       "    </tr>\n",
       "    <tr>\n",
       "      <th>417</th>\n",
       "      <td>19</td>\n",
       "      <td>0.90</td>\n",
       "      <td>54.82</td>\n",
       "      <td>17.46</td>\n",
       "      <td>80.08</td>\n",
       "      <td>10.76</td>\n",
       "    </tr>\n",
       "    <tr>\n",
       "      <th>418</th>\n",
       "      <td>19</td>\n",
       "      <td>0.95</td>\n",
       "      <td>67.77</td>\n",
       "      <td>15.32</td>\n",
       "      <td>73.18</td>\n",
       "      <td>15.84</td>\n",
       "    </tr>\n",
       "    <tr>\n",
       "      <th>419</th>\n",
       "      <td>19</td>\n",
       "      <td>1.00</td>\n",
       "      <td>39.32</td>\n",
       "      <td>13.06</td>\n",
       "      <td>39.13</td>\n",
       "      <td>9.48</td>\n",
       "    </tr>\n",
       "  </tbody>\n",
       "</table>\n",
       "<p>420 rows × 6 columns</p>\n",
       "</div>"
      ],
      "text/plain": [
       "     idx  noise_level  noisy1_gabor_acc  noisy1_cifar_acc  noisy2_gabor_acc  \\\n",
       "0      0         0.00            100.00             61.75            100.00   \n",
       "1      0         0.05            100.00             56.49            100.00   \n",
       "2      0         0.10            100.00             37.00            100.00   \n",
       "3      0         0.15            100.00             26.45            100.00   \n",
       "4      0         0.20            100.00             12.64            100.00   \n",
       "..   ...          ...               ...               ...               ...   \n",
       "415   19         0.80             61.74              9.66             70.01   \n",
       "416   19         0.85             29.59             16.89             69.02   \n",
       "417   19         0.90             54.82             17.46             80.08   \n",
       "418   19         0.95             67.77             15.32             73.18   \n",
       "419   19         1.00             39.32             13.06             39.13   \n",
       "\n",
       "     noisy2_cifar_acc  \n",
       "0               61.75  \n",
       "1               60.19  \n",
       "2               58.83  \n",
       "3               42.11  \n",
       "4               51.08  \n",
       "..                ...  \n",
       "415             14.01  \n",
       "416             15.82  \n",
       "417             10.76  \n",
       "418             15.84  \n",
       "419              9.48  \n",
       "\n",
       "[420 rows x 6 columns]"
      ]
     },
     "execution_count": 13,
     "metadata": {},
     "output_type": "execute_result"
    }
   ],
   "source": [
    "import pandas as pd\n",
    "noise_results_df = pd.DataFrame(noise_results)\n",
    "noise_results_df"
   ]
  },
  {
   "cell_type": "code",
   "execution_count": 14,
   "id": "94a8552b",
   "metadata": {},
   "outputs": [
    {
     "data": {
      "text/plain": [
       "(0.0, 104.3999087872236)"
      ]
     },
     "execution_count": 14,
     "metadata": {},
     "output_type": "execute_result"
    },
    {
     "data": {
      "image/png": "[encoded data removed]",
      "text/plain": [
       "<Figure size 640x480 with 1 Axes>"
      ]
     },
     "metadata": {},
     "output_type": "display_data"
    }
   ],
   "source": [
    "import seaborn as sns\n",
    "\n",
    "sns.lineplot(\n",
    "    data=noise_results_df, \n",
    "    x='noise_level', \n",
    "    y='noisy1_gabor_acc', \n",
    "    err_style='band',\n",
    "    errorbar='se',\n",
    "    markers='o',\n",
    "    linestyle='--',\n",
    "    color='red',\n",
    "    label='Gabor (1st layer)'\n",
    "    )\n",
    "\n",
    "sns.lineplot(\n",
    "    data=noise_results_df, \n",
    "    x='noise_level', \n",
    "    y='noisy2_gabor_acc', \n",
    "    err_style='band',\n",
    "    errorbar='se',\n",
    "    markers='o',\n",
    "    color='red',\n",
    "    label='Gabor (2nd layer)'\n",
    "    )\n",
    "\n",
    "sns.lineplot(\n",
    "    data=noise_results_df, \n",
    "    x='noise_level', \n",
    "    y='noisy1_cifar_acc', \n",
    "    err_style='band',\n",
    "    errorbar='se',\n",
    "    color='blue',\n",
    "    linestyle='--',\n",
    "    label='CIFAR (1st layer)'\n",
    "    )\n",
    "\n",
    "sns.lineplot(\n",
    "    data=noise_results_df, \n",
    "    x='noise_level', \n",
    "    y='noisy2_cifar_acc', \n",
    "    err_style='band',\n",
    "    errorbar='se',\n",
    "    color='blue',\n",
    "    label='CIFAR (2nd layer)'\n",
    "    )\n",
    "\n",
    "plt.xlabel('Noise Level')\n",
    "plt.ylabel('Accuracy (%)')\n",
    "plt.title('Model Performance vs. Noise Level')\n",
    "# plt.legend(['Gabor Accuracy', '', 'CIFAR Accuracy', ''])\n",
    "plt.legend()\n",
    "plt.xlim(0, 1)\n",
    "plt.ylim(bottom=0)"
   ]
  },
  {
   "cell_type": "code",
   "execution_count": 15,
   "id": "0a82fe99",
   "metadata": {},
   "outputs": [
    {
     "name": "stderr",
     "output_type": "stream",
     "text": [
      "/tmp/ipykernel_1528344/2653124574.py:5: SettingWithCopyWarning: \n",
      "A value is trying to be set on a copy of a slice from a DataFrame.\n",
      "Try using .loc[row_indexer,col_indexer] = value instead\n",
      "\n",
      "See the caveats in the documentation: https://pandas.pydata.org/pandas-docs/stable/user_guide/indexing.html#returning-a-view-versus-a-copy\n",
      "  temp_df['noisy1_gabor_pctchange'] = (temp_df['noisy1_gabor_acc'].iloc[0] - temp_df['noisy1_gabor_acc']) / temp_df['noisy1_gabor_acc'].iloc[0] * 100\n",
      "/tmp/ipykernel_1528344/2653124574.py:6: SettingWithCopyWarning: \n",
      "A value is trying to be set on a copy of a slice from a DataFrame.\n",
      "Try using .loc[row_indexer,col_indexer] = value instead\n",
      "\n",
      "See the caveats in the documentation: https://pandas.pydata.org/pandas-docs/stable/user_guide/indexing.html#returning-a-view-versus-a-copy\n",
      "  temp_df['noisy2_gabor_pctchange'] = (temp_df['noisy2_gabor_acc'].iloc[0] - temp_df['noisy2_gabor_acc']) / temp_df['noisy2_gabor_acc'].iloc[0] * 100\n",
      "/tmp/ipykernel_1528344/2653124574.py:7: SettingWithCopyWarning: \n",
      "A value is trying to be set on a copy of a slice from a DataFrame.\n",
      "Try using .loc[row_indexer,col_indexer] = value instead\n",
      "\n",
      "See the caveats in the documentation: https://pandas.pydata.org/pandas-docs/stable/user_guide/indexing.html#returning-a-view-versus-a-copy\n",
      "  temp_df['noisy1_cifar_pctchange'] = (temp_df['noisy1_cifar_acc'].iloc[0] - temp_df['noisy1_cifar_acc']) / temp_df['noisy1_cifar_acc'].iloc[0] * 100\n",
      "/tmp/ipykernel_1528344/2653124574.py:8: SettingWithCopyWarning: \n",
      "A value is trying to be set on a copy of a slice from a DataFrame.\n",
      "Try using .loc[row_indexer,col_indexer] = value instead\n",
      "\n",
      "See the caveats in the documentation: https://pandas.pydata.org/pandas-docs/stable/user_guide/indexing.html#returning-a-view-versus-a-copy\n",
      "  temp_df['noisy2_cifar_pctchange'] = (temp_df['noisy2_cifar_acc'].iloc[0] - temp_df['noisy2_cifar_acc']) / temp_df['noisy2_cifar_acc'].iloc[0] * 100\n",
      "/tmp/ipykernel_1528344/2653124574.py:5: SettingWithCopyWarning: \n",
      "A value is trying to be set on a copy of a slice from a DataFrame.\n",
      "Try using .loc[row_indexer,col_indexer] = value instead\n",
      "\n",
      "See the caveats in the documentation: https://pandas.pydata.org/pandas-docs/stable/user_guide/indexing.html#returning-a-view-versus-a-copy\n",
      "  temp_df['noisy1_gabor_pctchange'] = (temp_df['noisy1_gabor_acc'].iloc[0] - temp_df['noisy1_gabor_acc']) / temp_df['noisy1_gabor_acc'].iloc[0] * 100\n",
      "/tmp/ipykernel_1528344/2653124574.py:6: SettingWithCopyWarning: \n",
      "A value is trying to be set on a copy of a slice from a DataFrame.\n",
      "Try using .loc[row_indexer,col_indexer] = value instead\n",
      "\n",
      "See the caveats in the documentation: https://pandas.pydata.org/pandas-docs/stable/user_guide/indexing.html#returning-a-view-versus-a-copy\n",
      "  temp_df['noisy2_gabor_pctchange'] = (temp_df['noisy2_gabor_acc'].iloc[0] - temp_df['noisy2_gabor_acc']) / temp_df['noisy2_gabor_acc'].iloc[0] * 100\n",
      "/tmp/ipykernel_1528344/2653124574.py:7: SettingWithCopyWarning: \n",
      "A value is trying to be set on a copy of a slice from a DataFrame.\n",
      "Try using .loc[row_indexer,col_indexer] = value instead\n",
      "\n",
      "See the caveats in the documentation: https://pandas.pydata.org/pandas-docs/stable/user_guide/indexing.html#returning-a-view-versus-a-copy\n",
      "  temp_df['noisy1_cifar_pctchange'] = (temp_df['noisy1_cifar_acc'].iloc[0] - temp_df['noisy1_cifar_acc']) / temp_df['noisy1_cifar_acc'].iloc[0] * 100\n",
      "/tmp/ipykernel_1528344/2653124574.py:8: SettingWithCopyWarning: \n",
      "A value is trying to be set on a copy of a slice from a DataFrame.\n",
      "Try using .loc[row_indexer,col_indexer] = value instead\n",
      "\n",
      "See the caveats in the documentation: https://pandas.pydata.org/pandas-docs/stable/user_guide/indexing.html#returning-a-view-versus-a-copy\n",
      "  temp_df['noisy2_cifar_pctchange'] = (temp_df['noisy2_cifar_acc'].iloc[0] - temp_df['noisy2_cifar_acc']) / temp_df['noisy2_cifar_acc'].iloc[0] * 100\n",
      "/tmp/ipykernel_1528344/2653124574.py:5: SettingWithCopyWarning: \n",
      "A value is trying to be set on a copy of a slice from a DataFrame.\n",
      "Try using .loc[row_indexer,col_indexer] = value instead\n",
      "\n",
      "See the caveats in the documentation: https://pandas.pydata.org/pandas-docs/stable/user_guide/indexing.html#returning-a-view-versus-a-copy\n",
      "  temp_df['noisy1_gabor_pctchange'] = (temp_df['noisy1_gabor_acc'].iloc[0] - temp_df['noisy1_gabor_acc']) / temp_df['noisy1_gabor_acc'].iloc[0] * 100\n",
      "/tmp/ipykernel_1528344/2653124574.py:6: SettingWithCopyWarning: \n",
      "A value is trying to be set on a copy of a slice from a DataFrame.\n",
      "Try using .loc[row_indexer,col_indexer] = value instead\n",
      "\n",
      "See the caveats in the documentation: https://pandas.pydata.org/pandas-docs/stable/user_guide/indexing.html#returning-a-view-versus-a-copy\n",
      "  temp_df['noisy2_gabor_pctchange'] = (temp_df['noisy2_gabor_acc'].iloc[0] - temp_df['noisy2_gabor_acc']) / temp_df['noisy2_gabor_acc'].iloc[0] * 100\n",
      "/tmp/ipykernel_1528344/2653124574.py:7: SettingWithCopyWarning: \n",
      "A value is trying to be set on a copy of a slice from a DataFrame.\n",
      "Try using .loc[row_indexer,col_indexer] = value instead\n",
      "\n",
      "See the caveats in the documentation: https://pandas.pydata.org/pandas-docs/stable/user_guide/indexing.html#returning-a-view-versus-a-copy\n",
      "  temp_df['noisy1_cifar_pctchange'] = (temp_df['noisy1_cifar_acc'].iloc[0] - temp_df['noisy1_cifar_acc']) / temp_df['noisy1_cifar_acc'].iloc[0] * 100\n",
      "/tmp/ipykernel_1528344/2653124574.py:8: SettingWithCopyWarning: \n",
      "A value is trying to be set on a copy of a slice from a DataFrame.\n",
      "Try using .loc[row_indexer,col_indexer] = value instead\n",
      "\n",
      "See the caveats in the documentation: https://pandas.pydata.org/pandas-docs/stable/user_guide/indexing.html#returning-a-view-versus-a-copy\n",
      "  temp_df['noisy2_cifar_pctchange'] = (temp_df['noisy2_cifar_acc'].iloc[0] - temp_df['noisy2_cifar_acc']) / temp_df['noisy2_cifar_acc'].iloc[0] * 100\n",
      "/tmp/ipykernel_1528344/2653124574.py:5: SettingWithCopyWarning: \n",
      "A value is trying to be set on a copy of a slice from a DataFrame.\n",
      "Try using .loc[row_indexer,col_indexer] = value instead\n",
      "\n",
      "See the caveats in the documentation: https://pandas.pydata.org/pandas-docs/stable/user_guide/indexing.html#returning-a-view-versus-a-copy\n",
      "  temp_df['noisy1_gabor_pctchange'] = (temp_df['noisy1_gabor_acc'].iloc[0] - temp_df['noisy1_gabor_acc']) / temp_df['noisy1_gabor_acc'].iloc[0] * 100\n",
      "/tmp/ipykernel_1528344/2653124574.py:6: SettingWithCopyWarning: \n",
      "A value is trying to be set on a copy of a slice from a DataFrame.\n",
      "Try using .loc[row_indexer,col_indexer] = value instead\n",
      "\n",
      "See the caveats in the documentation: https://pandas.pydata.org/pandas-docs/stable/user_guide/indexing.html#returning-a-view-versus-a-copy\n",
      "  temp_df['noisy2_gabor_pctchange'] = (temp_df['noisy2_gabor_acc'].iloc[0] - temp_df['noisy2_gabor_acc']) / temp_df['noisy2_gabor_acc'].iloc[0] * 100\n",
      "/tmp/ipykernel_1528344/2653124574.py:7: SettingWithCopyWarning: \n",
      "A value is trying to be set on a copy of a slice from a DataFrame.\n",
      "Try using .loc[row_indexer,col_indexer] = value instead\n",
      "\n",
      "See the caveats in the documentation: https://pandas.pydata.org/pandas-docs/stable/user_guide/indexing.html#returning-a-view-versus-a-copy\n",
      "  temp_df['noisy1_cifar_pctchange'] = (temp_df['noisy1_cifar_acc'].iloc[0] - temp_df['noisy1_cifar_acc']) / temp_df['noisy1_cifar_acc'].iloc[0] * 100\n",
      "/tmp/ipykernel_1528344/2653124574.py:8: SettingWithCopyWarning: \n",
      "A value is trying to be set on a copy of a slice from a DataFrame.\n",
      "Try using .loc[row_indexer,col_indexer] = value instead\n",
      "\n",
      "See the caveats in the documentation: https://pandas.pydata.org/pandas-docs/stable/user_guide/indexing.html#returning-a-view-versus-a-copy\n",
      "  temp_df['noisy2_cifar_pctchange'] = (temp_df['noisy2_cifar_acc'].iloc[0] - temp_df['noisy2_cifar_acc']) / temp_df['noisy2_cifar_acc'].iloc[0] * 100\n",
      "/tmp/ipykernel_1528344/2653124574.py:5: SettingWithCopyWarning: \n",
      "A value is trying to be set on a copy of a slice from a DataFrame.\n",
      "Try using .loc[row_indexer,col_indexer] = value instead\n",
      "\n",
      "See the caveats in the documentation: https://pandas.pydata.org/pandas-docs/stable/user_guide/indexing.html#returning-a-view-versus-a-copy\n",
      "  temp_df['noisy1_gabor_pctchange'] = (temp_df['noisy1_gabor_acc'].iloc[0] - temp_df['noisy1_gabor_acc']) / temp_df['noisy1_gabor_acc'].iloc[0] * 100\n",
      "/tmp/ipykernel_1528344/2653124574.py:6: SettingWithCopyWarning: \n",
      "A value is trying to be set on a copy of a slice from a DataFrame.\n",
      "Try using .loc[row_indexer,col_indexer] = value instead\n",
      "\n",
      "See the caveats in the documentation: https://pandas.pydata.org/pandas-docs/stable/user_guide/indexing.html#returning-a-view-versus-a-copy\n",
      "  temp_df['noisy2_gabor_pctchange'] = (temp_df['noisy2_gabor_acc'].iloc[0] - temp_df['noisy2_gabor_acc']) / temp_df['noisy2_gabor_acc'].iloc[0] * 100\n",
      "/tmp/ipykernel_1528344/2653124574.py:7: SettingWithCopyWarning: \n",
      "A value is trying to be set on a copy of a slice from a DataFrame.\n",
      "Try using .loc[row_indexer,col_indexer] = value instead\n",
      "\n",
      "See the caveats in the documentation: https://pandas.pydata.org/pandas-docs/stable/user_guide/indexing.html#returning-a-view-versus-a-copy\n",
      "  temp_df['noisy1_cifar_pctchange'] = (temp_df['noisy1_cifar_acc'].iloc[0] - temp_df['noisy1_cifar_acc']) / temp_df['noisy1_cifar_acc'].iloc[0] * 100\n",
      "/tmp/ipykernel_1528344/2653124574.py:8: SettingWithCopyWarning: \n",
      "A value is trying to be set on a copy of a slice from a DataFrame.\n",
      "Try using .loc[row_indexer,col_indexer] = value instead\n",
      "\n",
      "See the caveats in the documentation: https://pandas.pydata.org/pandas-docs/stable/user_guide/indexing.html#returning-a-view-versus-a-copy\n",
      "  temp_df['noisy2_cifar_pctchange'] = (temp_df['noisy2_cifar_acc'].iloc[0] - temp_df['noisy2_cifar_acc']) / temp_df['noisy2_cifar_acc'].iloc[0] * 100\n",
      "/tmp/ipykernel_1528344/2653124574.py:5: SettingWithCopyWarning: \n",
      "A value is trying to be set on a copy of a slice from a DataFrame.\n",
      "Try using .loc[row_indexer,col_indexer] = value instead\n",
      "\n",
      "See the caveats in the documentation: https://pandas.pydata.org/pandas-docs/stable/user_guide/indexing.html#returning-a-view-versus-a-copy\n",
      "  temp_df['noisy1_gabor_pctchange'] = (temp_df['noisy1_gabor_acc'].iloc[0] - temp_df['noisy1_gabor_acc']) / temp_df['noisy1_gabor_acc'].iloc[0] * 100\n",
      "/tmp/ipykernel_1528344/2653124574.py:6: SettingWithCopyWarning: \n",
      "A value is trying to be set on a copy of a slice from a DataFrame.\n",
      "Try using .loc[row_indexer,col_indexer] = value instead\n",
      "\n",
      "See the caveats in the documentation: https://pandas.pydata.org/pandas-docs/stable/user_guide/indexing.html#returning-a-view-versus-a-copy\n",
      "  temp_df['noisy2_gabor_pctchange'] = (temp_df['noisy2_gabor_acc'].iloc[0] - temp_df['noisy2_gabor_acc']) / temp_df['noisy2_gabor_acc'].iloc[0] * 100\n",
      "/tmp/ipykernel_1528344/2653124574.py:7: SettingWithCopyWarning: \n",
      "A value is trying to be set on a copy of a slice from a DataFrame.\n",
      "Try using .loc[row_indexer,col_indexer] = value instead\n",
      "\n",
      "See the caveats in the documentation: https://pandas.pydata.org/pandas-docs/stable/user_guide/indexing.html#returning-a-view-versus-a-copy\n",
      "  temp_df['noisy1_cifar_pctchange'] = (temp_df['noisy1_cifar_acc'].iloc[0] - temp_df['noisy1_cifar_acc']) / temp_df['noisy1_cifar_acc'].iloc[0] * 100\n",
      "/tmp/ipykernel_1528344/2653124574.py:8: SettingWithCopyWarning: \n",
      "A value is trying to be set on a copy of a slice from a DataFrame.\n",
      "Try using .loc[row_indexer,col_indexer] = value instead\n",
      "\n",
      "See the caveats in the documentation: https://pandas.pydata.org/pandas-docs/stable/user_guide/indexing.html#returning-a-view-versus-a-copy\n",
      "  temp_df['noisy2_cifar_pctchange'] = (temp_df['noisy2_cifar_acc'].iloc[0] - temp_df['noisy2_cifar_acc']) / temp_df['noisy2_cifar_acc'].iloc[0] * 100\n",
      "/tmp/ipykernel_1528344/2653124574.py:5: SettingWithCopyWarning: \n",
      "A value is trying to be set on a copy of a slice from a DataFrame.\n",
      "Try using .loc[row_indexer,col_indexer] = value instead\n",
      "\n",
      "See the caveats in the documentation: https://pandas.pydata.org/pandas-docs/stable/user_guide/indexing.html#returning-a-view-versus-a-copy\n",
      "  temp_df['noisy1_gabor_pctchange'] = (temp_df['noisy1_gabor_acc'].iloc[0] - temp_df['noisy1_gabor_acc']) / temp_df['noisy1_gabor_acc'].iloc[0] * 100\n",
      "/tmp/ipykernel_1528344/2653124574.py:6: SettingWithCopyWarning: \n",
      "A value is trying to be set on a copy of a slice from a DataFrame.\n",
      "Try using .loc[row_indexer,col_indexer] = value instead\n",
      "\n",
      "See the caveats in the documentation: https://pandas.pydata.org/pandas-docs/stable/user_guide/indexing.html#returning-a-view-versus-a-copy\n",
      "  temp_df['noisy2_gabor_pctchange'] = (temp_df['noisy2_gabor_acc'].iloc[0] - temp_df['noisy2_gabor_acc']) / temp_df['noisy2_gabor_acc'].iloc[0] * 100\n",
      "/tmp/ipykernel_1528344/2653124574.py:7: SettingWithCopyWarning: \n",
      "A value is trying to be set on a copy of a slice from a DataFrame.\n",
      "Try using .loc[row_indexer,col_indexer] = value instead\n",
      "\n",
      "See the caveats in the documentation: https://pandas.pydata.org/pandas-docs/stable/user_guide/indexing.html#returning-a-view-versus-a-copy\n",
      "  temp_df['noisy1_cifar_pctchange'] = (temp_df['noisy1_cifar_acc'].iloc[0] - temp_df['noisy1_cifar_acc']) / temp_df['noisy1_cifar_acc'].iloc[0] * 100\n",
      "/tmp/ipykernel_1528344/2653124574.py:8: SettingWithCopyWarning: \n",
      "A value is trying to be set on a copy of a slice from a DataFrame.\n",
      "Try using .loc[row_indexer,col_indexer] = value instead\n",
      "\n",
      "See the caveats in the documentation: https://pandas.pydata.org/pandas-docs/stable/user_guide/indexing.html#returning-a-view-versus-a-copy\n",
      "  temp_df['noisy2_cifar_pctchange'] = (temp_df['noisy2_cifar_acc'].iloc[0] - temp_df['noisy2_cifar_acc']) / temp_df['noisy2_cifar_acc'].iloc[0] * 100\n",
      "/tmp/ipykernel_1528344/2653124574.py:5: SettingWithCopyWarning: \n",
      "A value is trying to be set on a copy of a slice from a DataFrame.\n",
      "Try using .loc[row_indexer,col_indexer] = value instead\n",
      "\n",
      "See the caveats in the documentation: https://pandas.pydata.org/pandas-docs/stable/user_guide/indexing.html#returning-a-view-versus-a-copy\n",
      "  temp_df['noisy1_gabor_pctchange'] = (temp_df['noisy1_gabor_acc'].iloc[0] - temp_df['noisy1_gabor_acc']) / temp_df['noisy1_gabor_acc'].iloc[0] * 100\n",
      "/tmp/ipykernel_1528344/2653124574.py:6: SettingWithCopyWarning: \n",
      "A value is trying to be set on a copy of a slice from a DataFrame.\n",
      "Try using .loc[row_indexer,col_indexer] = value instead\n",
      "\n",
      "See the caveats in the documentation: https://pandas.pydata.org/pandas-docs/stable/user_guide/indexing.html#returning-a-view-versus-a-copy\n",
      "  temp_df['noisy2_gabor_pctchange'] = (temp_df['noisy2_gabor_acc'].iloc[0] - temp_df['noisy2_gabor_acc']) / temp_df['noisy2_gabor_acc'].iloc[0] * 100\n",
      "/tmp/ipykernel_1528344/2653124574.py:7: SettingWithCopyWarning: \n",
      "A value is trying to be set on a copy of a slice from a DataFrame.\n",
      "Try using .loc[row_indexer,col_indexer] = value instead\n",
      "\n",
      "See the caveats in the documentation: https://pandas.pydata.org/pandas-docs/stable/user_guide/indexing.html#returning-a-view-versus-a-copy\n",
      "  temp_df['noisy1_cifar_pctchange'] = (temp_df['noisy1_cifar_acc'].iloc[0] - temp_df['noisy1_cifar_acc']) / temp_df['noisy1_cifar_acc'].iloc[0] * 100\n",
      "/tmp/ipykernel_1528344/2653124574.py:8: SettingWithCopyWarning: \n",
      "A value is trying to be set on a copy of a slice from a DataFrame.\n",
      "Try using .loc[row_indexer,col_indexer] = value instead\n",
      "\n",
      "See the caveats in the documentation: https://pandas.pydata.org/pandas-docs/stable/user_guide/indexing.html#returning-a-view-versus-a-copy\n",
      "  temp_df['noisy2_cifar_pctchange'] = (temp_df['noisy2_cifar_acc'].iloc[0] - temp_df['noisy2_cifar_acc']) / temp_df['noisy2_cifar_acc'].iloc[0] * 100\n",
      "/tmp/ipykernel_1528344/2653124574.py:5: SettingWithCopyWarning: \n",
      "A value is trying to be set on a copy of a slice from a DataFrame.\n",
      "Try using .loc[row_indexer,col_indexer] = value instead\n",
      "\n",
      "See the caveats in the documentation: https://pandas.pydata.org/pandas-docs/stable/user_guide/indexing.html#returning-a-view-versus-a-copy\n",
      "  temp_df['noisy1_gabor_pctchange'] = (temp_df['noisy1_gabor_acc'].iloc[0] - temp_df['noisy1_gabor_acc']) / temp_df['noisy1_gabor_acc'].iloc[0] * 100\n",
      "/tmp/ipykernel_1528344/2653124574.py:6: SettingWithCopyWarning: \n",
      "A value is trying to be set on a copy of a slice from a DataFrame.\n",
      "Try using .loc[row_indexer,col_indexer] = value instead\n",
      "\n",
      "See the caveats in the documentation: https://pandas.pydata.org/pandas-docs/stable/user_guide/indexing.html#returning-a-view-versus-a-copy\n",
      "  temp_df['noisy2_gabor_pctchange'] = (temp_df['noisy2_gabor_acc'].iloc[0] - temp_df['noisy2_gabor_acc']) / temp_df['noisy2_gabor_acc'].iloc[0] * 100\n",
      "/tmp/ipykernel_1528344/2653124574.py:7: SettingWithCopyWarning: \n",
      "A value is trying to be set on a copy of a slice from a DataFrame.\n",
      "Try using .loc[row_indexer,col_indexer] = value instead\n",
      "\n",
      "See the caveats in the documentation: https://pandas.pydata.org/pandas-docs/stable/user_guide/indexing.html#returning-a-view-versus-a-copy\n",
      "  temp_df['noisy1_cifar_pctchange'] = (temp_df['noisy1_cifar_acc'].iloc[0] - temp_df['noisy1_cifar_acc']) / temp_df['noisy1_cifar_acc'].iloc[0] * 100\n",
      "/tmp/ipykernel_1528344/2653124574.py:8: SettingWithCopyWarning: \n",
      "A value is trying to be set on a copy of a slice from a DataFrame.\n",
      "Try using .loc[row_indexer,col_indexer] = value instead\n",
      "\n",
      "See the caveats in the documentation: https://pandas.pydata.org/pandas-docs/stable/user_guide/indexing.html#returning-a-view-versus-a-copy\n",
      "  temp_df['noisy2_cifar_pctchange'] = (temp_df['noisy2_cifar_acc'].iloc[0] - temp_df['noisy2_cifar_acc']) / temp_df['noisy2_cifar_acc'].iloc[0] * 100\n",
      "/tmp/ipykernel_1528344/2653124574.py:5: SettingWithCopyWarning: \n",
      "A value is trying to be set on a copy of a slice from a DataFrame.\n",
      "Try using .loc[row_indexer,col_indexer] = value instead\n",
      "\n",
      "See the caveats in the documentation: https://pandas.pydata.org/pandas-docs/stable/user_guide/indexing.html#returning-a-view-versus-a-copy\n",
      "  temp_df['noisy1_gabor_pctchange'] = (temp_df['noisy1_gabor_acc'].iloc[0] - temp_df['noisy1_gabor_acc']) / temp_df['noisy1_gabor_acc'].iloc[0] * 100\n",
      "/tmp/ipykernel_1528344/2653124574.py:6: SettingWithCopyWarning: \n",
      "A value is trying to be set on a copy of a slice from a DataFrame.\n",
      "Try using .loc[row_indexer,col_indexer] = value instead\n",
      "\n",
      "See the caveats in the documentation: https://pandas.pydata.org/pandas-docs/stable/user_guide/indexing.html#returning-a-view-versus-a-copy\n",
      "  temp_df['noisy2_gabor_pctchange'] = (temp_df['noisy2_gabor_acc'].iloc[0] - temp_df['noisy2_gabor_acc']) / temp_df['noisy2_gabor_acc'].iloc[0] * 100\n",
      "/tmp/ipykernel_1528344/2653124574.py:7: SettingWithCopyWarning: \n",
      "A value is trying to be set on a copy of a slice from a DataFrame.\n",
      "Try using .loc[row_indexer,col_indexer] = value instead\n",
      "\n",
      "See the caveats in the documentation: https://pandas.pydata.org/pandas-docs/stable/user_guide/indexing.html#returning-a-view-versus-a-copy\n",
      "  temp_df['noisy1_cifar_pctchange'] = (temp_df['noisy1_cifar_acc'].iloc[0] - temp_df['noisy1_cifar_acc']) / temp_df['noisy1_cifar_acc'].iloc[0] * 100\n",
      "/tmp/ipykernel_1528344/2653124574.py:8: SettingWithCopyWarning: \n",
      "A value is trying to be set on a copy of a slice from a DataFrame.\n",
      "Try using .loc[row_indexer,col_indexer] = value instead\n",
      "\n",
      "See the caveats in the documentation: https://pandas.pydata.org/pandas-docs/stable/user_guide/indexing.html#returning-a-view-versus-a-copy\n",
      "  temp_df['noisy2_cifar_pctchange'] = (temp_df['noisy2_cifar_acc'].iloc[0] - temp_df['noisy2_cifar_acc']) / temp_df['noisy2_cifar_acc'].iloc[0] * 100\n"
     ]
    }
   ],
   "source": [
    "pct_change_dfs = []\n",
    "\n",
    "for i in range(10):\n",
    "    temp_df = noise_results_df[noise_results_df['idx'] == i]\n",
    "    temp_df['noisy1_gabor_pctchange'] = (temp_df['noisy1_gabor_acc'].iloc[0] - temp_df['noisy1_gabor_acc']) / temp_df['noisy1_gabor_acc'].iloc[0] * 100\n",
    "    temp_df['noisy2_gabor_pctchange'] = (temp_df['noisy2_gabor_acc'].iloc[0] - temp_df['noisy2_gabor_acc']) / temp_df['noisy2_gabor_acc'].iloc[0] * 100\n",
    "    temp_df['noisy1_cifar_pctchange'] = (temp_df['noisy1_cifar_acc'].iloc[0] - temp_df['noisy1_cifar_acc']) / temp_df['noisy1_cifar_acc'].iloc[0] * 100\n",
    "    temp_df['noisy2_cifar_pctchange'] = (temp_df['noisy2_cifar_acc'].iloc[0] - temp_df['noisy2_cifar_acc']) / temp_df['noisy2_cifar_acc'].iloc[0] * 100\n",
    "\n",
    "    pct_change_dfs.append(temp_df)\n",
    "\n",
    "pct_change_df = pd.concat(pct_change_dfs)"
   ]
  },
  {
   "cell_type": "code",
   "execution_count": 16,
   "id": "45b7877a",
   "metadata": {},
   "outputs": [
    {
     "data": {
      "text/plain": [
       "(-10.0, 84.79844112471943)"
      ]
     },
     "execution_count": 16,
     "metadata": {},
     "output_type": "execute_result"
    },
    {
     "data": {
      "image/png": "[encoded data removed]",
      "text/plain": [
       "<Figure size 640x480 with 1 Axes>"
      ]
     },
     "metadata": {},
     "output_type": "display_data"
    }
   ],
   "source": [
    "import seaborn as sns\n",
    "\n",
    "sns.lineplot(\n",
    "    data=pct_change_df, \n",
    "    x='noise_level', \n",
    "    y='noisy1_gabor_pctchange', \n",
    "    err_style='band',\n",
    "    errorbar='se',\n",
    "    markers='o',\n",
    "    linestyle='--',\n",
    "    color='red',\n",
    "    label='Gabor (1st layer)'\n",
    "    )\n",
    "\n",
    "sns.lineplot(\n",
    "    data=pct_change_df, \n",
    "    x='noise_level', \n",
    "    y='noisy2_gabor_pctchange', \n",
    "    err_style='band',\n",
    "    errorbar='se',\n",
    "    markers='o',\n",
    "    color='red',\n",
    "    label='Gabor (2nd layer)'\n",
    "    )\n",
    "\n",
    "sns.lineplot(\n",
    "    data=pct_change_df, \n",
    "    x='noise_level', \n",
    "    y='noisy1_cifar_pctchange', \n",
    "    err_style='band',\n",
    "    errorbar='se',\n",
    "    color='blue',\n",
    "    linestyle='--',\n",
    "    label='CIFAR (1st layer)'\n",
    "    )\n",
    "\n",
    "sns.lineplot(\n",
    "    data=pct_change_df, \n",
    "    x='noise_level', \n",
    "    y='noisy2_cifar_pctchange', \n",
    "    err_style='band',\n",
    "    errorbar='se',\n",
    "    color='blue',\n",
    "    label='CIFAR (2nd layer)'\n",
    "    )\n",
    "\n",
    "plt.xlabel('Noise Level')\n",
    "plt.ylabel('% Change in Accuracy')\n",
    "plt.title('Model Performance vs. Noise Level')\n",
    "# plt.legend(['Gabor Accuracy', '', 'CIFAR Accuracy', ''])\n",
    "plt.legend()\n",
    "plt.xlim(0, 1)\n",
    "plt.ylim(bottom=-10)"
   ]
  },
  {
   "cell_type": "code",
   "execution_count": null,
   "id": "57078815",
   "metadata": {},
   "outputs": [],
   "source": []
  }
 ],
 "metadata": {
  "kernelspec": {
   "display_name": "neural_net_basics",
   "language": "python",
   "name": "python3"
  },
  "language_info": {
   "codemirror_mode": {
    "name": "ipython",
    "version": 3
   },
   "file_extension": ".py",
   "mimetype": "text/x-python",
   "name": "python",
   "nbconvert_exporter": "python",
   "pygments_lexer": "ipython3",
   "version": "3.10.15"
  }
 },
 "nbformat": 4,
 "nbformat_minor": 5
}
